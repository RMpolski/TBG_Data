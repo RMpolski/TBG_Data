{
 "cells": [
  {
   "cell_type": "markdown",
   "metadata": {},
   "source": [
    "# Summary of using qcodes with the nplab_drivers folder\n",
    "\n",
    "### Last updated: 7/31/2019"
   ]
  },
  {
   "cell_type": "markdown",
   "metadata": {},
   "source": [
    "## Introduction\n",
    "\n",
    "This serves as an introduction to using QCodes (relatively efficiently), given that you've figured out the installation of QCodes and my nplab_drivers folder. This is aimed toward someone who has never used QCodes. However, it avoids covering design of instrument drivers and many of the details behind the code, in the interest of conciseness. All blocks here were designed to be run on any machine, without requiring a connection to special instruments.\n",
    "\n",
    "I made this folder (to be placed in the qcodes/instrument_drivers subfolder) to simplify the use of QCodes. I wanted a customizable but relatively simple set of commands to modularize the use of QCodes for people who don't want to memorize more than a few commands. Note, this is based on the first QCodes loop/database structure, called \"legacy QCodes\" in the current QCodes documentation. There are 3 basic types of measurements that most measurements fit into. I've made a function for each:"
   ]
  },
  {
   "cell_type": "markdown",
   "metadata": {},
   "source": [
    "###   1. single_param_sweep\n",
    "        Sweep a single parameter through an array of setpoints, while measuring other parameters\n",
    "###   2. twod_param_sweep\n",
    "        Sweep two parameters (x and y axes) through arrays of setpoints, while measuring other parameters (z axis)\n",
    "###   3. data_log\n",
    "        Log parameters periodically. Used for measuring, for instance, a temperature or magnetic field sweep to a \n",
    "        setpoint. Set the parameter right before running the log and measure the results over time."
   ]
  },
  {
   "cell_type": "markdown",
   "metadata": {},
   "source": [
    "Each of these includes the direct implementation of live plotting, which parameters to plot, the appropriate delay times, and the choice of a name to be attached to the data file. They each automatically save the measured data to a file. Each one of these commands can be found in the common_commands.py file."
   ]
  },
  {
   "cell_type": "markdown",
   "metadata": {},
   "source": [
    "The main idea of QCodes comes through allowing us to write and read values through \"parameters\". Note a \"parameter\" in QCodes takes on a few technical connotations. Most often parameters will be attributes of an instrument and will be loaded along with the instrument. You can set a parameter to a value using parentheses, with a single value inside. For example (using an instrument called \"k2000\" and a parameter called \"current\", setting current to 10 mA): `k2000.current(0.01)`\n",
    "\n",
    "You can get/measure a parameter using open parentheses. For instance: `k2000.current()`\n"
   ]
  },
  {
   "cell_type": "markdown",
   "metadata": {},
   "source": [
    "**Footnotes:** These measurements were specifically designed for parameters that return a single numerical result per measurement. QCodes allows you to take a measurement that returns something more complex, such as an array, a categorical or string result, or a combination of types of results. These can still be measured using the nplab_drivers approach, but plotting likely will not work.\n",
    "\n",
    "There is actually another type of measurement you may want to do: a one-shot measurement that saves to file. That one is covered already by qc.Measure(parameters, separated, by, commas).run()"
   ]
  },
  {
   "cell_type": "markdown",
   "metadata": {},
   "source": [
    "## Import as follows"
   ]
  },
  {
   "cell_type": "code",
   "execution_count": 1,
   "metadata": {},
   "outputs": [],
   "source": [
    "import numpy as np  # numpy for handling arrays\n",
    "import time  # time provides a useful sleep function\n",
    "import qcodes as qc\n",
    "\n",
    "# Import the functions from the NP lab drivers directory\n",
    "import qcodes.instrument_drivers.nplab_drivers as npd\n",
    "\n",
    "# To import instruments from the qcodes registry, import the class that has the name of your instrument type\n",
    "from qcodes.instrument_drivers.tektronix.Keithley_2000 import Keithley_2000\n",
    "\n",
    "# To import my custom instruments from the NP lab directory\n",
    "from qcodes.instrument_drivers.nplab_drivers.Keithley_6221 import Keithley_6221"
   ]
  },
  {
   "cell_type": "markdown",
   "metadata": {},
   "source": [
    "Then instantiate the instruments using \"name = Instrument_class(name string, address string)\"\n",
    "for instance:\n",
    "\n",
    "`k2000 = Keithley_2000('k2000', 'GPIB::0::INSTR')`\n",
    "\n",
    "\n",
    "You can also set up parameters without an instrument, if you need. For instance:\n",
    "\n",
    "`pp = Parameter('pp', get_cmd=get, set_cmd=set)`\n",
    "\n",
    "where \"get\" is a reference to a function that returns a value when used with open parentheses.\n",
    "\"set\" is a a reference to a function that takes one value in parentheses and returns nothing. If you don't use a get_cmd argument, using the get function will return an error, and similarly for the set_cmd argument."
   ]
  },
  {
   "cell_type": "markdown",
   "metadata": {},
   "source": [
    "## Set up some dummy parameters to set and measure\n",
    "\n",
    "(Don't worry too much about the details of setting these up. Most parameters will be defined for you already through the instrument drivers, so you can skip the confusing details here until you want more info.)"
   ]
  },
  {
   "cell_type": "code",
   "execution_count": 2,
   "metadata": {},
   "outputs": [],
   "source": [
    "pmanual = qc.Parameter('pmanual', get_cmd=None, set_cmd=None)  # A simple dummy parameter can be set up by using None in the set_cmd and get_cmd arguments.\n",
    "# This allows you to set the parameter to whatever you want and retrieve the value you set it to."
   ]
  },
  {
   "cell_type": "code",
   "execution_count": 3,
   "metadata": {},
   "outputs": [],
   "source": [
    "pmanual(5.5)  # set the parameter"
   ]
  },
  {
   "cell_type": "code",
   "execution_count": 4,
   "metadata": {},
   "outputs": [
    {
     "data": {
      "text/plain": [
       "5.5"
      ]
     },
     "execution_count": 4,
     "metadata": {},
     "output_type": "execute_result"
    }
   ],
   "source": [
    "pmanual()  # get the parameter (returns what you set it to)"
   ]
  },
  {
   "cell_type": "markdown",
   "metadata": {},
   "source": [
    "Now I'll set up a parameter that depends on pmanual (to simulate an actual measurement)"
   ]
  },
  {
   "cell_type": "code",
   "execution_count": 5,
   "metadata": {},
   "outputs": [],
   "source": [
    "def squareval():\n",
    "    return pmanual()**2\n",
    "\n",
    "p1 = qc.Parameter('p1', get_cmd=squareval, unit='V')  # Note you can build a parameter out of other parameters.\n",
    "# This could be useful if you want to, for instance, define a resistance parameter as voltage()/current()"
   ]
  },
  {
   "cell_type": "code",
   "execution_count": 6,
   "metadata": {},
   "outputs": [
    {
     "data": {
      "text/plain": [
       "30.25"
      ]
     },
     "execution_count": 6,
     "metadata": {},
     "output_type": "execute_result"
    }
   ],
   "source": [
    "p1()"
   ]
  },
  {
   "cell_type": "markdown",
   "metadata": {},
   "source": [
    "And I'll set up a dummy instrument to simulate measuring parameters from an instrument"
   ]
  },
  {
   "cell_type": "code",
   "execution_count": 7,
   "metadata": {},
   "outputs": [],
   "source": [
    "class myinstr(qc.Instrument):\n",
    "    \"\"\"An instrument with 2 parameters:\n",
    "            c1: counts the number of times the parameter has been called up to this point\n",
    "            c2: returns the square root of the number of times the parameter has been called\n",
    "            p2: returns the sum of the two counts and the value of pmanual. doesn't advance the counts\"\"\"\n",
    "    def __init__(self, name, **kwargs):\n",
    "        super().__init__(name, **kwargs)  # initializes the sequence included in the qc.Instrument class\n",
    "        self._count1 = 0  # a way to pass values within an instrument (not a parameter)\n",
    "        self._count2 = 0  # I just put an underscore out front to symbolize that it is sort of hidden\n",
    "        \n",
    "        self.add_parameter('c1', get_cmd=self.countup)\n",
    "        self.add_parameter('c2', get_cmd=self.countsqrt, label='Square root of count')  # label will show up in plots\n",
    "        self.add_parameter('p2', get_cmd=self.addcounts_andp)\n",
    "        \n",
    "    def countup(self):\n",
    "        self._count1 += 1\n",
    "        return self._count1\n",
    "    \n",
    "    def countsqrt(self):\n",
    "        self._count2 += 1\n",
    "        return np.sqrt(self._count2)\n",
    "    \n",
    "    def addcounts_andp(self):\n",
    "        return pmanual() + self._count1 + self._count2\n",
    "    \n",
    "    def resetcounts(self):  # this is just an example of an instrument function (not a parameter, so can't be measured)\n",
    "        self._count1 = 0\n",
    "        self._count2 = 0"
   ]
  },
  {
   "cell_type": "code",
   "execution_count": 8,
   "metadata": {},
   "outputs": [],
   "source": [
    "# instantiate the instrument\n",
    "instr1 = myinstr('instr1')"
   ]
  },
  {
   "cell_type": "code",
   "execution_count": 9,
   "metadata": {},
   "outputs": [
    {
     "data": {
      "text/plain": [
       "1"
      ]
     },
     "execution_count": 9,
     "metadata": {},
     "output_type": "execute_result"
    }
   ],
   "source": [
    "instr1.c1()"
   ]
  },
  {
   "cell_type": "code",
   "execution_count": 10,
   "metadata": {},
   "outputs": [
    {
     "data": {
      "text/plain": [
       "2"
      ]
     },
     "execution_count": 10,
     "metadata": {},
     "output_type": "execute_result"
    }
   ],
   "source": [
    "instr1.c1()"
   ]
  },
  {
   "cell_type": "code",
   "execution_count": 11,
   "metadata": {},
   "outputs": [
    {
     "data": {
      "text/plain": [
       "1.0"
      ]
     },
     "execution_count": 11,
     "metadata": {},
     "output_type": "execute_result"
    }
   ],
   "source": [
    "instr1.c2()"
   ]
  },
  {
   "cell_type": "code",
   "execution_count": 12,
   "metadata": {},
   "outputs": [
    {
     "data": {
      "text/plain": [
       "1.4142135623730951"
      ]
     },
     "execution_count": 12,
     "metadata": {},
     "output_type": "execute_result"
    }
   ],
   "source": [
    "instr1.c2()"
   ]
  },
  {
   "cell_type": "code",
   "execution_count": 13,
   "metadata": {},
   "outputs": [
    {
     "data": {
      "text/plain": [
       "9.5"
      ]
     },
     "execution_count": 13,
     "metadata": {},
     "output_type": "execute_result"
    }
   ],
   "source": [
    "instr1.p2()"
   ]
  },
  {
   "cell_type": "markdown",
   "metadata": {},
   "source": [
    "### A few other supplementary notes about parameters:\n",
    "\n",
    "You can cause a parameter (when one uses the set command) to advance in steps, with delay times between each step. That way you don't cause parameters to jump rapidly, causing device damage or other problems."
   ]
  },
  {
   "cell_type": "code",
   "execution_count": 14,
   "metadata": {},
   "outputs": [],
   "source": [
    "pmanual.step = 1\n",
    "pmanual.inter_delay = 0.3"
   ]
  },
  {
   "cell_type": "markdown",
   "metadata": {},
   "source": [
    "Using these settings, if I set pmanual from 5.5 to 10, the value will approach 10 in jumps of size 1, with a minimum time between jumps of half a second."
   ]
  },
  {
   "cell_type": "code",
   "execution_count": 15,
   "metadata": {},
   "outputs": [],
   "source": [
    "pmanual(10)  # note the lag time. The set command will not finish until the ramp is done.\n",
    "# Measurements will not record the intermediate values."
   ]
  },
  {
   "cell_type": "markdown",
   "metadata": {},
   "source": [
    "If re-measuring the value takes time or messes with the setup, you can use the last-retrieved result"
   ]
  },
  {
   "cell_type": "code",
   "execution_count": 16,
   "metadata": {},
   "outputs": [
    {
     "data": {
      "text/plain": [
       "10"
      ]
     },
     "execution_count": 16,
     "metadata": {},
     "output_type": "execute_result"
    }
   ],
   "source": [
    "pmanual.get_latest()"
   ]
  },
  {
   "cell_type": "markdown",
   "metadata": {},
   "source": [
    "## 1. Demonstration of single_param_sweep"
   ]
  },
  {
   "cell_type": "markdown",
   "metadata": {},
   "source": [
    "Structure:\n",
    "\n",
    "`returned_data, plot_list = npd.single_param_sweep(SetParam, SetArray, delay(s), *Measured_Params)`\n",
    "\n",
    "Where `*Measured_Params` refers to comma-separated parameters (as many as you want). `delay` is the delay time after setting the set parameter.\n",
    "\n",
    "This will automatically plot all the measured parameters."
   ]
  },
  {
   "cell_type": "code",
   "execution_count": 17,
   "metadata": {},
   "outputs": [
    {
     "name": "stdout",
     "output_type": "stream",
     "text": [
      "Started at 2019-07-31 02:12:23\n",
      "DataSet:\n",
      "   location = 'data/2019-07-31/#001__02-12-18'\n",
      "   <Type>   | <array_id>  | <array.name> | <array.shape>\n",
      "   Setpoint | pmanual_set | pmanual      | (6,)\n",
      "   Measured | p1          | p1           | (6,)\n",
      "   Measured | instr1_c1   | c1           | (6,)\n",
      "   Measured | instr1_c2   | c2           | (6,)\n",
      "Finished at 2019-07-31 02:12:38\n"
     ]
    }
   ],
   "source": [
    "setarr = np.linspace(0, 20, 6)\n",
    "data1, plot1 = npd.single_param_sweep(pmanual, setarr, 1.2, p1, instr1.c1, instr1.c2)"
   ]
  },
  {
   "cell_type": "markdown",
   "metadata": {},
   "source": [
    "This should automatically generate 3 plots live and store the data in a folder ./data/{date}/{dataset_name}, if everything is working right. There are two files: a snapshot of parameters before the sweep was performed, and the dataset text file (.dat extension). You can stop this, and any other sweep, with the stop button on Jupyter Notebook, and it will save the previously measured data.\n",
    "\n",
    "(If you can't find the location of this data folder, try `qc.DataSet.default_io.base_location` to find where it's hiding. You can also change this location by using `qc.DataSet.default_io.base_location = \"path/to/desired/location\"`.)\n",
    "\n",
    "This demonstrates the other main idea of QCodes (secondary to settable and gettable parameters) is a method to store data in a \"dataset\" that is organized by date/time and cannot be changed easily (since post-processing of data is assumed to be handled separately). This dataset was returned in the previous function as `data1`. We can retrieve the arrays of set and measured parameters by using the names listed under the <array_id> column."
   ]
  },
  {
   "cell_type": "code",
   "execution_count": 18,
   "metadata": {},
   "outputs": [
    {
     "data": {
      "text/plain": [
       "DataArray[6]: p1\n",
       "array([  0.,  16.,  64., 144., 256., 400.])"
      ]
     },
     "execution_count": 18,
     "metadata": {},
     "output_type": "execute_result"
    }
   ],
   "source": [
    "data1.p1"
   ]
  },
  {
   "cell_type": "code",
   "execution_count": 19,
   "metadata": {},
   "outputs": [
    {
     "data": {
      "text/plain": [
       "DataArray[6]: instr1_c1\n",
       "array([3., 4., 5., 6., 7., 8.])"
      ]
     },
     "execution_count": 19,
     "metadata": {},
     "output_type": "execute_result"
    }
   ],
   "source": [
    "data1.instr1_c1"
   ]
  },
  {
   "cell_type": "code",
   "execution_count": 20,
   "metadata": {},
   "outputs": [
    {
     "data": {
      "text/plain": [
       "DataArray[6]: pmanual_set\n",
       "array([ 0.,  4.,  8., 12., 16., 20.])"
      ]
     },
     "execution_count": 20,
     "metadata": {},
     "output_type": "execute_result"
    }
   ],
   "source": [
    "data1.pmanual_set"
   ]
  },
  {
   "cell_type": "code",
   "execution_count": 21,
   "metadata": {},
   "outputs": [
    {
     "ename": "TypeError",
     "evalue": "unsupported operand type(s) for *: 'DataArray' and 'int'",
     "output_type": "error",
     "traceback": [
      "\u001b[0;31m---------------------------------------------------------------------------\u001b[0m",
      "\u001b[0;31mTypeError\u001b[0m                                 Traceback (most recent call last)",
      "\u001b[0;32m<ipython-input-21-02b6602576f7>\u001b[0m in \u001b[0;36m<module>\u001b[0;34m\u001b[0m\n\u001b[0;32m----> 1\u001b[0;31m \u001b[0mdata1\u001b[0m\u001b[0;34m.\u001b[0m\u001b[0minstr1_c1\u001b[0m\u001b[0;34m*\u001b[0m\u001b[0;36m5\u001b[0m\u001b[0;34m\u001b[0m\u001b[0;34m\u001b[0m\u001b[0m\n\u001b[0m",
      "\u001b[0;31mTypeError\u001b[0m: unsupported operand type(s) for *: 'DataArray' and 'int'"
     ]
    }
   ],
   "source": [
    "data1.instr1_c1*5"
   ]
  },
  {
   "cell_type": "code",
   "execution_count": 22,
   "metadata": {},
   "outputs": [
    {
     "data": {
      "text/plain": [
       "array([15., 20., 25., 30., 35., 40.])"
      ]
     },
     "execution_count": 22,
     "metadata": {},
     "output_type": "execute_result"
    }
   ],
   "source": [
    "data1.instr1_c1[:]*5"
   ]
  },
  {
   "cell_type": "code",
   "execution_count": 23,
   "metadata": {},
   "outputs": [
    {
     "data": {
      "text/plain": [
       "array([15., 20., 25., 30., 35., 40.])"
      ]
     },
     "execution_count": 23,
     "metadata": {},
     "output_type": "execute_result"
    }
   ],
   "source": [
    "np.array(data1.instr1_c1)*5"
   ]
  },
  {
   "cell_type": "markdown",
   "metadata": {},
   "source": [
    "Make a note of a few things with regard to retrieving results from datasets. When using an instrument, you must use `data.instr_param` **instead of** `data.instr.param`, since this is how it is stored in the dataset. Set parameters always include `_set` at the end of the id. And lastly, you can't perform operations on dataset arrays without first changing them into a numpy array (using one of the two methods I showed above). This is because a dataset array contains extra information, and it also keeps the dataset from being changed accidentally."
   ]
  },
  {
   "cell_type": "markdown",
   "metadata": {},
   "source": [
    "If you need to rerun a Jupyter Notebook or want to recall a dataset in another file, use the function:"
   ]
  },
  {
   "cell_type": "code",
   "execution_count": 24,
   "metadata": {},
   "outputs": [],
   "source": [
    "data1 = qc.load_data('data/2019-07-31/#001__02-12-18')\n",
    "# where the string is the path to the file listed in \"location\" in the output from the parameter sweep."
   ]
  },
  {
   "cell_type": "markdown",
   "metadata": {},
   "source": [
    "`plot1` contains a list of the plots, in the same order as parameters are measured. You can display a plot in the Jupyter Notebook by entering `plot[index]` where index is an integer from 0 to n-1."
   ]
  },
  {
   "cell_type": "markdown",
   "metadata": {},
   "source": [
    "### One more measurement\n",
    "to demonstrate a few more features. After (and only after) listing the comma-separated measured parameters, one can access a few keyword arguments (write them similar to keyword=value)."
   ]
  },
  {
   "cell_type": "code",
   "execution_count": 25,
   "metadata": {},
   "outputs": [
    {
     "name": "stdout",
     "output_type": "stream",
     "text": [
      "Started at 2019-07-31 02:13:11\n",
      "DataSet:\n",
      "   location = 'data/2019-07-31/#002_allparams_02-13-10'\n",
      "   <Type>   | <array_id>  | <array.name> | <array.shape>\n",
      "   Setpoint | pmanual_set | pmanual      | (11,)\n",
      "   Measured | p1          | p1           | (11,)\n",
      "   Measured | instr1_c1   | c1           | (11,)\n",
      "   Measured | instr1_c2   | c2           | (11,)\n",
      "   Measured | instr1_p2   | p2           | (11,)\n",
      "Finished at 2019-07-31 02:13:27\n"
     ]
    }
   ],
   "source": [
    "setarr = np.linspace(0, 5, 11)\n",
    "data2, plot2 = npd.single_param_sweep(pmanual, setarr, 0.8, p1, instr1.c1, instr1.c2, instr1.p2, DataName='allparams', YParam=[p1, instr1.c2])"
   ]
  },
  {
   "cell_type": "markdown",
   "metadata": {},
   "source": [
    "Note that here only two parameters are plotted, as specified in the `YParam` keyword argument. plot2 only contains these two plots. However, the other parameters were still measured. The filename also includes a the string 'allparams'. The `DataName` keyword argument is good for including comments on things that aren't measured (the gain of an amplifier or something like that, for instance). You can also change the variable on the x-axis of the plot using `XParam`. You can also disallow all live plotting with the keyword argument `plot_results=False`, and you can disable saving the plots at the end by setting `save_plots=False`."
   ]
  },
  {
   "cell_type": "markdown",
   "metadata": {},
   "source": [
    "## 2. Demonstration of twod_param_sweep\n",
    "\n",
    "There's not much different here. Just a couple subtleties to note.\n",
    "\n",
    "Structure:\n",
    "\n",
    "`data, plot = npd.twod_param_sweep(SetParam1, SetArray1, SetParam2, SetArray2, *MeasParams, SetDelay1=0, SetDelay2=0)`\n",
    "\n",
    "The main difference is that there are two parameters to set. The y-axis plotted parameter is SetParam1, which changes after one cycle of SetParam2 (x-axis). The measured parameters are represented in the z-axis. Note here that the delay times are keyword arguments, and they must be placed after the comma-separated measured parameters.\n",
    "\n",
    "Here, one can choose which parameters to plot using the keyword `ZParam=[params]`. `DataName` still works as well. You can also optionally choose to set SetParam2 to an intermediate value while SetParam2 is changing: use keyword argument `Param2_SetBetween=value`.\n",
    "\n",
    "When the live plot is running, the plot will not update until a row is finished."
   ]
  },
  {
   "cell_type": "code",
   "execution_count": 26,
   "metadata": {},
   "outputs": [],
   "source": [
    "# First we need another settable parameter\n",
    "pmanual2 = qc.Parameter('pmanual2', get_cmd=None, set_cmd=None)"
   ]
  },
  {
   "cell_type": "code",
   "execution_count": 32,
   "metadata": {},
   "outputs": [],
   "source": [
    "pmanual2(0)"
   ]
  },
  {
   "cell_type": "code",
   "execution_count": 33,
   "metadata": {},
   "outputs": [],
   "source": [
    "pmanual2.step = 0.5\n",
    "pmanual2.inter_delay = 0.15"
   ]
  },
  {
   "cell_type": "code",
   "execution_count": 34,
   "metadata": {},
   "outputs": [],
   "source": [
    "pmanual2(1)"
   ]
  },
  {
   "cell_type": "code",
   "execution_count": 35,
   "metadata": {},
   "outputs": [
    {
     "name": "stdout",
     "output_type": "stream",
     "text": [
      "Started at 2019-07-31 02:43:36\n",
      "DataSet:\n",
      "   location = 'data/2019-07-31/#004__02-43-32'\n",
      "   <Type>   | <array_id>   | <array.name> | <array.shape>\n",
      "   Setpoint | pmanual_set  | pmanual      | (6,)\n",
      "   Setpoint | pmanual2_set | pmanual2     | (6, 21)\n",
      "   Measured | p1           | p1           | (6, 21)\n",
      "   Measured | instr1_c1    | c1           | (6, 21)\n",
      "   Measured | instr1_p2    | p2           | (6, 21)\n",
      "Finished at 2019-07-31 02:44:57\n"
     ]
    }
   ],
   "source": [
    "setarr1 = np.linspace(0, 10, 6)\n",
    "setarr2 = np.linspace(-2, 18, 21)\n",
    "data3, plot3 = npd.twod_param_sweep(pmanual, setarr1, pmanual2, setarr2, p1, instr1.c1, instr1.p2, SetDelay1=1.5, SetDelay2=0.05)"
   ]
  },
  {
   "cell_type": "markdown",
   "metadata": {},
   "source": [
    "Demonstrate some of the other features in the keyword arguments"
   ]
  },
  {
   "cell_type": "code",
   "execution_count": 37,
   "metadata": {},
   "outputs": [
    {
     "name": "stdout",
     "output_type": "stream",
     "text": [
      "Started at 2019-07-31 02:49:02\n",
      "DataSet:\n",
      "   location = 'data/2019-07-31/#005_twod_run2_02-48-59'\n",
      "   <Type>   | <array_id>   | <array.name> | <array.shape>\n",
      "   Setpoint | pmanual_set  | pmanual      | (6,)\n",
      "   Setpoint | pmanual2_set | pmanual2     | (6, 21)\n",
      "   Measured | p1           | p1           | (6, 21)\n",
      "   Measured | instr1_c1    | c1           | (6, 21)\n",
      "   Measured | instr1_c2    | c2           | (6, 21)\n",
      "   Measured | instr1_p2    | p2           | (6, 21)\n",
      "Finished at 2019-07-31 02:50:33\n"
     ]
    }
   ],
   "source": [
    "setarr1 = np.linspace(0, 10, 6)\n",
    "setarr2 = np.linspace(-2, 18, 21)\n",
    "data4, plot4 = npd.twod_param_sweep(pmanual, setarr1, pmanual2, setarr2, p1, instr1.c1, instr1.c2, instr1.p2, SetDelay1=1.5, SetDelay2=0.05, Param2_SetBetween=0, DataName='twod_run2', ZParam=[p1, instr1.c2], save_plots=False)"
   ]
  },
  {
   "cell_type": "markdown",
   "metadata": {},
   "source": [
    "## 3. Demonstration of data_log\n",
    "\n",
    "The log function doesn't set any parameters. It just measures parameters after each delay time has passed.\n",
    "\n",
    "Structure:\n",
    "\n",
    "`data, plot = npd.data_log(delay(s), *MeasParams, N=None, minutes=time(min), DataName='', XParam=param,\n",
    "                        YParam=[params], breakif=npd.breakat(breakparam, setpoint, epsilon))`\n",
    "                        \n",
    "After listing the measured parameters, one must specify either the number of points to measure (N) or the time (minutes) expected for the duration of the log.\n",
    "\n",
    "Since there are no set parameters, if you do not specify a parameter in XParam, all the parameters will be plotted with respect to time since the start of the log. Time data is stored in a parameter called time0. You can also use a list for XParam, but it must be the same length as YParam.\n",
    "\n",
    "Forget the breakif argument for the moment."
   ]
  },
  {
   "cell_type": "code",
   "execution_count": 38,
   "metadata": {},
   "outputs": [],
   "source": [
    "instr1.resetcounts() # set counts back to 0."
   ]
  },
  {
   "cell_type": "code",
   "execution_count": 39,
   "metadata": {},
   "outputs": [
    {
     "data": {
      "text/plain": [
       "10.0"
      ]
     },
     "execution_count": 39,
     "metadata": {},
     "output_type": "execute_result"
    }
   ],
   "source": [
    "pmanual()"
   ]
  },
  {
   "cell_type": "code",
   "execution_count": 40,
   "metadata": {},
   "outputs": [
    {
     "name": "stdout",
     "output_type": "stream",
     "text": [
      "Started at 2019-07-31 10:26:31\n",
      "DataSet:\n",
      "   location = 'data/2019-07-31/#006__10-26-28'\n",
      "   <Type>   | <array_id> | <array.name> | <array.shape>\n",
      "   Setpoint | count_set  | count        | (45,)\n",
      "   Measured | time0      | time0        | (45,)\n",
      "   Measured | p1         | p1           | (45,)\n",
      "   Measured | instr1_c1  | c1           | (45,)\n",
      "   Measured | instr1_c2  | c2           | (45,)\n",
      "   Measured | instr1_p2  | p2           | (45,)\n",
      "Finished at 2019-07-31 10:27:30\n"
     ]
    }
   ],
   "source": [
    "data5, plot5 = npd.data_log(1.2, p1, instr1.c1, instr1.c2, instr1.p2, minutes=0.9, XParam=instr1.c2)"
   ]
  },
  {
   "cell_type": "markdown",
   "metadata": {},
   "source": [
    "You can see that 4 plots show up, each with instr1.c2 in the x axis. In the y axes are: instr1.c2, instr1.c1, p1, and instr1.p2. There are two other parameters listed above: count_set is a list of points from 0 to N. time0 is a list of times recorded right before the instruments are measured (measured in seconds after the time the log was started).\n",
    "\n",
    "You can see how this could be useful if you want to measure the results of the slow progress of a parameter like temperature or magnetic field. You set the temperature/field right before starting the log."
   ]
  },
  {
   "cell_type": "code",
   "execution_count": 57,
   "metadata": {},
   "outputs": [
    {
     "name": "stdout",
     "output_type": "stream",
     "text": [
      "DataArray[45]: count_set\n",
      "array([ 1.,  2.,  3.,  4.,  5.,  6.,  7.,  8.,  9., 10., 11., 12., 13.,\n",
      "       14., 15., 16., 17., 18., 19., 20., 21., 22., 23., 24., 25., 26.,\n",
      "       27., 28., 29., 30., 31., 32., 33., 34., 35., 36., 37., 38., 39.,\n",
      "       40., 41., 42., 43., 44., 45.])\n",
      "time0: [0.0038, 1.3341, 2.6589, 3.9626, 5.2837, 6.5984, 7.9344, 9.2451, 10.5507, 11.8503, 13.1826, 14.4914, 15.8207, 17.1577, 18.4826, 19.7935, 21.0954, 22.4118, 23.7485, 25.0542, 26.3657, 27.6804, 28.9851, 30.2881, 31.6009, 32.9063, 34.2358, 35.5314, 36.8351, 38.1383, 39.4501, 40.7448, 42.0434, 43.3197, 44.6097, 45.9143, 47.2150, 48.5025, 49.7962, 51.0848, 52.3789, 53.6674, 54.9615, 56.2553, 57.5482]\n"
     ]
    }
   ],
   "source": [
    "print(data5.count_set)\n",
    "s = '{:.4f}, '*(len(data5.time0) - 1) + '{:.4f}'\n",
    "print('time0: [' + s.format(*data5.time0[:]) + ']')"
   ]
  },
  {
   "cell_type": "code",
   "execution_count": 58,
   "metadata": {},
   "outputs": [
    {
     "data": {
      "text/plain": [
       "54.0"
      ]
     },
     "execution_count": 58,
     "metadata": {},
     "output_type": "execute_result"
    }
   ],
   "source": [
    "0.9*60"
   ]
  },
  {
   "cell_type": "markdown",
   "metadata": {},
   "source": [
    "**Small detail:** the last time point is at 57.5 seconds instead of 54 seconds. The number of data points is calculated by N = minutes*60/delay. If measurement takes a finite amount of time, then it will take longer."
   ]
  },
  {
   "cell_type": "markdown",
   "metadata": {},
   "source": [
    "### Break conditions\n",
    "\n",
    "Next, let's try utilizing the break condition. The breakif keyword takes a callable function with no arguments, returning true when (one that can be called with open parentheses like func() ). I made a function that breaks produces this based on:\n",
    "- `breakparam`: The parameter that must reach a setpoint\n",
    "- `setpoint`: The point it must reach (+/- epsilon) before breaking\n",
    "- `epsilon`: The range of values around the setpoint such that the log will end if  |breakparam - setpoint| < epsilon\n",
    "\n",
    "The other two optional keyword arguments you can use are\n",
    "- `waitafter=`: Waits the specified time (s) after the break condition is reached\n",
    "- `boolcond=`: This allows you to select a different boolean condition. (If not used or None, it works as described above)\n",
    "    - `\"lessthan\"`: the break condition is returned when the breakparam is measured below the setpoint\n",
    "    - `\"greaterthan\"`: the break condition is returned when the breakparam is measured as larger than the setpoint\n",
    "    \n",
    "For both of these, the epsilon argument is not used, though you still need to have a placeholder value in there. Note that you must have the `minutes` argument be at least as long or longer than the time taken to meet the break condition (the reason is given below)."
   ]
  },
  {
   "cell_type": "code",
   "execution_count": 59,
   "metadata": {},
   "outputs": [
    {
     "data": {
      "text/plain": [
       "45"
      ]
     },
     "execution_count": 59,
     "metadata": {},
     "output_type": "execute_result"
    }
   ],
   "source": [
    "instr1._count1"
   ]
  },
  {
   "cell_type": "code",
   "execution_count": 60,
   "metadata": {},
   "outputs": [
    {
     "name": "stdout",
     "output_type": "stream",
     "text": [
      "Started at 2019-07-31 11:17:26\n",
      "DataSet:\n",
      "   location = 'data/2019-07-31/#007__11-17-25'\n",
      "   <Type>   | <array_id> | <array.name> | <array.shape>\n",
      "   Setpoint | count_set  | count        | (300,)\n",
      "   Measured | time0      | time0        | (300,)\n",
      "   Measured | p1         | p1           | (300,)\n",
      "   Measured | instr1_c1  | c1           | (300,)\n",
      "   Measured | instr1_c2  | c2           | (300,)\n",
      "   Measured | instr1_p2  | p2           | (300,)\n",
      "Finished at 2019-07-31 11:17:33\n"
     ]
    }
   ],
   "source": [
    "data6, plot6 = npd.data_log(1, p1, instr1.c1, instr1.c2, instr1.p2, minutes=5, breakif=npd.breakat(instr1.c1, 58, 2), XParam=[instr1.c1, instr1.c2], YParam=[p1, instr1.p2], save_plots=False)"
   ]
  },
  {
   "cell_type": "markdown",
   "metadata": {},
   "source": [
    "You should see two plots with the x-axis parameter and y-axis parameter in the same order as they appear in the lists fed to XParam and YParam. Let's look at the break parameter array."
   ]
  },
  {
   "cell_type": "code",
   "execution_count": 62,
   "metadata": {},
   "outputs": [
    {
     "data": {
      "text/plain": [
       "DataArray[300]: instr1_c1\n",
       "array([46., 48., 50., 52., 54., 56., nan, nan, nan, nan, nan, nan, nan,\n",
       "       nan, nan, nan, nan, nan, nan, nan, nan, nan, nan, nan, nan, nan,\n",
       "       nan, nan, nan, nan, nan, nan, nan, nan, nan, nan, nan, nan, nan,\n",
       "       nan, nan, nan, nan, nan, nan, nan, nan, nan, nan, nan, nan, nan,\n",
       "       nan, nan, nan, nan, nan, nan, nan, nan, nan, nan, nan, nan, nan,\n",
       "       nan, nan, nan, nan, nan, nan, nan, nan, nan, nan, nan, nan, nan,\n",
       "       nan, nan, nan, nan, nan, nan, nan, nan, nan, nan, nan, nan, nan,\n",
       "       nan, nan, nan, nan, nan, nan, nan, nan, nan, nan, nan, nan, nan,\n",
       "       nan, nan, nan, nan, nan, nan, nan, nan, nan, nan, nan, nan, nan,\n",
       "       nan, nan, nan, nan, nan, nan, nan, nan, nan, nan, nan, nan, nan,\n",
       "       nan, nan, nan, nan, nan, nan, nan, nan, nan, nan, nan, nan, nan,\n",
       "       nan, nan, nan, nan, nan, nan, nan, nan, nan, nan, nan, nan, nan,\n",
       "       nan, nan, nan, nan, nan, nan, nan, nan, nan, nan, nan, nan, nan,\n",
       "       nan, nan, nan, nan, nan, nan, nan, nan, nan, nan, nan, nan, nan,\n",
       "       nan, nan, nan, nan, nan, nan, nan, nan, nan, nan, nan, nan, nan,\n",
       "       nan, nan, nan, nan, nan, nan, nan, nan, nan, nan, nan, nan, nan,\n",
       "       nan, nan, nan, nan, nan, nan, nan, nan, nan, nan, nan, nan, nan,\n",
       "       nan, nan, nan, nan, nan, nan, nan, nan, nan, nan, nan, nan, nan,\n",
       "       nan, nan, nan, nan, nan, nan, nan, nan, nan, nan, nan, nan, nan,\n",
       "       nan, nan, nan, nan, nan, nan, nan, nan, nan, nan, nan, nan, nan,\n",
       "       nan, nan, nan, nan, nan, nan, nan, nan, nan, nan, nan, nan, nan,\n",
       "       nan, nan, nan, nan, nan, nan, nan, nan, nan, nan, nan, nan, nan,\n",
       "       nan, nan, nan, nan, nan, nan, nan, nan, nan, nan, nan, nan, nan,\n",
       "       nan])"
      ]
     },
     "execution_count": 62,
     "metadata": {},
     "output_type": "execute_result"
    }
   ],
   "source": [
    "data6.instr1_c1"
   ]
  },
  {
   "cell_type": "markdown",
   "metadata": {},
   "source": [
    "The first thing to note is that it advances in steps of 2. This is because it was measured once to be recorded in the dataset and once for the breakparam. We could have allowed it to advance in steps of 1 by using instr1.c1.get_latest as the break parameter.\n",
    "\n",
    "The second thing to notice is that the array is a length-300 array of mostly nan values. This is because a QCodes dataset (only in the legacy version) requires one to set up the array size at the start of the measurement. It starts out full of nan values (which won't be plotted) and replaces them as values are measured. This introduces one complication to the break condition (mentioned above): if minutes is too short, it will set up an array that is too small, and the array space will run out before the break condition is reached. Once again, set `minutes` to something longer than the expected time to reach the break condition."
   ]
  },
  {
   "cell_type": "code",
   "execution_count": 64,
   "metadata": {},
   "outputs": [
    {
     "data": {
      "text/plain": [
       "array([102., 105., 108., 111., 114., 117.])"
      ]
     },
     "execution_count": 64,
     "metadata": {},
     "output_type": "execute_result"
    }
   ],
   "source": [
    "# If you want to extract the values in an array that doesn't include nan values, you can use\n",
    "firstnan = np.isnan(data6.instr1_p2[:]).argmax()\n",
    "data6.instr1_p2[:firstnan]"
   ]
  },
  {
   "cell_type": "code",
   "execution_count": 65,
   "metadata": {},
   "outputs": [
    {
     "data": {
      "text/plain": [
       "nan"
      ]
     },
     "execution_count": 65,
     "metadata": {},
     "output_type": "execute_result"
    }
   ],
   "source": [
    "data6.instr1_p2[firstnan+1]"
   ]
  }
 ],
 "metadata": {
  "kernelspec": {
   "display_name": "Environment (conda_qcodes)",
   "language": "python",
   "name": "conda_qcodes"
  },
  "language_info": {
   "codemirror_mode": {
    "name": "ipython",
    "version": 3
   },
   "file_extension": ".py",
   "mimetype": "text/x-python",
   "name": "python",
   "nbconvert_exporter": "python",
   "pygments_lexer": "ipython3",
   "version": "3.6.7"
  }
 },
 "nbformat": 4,
 "nbformat_minor": 2
}
