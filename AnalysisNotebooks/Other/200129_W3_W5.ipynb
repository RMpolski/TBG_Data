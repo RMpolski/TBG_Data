{
 "cells": [
  {
   "cell_type": "code",
   "execution_count": 1,
   "metadata": {
    "Collapsed": "false"
   },
   "outputs": [],
   "source": [
    "import numpy as np\n",
    "import matplotlib.pyplot as plt\n",
    "from matplotlib.colors import LogNorm, SymLogNorm, DivergingNorm\n",
    "import matplotlib.colors as colors\n",
    "import qcodes as qc\n",
    "import qcodes.instrument_drivers.nplab_drivers as npd\n",
    "from scipy.optimize import curve_fit\n",
    "from scipy.interpolate import interp2d, interp1d\n",
    "from os import path\n",
    "import colorcet as cc   # install quickly with \"conda install colorcet\"\n",
    "from scipy.interpolate import RectBivariateSpline\n",
    "from matplotlib import ticker\n",
    "from scipy.ndimage import gaussian_filter\n",
    "import matplotlib as mpl\n",
    "from lmfit import Model"
   ]
  },
  {
   "cell_type": "code",
   "execution_count": 2,
   "metadata": {
    "Collapsed": "false"
   },
   "outputs": [],
   "source": [
    "plt.rcParams['svg.fonttype'] = 'none'\n",
    "plt.rcParams['figure.dpi'] = 300\n",
    "%config InlineBackend.figure_format = 'svg' \n",
    "font = {\n",
    "                'family': 'Arial',\n",
    "                'size': 12,\n",
    "                'serif': 'Times',\n",
    "                'sans-serif': 'Arial'\n",
    "            }\n",
    "\n",
    "plt.rc('font', **font)"
   ]
  },
  {
   "cell_type": "code",
   "execution_count": 3,
   "metadata": {
    "Collapsed": "false"
   },
   "outputs": [],
   "source": [
    "#%matplotlib widget"
   ]
  },
  {
   "cell_type": "code",
   "execution_count": 4,
   "metadata": {
    "Collapsed": "false"
   },
   "outputs": [
    {
     "name": "stdout",
     "output_type": "stream",
     "text": [
      "/Users/robertpolski/Documents/NPGroupResearch/Measurements/Triton/qcodes_data\n"
     ]
    }
   ],
   "source": [
    "cd .."
   ]
  },
  {
   "cell_type": "code",
   "execution_count": 5,
   "metadata": {
    "Collapsed": "false"
   },
   "outputs": [],
   "source": [
    "qc.DataSet.default_io.base_location = path.abspath('.')\n",
    "figfile = path.abspath('.') + '/Figures/W3_W5/'"
   ]
  },
  {
   "cell_type": "markdown",
   "metadata": {
    "Collapsed": "false"
   },
   "source": [
    "# PPMS data for W5"
   ]
  },
  {
   "cell_type": "markdown",
   "metadata": {
    "Collapsed": "true"
   },
   "source": [
    "## Fan diagrams"
   ]
  },
  {
   "cell_type": "code",
   "execution_count": 5,
   "metadata": {
    "Collapsed": "false"
   },
   "outputs": [],
   "source": [
    "w5fan1 = qc.load_data('../../PPMS/qcodes_data/data/2020-01-11/#012_W5_lockin1_14-3_lockin2_4-5_gsweep_1.8K_Fan0Tto9T_10nA_15-33-09')\n",
    "R1403fan1 = npd.Rxxfromdata(w5fan1, 10e-9, instrument='lockin1')\n",
    "R0405fan1 = npd.Rxxfromdata(w5fan1, 10e-9, instrument='lockin2')\n",
    "gw5fan1 = w5fan1.srdc_volt_set[0, :]\n",
    "bw5fan1 = w5fan1.ppms_field_set_stable_set[:]/1000"
   ]
  },
  {
   "cell_type": "code",
   "execution_count": 6,
   "metadata": {
    "Collapsed": "false"
   },
   "outputs": [],
   "source": [
    "Vgatefull = 5.1\n",
    "V01 = 0.30\n",
    "nugatefan1 = np.interp(gw5fan1, [V01 - Vgatefull*9/4, V01 + Vgatefull*9/4], [-9, 9])"
   ]
  },
  {
   "cell_type": "code",
   "execution_count": 7,
   "metadata": {
    "Collapsed": "false"
   },
   "outputs": [
    {
     "data": {
      "application/vnd.jupyter.widget-view+json": {
       "model_id": "6dfab10dab334463b6c0691effe38a22",
       "version_major": 2,
       "version_minor": 0
      },
      "text/plain": [
       "Canvas(toolbar=Toolbar(toolitems=[('Home', 'Reset original view', 'home', 'home'), ('Back', 'Back to previous …"
      ]
     },
     "metadata": {},
     "output_type": "display_data"
    }
   ],
   "source": [
    "fig, ax = plt.subplots(2, 1, figsize=(11, 8))\n",
    "p1 = ax[0].pcolormesh(nugatefan1, bw5fan1, R1403fan1/1000, cmap=cc.cm.diverging_bwr_20_95_c54, norm=DivergingNorm(vcenter=1, vmin=0, vmax=2))\n",
    "plt.colorbar(p1, ax=ax[0])\n",
    "ax[0].set_title('14-3')\n",
    "p2 = ax[1].pcolormesh(gw5fan1, bw5fan1, R0405fan1/1000, cmap=cc.cm.diverging_bwr_20_95_c54, norm=DivergingNorm(vcenter=1, vmin=0, vmax=2))\n",
    "plt.colorbar(p2, ax=ax[1])\n",
    "ax[1].set_title('4-5')\n",
    "plt.tight_layout()"
   ]
  },
  {
   "cell_type": "code",
   "execution_count": 8,
   "metadata": {
    "Collapsed": "false"
   },
   "outputs": [
    {
     "name": "stdout",
     "output_type": "stream",
     "text": [
      "-1.1764705882352944\n"
     ]
    },
    {
     "data": {
      "application/vnd.jupyter.widget-view+json": {
       "model_id": "7d2f57255425414bbeafe0862b4facf0",
       "version_major": 2,
       "version_minor": 0
      },
      "text/plain": [
       "Canvas(toolbar=Toolbar(toolitems=[('Home', 'Reset original view', 'home', 'home'), ('Back', 'Back to previous …"
      ]
     },
     "metadata": {},
     "output_type": "display_data"
    },
    {
     "data": {
      "text/plain": [
       "[<matplotlib.lines.Line2D at 0x7fef76628150>]"
      ]
     },
     "execution_count": 8,
     "metadata": {},
     "output_type": "execute_result"
    }
   ],
   "source": [
    "indx = 220\n",
    "print(nugatefan1[indx])\n",
    "plt.figure()\n",
    "N = 60\n",
    "plt.plot(bw5fan1[:N], R1403fan1[:N, indx]/1000)"
   ]
  },
  {
   "cell_type": "markdown",
   "metadata": {
    "Collapsed": "true"
   },
   "source": [
    "## Temp-gate plots"
   ]
  },
  {
   "cell_type": "code",
   "execution_count": 26,
   "metadata": {
    "Collapsed": "false"
   },
   "outputs": [],
   "source": [
    "dTw5_1 = qc.load_data('../../PPMS/qcodes_data/data/2020-01-12/#002_W5_lockin1_14-3_lockin2_4-5_gsweep_1.8K_10nA_15-00-08')  # different gate points\n",
    "dTw5_2 = qc.load_data('../../PPMS/qcodes_data/data/2020-01-12/#003_W5_lockin1_14-3_lockin2_4-5_Temp2to20K_15nA_15-09-42')\n",
    "dTw5_3 = qc.load_data('../../PPMS/qcodes_data/data/2020-01-12/#004_W5_lockin1_14-3_lockin2_4-5_Temp22to118_15nA_19-50-02')\n",
    "dTw5_4 = qc.load_data('../../PPMS/qcodes_data/data/2020-01-14/#001_W5_lockin1_14-3_lockin2_4-5_Temp120to240_15nA_10-47-06')  # different gate points\n",
    "\n",
    "Ts_w5 = np.concatenate(([1.8], dTw5_2.ppms_temperature_set_stable_set[:], dTw5_3.ppms_temperature_set_stable_set[:]))\n",
    "gw5T = dTw5_2.srdc_volt_set[0, :]\n",
    "Rxx1403T = np.vstack((npd.Rxxfromdata(dTw5_2, 15e-9, instrument='lockin1'), npd.Rxxfromdata(dTw5_3, 15e-9, instrument='lockin1')))\n",
    "Rxx0405T = np.vstack((npd.Rxxfromdata(dTw5_2, 15e-9, instrument='lockin2'), npd.Rxxfromdata(dTw5_3, 15e-9, instrument='lockin2')))"
   ]
  },
  {
   "cell_type": "code",
   "execution_count": 27,
   "metadata": {
    "Collapsed": "false"
   },
   "outputs": [],
   "source": [
    "# assuming the same as the fridge landau fan on 39-38\n",
    "Vgatefull = 5.1\n",
    "V01 = 0.25\n",
    "nugateT = np.interp(gw5T, [V01 - Vgatefull*9/4, V01 + Vgatefull*9/4], [-9, 9])"
   ]
  },
  {
   "cell_type": "code",
   "execution_count": null,
   "metadata": {
    "Collapsed": "false"
   },
   "outputs": [],
   "source": []
  },
  {
   "cell_type": "code",
   "execution_count": 28,
   "metadata": {
    "Collapsed": "false"
   },
   "outputs": [
    {
     "data": {
      "text/plain": [
       "(68, 641)"
      ]
     },
     "execution_count": 28,
     "metadata": {},
     "output_type": "execute_result"
    }
   ],
   "source": [
    "Rxx1403T.shape"
   ]
  },
  {
   "cell_type": "code",
   "execution_count": 29,
   "metadata": {
    "Collapsed": "false"
   },
   "outputs": [
    {
     "data": {
      "text/plain": [
       "(69,)"
      ]
     },
     "execution_count": 29,
     "metadata": {},
     "output_type": "execute_result"
    }
   ],
   "source": [
    "Ts_w5.shape"
   ]
  },
  {
   "cell_type": "code",
   "execution_count": 30,
   "metadata": {
    "Collapsed": "false"
   },
   "outputs": [
    {
     "data": {
      "application/vnd.jupyter.widget-view+json": {
       "model_id": "6ca4b219267847d98ece618348b53a0a",
       "version_major": 2,
       "version_minor": 0
      },
      "text/plain": [
       "Canvas(toolbar=Toolbar(toolitems=[('Home', 'Reset original view', 'home', 'home'), ('Back', 'Back to previous …"
      ]
     },
     "metadata": {},
     "output_type": "display_data"
    }
   ],
   "source": [
    "\n",
    "fig, ax = plt.subplots(2, 1, figsize=(11, 8))\n",
    "p1 = ax[0].pcolormesh(nugateT, Ts_w5[1:], Rxx1403T/1000, cmap=cc.cm.diverging_bwr_20_95_c54, norm=DivergingNorm(vcenter=0.15, vmin=0, vmax=0.5))\n",
    "p2 = ax[1].pcolormesh(gw5T, Ts_w5[1:], Rxx0405T/1000, cmap=cc.cm.diverging_bwr_20_95_c54, norm=DivergingNorm(vcenter=0.15, vmin=0, vmax=0.5))\n",
    "plt.colorbar(p1, ax=ax[0])\n",
    "ax[0].set_ylim(2, 40)\n",
    "ax[0].set_title('14-3')\n",
    "plt.colorbar(p2, ax=ax[1])\n",
    "ax[1].set_ylim(2, 40)\n",
    "ax[1].set_title('4-5')\n",
    "plt.tight_layout()"
   ]
  },
  {
   "cell_type": "code",
   "execution_count": null,
   "metadata": {
    "Collapsed": "false"
   },
   "outputs": [],
   "source": []
  },
  {
   "cell_type": "markdown",
   "metadata": {
    "Collapsed": "false"
   },
   "source": [
    "# Triton fridge data for W5"
   ]
  },
  {
   "cell_type": "markdown",
   "metadata": {
    "Collapsed": "false"
   },
   "source": [
    "Linecuts for the different electrodes, 40-39, 39-38, 38-37"
   ]
  },
  {
   "cell_type": "code",
   "execution_count": 6,
   "metadata": {
    "Collapsed": "false"
   },
   "outputs": [],
   "source": [
    "d3738 = qc.load_data('data/2020-02-03/#001_W5_basetemp_1nA_I41-35_V37-38_865_10-55-48')\n",
    "d3839 = qc.load_data('data/2020-02-03/#002_W5_basetemp_1nA_I41-35_V39-38_865_11-05-14')\n",
    "d3940 = qc.load_data('data/2020-02-03/#003_W5_basetemp_1nA_I41-35_V40-39_865_11-14-55')\n",
    "\n",
    "R3738 = npd.Rxxfromdata(d3738, 1e-9)\n",
    "R3839 = npd.Rxxfromdata(d3839, 1e-9)\n",
    "R3940 = npd.Rxxfromdata(d3940, 1e-9)\n",
    "Vgate3738 = d3738.srframe_volt_p1_set[:]\n",
    "Vgate3839 = d3839.srframe_volt_p1_set[:]\n",
    "Vgate3940 = d3940.srframe_volt_p1_set[:]"
   ]
  },
  {
   "cell_type": "code",
   "execution_count": 10,
   "metadata": {
    "Collapsed": "false"
   },
   "outputs": [
    {
     "data": {
      "image/svg+xml": [
       "<?xml version=\"1.0\" encoding=\"utf-8\" standalone=\"no\"?>\n",
       "<!DOCTYPE svg PUBLIC \"-//W3C//DTD SVG 1.1//EN\"\n",
       "  \"http://www.w3.org/Graphics/SVG/1.1/DTD/svg11.dtd\">\n",
       "<!-- Created with matplotlib (https://matplotlib.org/) -->\n",
       "<svg height=\"321.734375pt\" version=\"1.1\" viewBox=\"0 0 545.793125 321.734375\" width=\"545.793125pt\" xmlns=\"http://www.w3.org/2000/svg\" xmlns:xlink=\"http://www.w3.org/1999/xlink\">\n",
       " <defs>\n",
       "  <style type=\"text/css\">\n",
       "*{stroke-linecap:butt;stroke-linejoin:round;}\n",
       "  </style>\n",
       " </defs>\n",
       " <g id=\"figure_1\">\n",
       "  <g id=\"patch_1\">\n",
       "   <path d=\"M -0 321.734375 \n",
       "L 545.793125 321.734375 \n",
       "L 545.793125 0 \n",
       "L -0 0 \n",
       "z\n",
       "\" style=\"fill:none;\"/>\n",
       "  </g>\n",
       "  <g id=\"axes_1\">\n",
       "   <g id=\"patch_2\">\n",
       "    <path d=\"M 36.393125 279 \n",
       "L 538.593125 279 \n",
       "L 538.593125 7.2 \n",
       "L 36.393125 7.2 \n",
       "z\n",
       "\" style=\"fill:#ffffff;\"/>\n",
       "   </g>\n",
       "   <g id=\"matplotlib.axis_1\">\n",
       "    <g id=\"xtick_1\">\n",
       "     <g id=\"line2d_1\">\n",
       "      <defs>\n",
       "       <path d=\"M 0 0 \n",
       "L 0 3.5 \n",
       "\" id=\"mecf97d5a11\" style=\"stroke:#000000;stroke-width:0.8;\"/>\n",
       "      </defs>\n",
       "      <g>\n",
       "       <use style=\"stroke:#000000;stroke-width:0.8;\" x=\"78.243125\" xlink:href=\"#mecf97d5a11\" y=\"279\"/>\n",
       "      </g>\n",
       "     </g>\n",
       "     <g id=\"text_1\">\n",
       "      <text style=\"font-family:Arial;font-size:12px;font-style:normal;font-weight:normal;text-anchor:middle;\" transform=\"rotate(-0, 78.243125, 294.589375)\" x=\"78.243125\" y=\"294.589375\">−1.5</text>\n",
       "     </g>\n",
       "    </g>\n",
       "    <g id=\"xtick_2\">\n",
       "     <g id=\"line2d_2\">\n",
       "      <g>\n",
       "       <use style=\"stroke:#000000;stroke-width:0.8;\" x=\"147.993125\" xlink:href=\"#mecf97d5a11\" y=\"279\"/>\n",
       "      </g>\n",
       "     </g>\n",
       "     <g id=\"text_2\">\n",
       "      <text style=\"font-family:Arial;font-size:12px;font-style:normal;font-weight:normal;text-anchor:middle;\" transform=\"rotate(-0, 147.993125, 294.589375)\" x=\"147.993125\" y=\"294.589375\">−1.0</text>\n",
       "     </g>\n",
       "    </g>\n",
       "    <g id=\"xtick_3\">\n",
       "     <g id=\"line2d_3\">\n",
       "      <g>\n",
       "       <use style=\"stroke:#000000;stroke-width:0.8;\" x=\"217.743125\" xlink:href=\"#mecf97d5a11\" y=\"279\"/>\n",
       "      </g>\n",
       "     </g>\n",
       "     <g id=\"text_3\">\n",
       "      <text style=\"font-family:Arial;font-size:12px;font-style:normal;font-weight:normal;text-anchor:middle;\" transform=\"rotate(-0, 217.743125, 294.589375)\" x=\"217.743125\" y=\"294.589375\">−0.5</text>\n",
       "     </g>\n",
       "    </g>\n",
       "    <g id=\"xtick_4\">\n",
       "     <g id=\"line2d_4\">\n",
       "      <g>\n",
       "       <use style=\"stroke:#000000;stroke-width:0.8;\" x=\"287.493125\" xlink:href=\"#mecf97d5a11\" y=\"279\"/>\n",
       "      </g>\n",
       "     </g>\n",
       "     <g id=\"text_4\">\n",
       "      <text style=\"font-family:Arial;font-size:12px;font-style:normal;font-weight:normal;text-anchor:middle;\" transform=\"rotate(-0, 287.493125, 294.589375)\" x=\"287.493125\" y=\"294.589375\">0.0</text>\n",
       "     </g>\n",
       "    </g>\n",
       "    <g id=\"xtick_5\">\n",
       "     <g id=\"line2d_5\">\n",
       "      <g>\n",
       "       <use style=\"stroke:#000000;stroke-width:0.8;\" x=\"357.243125\" xlink:href=\"#mecf97d5a11\" y=\"279\"/>\n",
       "      </g>\n",
       "     </g>\n",
       "     <g id=\"text_5\">\n",
       "      <text style=\"font-family:Arial;font-size:12px;font-style:normal;font-weight:normal;text-anchor:middle;\" transform=\"rotate(-0, 357.243125, 294.589375)\" x=\"357.243125\" y=\"294.589375\">0.5</text>\n",
       "     </g>\n",
       "    </g>\n",
       "    <g id=\"xtick_6\">\n",
       "     <g id=\"line2d_6\">\n",
       "      <g>\n",
       "       <use style=\"stroke:#000000;stroke-width:0.8;\" x=\"426.993125\" xlink:href=\"#mecf97d5a11\" y=\"279\"/>\n",
       "      </g>\n",
       "     </g>\n",
       "     <g id=\"text_6\">\n",
       "      <text style=\"font-family:Arial;font-size:12px;font-style:normal;font-weight:normal;text-anchor:middle;\" transform=\"rotate(-0, 426.993125, 294.589375)\" x=\"426.993125\" y=\"294.589375\">1.0</text>\n",
       "     </g>\n",
       "    </g>\n",
       "    <g id=\"xtick_7\">\n",
       "     <g id=\"line2d_7\">\n",
       "      <g>\n",
       "       <use style=\"stroke:#000000;stroke-width:0.8;\" x=\"496.743125\" xlink:href=\"#mecf97d5a11\" y=\"279\"/>\n",
       "      </g>\n",
       "     </g>\n",
       "     <g id=\"text_7\">\n",
       "      <text style=\"font-family:Arial;font-size:12px;font-style:normal;font-weight:normal;text-anchor:middle;\" transform=\"rotate(-0, 496.743125, 294.589375)\" x=\"496.743125\" y=\"294.589375\">1.5</text>\n",
       "     </g>\n",
       "    </g>\n",
       "    <g id=\"text_8\">\n",
       "     <!-- n (10$^{12}$ cm$^{-2}$) -->\n",
       "     <g transform=\"translate(250.173125 311.894375)\">\n",
       "      <text>\n",
       "       <tspan style=\"font-family:Arial;font-size:12px;font-style:regular;font-weight:regular;\" x=\"0 6.673828 10.007812 14.003906 20.677734 38.483203 41.817188 47.817188 70.638867\" y=\"-0.171875\">n (10 cm)</tspan>\n",
       "       <tspan style=\"font-family:DejaVu Sans;font-size:8.4px;font-style:book;font-weight:book;\" x=\"27.466406 32.810742 57.928125 64.966406\" y=\"-4.765625\">12−2</tspan>\n",
       "      </text>\n",
       "     </g>\n",
       "    </g>\n",
       "   </g>\n",
       "   <g id=\"matplotlib.axis_2\">\n",
       "    <g id=\"ytick_1\">\n",
       "     <g id=\"line2d_8\">\n",
       "      <defs>\n",
       "       <path d=\"M 0 0 \n",
       "L -3.5 0 \n",
       "\" id=\"meed1244c0c\" style=\"stroke:#000000;stroke-width:0.8;\"/>\n",
       "      </defs>\n",
       "      <g>\n",
       "       <use style=\"stroke:#000000;stroke-width:0.8;\" x=\"36.393125\" xlink:href=\"#meed1244c0c\" y=\"265.572607\"/>\n",
       "      </g>\n",
       "     </g>\n",
       "     <g id=\"text_9\">\n",
       "      <text style=\"font-family:Arial;font-size:12px;font-style:normal;font-weight:normal;text-anchor:end;\" transform=\"rotate(-0, 29.393125, 269.867295)\" x=\"29.393125\" y=\"269.867295\">0</text>\n",
       "     </g>\n",
       "    </g>\n",
       "    <g id=\"ytick_2\">\n",
       "     <g id=\"line2d_9\">\n",
       "      <g>\n",
       "       <use style=\"stroke:#000000;stroke-width:0.8;\" x=\"36.393125\" xlink:href=\"#meed1244c0c\" y=\"211.347716\"/>\n",
       "      </g>\n",
       "     </g>\n",
       "     <g id=\"text_10\">\n",
       "      <text style=\"font-family:Arial;font-size:12px;font-style:normal;font-weight:normal;text-anchor:end;\" transform=\"rotate(-0, 29.393125, 215.642404)\" x=\"29.393125\" y=\"215.642404\">1</text>\n",
       "     </g>\n",
       "    </g>\n",
       "    <g id=\"ytick_3\">\n",
       "     <g id=\"line2d_10\">\n",
       "      <g>\n",
       "       <use style=\"stroke:#000000;stroke-width:0.8;\" x=\"36.393125\" xlink:href=\"#meed1244c0c\" y=\"157.122825\"/>\n",
       "      </g>\n",
       "     </g>\n",
       "     <g id=\"text_11\">\n",
       "      <text style=\"font-family:Arial;font-size:12px;font-style:normal;font-weight:normal;text-anchor:end;\" transform=\"rotate(-0, 29.393125, 161.417513)\" x=\"29.393125\" y=\"161.417513\">2</text>\n",
       "     </g>\n",
       "    </g>\n",
       "    <g id=\"ytick_4\">\n",
       "     <g id=\"line2d_11\">\n",
       "      <g>\n",
       "       <use style=\"stroke:#000000;stroke-width:0.8;\" x=\"36.393125\" xlink:href=\"#meed1244c0c\" y=\"102.897934\"/>\n",
       "      </g>\n",
       "     </g>\n",
       "     <g id=\"text_12\">\n",
       "      <text style=\"font-family:Arial;font-size:12px;font-style:normal;font-weight:normal;text-anchor:end;\" transform=\"rotate(-0, 29.393125, 107.192622)\" x=\"29.393125\" y=\"107.192622\">3</text>\n",
       "     </g>\n",
       "    </g>\n",
       "    <g id=\"ytick_5\">\n",
       "     <g id=\"line2d_12\">\n",
       "      <g>\n",
       "       <use style=\"stroke:#000000;stroke-width:0.8;\" x=\"36.393125\" xlink:href=\"#meed1244c0c\" y=\"48.673043\"/>\n",
       "      </g>\n",
       "     </g>\n",
       "     <g id=\"text_13\">\n",
       "      <text style=\"font-family:Arial;font-size:12px;font-style:normal;font-weight:normal;text-anchor:end;\" transform=\"rotate(-0, 29.393125, 52.967731)\" x=\"29.393125\" y=\"52.967731\">4</text>\n",
       "     </g>\n",
       "    </g>\n",
       "    <g id=\"text_14\">\n",
       "     <!-- R$_{xx}$ (k$\\Omega$) -->\n",
       "     <g transform=\"translate(16.08 165.9)rotate(-90)\">\n",
       "      <text>\n",
       "       <tspan style=\"font-family:Arial;font-size:12px;font-style:regular;font-weight:regular;\" x=\"0 19.051172 22.385156 26.38125 41.551172\" y=\"-0.140625\">R (k)</tspan>\n",
       "       <tspan style=\"font-family:DejaVu Sans;font-size:8.4px;font-style:oblique;font-weight:oblique;\" x=\"8.780859 13.751953\" y=\"1.828125\">xx</tspan>\n",
       "       <tspan style=\"font-family:DejaVu Sans;font-size:12px;font-style:book;font-weight:book;\" x=\"32.38125\" y=\"-0.140625\">Ω</tspan>\n",
       "      </text>\n",
       "     </g>\n",
       "    </g>\n",
       "   </g>\n",
       "   <g id=\"line2d_13\">\n",
       "    <path clip-path=\"url(#p787ec9fde8)\" d=\"M 36.90389 215.539042 \n",
       "L 38.961272 215.064684 \n",
       "L 41.018655 214.367353 \n",
       "L 43.076038 214.46012 \n",
       "L 45.133421 213.926003 \n",
       "L 47.190804 213.233256 \n",
       "L 49.248187 213.005012 \n",
       "L 51.30557 212.097652 \n",
       "L 53.362953 209.753927 \n",
       "L 57.477718 200.511713 \n",
       "L 59.535101 201.727214 \n",
       "L 61.592484 202.368871 \n",
       "L 65.70725 201.70417 \n",
       "L 67.764633 198.291243 \n",
       "L 69.822016 195.524647 \n",
       "L 73.936781 193.760127 \n",
       "L 75.994164 192.072855 \n",
       "L 78.051547 190.129573 \n",
       "L 80.10893 189.869828 \n",
       "L 82.166313 190.971796 \n",
       "L 86.281079 187.482103 \n",
       "L 88.338462 187.18445 \n",
       "L 90.395845 187.314653 \n",
       "L 92.453227 186.233509 \n",
       "L 94.51061 184.466409 \n",
       "L 96.567993 184.365509 \n",
       "L 98.625376 183.952004 \n",
       "L 102.740142 180.526356 \n",
       "L 104.797525 178.251329 \n",
       "L 106.854908 174.326718 \n",
       "L 108.912291 172.402562 \n",
       "L 110.969673 172.836535 \n",
       "L 113.027056 173.599558 \n",
       "L 115.084439 173.265721 \n",
       "L 117.141822 174.337262 \n",
       "L 119.199205 174.449616 \n",
       "L 121.256588 175.05048 \n",
       "L 127.428737 176.210184 \n",
       "L 131.543502 176.386261 \n",
       "L 133.600885 177.789782 \n",
       "L 135.658268 179.619671 \n",
       "L 137.715651 182.117264 \n",
       "L 139.773034 183.684906 \n",
       "L 141.830417 186.70003 \n",
       "L 143.8878 190.731731 \n",
       "L 148.002565 195.078158 \n",
       "L 152.117331 199.680308 \n",
       "L 156.232097 205.9975 \n",
       "L 158.28948 207.459565 \n",
       "L 160.346863 208.361203 \n",
       "L 162.404246 210.449451 \n",
       "L 166.519011 212.328838 \n",
       "L 168.576394 212.991878 \n",
       "L 170.633777 213.356981 \n",
       "L 172.69116 213.842914 \n",
       "L 174.748543 214.977346 \n",
       "L 176.805926 216.667788 \n",
       "L 178.863309 217.39249 \n",
       "L 180.920692 218.535062 \n",
       "L 182.978074 220.138976 \n",
       "L 187.09284 222.339747 \n",
       "L 189.150223 222.877606 \n",
       "L 191.207606 222.613807 \n",
       "L 193.264989 223.133307 \n",
       "L 195.322372 223.469599 \n",
       "L 197.379755 223.527355 \n",
       "L 199.437137 223.909289 \n",
       "L 201.49452 223.761011 \n",
       "L 203.551903 224.133899 \n",
       "L 205.609286 224.63811 \n",
       "L 207.666669 224.535153 \n",
       "L 209.724052 223.956648 \n",
       "L 211.781435 223.848277 \n",
       "L 213.838818 223.187727 \n",
       "L 217.953583 221.113018 \n",
       "L 220.010966 220.771317 \n",
       "L 224.125732 220.806864 \n",
       "L 228.240498 219.282496 \n",
       "L 230.297881 219.460952 \n",
       "L 232.355264 219.305312 \n",
       "L 234.412647 218.406339 \n",
       "L 236.470029 217.383556 \n",
       "L 238.527412 217.268475 \n",
       "L 240.584795 216.407969 \n",
       "L 244.699561 213.994266 \n",
       "L 248.814327 210.529833 \n",
       "L 250.87171 209.091938 \n",
       "L 252.929093 206.986343 \n",
       "L 257.043858 199.828376 \n",
       "L 259.101241 196.436797 \n",
       "L 265.27339 183.412381 \n",
       "L 267.330773 179.313238 \n",
       "L 269.388156 171.766113 \n",
       "L 271.445538 160.484783 \n",
       "L 277.617687 134.198041 \n",
       "L 279.67507 122.961829 \n",
       "L 281.732453 112.491328 \n",
       "L 283.789836 106.08948 \n",
       "L 285.847219 100.634092 \n",
       "L 287.904602 99.512574 \n",
       "L 289.961984 102.778104 \n",
       "L 292.019367 109.497885 \n",
       "L 294.07675 117.609674 \n",
       "L 296.134133 128.781613 \n",
       "L 298.191516 145.31359 \n",
       "L 300.248899 157.642055 \n",
       "L 302.306282 160.340174 \n",
       "L 304.363665 165.294742 \n",
       "L 306.421048 174.990575 \n",
       "L 308.47843 183.830112 \n",
       "L 310.535813 187.94327 \n",
       "L 314.650579 195.747901 \n",
       "L 316.707962 200.85764 \n",
       "L 318.765345 205.494064 \n",
       "L 320.822728 208.716279 \n",
       "L 322.880111 210.166572 \n",
       "L 324.937494 211.35119 \n",
       "L 326.994876 213.067444 \n",
       "L 329.052259 214.978746 \n",
       "L 333.167025 216.175332 \n",
       "L 335.224408 216.962778 \n",
       "L 337.281791 217.589523 \n",
       "L 339.339174 219.318521 \n",
       "L 341.396557 220.262218 \n",
       "L 343.453939 219.704781 \n",
       "L 345.511322 219.312131 \n",
       "L 349.626088 220.104697 \n",
       "L 353.740854 223.010068 \n",
       "L 355.798237 223.521292 \n",
       "L 359.913003 225.049115 \n",
       "L 361.970385 224.968948 \n",
       "L 366.085151 225.253033 \n",
       "L 368.142534 225.150806 \n",
       "L 370.199917 225.782105 \n",
       "L 374.314683 225.342966 \n",
       "L 376.372066 225.357928 \n",
       "L 378.429449 224.895306 \n",
       "L 380.486831 225.040708 \n",
       "L 382.544214 224.261108 \n",
       "L 384.601597 223.860464 \n",
       "L 386.65898 224.670837 \n",
       "L 388.716363 226.299552 \n",
       "L 390.773746 229.795955 \n",
       "L 392.831129 238.199461 \n",
       "L 394.888512 249.870494 \n",
       "L 396.945895 257.653892 \n",
       "L 399.003277 261.113158 \n",
       "L 401.06066 262.666405 \n",
       "L 403.118043 264.006781 \n",
       "L 405.175426 264.672872 \n",
       "L 407.232809 264.53679 \n",
       "L 409.290192 264.910616 \n",
       "L 411.347575 264.894762 \n",
       "L 413.404958 264.366076 \n",
       "L 417.519723 264.958562 \n",
       "L 419.577106 264.766263 \n",
       "L 421.634489 264.974727 \n",
       "L 423.691872 265.451376 \n",
       "L 425.749255 265.564363 \n",
       "L 427.806638 265.36759 \n",
       "L 429.864021 264.979889 \n",
       "L 431.921404 264.440634 \n",
       "L 433.978786 264.22067 \n",
       "L 436.036169 263.737586 \n",
       "L 438.093552 262.130818 \n",
       "L 440.150935 260.016509 \n",
       "L 442.208318 257.188613 \n",
       "L 444.265701 254.023729 \n",
       "L 446.323084 248.66602 \n",
       "L 448.380467 239.946256 \n",
       "L 450.43785 227.743238 \n",
       "L 452.495232 219.698536 \n",
       "L 454.552615 214.26308 \n",
       "L 456.609998 203.480863 \n",
       "L 458.667381 189.5781 \n",
       "L 460.724764 177.64871 \n",
       "L 462.782147 169.887646 \n",
       "L 464.83953 166.815447 \n",
       "L 466.896913 164.828849 \n",
       "L 468.954296 163.350526 \n",
       "L 471.011678 161.671682 \n",
       "L 473.069061 161.037187 \n",
       "L 475.126444 162.552564 \n",
       "L 477.183827 163.865732 \n",
       "L 481.298593 159.733994 \n",
       "L 483.355976 160.270616 \n",
       "L 485.413359 161.758804 \n",
       "L 487.470741 159.197354 \n",
       "L 489.528124 156.174947 \n",
       "L 491.585507 158.440696 \n",
       "L 497.757656 177.439881 \n",
       "L 499.815039 185.196445 \n",
       "L 501.872422 191.543648 \n",
       "L 503.929805 197.397863 \n",
       "L 505.987187 202.634466 \n",
       "L 508.04457 207.534226 \n",
       "L 510.101953 211.255829 \n",
       "L 512.159336 213.690405 \n",
       "L 514.216719 215.385031 \n",
       "L 516.274102 217.807449 \n",
       "L 518.331485 218.069964 \n",
       "L 520.388868 218.769802 \n",
       "L 522.446251 220.613107 \n",
       "L 524.503633 220.230722 \n",
       "L 526.561016 218.234815 \n",
       "L 528.618399 217.956665 \n",
       "L 530.675782 218.30568 \n",
       "L 532.733165 217.554985 \n",
       "L 534.790548 216.303206 \n",
       "L 536.847931 215.662373 \n",
       "L 536.847931 215.662373 \n",
       "\" style=\"fill:none;stroke:#0000ff;stroke-linecap:square;stroke-width:1.5;\"/>\n",
       "   </g>\n",
       "   <g id=\"line2d_14\">\n",
       "    <path clip-path=\"url(#p787ec9fde8)\" d=\"M 538.493837 242.165461 \n",
       "L 536.436454 240.84972 \n",
       "L 534.379071 240.955929 \n",
       "L 532.321688 240.261695 \n",
       "L 530.264306 238.606043 \n",
       "L 526.14954 234.718736 \n",
       "L 524.092157 233.549689 \n",
       "L 522.034774 232.167007 \n",
       "L 519.977391 230.523947 \n",
       "L 517.920008 228.568462 \n",
       "L 515.862625 224.987948 \n",
       "L 511.74786 217.25882 \n",
       "L 509.690477 212.442857 \n",
       "L 507.633094 208.178701 \n",
       "L 505.575711 203.551211 \n",
       "L 503.518328 194.390824 \n",
       "L 501.460945 182.162478 \n",
       "L 499.403562 167.941456 \n",
       "L 497.346179 156.414045 \n",
       "L 495.288796 149.014934 \n",
       "L 493.231414 146.214153 \n",
       "L 491.174031 145.104568 \n",
       "L 489.116648 143.696531 \n",
       "L 487.059265 144.253831 \n",
       "L 485.001882 144.997162 \n",
       "L 482.944499 146.256041 \n",
       "L 480.887116 149.483789 \n",
       "L 478.829733 151.355695 \n",
       "L 476.77235 152.852658 \n",
       "L 474.714968 155.664197 \n",
       "L 472.657585 159.412191 \n",
       "L 470.600202 160.490376 \n",
       "L 468.542819 161.337982 \n",
       "L 466.485436 166.646508 \n",
       "L 464.428053 176.734569 \n",
       "L 462.37067 194.310926 \n",
       "L 458.255905 248.379654 \n",
       "L 456.198522 261.174094 \n",
       "L 454.141139 264.419092 \n",
       "L 452.083756 265.435139 \n",
       "L 450.026373 265.810398 \n",
       "L 441.796841 265.335401 \n",
       "L 439.739459 265.397285 \n",
       "L 435.624693 265.679535 \n",
       "L 433.56731 265.435925 \n",
       "L 431.509927 266.192274 \n",
       "L 429.452544 266.294769 \n",
       "L 427.395161 265.1033 \n",
       "L 425.337778 264.659101 \n",
       "L 423.280395 265.256769 \n",
       "L 421.223013 265.728915 \n",
       "L 419.16563 265.711384 \n",
       "L 417.108247 265.359473 \n",
       "L 415.050864 265.358452 \n",
       "L 412.993481 266.040772 \n",
       "L 408.878715 265.774855 \n",
       "L 406.821332 266.009051 \n",
       "L 402.706567 264.992248 \n",
       "L 400.649184 264.761368 \n",
       "L 398.591801 264.163409 \n",
       "L 396.534418 261.036322 \n",
       "L 394.477035 252.42444 \n",
       "L 392.419652 243.131363 \n",
       "L 390.362269 238.445671 \n",
       "L 388.304886 236.799081 \n",
       "L 386.247504 235.644321 \n",
       "L 384.190121 235.733171 \n",
       "L 382.132738 236.098342 \n",
       "L 380.075355 236.729238 \n",
       "L 378.017972 236.649943 \n",
       "L 375.960589 235.910465 \n",
       "L 373.903206 236.633391 \n",
       "L 371.845823 237.038625 \n",
       "L 369.78844 236.086034 \n",
       "L 363.616292 236.26398 \n",
       "L 361.558909 235.494976 \n",
       "L 359.501526 235.129949 \n",
       "L 357.444143 235.110548 \n",
       "L 353.329377 233.805478 \n",
       "L 351.271994 233.411302 \n",
       "L 349.214612 232.793043 \n",
       "L 347.157229 230.990728 \n",
       "L 343.042463 230.403507 \n",
       "L 340.98508 228.909617 \n",
       "L 338.927697 227.261637 \n",
       "L 336.870314 226.399651 \n",
       "L 334.812931 225.405049 \n",
       "L 332.755548 223.68309 \n",
       "L 326.5834 217.608877 \n",
       "L 324.526017 215.056813 \n",
       "L 322.468634 211.96526 \n",
       "L 320.411251 207.819398 \n",
       "L 318.353868 204.141313 \n",
       "L 316.296485 201.599716 \n",
       "L 314.239103 197.198742 \n",
       "L 312.18172 189.725776 \n",
       "L 310.124337 183.977286 \n",
       "L 306.009571 173.253668 \n",
       "L 303.952188 165.962995 \n",
       "L 299.837422 149.950302 \n",
       "L 297.780039 145.808989 \n",
       "L 295.722657 135.207625 \n",
       "L 293.665274 126.697785 \n",
       "L 291.607891 123.54362 \n",
       "L 289.550508 113.059177 \n",
       "L 287.493125 108.902656 \n",
       "L 285.435742 112.604096 \n",
       "L 283.378359 121.695984 \n",
       "L 279.263593 147.074007 \n",
       "L 277.206211 157.913769 \n",
       "L 273.091445 176.165845 \n",
       "L 271.034062 183.32636 \n",
       "L 268.976679 189.190101 \n",
       "L 266.919296 193.952572 \n",
       "L 264.861913 197.931922 \n",
       "L 262.80453 203.053167 \n",
       "L 260.747147 207.624494 \n",
       "L 256.632382 213.263348 \n",
       "L 254.574999 216.150723 \n",
       "L 252.517616 218.775451 \n",
       "L 250.460233 220.676472 \n",
       "L 244.288084 224.261644 \n",
       "L 242.230702 225.534513 \n",
       "L 240.173319 226.666586 \n",
       "L 238.115936 228.234704 \n",
       "L 234.00117 230.477845 \n",
       "L 229.886404 229.952222 \n",
       "L 227.829021 231.074882 \n",
       "L 225.771638 231.866411 \n",
       "L 221.656873 231.993433 \n",
       "L 219.59949 232.359197 \n",
       "L 217.542107 233.331107 \n",
       "L 215.484724 233.88443 \n",
       "L 213.427341 234.249489 \n",
       "L 211.369958 233.940289 \n",
       "L 209.312575 234.477379 \n",
       "L 207.255192 234.865923 \n",
       "L 205.19781 234.340119 \n",
       "L 203.140427 234.292454 \n",
       "L 201.083044 235.298597 \n",
       "L 199.025661 235.387585 \n",
       "L 196.968278 235.657068 \n",
       "L 194.910895 236.808772 \n",
       "L 192.853512 236.857275 \n",
       "L 190.796129 236.115411 \n",
       "L 188.738746 234.93775 \n",
       "L 186.681364 234.783454 \n",
       "L 184.623981 234.908122 \n",
       "L 182.566598 234.471283 \n",
       "L 178.451832 234.746115 \n",
       "L 176.394449 234.184053 \n",
       "L 174.337066 233.751555 \n",
       "L 172.279683 233.568317 \n",
       "L 170.222301 233.072542 \n",
       "L 168.164918 233.064758 \n",
       "L 166.107535 232.591361 \n",
       "L 164.050152 231.586839 \n",
       "L 159.935386 230.819154 \n",
       "L 157.878003 230.094489 \n",
       "L 155.82062 229.632909 \n",
       "L 153.763237 228.937295 \n",
       "L 151.705855 227.439884 \n",
       "L 145.533706 225.105942 \n",
       "L 143.476323 224.614324 \n",
       "L 141.41894 222.677884 \n",
       "L 139.361557 220.285989 \n",
       "L 135.246791 216.827795 \n",
       "L 131.132026 214.722513 \n",
       "L 127.01726 207.93007 \n",
       "L 124.959877 205.35365 \n",
       "L 122.902494 202.459281 \n",
       "L 120.845111 198.921446 \n",
       "L 118.787728 194.056856 \n",
       "L 116.730345 188.040923 \n",
       "L 114.672963 185.377559 \n",
       "L 112.61558 185.508928 \n",
       "L 110.558197 186.062825 \n",
       "L 108.500814 185.385617 \n",
       "L 106.443431 183.949744 \n",
       "L 104.386048 183.755344 \n",
       "L 102.328665 184.037714 \n",
       "L 100.271282 183.651113 \n",
       "L 98.2139 181.656228 \n",
       "L 96.156517 181.735562 \n",
       "L 94.099134 184.631381 \n",
       "L 92.041751 186.85915 \n",
       "L 89.984368 186.480104 \n",
       "L 87.926985 185.222328 \n",
       "L 85.869602 186.171102 \n",
       "L 83.812219 186.217095 \n",
       "L 81.754836 184.941835 \n",
       "L 79.697454 184.370723 \n",
       "L 77.640071 187.780119 \n",
       "L 75.582688 190.799515 \n",
       "L 73.525305 194.782829 \n",
       "L 71.467922 200.512405 \n",
       "L 67.353156 213.013129 \n",
       "L 65.295773 218.714853 \n",
       "L 59.123625 230.735278 \n",
       "L 57.066242 234.660467 \n",
       "L 55.008859 237.485503 \n",
       "L 52.951476 239.09623 \n",
       "L 48.83671 241.65858 \n",
       "L 38.549796 245.688646 \n",
       "L 36.492413 245.952034 \n",
       "L 36.492413 245.952034 \n",
       "\" style=\"fill:none;stroke:#ff0000;stroke-linecap:square;stroke-width:1.5;\"/>\n",
       "   </g>\n",
       "   <g id=\"line2d_15\">\n",
       "    <path clip-path=\"url(#p787ec9fde8)\" d=\"M 537.670884 224.460923 \n",
       "L 533.556118 218.159703 \n",
       "L 531.498735 214.321787 \n",
       "L 529.441352 208.506521 \n",
       "L 527.383969 203.451722 \n",
       "L 525.326587 199.922576 \n",
       "L 523.269204 194.29954 \n",
       "L 521.211821 187.011857 \n",
       "L 517.097055 174.437165 \n",
       "L 515.039672 171.095236 \n",
       "L 512.982289 170.789277 \n",
       "L 510.924906 168.783624 \n",
       "L 508.867523 166.382415 \n",
       "L 506.810141 162.412609 \n",
       "L 504.752758 157.597912 \n",
       "L 502.695375 151.888837 \n",
       "L 500.637992 147.489081 \n",
       "L 496.523226 135.792771 \n",
       "L 494.465843 132.194723 \n",
       "L 492.40846 129.48436 \n",
       "L 490.351078 124.162003 \n",
       "L 488.293695 121.724842 \n",
       "L 486.236312 123.966519 \n",
       "L 484.178929 123.854126 \n",
       "L 482.121546 124.364872 \n",
       "L 480.064163 127.388802 \n",
       "L 478.00678 128.541948 \n",
       "L 475.949397 129.104191 \n",
       "L 473.892014 132.075967 \n",
       "L 471.834632 136.649922 \n",
       "L 469.777249 140.044261 \n",
       "L 467.719866 143.893077 \n",
       "L 465.662483 152.194835 \n",
       "L 463.6051 159.394942 \n",
       "L 461.547717 170.883885 \n",
       "L 459.490334 193.443319 \n",
       "L 457.432951 228.581263 \n",
       "L 455.375568 254.684062 \n",
       "L 453.318186 263.216238 \n",
       "L 451.260803 264.907496 \n",
       "L 449.20342 265.78008 \n",
       "L 447.146037 265.961738 \n",
       "L 445.088654 265.533452 \n",
       "L 443.031271 265.692139 \n",
       "L 440.973888 265.479893 \n",
       "L 438.916505 265.656448 \n",
       "L 434.80174 266.645455 \n",
       "L 432.744357 266.537384 \n",
       "L 430.686974 265.745823 \n",
       "L 428.629591 265.291273 \n",
       "L 424.514825 265.450639 \n",
       "L 422.457442 265.359596 \n",
       "L 418.342677 266.124126 \n",
       "L 416.285294 265.876746 \n",
       "L 414.227911 265.22701 \n",
       "L 410.113145 265.916551 \n",
       "L 408.055762 266.186432 \n",
       "L 405.998379 265.716583 \n",
       "L 403.940996 265.419183 \n",
       "L 401.883613 265.386034 \n",
       "L 399.826231 265.70904 \n",
       "L 397.768848 265.580718 \n",
       "L 395.711465 263.0856 \n",
       "L 393.654082 253.566662 \n",
       "L 391.596699 238.456396 \n",
       "L 389.539316 230.137376 \n",
       "L 387.481933 227.923818 \n",
       "L 385.42455 228.207169 \n",
       "L 383.367167 229.188996 \n",
       "L 379.252402 229.181157 \n",
       "L 375.137636 229.659482 \n",
       "L 373.080253 230.660951 \n",
       "L 371.02287 230.737744 \n",
       "L 368.965487 229.755237 \n",
       "L 366.908104 229.288149 \n",
       "L 364.850721 229.37933 \n",
       "L 360.735956 228.434202 \n",
       "L 354.563807 226.264743 \n",
       "L 352.506424 225.786186 \n",
       "L 350.449041 225.866044 \n",
       "L 348.391658 225.61232 \n",
       "L 344.276893 224.655997 \n",
       "L 342.21951 222.857647 \n",
       "L 340.162127 220.192937 \n",
       "L 338.104744 218.99394 \n",
       "L 336.047361 219.307902 \n",
       "L 333.989978 218.050842 \n",
       "L 331.932595 214.895121 \n",
       "L 329.875212 210.807741 \n",
       "L 327.81783 208.256983 \n",
       "L 325.760447 206.948001 \n",
       "L 323.703064 204.094832 \n",
       "L 321.645681 200.243545 \n",
       "L 319.588298 195.752306 \n",
       "L 317.530915 190.444248 \n",
       "L 315.473532 184.340381 \n",
       "L 313.416149 177.094028 \n",
       "L 311.358766 169.315429 \n",
       "L 307.244001 149.312804 \n",
       "L 305.186618 136.245929 \n",
       "L 303.129235 119.626712 \n",
       "L 301.071852 105.234096 \n",
       "L 299.014469 88.535747 \n",
       "L 296.957086 68.892631 \n",
       "L 292.842321 37.009858 \n",
       "L 290.784938 28.833238 \n",
       "L 286.670172 19.554545 \n",
       "L 284.612789 34.112453 \n",
       "L 282.555406 58.067992 \n",
       "L 280.498023 80.16888 \n",
       "L 278.44064 100.696276 \n",
       "L 276.383257 119.777587 \n",
       "L 274.325875 134.952667 \n",
       "L 270.211109 157.829057 \n",
       "L 268.153726 165.940695 \n",
       "L 266.096343 171.685639 \n",
       "L 264.03896 179.148145 \n",
       "L 261.981577 186.008488 \n",
       "L 259.924194 190.432963 \n",
       "L 257.866811 195.434575 \n",
       "L 255.809429 200.816642 \n",
       "L 253.752046 205.301491 \n",
       "L 251.694663 207.361069 \n",
       "L 249.63728 209.08065 \n",
       "L 247.579897 211.423516 \n",
       "L 245.522514 214.274499 \n",
       "L 241.407748 220.356261 \n",
       "L 239.350365 221.590164 \n",
       "L 237.292983 222.036152 \n",
       "L 233.178217 224.212683 \n",
       "L 231.120834 225.736615 \n",
       "L 229.063451 226.69288 \n",
       "L 224.948685 226.179595 \n",
       "L 222.891302 226.321851 \n",
       "L 220.83392 227.477375 \n",
       "L 218.776537 228.243371 \n",
       "L 216.719154 228.743093 \n",
       "L 212.604388 228.963816 \n",
       "L 210.547005 228.80697 \n",
       "L 208.489622 228.809831 \n",
       "L 206.432239 229.340871 \n",
       "L 204.374856 228.798143 \n",
       "L 202.317474 228.621749 \n",
       "L 198.202708 229.516218 \n",
       "L 196.145325 229.262809 \n",
       "L 194.087942 229.323033 \n",
       "L 192.030559 228.888827 \n",
       "L 189.973176 228.33325 \n",
       "L 187.915793 227.507903 \n",
       "L 185.85841 227.42516 \n",
       "L 183.801028 228.160891 \n",
       "L 181.743645 228.110116 \n",
       "L 179.686262 227.208462 \n",
       "L 175.571496 226.281443 \n",
       "L 171.45673 224.315592 \n",
       "L 169.399347 225.113867 \n",
       "L 167.341964 225.257248 \n",
       "L 165.284582 223.865452 \n",
       "L 163.227199 222.787126 \n",
       "L 161.169816 222.668628 \n",
       "L 159.112433 221.951674 \n",
       "L 157.05505 221.535541 \n",
       "L 154.997667 220.529735 \n",
       "L 152.940284 219.705403 \n",
       "L 150.882901 218.515923 \n",
       "L 148.825519 216.569343 \n",
       "L 146.768136 215.713186 \n",
       "L 142.65337 215.395785 \n",
       "L 140.595987 214.186253 \n",
       "L 138.538604 212.534785 \n",
       "L 136.481221 210.459759 \n",
       "L 134.423838 209.116459 \n",
       "L 132.366455 207.466156 \n",
       "L 130.309073 206.037125 \n",
       "L 128.25169 203.622757 \n",
       "L 126.194307 200.475399 \n",
       "L 124.136924 198.169618 \n",
       "L 122.079541 195.691242 \n",
       "L 120.022158 192.466747 \n",
       "L 117.964775 188.95596 \n",
       "L 115.907392 184.359407 \n",
       "L 113.850009 178.901691 \n",
       "L 111.792627 175.169804 \n",
       "L 107.677861 173.661217 \n",
       "L 105.620478 170.281408 \n",
       "L 101.505712 165.036151 \n",
       "L 99.448329 164.182364 \n",
       "L 97.390946 163.077786 \n",
       "L 95.333563 161.15935 \n",
       "L 93.276181 159.693259 \n",
       "L 91.218798 156.414733 \n",
       "L 89.161415 154.616616 \n",
       "L 87.104032 155.376474 \n",
       "L 85.046649 155.002338 \n",
       "L 82.989266 151.74432 \n",
       "L 80.931883 150.776282 \n",
       "L 78.8745 152.916037 \n",
       "L 76.817118 155.293972 \n",
       "L 74.759735 156.697966 \n",
       "L 72.702352 159.809169 \n",
       "L 70.644969 163.167999 \n",
       "L 68.587586 169.330625 \n",
       "L 66.530203 177.701334 \n",
       "L 62.415437 195.908718 \n",
       "L 60.358054 203.556562 \n",
       "L 58.300672 210.239549 \n",
       "L 56.243289 215.724173 \n",
       "L 54.185906 219.663775 \n",
       "L 52.128523 223.352471 \n",
       "L 50.07114 225.91331 \n",
       "L 45.956374 231.891441 \n",
       "L 43.898991 232.996451 \n",
       "L 41.841608 233.074608 \n",
       "L 39.784226 234.471662 \n",
       "L 37.726843 235.66639 \n",
       "L 37.726843 235.66639 \n",
       "\" style=\"fill:none;stroke:#008000;stroke-linecap:square;stroke-width:1.5;\"/>\n",
       "   </g>\n",
       "   <g id=\"patch_3\">\n",
       "    <path d=\"M 36.393125 279 \n",
       "L 36.393125 7.2 \n",
       "\" style=\"fill:none;stroke:#000000;stroke-linecap:square;stroke-linejoin:miter;stroke-width:0.8;\"/>\n",
       "   </g>\n",
       "   <g id=\"patch_4\">\n",
       "    <path d=\"M 538.593125 279 \n",
       "L 538.593125 7.2 \n",
       "\" style=\"fill:none;stroke:#000000;stroke-linecap:square;stroke-linejoin:miter;stroke-width:0.8;\"/>\n",
       "   </g>\n",
       "   <g id=\"patch_5\">\n",
       "    <path d=\"M 36.393125 279 \n",
       "L 538.593125 279 \n",
       "\" style=\"fill:none;stroke:#000000;stroke-linecap:square;stroke-linejoin:miter;stroke-width:0.8;\"/>\n",
       "   </g>\n",
       "   <g id=\"patch_6\">\n",
       "    <path d=\"M 36.393125 7.2 \n",
       "L 538.593125 7.2 \n",
       "\" style=\"fill:none;stroke:#000000;stroke-linecap:square;stroke-linejoin:miter;stroke-width:0.8;\"/>\n",
       "   </g>\n",
       "   <g id=\"legend_1\">\n",
       "    <g id=\"patch_7\">\n",
       "     <path d=\"M 422.673125 67.723125 \n",
       "L 530.193125 67.723125 \n",
       "Q 532.593125 67.723125 532.593125 65.323125 \n",
       "L 532.593125 15.6 \n",
       "Q 532.593125 13.2 530.193125 13.2 \n",
       "L 422.673125 13.2 \n",
       "Q 420.273125 13.2 420.273125 15.6 \n",
       "L 420.273125 65.323125 \n",
       "Q 420.273125 67.723125 422.673125 67.723125 \n",
       "z\n",
       "\" style=\"fill:#ffffff;opacity:0.8;stroke:#cccccc;stroke-linejoin:miter;\"/>\n",
       "    </g>\n",
       "    <g id=\"line2d_16\">\n",
       "     <path d=\"M 425.073125 22.389375 \n",
       "L 449.073125 22.389375 \n",
       "\" style=\"fill:none;stroke:#0000ff;stroke-linecap:square;stroke-width:1.5;\"/>\n",
       "    </g>\n",
       "    <g id=\"line2d_17\"/>\n",
       "    <g id=\"text_15\">\n",
       "     <!-- 0.81$\\pm 0.01^\\circ$ -->\n",
       "     <g transform=\"translate(458.673125 26.589375)\">\n",
       "      <text>\n",
       "       <tspan style=\"font-family:Arial;font-size:12px;font-style:regular;font-weight:regular;\" x=\"0 6.673828 10.007812 16.681641\" y=\"-0.09375\">0.81</tspan>\n",
       "       <tspan style=\"font-family:DejaVu Sans;font-size:12px;font-style:book;font-weight:book;\" x=\"23.355469 33.410156 41.044922 44.859375 52.494141\" y=\"-0.09375\">±0.01</tspan>\n",
       "       <tspan style=\"font-family:DejaVu Sans;font-size:8.4px;font-style:book;font-weight:book;\" x=\"61.880273\" y=\"-4.6875\">∘</tspan>\n",
       "      </text>\n",
       "     </g>\n",
       "    </g>\n",
       "    <g id=\"line2d_18\">\n",
       "     <path d=\"M 425.073125 39.36375 \n",
       "L 449.073125 39.36375 \n",
       "\" style=\"fill:none;stroke:#ff0000;stroke-linecap:square;stroke-width:1.5;\"/>\n",
       "    </g>\n",
       "    <g id=\"line2d_19\"/>\n",
       "    <g id=\"text_16\">\n",
       "     <!-- 0.80$\\pm 0.01^\\circ$ -->\n",
       "     <g transform=\"translate(458.673125 43.56375)\">\n",
       "      <text>\n",
       "       <tspan style=\"font-family:Arial;font-size:12px;font-style:regular;font-weight:regular;\" x=\"0 6.673828 10.007812 16.681641\" y=\"-0.09375\">0.80</tspan>\n",
       "       <tspan style=\"font-family:DejaVu Sans;font-size:12px;font-style:book;font-weight:book;\" x=\"23.355469 33.410156 41.044922 44.859375 52.494141\" y=\"-0.09375\">±0.01</tspan>\n",
       "       <tspan style=\"font-family:DejaVu Sans;font-size:8.4px;font-style:book;font-weight:book;\" x=\"61.880273\" y=\"-4.6875\">∘</tspan>\n",
       "      </text>\n",
       "     </g>\n",
       "    </g>\n",
       "    <g id=\"line2d_20\">\n",
       "     <path d=\"M 425.073125 56.338125 \n",
       "L 449.073125 56.338125 \n",
       "\" style=\"fill:none;stroke:#008000;stroke-linecap:square;stroke-width:1.5;\"/>\n",
       "    </g>\n",
       "    <g id=\"line2d_21\"/>\n",
       "    <g id=\"text_17\">\n",
       "     <!-- 0.82$\\pm 0.01^\\circ$ -->\n",
       "     <g transform=\"translate(458.673125 60.538125)\">\n",
       "      <text>\n",
       "       <tspan style=\"font-family:Arial;font-size:12px;font-style:regular;font-weight:regular;\" x=\"0 6.673828 10.007812 16.681641\" y=\"-0.09375\">0.82</tspan>\n",
       "       <tspan style=\"font-family:DejaVu Sans;font-size:12px;font-style:book;font-weight:book;\" x=\"23.355469 33.410156 41.044922 44.859375 52.494141\" y=\"-0.09375\">±0.01</tspan>\n",
       "       <tspan style=\"font-family:DejaVu Sans;font-size:8.4px;font-style:book;font-weight:book;\" x=\"61.880273\" y=\"-4.6875\">∘</tspan>\n",
       "      </text>\n",
       "     </g>\n",
       "    </g>\n",
       "   </g>\n",
       "  </g>\n",
       " </g>\n",
       " <defs>\n",
       "  <clipPath id=\"p787ec9fde8\">\n",
       "   <rect height=\"271.8\" width=\"502.2\" x=\"36.393125\" y=\"7.2\"/>\n",
       "  </clipPath>\n",
       " </defs>\n",
       "</svg>\n"
      ],
      "text/plain": [
       "<Figure size 2700x1500 with 1 Axes>"
      ]
     },
     "metadata": {
      "needs_background": "light"
     },
     "output_type": "display_data"
    }
   ],
   "source": [
    "sl = 12.2\n",
    "C = sl*1.602e-19**2/6.626e-34\n",
    "V03738 = 0.34\n",
    "V03839 = 0.05\n",
    "V03940 = 0.12\n",
    "n3738 = C/1.602e-19*(Vgate3738-V03738)/10**16\n",
    "n3839 = C/1.602e-19*(Vgate3839-V03839)/10**16\n",
    "n3940 = C/1.602e-19*(Vgate3940-V03940)/10**16\n",
    "\n",
    "plt.figure(figsize=(9, 5))\n",
    "ng = 0.8\n",
    "xmin, xmax = -1.8, 1.8\n",
    "plt.plot(np.ma.masked_outside(n3738, xmin, xmax), gaussian_filter(R3738, ng)/1000, 'b', label='0.81$\\pm 0.01^\\circ$')\n",
    "plt.plot(np.ma.masked_outside(n3839, xmin, xmax), gaussian_filter(R3839, ng)/1000, 'r', label='0.80$\\pm 0.01^\\circ$')\n",
    "plt.plot(np.ma.masked_outside(n3940, xmin, xmax), gaussian_filter(R3940, ng)/1000, 'g', label='0.82$\\pm 0.01^\\circ$')\n",
    "# plt.ylim(-0.0001, 0.005)\n",
    "plt.xlim(-1.8, 1.8)\n",
    "# plt.ylim(100, 1e4)\n",
    "plt.legend()\n",
    "plt.xlabel('n (10$^{12}$ cm$^{-2}$)')\n",
    "plt.ylabel('R$_{xx}$ (k$\\Omega$)')\n",
    "# plt.savefig(figfile + 'W5_multipleelectrodesRxx.svg', dpi=300, bbox_inches='tight')"
   ]
  },
  {
   "cell_type": "markdown",
   "metadata": {
    "Collapsed": "false"
   },
   "source": [
    "## Landau Fans"
   ]
  },
  {
   "cell_type": "code",
   "execution_count": 15,
   "metadata": {
    "Collapsed": "false"
   },
   "outputs": [],
   "source": [
    "dw5fan2 = qc.load_data('data/2020-02-03/#015_W5_865_39-38Rxx_830_38-37Rxx_baseT_2nA_B-Vgsweep_17-50-07')\n",
    "gw5fan2 = dw5fan2.srframe_volt_p1_set[0, :]\n",
    "bw5fan2 = dw5fan2.triton_field_set_stable_set[:]\n",
    "R3938fan2 = npd.Rxxfromdata(dw5fan2, 2e-9, instrument='lockin865')\n",
    "R3837fan2 = npd.Rxxfromdata(dw5fan2, 2e-9, instrument='lockin830')"
   ]
  },
  {
   "cell_type": "code",
   "execution_count": 16,
   "metadata": {
    "Collapsed": "false"
   },
   "outputs": [],
   "source": [
    "dw5fan3 = qc.load_data('data/2020-02-05/#003_W5_865_40-39Rxx_830_40-32Rxy_baseT_2nA_B-Vgsweep_09-38-51')\n",
    "gw5fan3 = dw5fan3.srframe_volt_p1_set[0, :]\n",
    "bw5fan3 = dw5fan3.triton_field_set_stable_set[:]\n",
    "R4039fan3 = npd.Rxxfromdata(dw5fan3, 2e-9, instrument='lockin865')"
   ]
  },
  {
   "cell_type": "code",
   "execution_count": 17,
   "metadata": {
    "Collapsed": "false"
   },
   "outputs": [
    {
     "data": {
      "application/vnd.jupyter.widget-view+json": {
       "model_id": "d93752c2bbe14b5295882494f8a97d7c",
       "version_major": 2,
       "version_minor": 0
      },
      "text/plain": [
       "Canvas(toolbar=Toolbar(toolitems=[('Home', 'Reset original view', 'home', 'home'), ('Back', 'Back to previous …"
      ]
     },
     "metadata": {},
     "output_type": "display_data"
    },
    {
     "data": {
      "text/plain": [
       "(-7, 7)"
      ]
     },
     "execution_count": 17,
     "metadata": {},
     "output_type": "execute_result"
    }
   ],
   "source": [
    "fig, ax = plt.subplots(3, 1, figsize=(11, 13))\n",
    "p1 = ax[0].pcolormesh(gw5fan2, bw5fan2, R3938fan2/1000, cmap=cc.cm.linear_kryw_5_100_c64, norm=DivergingNorm(8, 0, 40))\n",
    "plt.colorbar(p1, ax=ax[0])\n",
    "ax[0].set_title('39-38')\n",
    "p2 = ax[1].pcolormesh(gw5fan2, bw5fan2, R3837fan2/1000, cmap=cc.cm.linear_kryw_5_100_c64, norm=DivergingNorm(8, -2, 50))\n",
    "plt.colorbar(p2, ax=ax[1])\n",
    "ax[1].set_title('38-37')\n",
    "p3 = ax[2].pcolormesh(gw5fan3, bw5fan3, R4039fan3/1000, cmap=cc.cm.linear_kryw_5_100_c64, norm=DivergingNorm(8, -2, 50))\n",
    "plt.colorbar(p3, ax=ax[2])\n",
    "ax[1].set_title('40-39')\n",
    "plt.tight_layout()\n",
    "\n",
    "Bl = 7\n",
    "Bs = 0\n",
    "V0 = 0.34\n",
    "sl = 12.2\n",
    "b = -V0*sl\n",
    "\n",
    "for i in [-15, -14, -12, -10, -8, -6, -4, -2, -1, 2, 3, 4, 6, 8, 10, 14]:\n",
    "    x = np.array([(Bs*i - b)/sl, (Bl*i - b)/sl])\n",
    "    ax[0].plot(x, (x*sl + b)/i, color='white', lw=0.5)\n",
    "    \n",
    "# negative full filling\n",
    "Vfn = -4.87\n",
    "bfn = -Vfn*sl\n",
    "\n",
    "for i in [-9, -7, -5, 2, 4, 6, 8]:\n",
    "    x = np.array([(Bs*i - bfn)/sl, (Bl*i - bfn)/sl])\n",
    "    ax[0].plot(x, (x*sl + bfn)/i, color='white', lw=0.5)\n",
    "\n",
    "# why is this filling different from negative full filling?\n",
    "Vfp = 5.33\n",
    "bfp = -Vfp*sl\n",
    "\n",
    "for i in [-10, -6, -4, -2, 2, 3, 4, 6, 8]:\n",
    "    x = np.array([(Bs*i - bfp)/sl, (Bl*i - bfp)/sl])\n",
    "    ax[0].plot(x, (x*sl + bfp)/i, color='white', lw=0.5)\n",
    "    \n",
    "Vfph = (5.33-V0)/2 + V0\n",
    "bfph = -Vfph*sl\n",
    "\n",
    "for i in [1, 3, 5]:  # should this be on the maxima (even) or minima (odd)? \n",
    "    x = np.array([(Bs*i - bfph)/sl, (Bl*i - bfph)/sl])\n",
    "    ax[0].plot(x, (x*sl + bfph)/i, color='white', lw=0.5)\n",
    "\n",
    "# maybe... A little greater than 3/4 filling, it seems\n",
    "Vfp3q = 4.12\n",
    "bfp3q = -Vfp3q*sl\n",
    "\n",
    "for i in [-7, -4, -3, -2, -1]:\n",
    "    x = np.array([(Bs*i - bfp3q)/sl, (Bl*i - bfp3q)/sl])\n",
    "    ax[0].plot(x, (x*sl + bfp3q)/i, color='white', lw=0.5)\n",
    "    \n",
    "ax[0].vlines((-4.9, 5.45), 0, 7, color='white', lw = 0.7)\n",
    "\n",
    "ax[0].vlines((V0 - Vgatefull, V0, V0 + Vgatefull), 0, 7, color='black', lw=0.9)\n",
    "    \n",
    "ax[0].set_xlim(-7, 7)\n",
    "# ax[0].axis((0.3302532331144912, 6.954736397141387, 0.45718093968676854, 6.944018660446515))"
   ]
  },
  {
   "cell_type": "code",
   "execution_count": 24,
   "metadata": {
    "Collapsed": "false"
   },
   "outputs": [
    {
     "name": "stdout",
     "output_type": "stream",
     "text": [
      "effective capacitance: 4.7253e-04\n",
      "effective hBN thickness: 56.2 nm\n",
      "Full filling voltage difference: 5.1\n",
      "1.504322970117718\n",
      "theta:  0.8043843328776603\n"
     ]
    }
   ],
   "source": [
    "V0 = 0.34  # 39-38\n",
    "sl = 12.2\n",
    "b = -V0*sl\n",
    "Vfn = -4.87\n",
    "C = sl*1.602e-19**2/6.626e-34\n",
    "dBN = 3*8.85e-12/C\n",
    "print('effective capacitance: {:.4e}'.format(C))\n",
    "print('effective hBN thickness: {:.1f} nm'.format(dBN*10**9))\n",
    "\n",
    "Vgatefull = (Vfp - Vfn)/2  # take the average of the positive and negative sides, since they vary slightly\n",
    "print('Full filling voltage difference: {}'.format(Vgatefull))\n",
    "nfull = Vgatefull*C/1.602e-19/10**4\n",
    "print(nfull/10**12) #10**12 cm^-2\n",
    "a = 0.246e-9\n",
    "\n",
    "theta = np.sqrt(np.sqrt(3)*nfull*10**4*a**2/8)*180/np.pi\n",
    "print('theta: ', theta)"
   ]
  },
  {
   "cell_type": "code",
   "execution_count": null,
   "metadata": {
    "Collapsed": "false"
   },
   "outputs": [],
   "source": []
  },
  {
   "cell_type": "code",
   "execution_count": 25,
   "metadata": {
    "Collapsed": "false"
   },
   "outputs": [
    {
     "name": "stdout",
     "output_type": "stream",
     "text": [
      "0.8137926566622294\n"
     ]
    }
   ],
   "source": [
    "Va = (5.4 + 5.04)/2  # 38-37\n",
    "nf = Va*C/1.602e-19/10**4\n",
    "# print(nfull/10**12) #10**12 cm^-2\n",
    "a = 0.246e-9\n",
    "\n",
    "theta = np.sqrt(np.sqrt(3)*nf*10**4*a**2/8)*180/np.pi\n",
    "print(theta)"
   ]
  },
  {
   "cell_type": "code",
   "execution_count": 26,
   "metadata": {
    "Collapsed": "false"
   },
   "outputs": [
    {
     "name": "stdout",
     "output_type": "stream",
     "text": [
      "0.8260168641725809\n"
     ]
    }
   ],
   "source": [
    "Vb = (5.86 +4.896)/2  # 40-39\n",
    "nf = Vb*C/1.602e-19/10**4\n",
    "# print(nfull/10**12) #10**12 cm^-2\n",
    "a = 0.246e-9\n",
    "\n",
    "theta = np.sqrt(np.sqrt(3)*nf*10**4*a**2/8)*180/np.pi\n",
    "print(theta)"
   ]
  },
  {
   "cell_type": "code",
   "execution_count": 241,
   "metadata": {
    "Collapsed": "false"
   },
   "outputs": [
    {
     "data": {
      "text/plain": [
       "0.2749999999999999"
      ]
     },
     "execution_count": 241,
     "metadata": {},
     "output_type": "execute_result"
    }
   ],
   "source": [
    "(5.45 - 4.9)/2"
   ]
  },
  {
   "cell_type": "code",
   "execution_count": 253,
   "metadata": {
    "Collapsed": "false"
   },
   "outputs": [
    {
     "data": {
      "text/plain": [
       "5.24"
      ]
     },
     "execution_count": 253,
     "metadata": {},
     "output_type": "execute_result"
    }
   ],
   "source": [
    "V0 - -4.9"
   ]
  },
  {
   "cell_type": "code",
   "execution_count": 243,
   "metadata": {
    "Collapsed": "false"
   },
   "outputs": [
    {
     "data": {
      "text/plain": [
       "5.11"
      ]
     },
     "execution_count": 243,
     "metadata": {},
     "output_type": "execute_result"
    }
   ],
   "source": [
    "5.45 - 0.34"
   ]
  },
  {
   "cell_type": "code",
   "execution_count": 251,
   "metadata": {
    "Collapsed": "false"
   },
   "outputs": [
    {
     "data": {
      "text/plain": [
       "5.4399999999999995"
      ]
     },
     "execution_count": 251,
     "metadata": {},
     "output_type": "execute_result"
    }
   ],
   "source": [
    "V0 + Vgatefull"
   ]
  },
  {
   "cell_type": "code",
   "execution_count": 247,
   "metadata": {
    "Collapsed": "false"
   },
   "outputs": [],
   "source": [
    "nugatefan2 = np.interp(gw5fan2, [V0 - Vgatefull*6/4, V0, V0 + Vgatefull*6/4], [-6, 0, 6])"
   ]
  },
  {
   "cell_type": "code",
   "execution_count": 248,
   "metadata": {
    "Collapsed": "false"
   },
   "outputs": [
    {
     "name": "stderr",
     "output_type": "stream",
     "text": [
      "/Users/robertpolski/anaconda/envs/qcodes/lib/python3.7/site-packages/ipykernel_launcher.py:1: RuntimeWarning: More than 20 figures have been opened. Figures created through the pyplot interface (`matplotlib.pyplot.figure`) are retained until explicitly closed and may consume too much memory. (To control this warning, see the rcParam `figure.max_open_warning`).\n",
      "  \"\"\"Entry point for launching an IPython kernel.\n"
     ]
    },
    {
     "data": {
      "application/vnd.jupyter.widget-view+json": {
       "model_id": "1a5ec323361f4b8daf5cb0b4b1eed4b0",
       "version_major": 2,
       "version_minor": 0
      },
      "text/plain": [
       "Canvas(toolbar=Toolbar(toolitems=[('Home', 'Reset original view', 'home', 'home'), ('Back', 'Back to previous …"
      ]
     },
     "metadata": {},
     "output_type": "display_data"
    }
   ],
   "source": [
    "fig, ax = plt.subplots(1, 1, figsize=(11, 6))\n",
    "p1 = ax.pcolormesh(nugatefan2, bw5fan2, R3938fan2/1000, cmap=cc.cm.diverging_bwr_20_95_c54, norm=DivergingNorm(8, 0, 40))\n",
    "plt.colorbar(p1, ax=ax)\n",
    "plt.tight_layout()"
   ]
  },
  {
   "cell_type": "code",
   "execution_count": 218,
   "metadata": {
    "Collapsed": "false"
   },
   "outputs": [
    {
     "name": "stderr",
     "output_type": "stream",
     "text": [
      "/Users/robertpolski/anaconda/envs/qcodes/lib/python3.7/site-packages/ipykernel_launcher.py:2: RuntimeWarning: More than 20 figures have been opened. Figures created through the pyplot interface (`matplotlib.pyplot.figure`) are retained until explicitly closed and may consume too much memory. (To control this warning, see the rcParam `figure.max_open_warning`).\n",
      "  \n"
     ]
    },
    {
     "data": {
      "application/vnd.jupyter.widget-view+json": {
       "model_id": "8a53bd460347414dbc2efb379331d291",
       "version_major": 2,
       "version_minor": 0
      },
      "text/plain": [
       "Canvas(toolbar=Toolbar(toolitems=[('Home', 'Reset original view', 'home', 'home'), ('Back', 'Back to previous …"
      ]
     },
     "metadata": {},
     "output_type": "display_data"
    }
   ],
   "source": [
    "# Log scale\n",
    "fig, ax = plt.subplots(1, 1, figsize=(11, 6))\n",
    "p = ax.pcolormesh(nugatefan2, bw5fan2, R3938fan2/1000, cmap=cc.cm.diverging_bwr_20_95_c54, norm=npd.DivLogNorm(0.55, 0.5, 80))\n",
    "cb = plt.colorbar(p, ticks=ticker.LogLocator(subs=range(10)), ax=ax, format=ticker.LogFormatterMathtext(), label=r'$\\rho$'+'$_{xx}$ (k$\\Omega$)')\n",
    "plt.tight_layout()"
   ]
  },
  {
   "cell_type": "code",
   "execution_count": null,
   "metadata": {
    "Collapsed": "false"
   },
   "outputs": [],
   "source": []
  }
 ],
 "metadata": {
  "kernelspec": {
   "display_name": "qcodes",
   "language": "python",
   "name": "qcodes"
  },
  "language_info": {
   "codemirror_mode": {
    "name": "ipython",
    "version": 3
   },
   "file_extension": ".py",
   "mimetype": "text/x-python",
   "name": "python",
   "nbconvert_exporter": "python",
   "pygments_lexer": "ipython3",
   "version": "3.7.4"
  }
 },
 "nbformat": 4,
 "nbformat_minor": 4
}
