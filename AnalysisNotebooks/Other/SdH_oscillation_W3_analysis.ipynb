{
 "cells": [
  {
   "cell_type": "code",
   "execution_count": 1,
   "metadata": {
    "heading_collapsed": "false",
    "tags": []
   },
   "outputs": [],
   "source": [
    "import numpy as np\n",
    "import matplotlib.pyplot as plt\n",
    "from matplotlib.colors import LogNorm, SymLogNorm, TwoSlopeNorm\n",
    "import matplotlib.colors as colors\n",
    "plt.rcParams['figure.max_open_warning'] = 500\n",
    "import qcodes as qc\n",
    "import qcodes.instrument_drivers.nplab_drivers as npd\n",
    "from scipy.optimize import curve_fit\n",
    "from scipy.interpolate import interp2d, interp1d\n",
    "from os import path\n",
    "import colorcet as cc   # install quickly with \"conda install colorcet\"\n",
    "from scipy.interpolate import RectBivariateSpline\n",
    "from matplotlib import ticker\n",
    "from scipy.ndimage import gaussian_filter, uniform_filter\n",
    "import matplotlib as mpl\n",
    "from lmfit import Model\n",
    "import glob\n",
    "from scipy.special import digamma\n",
    "import scipy.signal.windows as windows"
   ]
  },
  {
   "cell_type": "code",
   "execution_count": 2,
   "metadata": {
    "heading_collapsed": "false"
   },
   "outputs": [],
   "source": [
    "plt.rcParams['svg.fonttype'] = 'none'\n",
    "plt.rcParams['figure.dpi'] = 300\n",
    "plt.rcParams['lines.markersize'] = 4\n",
    "%config InlineBackend.figure_format = 'svg'\n",
    "\n",
    "font = {\n",
    "                'family': 'Arial',\n",
    "                'size': 12,\n",
    "                'serif': 'Times',\n",
    "                'sans-serif': 'Arial'\n",
    "            }\n",
    "\n",
    "plt.rc('font', **font)"
   ]
  },
  {
   "cell_type": "code",
   "execution_count": 3,
   "metadata": {
    "heading_collapsed": "false"
   },
   "outputs": [
    {
     "name": "stdout",
     "output_type": "stream",
     "text": [
      "/Users/robertpolski/Documents/NPGroupResearch/Measurements/Triton/qcodes_data\n"
     ]
    }
   ],
   "source": [
    "cd .."
   ]
  },
  {
   "cell_type": "code",
   "execution_count": 4,
   "metadata": {
    "heading_collapsed": "false"
   },
   "outputs": [],
   "source": [
    "qc.DataSet.default_io.base_location = path.abspath('.')"
   ]
  },
  {
   "cell_type": "code",
   "execution_count": 5,
   "metadata": {
    "heading_collapsed": "false"
   },
   "outputs": [],
   "source": [
    "figfile = 'Figures/W3_SdH/'"
   ]
  },
  {
   "cell_type": "code",
   "execution_count": 6,
   "metadata": {
    "heading_collapsed": "false"
   },
   "outputs": [],
   "source": [
    "%matplotlib widget"
   ]
  },
  {
   "cell_type": "code",
   "execution_count": 7,
   "metadata": {
    "heading_collapsed": "false"
   },
   "outputs": [],
   "source": [
    "data_osm1 = qc.load_data('data/2020-04-04/#006_W3_865_48-24_830_47-48_baseT_fieldsweep_-0.5Vbg_15nA_16-25-36')\n",
    "data_os0 = qc.load_data('data/2020-04-04/#005_W3_865_48-24_830_47-48_baseT_fieldsweep_-0.6Vbg_15nA_13-42-31')\n",
    "data_os1 = qc.load_data('data/2020-04-04/#004_W3_865_48-24_830_47-48_baseT_fieldsweep_-0.7Vbg_15nA_06-46-20')\n",
    "data_os2 = qc.load_data('data/2020-04-04/#003_W3_865_48-24_830_47-48_baseT_fieldsweep_-0.8Vbg_15nA_04-45-00')\n",
    "data_os3 = qc.load_data('data/2020-04-03/#006_W3_865_48-24_830_47-48_baseT_fieldsweep_-0.9Vbg_15nA_11-18-14')\n",
    "data_os4 = qc.load_data('data/2020-04-04/#002_W3_865_48-24_830_47-48_baseT_fieldsweep_-1Vbg_15nA_02-43-43')\n",
    "data_os5 = qc.load_data('data/2020-04-03/#007_W3_865_48-24_830_47-48_baseT_fieldsweep_-1.1Vbg_15nA_13-26-29')\n",
    "data_os6 = qc.load_data('data/2020-04-03/#011_W3_865_48-24_830_47-48_baseT_fieldsweep_-1.2Vbg_15nA_22-41-04')\n",
    "data_os7 = qc.load_data('data/2020-04-03/#008_W3_865_48-24_830_47-48_baseT_fieldsweep_-1.3Vbg_15nA_15-42-14')\n",
    "data_os8 = qc.load_data('data/2020-04-03/#010_W3_865_48-24_830_47-48_baseT_fieldsweep_-1.4Vbg_15nA_20-39-45')\n",
    "data_os9 = qc.load_data('data/2020-04-03/#009_W3_865_48-24_830_47-48_baseT_fieldsweep_-1.5Vbg_15nA_17-55-23')\n",
    "data_os10 = qc.load_data('data/2020-04-04/#001_W3_865_48-24_830_47-48_baseT_fieldsweep_-1.6Vbg_15nA_00-42-23')\n",
    "data_os11 = qc.load_data('data/2020-04-04/#007_W3_865_48-24_830_47-48_baseT_fieldsweep_-1.7Vbg_15nA_18-49-39')\n",
    "data_os12 = qc.load_data('data/2020-04-04/#008_W3_865_48-24_830_47-48_baseT_fieldsweep_-1.8Vbg_15nA_20-53-28')\n",
    "data_os13 = qc.load_data('data/2020-04-05/#001_W3_865_48-24_830_47-48_baseT_fieldsweep_-1.9Vbg_15nA_00-33-21')\n",
    "data_os14 = qc.load_data('data/2020-04-05/#002_W3_865_48-24_830_47-48_baseT_fieldsweep_-2.0Vbg_15nA_02-34-40')"
   ]
  },
  {
   "cell_type": "code",
   "execution_count": 8,
   "metadata": {
    "heading_collapsed": "false"
   },
   "outputs": [
    {
     "name": "stdout",
     "output_type": "stream",
     "text": [
      "0.00 is not a value in the array\n",
      "Plotted 0.00 instead\n"
     ]
    }
   ],
   "source": [
    "Nmin = 250\n",
    "datam1 = data_osm1\n",
    "dlastm1 = np.where(np.isnan(datam1.triton_field[:]))[0][0]\n",
    "dnegm1 = npd.val_to_index([0], datam1.triton_field[:dlastm1])[0] - Nmin"
   ]
  },
  {
   "cell_type": "code",
   "execution_count": 9,
   "metadata": {
    "heading_collapsed": "false"
   },
   "outputs": [
    {
     "data": {
      "application/vnd.jupyter.widget-view+json": {
       "model_id": "0a1f88e504844e0e99067f49be03c7c4",
       "version_major": 2,
       "version_minor": 0
      },
      "text/plain": [
       "Canvas(toolbar=Toolbar(toolitems=[('Home', 'Reset original view', 'home', 'home'), ('Back', 'Back to previous …"
      ]
     },
     "metadata": {},
     "output_type": "display_data"
    },
    {
     "name": "stdout",
     "output_type": "stream",
     "text": [
      "0.20 is not a value in the array\n",
      "Plotted 0.20 instead\n",
      "0.20 is not a value in the array\n",
      "Plotted 0.20 instead\n",
      "0.20 is not a value in the array\n",
      "Plotted 0.20 instead\n",
      "0.20 is not a value in the array\n",
      "Plotted 0.20 instead\n",
      "0.20 is not a value in the array\n",
      "Plotted 0.20 instead\n",
      "0.20 is not a value in the array\n",
      "Plotted 0.20 instead\n",
      "0.20 is not a value in the array\n",
      "Plotted 0.20 instead\n",
      "0.20 is not a value in the array\n",
      "Plotted 0.20 instead\n",
      "0.20 is not a value in the array\n",
      "Plotted 0.20 instead\n",
      "0.20 is not a value in the array\n",
      "Plotted 0.20 instead\n",
      "0.20 is not a value in the array\n",
      "Plotted 0.20 instead\n",
      "0.20 is not a value in the array\n",
      "Plotted 0.20 instead\n",
      "0.20 is not a value in the array\n",
      "Plotted 0.20 instead\n",
      "0.20 is not a value in the array\n",
      "Plotted 0.20 instead\n",
      "0.20 is not a value in the array\n",
      "Plotted 0.20 instead\n",
      "0.20 is not a value in the array\n",
      "Plotted 0.20 instead\n"
     ]
    },
    {
     "data": {
      "text/plain": [
       "<matplotlib.legend.Legend at 0x7fa4a3e71a30>"
      ]
     },
     "execution_count": 9,
     "metadata": {},
     "output_type": "execute_result"
    }
   ],
   "source": [
    "#plot Rxx-1/B\n",
    "#lockin830  contact 48-47 ~1 degree\n",
    "plt.figure()\n",
    "\n",
    "Nmin = 250\n",
    "\n",
    "lowv = 0.2\n",
    "\n",
    "datam1 = data_osm1\n",
    "dlastm1 = np.where(np.isnan(datam1.triton_field[:]))[0][0]\n",
    "dnegm1 = npd.val_to_index([lowv], datam1.triton_field[:dlastm1])[0]\n",
    "#plt.plot(1/datam1.triton_field[:dnegm1], gaussian_filter(datam1.lockin830_X[:dnegm1]/15e-9,2), label='-0.5Vg')\n",
    "\n",
    "data0 = data_os0\n",
    "dlast0 = np.where(np.isnan(data0.triton_field[:]))[0][0]\n",
    "dneg0 = npd.val_to_index([lowv], data0.triton_field[:dlast0])[0]\n",
    "#plt.plot(1/data0.triton_field[dneg0:dlast0], gaussian_filter(data0.lockin830_X[dneg0:dlast0]/15e-9,2), label='-0.6Vg')\n",
    "\n",
    "\n",
    "data1 = data_os1\n",
    "dlast1 = np.where(np.isnan(data1.triton_field[:]))[0][0]\n",
    "dneg1 = npd.val_to_index([lowv], data1.triton_field[:dlast1])[0]\n",
    "#plt.plot(1/data1.triton_field[:dneg1], gaussian_filter(data1.lockin830_X[:dneg1]/15e-9,2), label='-0.7Vg')\n",
    "\n",
    "data2 = data_os2\n",
    "dlast2 = np.where(np.isnan(data2.triton_field[:]))[0][0]\n",
    "dneg2 = npd.val_to_index([lowv], data2.triton_field[:dlast2])[0]\n",
    "#plt.plot(1/data2.triton_field[dneg2:dlast2], gaussian_filter(data2.lockin830_X[dneg2:dlast2]/15e-9,2), label='-0.8Vg')\n",
    "\n",
    "data3 = data_os3\n",
    "dlast3 = np.where(np.isnan(data3.triton_field[:]))[0][0]\n",
    "dneg3 = npd.val_to_index([lowv], data3.triton_field[:dlast3])[0]\n",
    "#plt.plot(1/data3.triton_field[dneg3:dlast3], gaussian_filter(data3.lockin830_X[dneg3:dlast3]/15e-9,2), label='-0.9Vg')\n",
    "\n",
    "data4 = data_os4\n",
    "dlast4 = np.where(np.isnan(data4.triton_field[:]))[0][0]\n",
    "dneg4 = npd.val_to_index([lowv], data4.triton_field[:dlast4])[0]\n",
    "#plt.plot(1/data4.triton_field[:dneg4], gaussian_filter(data4.lockin830_X[:dneg4]/15e-9,2), label='-1.0Vg')\n",
    "\n",
    "data5 = data_os5\n",
    "dlast5 = np.where(np.isnan(data5.triton_field[:]))[0][0]\n",
    "dneg5 = npd.val_to_index([lowv], data5.triton_field[:dlast5])[0]\n",
    "#plt.plot(1/data5.triton_field[:dneg5], gaussian_filter(data5.lockin830_X[:dneg5]/15e-9,2), label='-1.1Vg')\n",
    "\n",
    "data6 = data_os6\n",
    "dlast6 = np.where(np.isnan(data6.triton_field[:]))[0][0]\n",
    "dneg6 = npd.val_to_index([lowv], data6.triton_field[:dlast6])[0]\n",
    "#plt.plot(1/data6.triton_field[:dneg6], gaussian_filter(data6.lockin830_X[:dneg6]/15e-9,2), label='-1.2Vg')\n",
    "\n",
    "data7 = data_os7\n",
    "dlast7 = np.where(np.isnan(data7.triton_field[:]))[0][0]\n",
    "dneg7 = npd.val_to_index([lowv], data7.triton_field[:dlast7])[0]\n",
    "#plt.plot(1/data7.triton_field[dneg7:dlast7], gaussian_filter(data7.lockin830_X[dneg7:dlast7]/15e-9,2), label='-1.3Vg')\n",
    "\n",
    "data8 = data_os8\n",
    "dlast8 = np.where(np.isnan(data8.triton_field[:]))[0][0]\n",
    "dneg8 = npd.val_to_index([lowv], data8.triton_field[:dlast8])[0]\n",
    "#plt.plot(1/data8.triton_field[dneg8:dlast8], gaussian_filter(data8.lockin830_X[dneg8:dlast8]/15e-9,2), label='-1.4Vg')\n",
    "\n",
    "data9 = data_os9\n",
    "dlast9 = np.where(np.isnan(data9.triton_field[:]))[0][0]\n",
    "dneg9 = npd.val_to_index([lowv], data9.triton_field[:dlast9])[0]\n",
    "#plt.plot(1/data9.triton_field[:dneg9], gaussian_filter(data9.lockin830_X[:dneg9]/15e-9,2), label='-1.5Vg')\n",
    "\n",
    "data10 = data_os10\n",
    "dlast10 = np.where(np.isnan(data10.triton_field[:]))[0][0]\n",
    "dneg10 = npd.val_to_index([lowv], data10.triton_field[:dlast10])[0]\n",
    "#plt.plot(1/data10.triton_field[dneg10:dlast10], gaussian_filter(data10.lockin830_X[dneg10:dlast10]/15e-9,2), label='-1.6Vg')\n",
    "\n",
    "data11 = data_os11\n",
    "dlast11 = np.where(np.isnan(data11.triton_field[:]))[0][0]\n",
    "dneg11 = npd.val_to_index([lowv], data11.triton_field[:dlast11])[0]\n",
    "#plt.plot(1/data11.triton_field[dneg11:dlast11], gaussian_filter(data11.lockin830_X[dneg11:dlast11]/15e-9,2), label='-1.7Vg')\n",
    "\n",
    "data12 = data_os12\n",
    "dlast12 = np.where(np.isnan(data12.triton_field[:]))[0][0]\n",
    "dneg12 = npd.val_to_index([lowv], data12.triton_field[:dlast12])[0]\n",
    "plt.plot(1/data12.triton_field[:dneg12], gaussian_filter(data12.lockin830_X[:dneg12]/15e-9,2), label='-1.8Vg')\n",
    "\n",
    "data13 = data_os13\n",
    "dlast13 = np.where(np.isnan(data13.triton_field[:]))[0][0]\n",
    "dneg13 = npd.val_to_index([lowv], data13.triton_field[:dlast13])[0]\n",
    "plt.plot(1/data13.triton_field[dneg13:dlast13], gaussian_filter(data13.lockin830_X[dneg13:dlast13]/15e-9,2), label='-1.9Vg')\n",
    "\n",
    "data14 = data_os14\n",
    "dlast14 = np.where(np.isnan(data14.triton_field[:]))[0][0]\n",
    "dneg14 = npd.val_to_index([lowv], data14.triton_field[:dlast14])[0]\n",
    "plt.plot(1/data14.triton_field[:dneg14], gaussian_filter(data14.lockin830_X[:dneg14]/15e-9,2), label='-2.0Vg')\n",
    "\n",
    "\n",
    "plt.legend()"
   ]
  },
  {
   "cell_type": "code",
   "execution_count": 10,
   "metadata": {
    "heading_collapsed": "false"
   },
   "outputs": [
    {
     "data": {
      "text/plain": [
       "2.2222222222222223"
      ]
     },
     "execution_count": 10,
     "metadata": {},
     "output_type": "execute_result"
    }
   ],
   "source": [
    "1/0.45"
   ]
  },
  {
   "cell_type": "code",
   "execution_count": 11,
   "metadata": {
    "heading_collapsed": "false"
   },
   "outputs": [
    {
     "data": {
      "text/plain": [
       "array([ 6.000007e+00,  5.999534e+00,  5.998075e+00, ..., -2.120000e-04,\n",
       "        1.400000e-05,  7.000000e-06])"
      ]
     },
     "execution_count": 11,
     "metadata": {},
     "output_type": "execute_result"
    }
   ],
   "source": [
    "datam1.triton_field[:dlastm1]"
   ]
  },
  {
   "cell_type": "code",
   "execution_count": 12,
   "metadata": {
    "heading_collapsed": "false"
   },
   "outputs": [
    {
     "data": {
      "text/plain": [
       "array([1.400000e-05, 1.185000e-03, 3.255000e-03, ..., 6.000260e+00,\n",
       "       6.000116e+00, 6.000007e+00])"
      ]
     },
     "execution_count": 12,
     "metadata": {},
     "output_type": "execute_result"
    }
   ],
   "source": [
    "data0.triton_field[:dlast0]"
   ]
  },
  {
   "cell_type": "code",
   "execution_count": 13,
   "metadata": {
    "heading_collapsed": "false"
   },
   "outputs": [],
   "source": [
    "# interpolation data to get uniform 1/B, plot\n",
    "n=2000\n",
    "bimin, bimax = 1/6, 3  #bimax something under 1/0.2\n",
    "\n",
    "inver_Bpts = np.linspace(bimin, bimax, n)\n",
    "\n",
    "Rintm1 = np.interp(inver_Bpts, 1/datam1.triton_field[:dnegm1], datam1.lockin830_X[:dnegm1]/15e-9)\n",
    "\n",
    "Rint0 = np.interp(inver_Bpts, np.flip(1/data0.triton_field[dneg0:dlast0]), np.flip(data0.lockin830_X[dneg0:dlast0]/15e-9))\n",
    "\n",
    "Rint1 = np.interp(inver_Bpts, 1/data1.triton_field[:dneg1], data1.lockin830_X[:dneg1]/15e-9)\n",
    "\n",
    "Rint2 = np.interp(inver_Bpts, np.flip(1/data2.triton_field[dneg2:dlast2]), np.flip(data2.lockin830_X[dneg2:dlast2]/15e-9))\n",
    "\n",
    "Rint3 = np.interp(inver_Bpts, np.flip(1/data3.triton_field[dneg3:dlast3]), np.flip(data3.lockin830_X[dneg3:dlast3]/15e-9))\n",
    "\n",
    "Rint4 = np.interp(inver_Bpts, 1/data4.triton_field[:dneg4], data4.lockin830_X[:dneg4]/15e-9)\n",
    "\n",
    "Rint5 = np.interp(inver_Bpts, 1/data5.triton_field[:dneg5], data5.lockin830_X[:dneg5]/15e-9)\n",
    "\n",
    "Rint6 = np.interp(inver_Bpts, 1/data6.triton_field[:dneg6], data6.lockin830_X[:dneg6]/15e-9)\n",
    "\n",
    "Rint7 = np.interp(inver_Bpts, np.flip(1/data7.triton_field[dneg7:dlast7]), np.flip(data7.lockin830_X[dneg7:dlast7]/15e-9))\n",
    "\n",
    "Rint8 = np.interp(inver_Bpts, np.flip(1/data8.triton_field[dneg8:dlast8]), np.flip(data8.lockin830_X[dneg8:dlast8]/15e-9))\n",
    "\n",
    "Rint9 = np.interp(inver_Bpts, 1/data9.triton_field[:dneg9], data9.lockin830_X[:dneg9]/15e-9)\n",
    "\n",
    "Rint10 = np.interp(inver_Bpts, np.flip(1/data10.triton_field[dneg10:dlast10]), np.flip(data10.lockin830_X[dneg10:dlast10]/15e-9))\n",
    "\n",
    "Rint11 = np.interp(inver_Bpts, np.flip(1/data11.triton_field[dneg11:dlast11]), np.flip(data11.lockin830_X[dneg11:dlast11]/15e-9))\n",
    "\n",
    "Rint12 = np.interp(inver_Bpts, 1/data12.triton_field[:dneg12], data12.lockin830_X[:dneg12]/15e-9)\n",
    "\n",
    "Rint13 = np.interp(inver_Bpts, np.flip(1/data13.triton_field[dneg13:dlast13]), np.flip(data13.lockin830_X[dneg13:dlast13]/15e-9))\n",
    "\n",
    "Rint14 = np.interp(inver_Bpts, 1/data14.triton_field[:dneg14], data14.lockin830_X[:dneg14]/15e-9)\n",
    "\n",
    "\n",
    "Rintarr = np.vstack((Rintm1, Rint0, Rint1, Rint2, Rint3, Rint4, Rint5, Rint6, Rint7, Rint8, Rint9,\n",
    "                     Rint10, Rint11, Rint12, Rint13, Rint14))\n",
    "\n",
    "Vbgarr = np.linspace(-0.5, -2.0, 16)\n",
    "\n",
    "# plt.figure(figsize=(8, 9))\n",
    "# plt.plot(inver_Bptsm1, Rintm1-6500, label='-0.5Vg')\n",
    "# plt.plot(inver_Bpts0, Rint0-4500, label='-0.6Vg')\n",
    "# plt.plot(inver_Bpts1, Rint1-3000, label='-0.7Vg')\n",
    "# plt.plot(inver_Bpts2, Rint2-1500, label='-0.8Vg')\n",
    "# plt.plot(inver_Bpts3, Rint3, label='-0.9Vg')\n",
    "# plt.plot(inver_Bpts4, Rint4+1500, label='-1.0Vg')\n",
    "# plt.plot(inver_Bpts5, Rint5+3000, label='-1.1Vg')\n",
    "# plt.plot(inver_Bpts6, Rint6+4500, label='-1.2Vg')\n",
    "# plt.plot(inver_Bpts7, Rint7+6000, label='-1.3Vg')\n",
    "# plt.plot(inver_Bpts8, Rint8+7500, label='-1.4Vg')\n",
    "# plt.plot(inver_Bpts9, Rint9+9000, label='-1.5Vg')\n",
    "# plt.plot(inver_Bpts10, Rint10+10500, label='-1.6Vg')\n",
    "# plt.plot(inver_Bpts11, Rint11+12000, label='-1.7Vg')\n",
    "# plt.plot(inver_Bpts12, Rint12+13500, label='-1.8Vg')\n",
    "# plt.plot(inver_Bpts13, Rint13+15000, label='-1.9Vg')\n",
    "# plt.plot(inver_Bpts14, Rint14+16500, label='-2.0Vg')\n",
    "# plt.axis((0.1, 2.25, -6500, 21000))\n",
    "# plt.xlabel('1/B')\n",
    "# plt.legend(loc='upper right')\n"
   ]
  },
  {
   "cell_type": "code",
   "execution_count": 14,
   "metadata": {
    "heading_collapsed": "false"
   },
   "outputs": [
    {
     "data": {
      "application/vnd.jupyter.widget-view+json": {
       "model_id": "994f10a1f6a547a19550f6a2695e069f",
       "version_major": 2,
       "version_minor": 0
      },
      "text/plain": [
       "Canvas(toolbar=Toolbar(toolitems=[('Home', 'Reset original view', 'home', 'home'), ('Back', 'Back to previous …"
      ]
     },
     "metadata": {},
     "output_type": "display_data"
    }
   ],
   "source": [
    "plt.figure(figsize=(10, 9))\n",
    "N = len(Vbgarr)\n",
    "carr = plt.get_cmap('viridis')([i/(N-1) for i in range(N)])\n",
    "\n",
    "for i in range(N):\n",
    "    plt.plot(inver_Bpts, Rintarr[i, :] + 1000*i, color=carr[i], label='{:.1f} V'.format(Vbgarr[i]))\n",
    "\n"
   ]
  },
  {
   "cell_type": "code",
   "execution_count": 15,
   "metadata": {
    "heading_collapsed": "false"
   },
   "outputs": [
    {
     "data": {
      "application/vnd.jupyter.widget-view+json": {
       "model_id": "80e7f704ece243e183b507a8233e9d9d",
       "version_major": 2,
       "version_minor": 0
      },
      "text/plain": [
       "Canvas(toolbar=Toolbar(toolitems=[('Home', 'Reset original view', 'home', 'home'), ('Back', 'Back to previous …"
      ]
     },
     "metadata": {},
     "output_type": "display_data"
    },
    {
     "data": {
      "text/plain": [
       "[<matplotlib.lines.Line2D at 0x7fa48779e100>]"
      ]
     },
     "execution_count": 15,
     "metadata": {},
     "output_type": "execute_result"
    }
   ],
   "source": [
    "plt.figure()\n",
    "theta = np.polyfit(inver_Bpts[5:], Rintarr[-1, 5:], 5)\n",
    "x = inver_Bpts\n",
    "# plt.plot(x, np.polynomial.polynomial.polyval(x, theta[::-1]))\n",
    "# plt.plot(x, Rintarr[-1, :])\n",
    "Nminus = 5\n",
    "N = len(Rintarr[-1, :]) - Nminus\n",
    "plt.plot(x[:-Nminus], np.multiply(windows.cosine(N), Rintarr[-1, :-Nminus] - np.polynomial.polynomial.polyval(x[:-Nminus], theta[::-1])))\n",
    "plt.plot(x[:-Nminus], Rintarr[-1, :-Nminus] - np.polynomial.polynomial.polyval(x[:-Nminus], theta[::-1]))"
   ]
  },
  {
   "cell_type": "code",
   "execution_count": 16,
   "metadata": {
    "heading_collapsed": "false"
   },
   "outputs": [
    {
     "data": {
      "application/vnd.jupyter.widget-view+json": {
       "model_id": "dba9853194f34645853e8b83f292135b",
       "version_major": 2,
       "version_minor": 0
      },
      "text/plain": [
       "Canvas(toolbar=Toolbar(toolitems=[('Home', 'Reset original view', 'home', 'home'), ('Back', 'Back to previous …"
      ]
     },
     "metadata": {},
     "output_type": "display_data"
    },
    {
     "data": {
      "text/plain": [
       "(0.0, 30.0)"
      ]
     },
     "execution_count": 16,
     "metadata": {},
     "output_type": "execute_result"
    }
   ],
   "source": [
    "plt.figure()\n",
    "d = inver_Bpts[1] - inver_Bpts[0]\n",
    "N = len(Rintarr[-1, :]) - Nminus\n",
    "FFT1 = np.fft.fft(np.multiply(windows.cosine(N), Rintarr[-1, :-Nminus] - np.polynomial.polynomial.polyval(x[:-Nminus], theta[::-1])))\n",
    "FFT2 = np.fft.fft(Rintarr[-1, :-Nminus] - np.polynomial.polynomial.polyval(x[:-Nminus], theta[::-1]))\n",
    "fftfreq = np.fft.fftfreq(N, d=d)\n",
    "freqs = np.fft.fftshift(fftfreq)\n",
    "plt.plot(fftfreq, np.abs(FFT1))\n",
    "# plt.plot(fftfreq, np.abs(FFT2))\n",
    "plt.xlim(0, 30)"
   ]
  },
  {
   "cell_type": "code",
   "execution_count": 17,
   "metadata": {
    "heading_collapsed": "false"
   },
   "outputs": [
    {
     "data": {
      "application/vnd.jupyter.widget-view+json": {
       "model_id": "91b04b1971b3408d9648f428ba147f35",
       "version_major": 2,
       "version_minor": 0
      },
      "text/plain": [
       "Canvas(toolbar=Toolbar(toolitems=[('Home', 'Reset original view', 'home', 'home'), ('Back', 'Back to previous …"
      ]
     },
     "metadata": {},
     "output_type": "display_data"
    },
    {
     "data": {
      "text/plain": [
       "<matplotlib.legend.Legend at 0x7fa4a2ca0cd0>"
      ]
     },
     "execution_count": 17,
     "metadata": {},
     "output_type": "execute_result"
    }
   ],
   "source": [
    "#FFT and plot\n",
    "xmin, xmax = 0, 30\n",
    "ymin, ymax = 0, 280000\n",
    "Nplot = len(Vbgarr)\n",
    "carr = plt.get_cmap('viridis')([i/(Nplot-4) for i in range(Nplot-3)])\n",
    "d = inver_Bpts[1] - inver_Bpts[0]\n",
    "x = inver_Bpts\n",
    "Nminus = 5\n",
    "N = len(Rintarr[-1, :]) - Nminus\n",
    "binvmin = [0]*(Nplot - 3) + [4]*3\n",
    "lines = []\n",
    "\n",
    "plt.figure(figsize=(7, 6))\n",
    "for i in range(3, Nplot):\n",
    "    pfit = np.polyfit(x[binvmin[i]:], Rintarr[i, binvmin[i]:], 5)  # take a 5th order polynomial fit to subtract from the data\n",
    "    fft = np.fft.fft(np.multiply(windows.cosine(N), Rintarr[i, :-Nminus] - np.polynomial.polynomial.polyval(x[:-Nminus], pfit[::-1])))[:int(N/2) - 1]\n",
    "    freqs = np.fft.fftfreq(N, d)[:int(N/2) - 1]\n",
    "    lines.append(*plt.plot(np.ma.masked_outside(freqs[1:], xmin, xmax), np.ma.masked_outside(np.abs(fft)[1:] + 18000*(i-3), ymin, ymax), color=carr[i-3]))\n",
    "    \n",
    "plt.axis((xmin, xmax, ymin, ymax))\n",
    "plt.yticks(np.array([0, 5, 10, 15, 20, 25])*10000, ['']*6)\n",
    "plt.xlabel('B (T)')\n",
    "plt.ylabel('FFT amplitue (arb. units)')\n",
    "varr = np.round(Vbgarr[::-1], 1)\n",
    "labels = []\n",
    "for v in varr:\n",
    "    labels.append(str(v) + ' V')\n",
    "plt.legend(lines[::-1], labels, loc='upper right')\n",
    "# plt.savefig(figfile + 'W3SdH_FFTs.svg', dpi=300, bbox_inches='tight')"
   ]
  },
  {
   "cell_type": "code",
   "execution_count": 18,
   "metadata": {
    "heading_collapsed": "false"
   },
   "outputs": [
    {
     "data": {
      "application/vnd.jupyter.widget-view+json": {
       "model_id": "13cda8bf7d874d9db1018a44b40bc3a2",
       "version_major": 2,
       "version_minor": 0
      },
      "text/plain": [
       "Canvas(toolbar=Toolbar(toolitems=[('Home', 'Reset original view', 'home', 'home'), ('Back', 'Back to previous …"
      ]
     },
     "metadata": {},
     "output_type": "display_data"
    },
    {
     "data": {
      "text/plain": [
       "Text(0, 0.5, 'R$_{xx}$ (k$\\\\Omega$)')"
      ]
     },
     "execution_count": 18,
     "metadata": {},
     "output_type": "execute_result"
    }
   ],
   "source": [
    "xmin, xmax = 0.1, 2.25\n",
    "\n",
    "lines = []\n",
    "plt.figure(figsize=(7, 6))\n",
    "for i in range(3, Nplot):\n",
    "#     pfit = np.polyfit(x[binvmin[i]:], Rintarr[i, binvmin[i]:], 5)\n",
    "#     plt.plot(inver_Bpts, Rintarr[i, :] + 1400*i, color=carr[i-3])\n",
    "    lines.append(*plt.plot(np.ma.masked_outside(inver_Bpts, xmin, xmax), (Rintarr[i, :] + 1400*i)/1000, color=carr[i-3]))\n",
    "    \n",
    "plt.xlim(xmin, xmax)\n",
    "plt.legend(lines[::-1], labels, loc='upper right')\n",
    "plt.xlabel('1/B (T$^{-1}$)')\n",
    "plt.ylabel('R$_{xx}$ (k$\\Omega$)')\n",
    "# plt.savefig(figfile + 'W5_SdH_1overB.svg', dpi=300, bbox_inches='tight')"
   ]
  },
  {
   "cell_type": "code",
   "execution_count": 19,
   "metadata": {
    "heading_collapsed": "false"
   },
   "outputs": [
    {
     "data": {
      "application/vnd.jupyter.widget-view+json": {
       "model_id": "6c1af9a87c6b43939b626274e0cbb9a6",
       "version_major": 2,
       "version_minor": 0
      },
      "text/plain": [
       "Canvas(toolbar=Toolbar(toolitems=[('Home', 'Reset original view', 'home', 'home'), ('Back', 'Back to previous …"
      ]
     },
     "metadata": {},
     "output_type": "display_data"
    },
    {
     "data": {
      "text/plain": [
       "Text(0, 0.5, 'R$_{xx}$ (k$\\\\Omega$)')"
      ]
     },
     "execution_count": 19,
     "metadata": {},
     "output_type": "execute_result"
    }
   ],
   "source": [
    "xmin, xmax = 0.1, 2.25\n",
    "\n",
    "lines = []\n",
    "plt.figure(figsize=(7, 6))\n",
    "for i in range(3, Nplot):\n",
    "    pfit = np.polyfit(x[binvmin[i]:], Rintarr[i, binvmin[i]:], 5)\n",
    "#     plt.plot(inver_Bpts, Rintarr[i, :] + 1400*i, color=carr[i-3])\n",
    "    lines.append(*plt.plot(np.ma.masked_outside(inver_Bpts, xmin, xmax), (Rintarr[i, :] - np.polynomial.polynomial.polyval(inver_Bpts, pfit[::-1]) + 1500*i)/1000, color=carr[i-3]))\n",
    "    \n",
    "plt.xlim(xmin, xmax)\n",
    "plt.legend(lines[::-1], labels, loc='upper right')\n",
    "plt.xlabel('1/B (T$^{-1}$)')\n",
    "plt.ylabel('R$_{xx}$ (k$\\Omega$)')\n",
    "# plt.savefig(figfile + 'W5_SdH_1overB_backgroundsubtract.svg', dpi=300, bbox_inches='tight')"
   ]
  },
  {
   "cell_type": "markdown",
   "metadata": {
    "tags": []
   },
   "source": [
    "# Lockin865"
   ]
  },
  {
   "cell_type": "code",
   "execution_count": 20,
   "metadata": {
    "heading_collapsed": "false"
   },
   "outputs": [],
   "source": [
    "n=2000\n",
    "bimin, bimax = 1/6, 3  #bimax something under 1/0.2\n",
    "\n",
    "inver_Bpts = np.linspace(bimin, bimax, n)\n",
    "\n",
    "Rintm1865 = np.interp(inver_Bpts, 1/datam1.triton_field[:dnegm1], datam1.lockin830_X[:dnegm1]/15e-9)\n",
    "\n",
    "Rint0865 = np.interp(inver_Bpts, np.flip(1/data0.triton_field[dneg0:dlast0]), np.flip(data0.lockin865_X[dneg0:dlast0]/15e-9))\n",
    "\n",
    "Rint1865 = np.interp(inver_Bpts, 1/data1.triton_field[:dneg1], data1.lockin865_X[:dneg1]/15e-9)\n",
    "\n",
    "Rint2865 = np.interp(inver_Bpts, np.flip(1/data2.triton_field[dneg2:dlast2]), np.flip(data2.lockin865_X[dneg2:dlast2]/15e-9))\n",
    "\n",
    "Rint3865 = np.interp(inver_Bpts, np.flip(1/data3.triton_field[dneg3:dlast3]), np.flip(data3.lockin865_X[dneg3:dlast3]/15e-9))\n",
    "\n",
    "Rint4865 = np.interp(inver_Bpts, 1/data4.triton_field[:dneg4], data4.lockin865_X[:dneg4]/15e-9)\n",
    "\n",
    "Rint5865 = np.interp(inver_Bpts, 1/data5.triton_field[:dneg5], data5.lockin865_X[:dneg5]/15e-9)\n",
    "\n",
    "Rint6865 = np.interp(inver_Bpts, 1/data6.triton_field[:dneg6], data6.lockin865_X[:dneg6]/15e-9)\n",
    "\n",
    "Rint7865 = np.interp(inver_Bpts, np.flip(1/data7.triton_field[dneg7:dlast7]), np.flip(data7.lockin865_X[dneg7:dlast7]/15e-9))\n",
    "\n",
    "Rint8865 = np.interp(inver_Bpts, np.flip(1/data8.triton_field[dneg8:dlast8]), np.flip(data8.lockin865_X[dneg8:dlast8]/15e-9))\n",
    "\n",
    "Rint9865 = np.interp(inver_Bpts, 1/data9.triton_field[:dneg9], data9.lockin865_X[:dneg9]/15e-9)\n",
    "\n",
    "Rint10865 = np.interp(inver_Bpts, np.flip(1/data10.triton_field[dneg10:dlast10]), np.flip(data10.lockin865_X[dneg10:dlast10]/15e-9))\n",
    "\n",
    "Rint11865 = np.interp(inver_Bpts, np.flip(1/data11.triton_field[dneg11:dlast11]), np.flip(data11.lockin865_X[dneg11:dlast11]/15e-9))\n",
    "\n",
    "Rint12865 = np.interp(inver_Bpts, 1/data12.triton_field[:dneg12], data12.lockin865_X[:dneg12]/15e-9)\n",
    "\n",
    "Rint13865 = np.interp(inver_Bpts, np.flip(1/data13.triton_field[dneg13:dlast13]), np.flip(data13.lockin865_X[dneg13:dlast13]/15e-9))\n",
    "\n",
    "Rint14865 = np.interp(inver_Bpts, 1/data14.triton_field[:dneg14], data14.lockin865_X[:dneg14]/15e-9)\n",
    "\n",
    "\n",
    "Rint865arr = np.vstack((Rintm1865, Rint0865, Rint1865, Rint2865, Rint3865, Rint4865, Rint5865, Rint6865, Rint7865, Rint8865, Rint9865,\n",
    "                     Rint10865, Rint11865, Rint12865, Rint13865, Rint14865))\n",
    "\n",
    "Vbgarr = np.linspace(-0.5, -2.0, 16)"
   ]
  },
  {
   "cell_type": "code",
   "execution_count": 21,
   "metadata": {
    "heading_collapsed": "false"
   },
   "outputs": [
    {
     "data": {
      "text/plain": [
       "array([-0.5, -0.6, -0.7, -0.8, -0.9, -1. , -1.1, -1.2, -1.3, -1.4, -1.5,\n",
       "       -1.6, -1.7, -1.8, -1.9, -2. ])"
      ]
     },
     "execution_count": 21,
     "metadata": {},
     "output_type": "execute_result"
    }
   ],
   "source": [
    "Vbgarr"
   ]
  },
  {
   "cell_type": "code",
   "execution_count": 22,
   "metadata": {
    "heading_collapsed": "false"
   },
   "outputs": [
    {
     "data": {
      "text/plain": [
       "1.867517091879273"
      ]
     },
     "execution_count": 22,
     "metadata": {},
     "output_type": "execute_result"
    }
   ],
   "source": [
    "inver_Bpts[-800]"
   ]
  },
  {
   "cell_type": "code",
   "execution_count": 23,
   "metadata": {
    "heading_collapsed": "false"
   },
   "outputs": [
    {
     "data": {
      "application/vnd.jupyter.widget-view+json": {
       "model_id": "be3362f9e50949029417806f57118f81",
       "version_major": 2,
       "version_minor": 0
      },
      "text/plain": [
       "Canvas(toolbar=Toolbar(toolitems=[('Home', 'Reset original view', 'home', 'home'), ('Back', 'Back to previous …"
      ]
     },
     "metadata": {},
     "output_type": "display_data"
    },
    {
     "data": {
      "text/plain": [
       "<matplotlib.legend.Legend at 0x7fa48ad7fdf0>"
      ]
     },
     "execution_count": 23,
     "metadata": {},
     "output_type": "execute_result"
    }
   ],
   "source": [
    "#FFT and plot  865\n",
    "xmin, xmax = 0, 30\n",
    "ymin, ymax = 0, 340000\n",
    "Nplot = len(Vbgarr)\n",
    "carr = plt.get_cmap('viridis')([i/(Nplot-1) for i in range(Nplot)])\n",
    "d = inver_Bpts[1] - inver_Bpts[0]\n",
    "x = inver_Bpts\n",
    "Nminus = 2\n",
    "N = len(Rint865arr[-1, :]) - Nminus\n",
    "binvmin = [0]*Nplot\n",
    "lines = []\n",
    "\n",
    "plt.figure(figsize=(7, 6))\n",
    "for i in range(Nplot):\n",
    "    pfit = np.polyfit(x[binvmin[i]:], Rint865arr[i, binvmin[i]:], 5)  # take a 5th order polynomial fit to subtract from the data\n",
    "#     fft = np.fft.fft(np.multiply(windows.cosine(N), Rint865arr[i, :-Nminus]))[:int(N/2) - 1]\n",
    "    fft = np.fft.fft(Rint865arr[i, :-Nminus] - np.polynomial.polynomial.polyval(x[:-Nminus], pfit[::-1]))[:int(N/2) - 1]\n",
    "    freqs = np.fft.fftfreq(N, d)[:int(N/2) - 1]\n",
    "    lines.append(*plt.plot(np.ma.masked_outside(freqs[1:], xmin, xmax), np.ma.masked_outside(np.abs(fft)[1:] + 15000*(i), ymin, ymax), color=carr[i]))\n",
    "    \n",
    "# plt.axis((xmin, xmax, ymin, ymax))\n",
    "plt.yticks(np.array([0, 5, 10, 15, 20, 25])*10000, ['']*6)\n",
    "plt.xlabel('B (T)')\n",
    "plt.ylabel('FFT amplitude (arb. units)')\n",
    "varr = np.round(Vbgarr[::-1], 1)\n",
    "labels = []\n",
    "for v in varr:\n",
    "    labels.append(str(v) + ' V')\n",
    "plt.legend(lines[::-1], labels, loc='upper right')\n",
    "# plt.savefig(figfile + 'W3SdH_FFTs.svg', dpi=300, bbox_inches='tight')"
   ]
  },
  {
   "cell_type": "code",
   "execution_count": 24,
   "metadata": {
    "heading_collapsed": "false"
   },
   "outputs": [
    {
     "data": {
      "text/plain": [
       "array([-0.5, -0.6, -0.7, -0.8, -0.9, -1. , -1.1, -1.2, -1.3, -1.4, -1.5,\n",
       "       -1.6, -1.7, -1.8, -1.9, -2. ])"
      ]
     },
     "execution_count": 24,
     "metadata": {},
     "output_type": "execute_result"
    }
   ],
   "source": [
    "Vbgarr"
   ]
  },
  {
   "cell_type": "code",
   "execution_count": 25,
   "metadata": {
    "heading_collapsed": "false"
   },
   "outputs": [
    {
     "data": {
      "application/vnd.jupyter.widget-view+json": {
       "model_id": "d7fbf6c1eb304698b764307a7cf9db32",
       "version_major": 2,
       "version_minor": 0
      },
      "text/plain": [
       "Canvas(toolbar=Toolbar(toolitems=[('Home', 'Reset original view', 'home', 'home'), ('Back', 'Back to previous …"
      ]
     },
     "metadata": {},
     "output_type": "display_data"
    },
    {
     "data": {
      "text/plain": [
       "(0.0, 1.75)"
      ]
     },
     "execution_count": 25,
     "metadata": {},
     "output_type": "execute_result"
    }
   ],
   "source": [
    "Nplot = 15\n",
    "Nf = 5\n",
    "carr = plt.get_cmap('viridis')([i/(Nplot-1) for i in range(Nplot)])\n",
    "varr = Vbgarr[Nf:Nplot]\n",
    "plt.figure(figsize=(7, 6))\n",
    "\n",
    "lines = []\n",
    "for i in range(Nf, Nplot):\n",
    "    pfit = np.polyfit(inver_Bpts, Rint865arr[i, :], 5)\n",
    "#     plt.plot(inver_Bpts, Rint865arr[-1 - i, :] - 500*i)\n",
    "    lines.append(*plt.plot(inver_Bpts, (Rint865arr[i, :] - np.polynomial.polynomial.polyval(inver_Bpts, pfit[::-1])) + 500*i, color=carr[i]))\n",
    "    \n",
    "labels = []\n",
    "for v in varr:\n",
    "    labels.append(str(np.round(v, 1)))\n",
    "plt.legend(lines[::-1], labels[::-1], loc='upper right')\n",
    "plt.xlim(0, 1.75)"
   ]
  },
  {
   "cell_type": "code",
   "execution_count": 26,
   "metadata": {
    "heading_collapsed": "false"
   },
   "outputs": [],
   "source": [
    "def windf(N, tail):\n",
    "    tail = int(tail)\n",
    "    abeg = np.sin(np.arange(0, tail)/tail*np.pi/2)\n",
    "    return np.concatenate((abeg, [1]*(N - 2*tail), abeg[::-1]))"
   ]
  },
  {
   "cell_type": "code",
   "execution_count": 27,
   "metadata": {
    "heading_collapsed": "false"
   },
   "outputs": [
    {
     "data": {
      "application/vnd.jupyter.widget-view+json": {
       "model_id": "2595fbaef244499383628149e5df24bf",
       "version_major": 2,
       "version_minor": 0
      },
      "text/plain": [
       "Canvas(toolbar=Toolbar(toolitems=[('Home', 'Reset original view', 'home', 'home'), ('Back', 'Back to previous …"
      ]
     },
     "metadata": {},
     "output_type": "display_data"
    },
    {
     "data": {
      "text/plain": [
       "(0.0, 50.0)"
      ]
     },
     "execution_count": 27,
     "metadata": {},
     "output_type": "execute_result"
    }
   ],
   "source": [
    "fig, ax = plt.subplots(3, 1)\n",
    "indx = -5\n",
    "d = inver_Bpts[1] - inver_Bpts[0]\n",
    "Nminus = 800\n",
    "N = len(Rint865arr[-1, :]) - Nminus\n",
    "pfit = np.polyfit(inver_Bpts, Rint865arr[indx, :], 6)\n",
    "x = inver_Bpts[:N]\n",
    "y = (Rint865arr[indx, :] - np.polynomial.polynomial.polyval(inver_Bpts, pfit[::-1]))[:N]\n",
    "ax[0].plot(x, y)\n",
    "windN = 100\n",
    "ax[0].plot(x, np.multiply(windf(N, windN), y))\n",
    "\n",
    "ffty = np.fft.fft(y)[:(int(N/2) - 1)]\n",
    "windffty = np.fft.fft(np.multiply(windf(N, windN), y))[:(int(N/2) - 1)]\n",
    "freqs = np.fft.fftfreq(N, d)[:(int(N/2) - 1)]\n",
    "\n",
    "ax[1].plot(freqs, np.abs(ffty))\n",
    "ax[1].set_xlim(0, 50)\n",
    "ax[2].plot(freqs, np.abs(windffty))\n",
    "ax[2].set_xlim(0, 50)"
   ]
  },
  {
   "cell_type": "code",
   "execution_count": 28,
   "metadata": {
    "heading_collapsed": "false"
   },
   "outputs": [
    {
     "data": {
      "application/vnd.jupyter.widget-view+json": {
       "model_id": "e5397d0bc39d4dc08d9c8c9af9af9c66",
       "version_major": 2,
       "version_minor": 0
      },
      "text/plain": [
       "Canvas(toolbar=Toolbar(toolitems=[('Home', 'Reset original view', 'home', 'home'), ('Back', 'Back to previous …"
      ]
     },
     "metadata": {},
     "output_type": "display_data"
    }
   ],
   "source": [
    "carr = plt.get_cmap('viridis')([i/(Nplot-1) for i in range(Nplot)])\n",
    "d = inver_Bpts[1] - inver_Bpts[0]\n",
    "Nminus = 800\n",
    "N = len(Rint865arr[-1, :]) - Nminus\n",
    "\n",
    "Nplot = 15\n",
    "Nf = 3\n",
    "windN = 100\n",
    "carr = plt.get_cmap('viridis')([i/(Nplot-1) for i in range(Nplot)])\n",
    "varr = Vbgarr[Nf:Nplot]\n",
    "plt.figure(figsize=(7, 6))\n",
    "\n",
    "lines = []\n",
    "for i in range(Nf, Nplot):\n",
    "    pfit = np.polyfit(inver_Bpts, Rint865arr[i, :], 6)\n",
    "    y = Rint865arr[i, :] - np.polynomial.polynomial.polyval(inver_Bpts, pfit[::-1])\n",
    "    fft = np.fft.fft(np.multiply(windf(N, windN), y[:N]))[:int(N/2 - 1)]\n",
    "    freqs = np.fft.fftfreq(N, d)[:int(N/2) - 1]\n",
    "#     plt.plot(inver_Bpts, Rint865arr[-1 - i, :] - 500*i)\n",
    "    lines.append(*plt.plot(freqs, np.abs(fft)*(1 + (i-Nf)) + 50000*i, color=carr[i]))  # multiply more negative gate voltages (higher i) by an increasing number (since the signal is weaker)\n",
    "    \n",
    "labels = []\n",
    "for v in varr:\n",
    "    labels.append(str(np.round(v, 1)))\n",
    "plt.legend(lines[::-1], labels[::-1], loc='upper right')\n",
    "plt.xlim(0, 50)\n",
    "plt.yticks([])\n",
    "plt.xlabel('FFT frequency (T)')\n",
    "plt.ylabel('FFT amplitude (arb. units)')\n",
    "plt.savefig(figfile + 'W5_865_fftampl.png', dpi=300, bbox_inches='tight')"
   ]
  },
  {
   "cell_type": "code",
   "execution_count": 29,
   "metadata": {
    "heading_collapsed": "false"
   },
   "outputs": [
    {
     "data": {
      "application/vnd.jupyter.widget-view+json": {
       "model_id": "0286c171fb02486990ca7874adefe371",
       "version_major": 2,
       "version_minor": 0
      },
      "text/plain": [
       "Canvas(toolbar=Toolbar(toolitems=[('Home', 'Reset original view', 'home', 'home'), ('Back', 'Back to previous …"
      ]
     },
     "metadata": {},
     "output_type": "display_data"
    },
    {
     "data": {
      "text/plain": [
       "(5270000000.0, 42900000000.0)"
      ]
     },
     "execution_count": 29,
     "metadata": {},
     "output_type": "execute_result"
    }
   ],
   "source": [
    "carr = plt.get_cmap('viridis')([i/(Nplot-1) for i in range(Nplot)])\n",
    "d = inver_Bpts[1] - inver_Bpts[0]\n",
    "Nminus = 800\n",
    "N = len(Rint865arr[-1, :]) - Nminus\n",
    "\n",
    "Nplot = 15\n",
    "Nf = 3\n",
    "windN = 100\n",
    "carr = plt.get_cmap('viridis')([i/(Nplot-1) for i in range(Nplot)])\n",
    "varr = Vbgarr[Nf:Nplot]\n",
    "plt.figure(figsize=(7, 6))\n",
    "\n",
    "lines = []\n",
    "for i in range(Nf, Nplot):\n",
    "    pfit = np.polyfit(inver_Bpts, Rint865arr[i, :], 6)\n",
    "    y = Rint865arr[i, :] - np.polynomial.polynomial.polyval(inver_Bpts, pfit[::-1])\n",
    "    fft = np.fft.fft(np.multiply(windf(N, windN), y[:N]))[:int(N/2 - 1)]\n",
    "    freqs = np.fft.fftfreq(N, d)[:int(N/2) - 1]\n",
    "#     plt.plot(inver_Bpts, Rint865arr[-1 - i, :] - 500*i)\n",
    "    lines.append(*plt.plot(freqs, np.abs(fft)**2*(1 + (i-Nf)**2) + 50000**2*i, color=carr[i]))  # multiply more negative gate voltages (higher i) by an increasing number (since the signal is weaker)\n",
    "    \n",
    "labels = []\n",
    "for v in varr:\n",
    "    labels.append(str(np.round(v, 1)))\n",
    "plt.legend(lines[::-1], labels[::-1], loc='upper right')\n",
    "plt.xlim(0, 50)\n",
    "plt.yticks([])\n",
    "plt.xlabel('FFT frequency (T)')\n",
    "plt.ylabel('FFT amplitude squared (arb. units)')\n",
    "plt.ylim(5.27e9, 4.29e10)\n",
    "# plt.savefig(figfile + 'W5_865_fftamplsquared.png', dpi=300, bbox_inches='tight')"
   ]
  },
  {
   "cell_type": "markdown",
   "metadata": {
    "heading_collapsed": "false"
   },
   "source": [
    "Just a look at one of the fits (-1.6 V)"
   ]
  },
  {
   "cell_type": "code",
   "execution_count": 30,
   "metadata": {
    "heading_collapsed": "false"
   },
   "outputs": [
    {
     "data": {
      "text/plain": [
       "1200"
      ]
     },
     "execution_count": 30,
     "metadata": {},
     "output_type": "execute_result"
    }
   ],
   "source": [
    "len(x)"
   ]
  },
  {
   "cell_type": "code",
   "execution_count": 31,
   "metadata": {
    "heading_collapsed": "false"
   },
   "outputs": [
    {
     "data": {
      "application/vnd.jupyter.widget-view+json": {
       "model_id": "881605e0b78a4c298e788e0ac6234266",
       "version_major": 2,
       "version_minor": 0
      },
      "text/plain": [
       "Canvas(toolbar=Toolbar(toolitems=[('Home', 'Reset original view', 'home', 'home'), ('Back', 'Back to previous …"
      ]
     },
     "metadata": {},
     "output_type": "display_data"
    },
    {
     "data": {
      "text/plain": [
       "[<matplotlib.lines.Line2D at 0x7fa490ef5610>]"
      ]
     },
     "execution_count": 31,
     "metadata": {},
     "output_type": "execute_result"
    }
   ],
   "source": [
    "plt.figure(figsize=(7, 6))\n",
    "plt.plot(inver_Bpts, Rint865arr[-5, :]/1000)\n",
    "pfit = np.polyfit(inver_Bpts, Rint865arr[-5, :], 5)\n",
    "plt.plot(inver_Bpts, (Rint865arr[-5, :] - np.polynomial.polynomial.polyval(inver_Bpts, pfit[::-1]))/1000)\n",
    "plt.plot(inver_Bpts, np.polynomial.polynomial.polyval(inver_Bpts, pfit[::-1])/1000)"
   ]
  },
  {
   "cell_type": "markdown",
   "metadata": {
    "tags": []
   },
   "source": [
    "# Fan diagrams"
   ]
  },
  {
   "cell_type": "markdown",
   "metadata": {},
   "source": [
    "W5 (Not the one used for the main SdH diagram with splitting)"
   ]
  },
  {
   "cell_type": "code",
   "execution_count": 32,
   "metadata": {
    "heading_collapsed": "false"
   },
   "outputs": [],
   "source": [
    "datafan1=qc.load_data('data/2020-02-13/#003_W5_865_47-48_830_20-48_baseT_1nA_B-Vgsweep_11-01-44')\n",
    "datafan2=qc.load_data('data/2020-02-15/#001_W5_865_47-48_830_20-48_baseT_1nA_B-Vgsweep_10-40-22')"
   ]
  },
  {
   "cell_type": "code",
   "execution_count": 33,
   "metadata": {
    "heading_collapsed": "false"
   },
   "outputs": [],
   "source": [
    "fan1_field = datafan1.triton_field_set_stable_set[:126]\n",
    "fan2_field = datafan2.triton_field_set_stable_set[:]\n",
    "fan_field=np.concatenate((fan1_field,fan2_field))"
   ]
  },
  {
   "cell_type": "code",
   "execution_count": 34,
   "metadata": {
    "heading_collapsed": "false"
   },
   "outputs": [],
   "source": [
    "fan_lockin865_X = np.concatenate((datafan1.lockin865_X[:126,:], datafan2.lockin865_X[:,:]), axis=0)"
   ]
  },
  {
   "cell_type": "code",
   "execution_count": 35,
   "metadata": {
    "heading_collapsed": "false"
   },
   "outputs": [
    {
     "data": {
      "application/vnd.jupyter.widget-view+json": {
       "model_id": "8ef80484d1594871a38d8c254eb73754",
       "version_major": 2,
       "version_minor": 0
      },
      "text/plain": [
       "Canvas(toolbar=Toolbar(toolitems=[('Home', 'Reset original view', 'home', 'home'), ('Back', 'Back to previous …"
      ]
     },
     "metadata": {},
     "output_type": "display_data"
    },
    {
     "data": {
      "text/plain": [
       "<matplotlib.collections.QuadMesh at 0x7fa48e1f7fa0>"
      ]
     },
     "execution_count": 35,
     "metadata": {},
     "output_type": "execute_result"
    }
   ],
   "source": [
    "plt.figure(figsize=(11,6))\n",
    "plt.pcolormesh(datafan1.srframe_volt_p1_set[0,:],fan_field[:],fan_lockin865_X[:,:]/1e-9,cmap='inferno',norm = colors.SymLogNorm(2000, vmin=-500, vmax=5e4))"
   ]
  },
  {
   "cell_type": "code",
   "execution_count": 36,
   "metadata": {
    "heading_collapsed": "false"
   },
   "outputs": [],
   "source": [
    "curr = 10e-9\n",
    "\n",
    "files_16 = ['data/2020-04-13/#069*/', 'data/2020-04-14/#001*/', 'data/2020-04-14/#003*/',\n",
    "            'data/2020-04-14/#007*/', 'data/2020-04-15/#001*/', 'data/2020-04-15/#003*/',\n",
    "            'data/2020-04-15/#005*/', 'data/2020-04-15/#007*/']\n",
    "\n",
    "ds_16 = []\n",
    "for f in files_16:\n",
    "    ds_16.append(qc.load_data(glob.glob(f)[0][:-1]))\n",
    "\n",
    "Ts = [0.05, 0.5, 1, 2, 5, 10, 15, 20]\n",
    "Rs4824_16 = []\n",
    "Rs4748_16 = []\n",
    "b_16 = []\n",
    "for d in ds_16:\n",
    "    dlast = np.where(np.isnan(d.triton_field[:]))[0][0]\n",
    "    b_16.append(d.triton_field[:dlast])\n",
    "    Rs4824_16.append(d.lockin865_X[:dlast]/curr)\n",
    "    Rs4748_16.append(d.lockin830_X[:dlast]/curr)\n",
    "    \n",
    "files_278 = ['data/2020-04-16/#006*/', 'data/2020-04-14/#002*/', 'data/2020-04-14/#004*/',\n",
    "             'data/2020-04-14/#009*/', 'data/2020-04-15/#002*/', 'data/2020-04-15/#004*/',\n",
    "             'data/2020-04-15/#006*/', 'data/2020-04-16/#001*/']\n",
    "\n",
    "ds_278 = []\n",
    "for f in files_278:\n",
    "    ds_278.append(qc.load_data(glob.glob(f)[0][:-1]))\n",
    "\n",
    "Rs4824_278 = []\n",
    "Rs4748_278 = []\n",
    "b_278 = []\n",
    "for d in ds_278:\n",
    "    dlast = np.where(np.isnan(d.triton_field[:]))[0][0]\n",
    "    b_278.append(d.triton_field[:dlast])\n",
    "    Rs4824_278.append(d.lockin865_X[:dlast]/curr)\n",
    "    Rs4748_278.append(d.lockin830_X[:dlast]/curr)"
   ]
  },
  {
   "cell_type": "markdown",
   "metadata": {
    "heading_collapsed": "false"
   },
   "source": [
    "Raw plots"
   ]
  },
  {
   "cell_type": "code",
   "execution_count": 37,
   "metadata": {
    "heading_collapsed": "false"
   },
   "outputs": [
    {
     "data": {
      "application/vnd.jupyter.widget-view+json": {
       "model_id": "678151f73edb4087af3892574a0374ed",
       "version_major": 2,
       "version_minor": 0
      },
      "text/plain": [
       "Canvas(toolbar=Toolbar(toolitems=[('Home', 'Reset original view', 'home', 'home'), ('Back', 'Back to previous …"
      ]
     },
     "metadata": {},
     "output_type": "display_data"
    },
    {
     "data": {
      "text/plain": [
       "<matplotlib.legend.Legend at 0x7fa48db65d90>"
      ]
     },
     "execution_count": 37,
     "metadata": {},
     "output_type": "execute_result"
    }
   ],
   "source": [
    "plt.figure()\n",
    "for i in range(len(Ts)):\n",
    "    plt.plot(b_16[i], Rs4824_16[i], label=f'{Ts[i]} K')\n",
    "    \n",
    "plt.legend()"
   ]
  },
  {
   "cell_type": "code",
   "execution_count": 38,
   "metadata": {
    "heading_collapsed": "false"
   },
   "outputs": [
    {
     "data": {
      "application/vnd.jupyter.widget-view+json": {
       "model_id": "6d5e1775efd043a0b4c0e14b6de968e8",
       "version_major": 2,
       "version_minor": 0
      },
      "text/plain": [
       "Canvas(toolbar=Toolbar(toolitems=[('Home', 'Reset original view', 'home', 'home'), ('Back', 'Back to previous …"
      ]
     },
     "metadata": {},
     "output_type": "display_data"
    },
    {
     "data": {
      "text/plain": [
       "<matplotlib.legend.Legend at 0x7fa48e5a7190>"
      ]
     },
     "execution_count": 38,
     "metadata": {},
     "output_type": "execute_result"
    }
   ],
   "source": [
    "plt.figure()\n",
    "for i in range(len(Ts)):\n",
    "    plt.plot(b_16[i], Rs4748_16[i], label=f'{Ts[i]} K')\n",
    "    \n",
    "plt.legend()"
   ]
  },
  {
   "cell_type": "code",
   "execution_count": 39,
   "metadata": {
    "heading_collapsed": "false"
   },
   "outputs": [
    {
     "data": {
      "application/vnd.jupyter.widget-view+json": {
       "model_id": "508ecfa9b93c4cbd8ecf72837e3fb447",
       "version_major": 2,
       "version_minor": 0
      },
      "text/plain": [
       "Canvas(toolbar=Toolbar(toolitems=[('Home', 'Reset original view', 'home', 'home'), ('Back', 'Back to previous …"
      ]
     },
     "metadata": {},
     "output_type": "display_data"
    },
    {
     "data": {
      "text/plain": [
       "<matplotlib.legend.Legend at 0x7fa48e3b9070>"
      ]
     },
     "execution_count": 39,
     "metadata": {},
     "output_type": "execute_result"
    }
   ],
   "source": [
    "plt.figure()\n",
    "for i in range(len(Ts)):\n",
    "    plt.plot(b_278[i], Rs4824_278[i], label=f'{Ts[i]} K')\n",
    "    \n",
    "plt.legend()"
   ]
  },
  {
   "cell_type": "code",
   "execution_count": null,
   "metadata": {
    "heading_collapsed": "false"
   },
   "outputs": [],
   "source": []
  },
  {
   "cell_type": "code",
   "execution_count": null,
   "metadata": {},
   "outputs": [],
   "source": []
  }
 ],
 "metadata": {
  "kernelspec": {
   "display_name": "qcodes",
   "language": "python",
   "name": "qcodes"
  },
  "language_info": {
   "codemirror_mode": {
    "name": "ipython",
    "version": 3
   },
   "file_extension": ".py",
   "mimetype": "text/x-python",
   "name": "python",
   "nbconvert_exporter": "python",
   "pygments_lexer": "ipython3",
   "version": "3.8.0"
  }
 },
 "nbformat": 4,
 "nbformat_minor": 4
}
