{
 "cells": [
  {
   "cell_type": "code",
   "execution_count": 1,
   "metadata": {
    "Collapsed": "false"
   },
   "outputs": [],
   "source": [
    "import numpy as np\n",
    "import matplotlib.pyplot as plt\n",
    "from matplotlib.colors import LogNorm, SymLogNorm, DivergingNorm\n",
    "import matplotlib.colors as colors\n",
    "plt.rcParams['figure.max_open_warning'] = 500\n",
    "import qcodes as qc\n",
    "import qcodes.instrument_drivers.nplab_drivers as npd\n",
    "from scipy.optimize import curve_fit\n",
    "from scipy.interpolate import interp2d, interp1d\n",
    "from os import path\n",
    "import colorcet as cc   # install quickly with \"conda install colorcet\"\n",
    "from scipy.interpolate import RectBivariateSpline\n",
    "from matplotlib import ticker\n",
    "from scipy.ndimage import gaussian_filter\n",
    "import matplotlib as mpl\n",
    "from lmfit import Model\n",
    "import glob"
   ]
  },
  {
   "cell_type": "code",
   "execution_count": 15,
   "metadata": {
    "Collapsed": "false"
   },
   "outputs": [],
   "source": [
    "%matplotlib widget"
   ]
  },
  {
   "cell_type": "code",
   "execution_count": 3,
   "metadata": {
    "Collapsed": "false"
   },
   "outputs": [
    {
     "name": "stdout",
     "output_type": "stream",
     "text": [
      "/Users/robertpolski/Documents/NPGroupResearch/Measurements/Triton/qcodes_data\n"
     ]
    }
   ],
   "source": [
    "cd .."
   ]
  },
  {
   "cell_type": "code",
   "execution_count": 4,
   "metadata": {
    "Collapsed": "false"
   },
   "outputs": [],
   "source": [
    "figfile = 'Figures/W5_WALpeaks/'"
   ]
  },
  {
   "cell_type": "code",
   "execution_count": 5,
   "metadata": {
    "Collapsed": "false"
   },
   "outputs": [],
   "source": [
    "qc.DataSet.default_io.base_location = path.abspath('.')"
   ]
  },
  {
   "cell_type": "code",
   "execution_count": 144,
   "metadata": {
    "Collapsed": "false"
   },
   "outputs": [],
   "source": [
    "dlf1 = qc.load_data('data/2020-03-25/#003_W5_865_40-39_830_39-38_smallfieldsweep_-1Vbg_baseT_1nA_05-06-40')\n",
    "dlf0 = qc.load_data('data/2020-03-24/#018_W5_865_40-39_830_39-38_fieldsweep_-1Vbg_baseT_1nA_17-13-50')"
   ]
  },
  {
   "cell_type": "code",
   "execution_count": 145,
   "metadata": {
    "Collapsed": "false"
   },
   "outputs": [
    {
     "data": {
      "application/vnd.jupyter.widget-view+json": {
       "model_id": "769b53adb9964475bd724dad90d696df",
       "version_major": 2,
       "version_minor": 0
      },
      "text/plain": [
       "Canvas(toolbar=Toolbar(toolitems=[('Home', 'Reset original view', 'home', 'home'), ('Back', 'Back to previous …"
      ]
     },
     "metadata": {},
     "output_type": "display_data"
    },
    {
     "data": {
      "text/plain": [
       "[<matplotlib.lines.Line2D at 0x12788af10>]"
      ]
     },
     "execution_count": 145,
     "metadata": {},
     "output_type": "execute_result"
    }
   ],
   "source": [
    "plt.figure()\n",
    "plt.plot(dlf0.triton_field[:], gaussian_filter(dlf0.lockin865_X[:]/1e-9, 5))\n",
    "plt.plot(dlf0.triton_field[:], gaussian_filter(dlf0.lockin830_X[:]/1e-9, 5))\n",
    "plt.plot(dlf1.triton_field[:], gaussian_filter(dlf1.lockin865_X[:]/1e-9, 10))\n",
    "plt.plot(dlf1.triton_field[:], gaussian_filter(dlf1.lockin830_X[:]/1e-9, 5))"
   ]
  },
  {
   "cell_type": "markdown",
   "metadata": {
    "Collapsed": "false"
   },
   "source": [
    "# An attempt at WAL fitting at -6Vg"
   ]
  },
  {
   "cell_type": "markdown",
   "metadata": {
    "Collapsed": "false"
   },
   "source": [
    "Note that the 0.80 degree device is on lockin830 (contacts 39-38)"
   ]
  },
  {
   "cell_type": "code",
   "execution_count": 146,
   "metadata": {
    "Collapsed": "false"
   },
   "outputs": [
    {
     "name": "stdout",
     "output_type": "stream",
     "text": [
      "-4.972549019607843\n"
     ]
    }
   ],
   "source": [
    "V0 = 0.34\n",
    "Vgatefull = 5.1\n",
    "nu = np.interp(-6, [V0 - 7/4*Vgatefull, V0 + 7/4*Vgatefull], [-7, 7])  # the filling of -6 Vg\n",
    "print(nu)"
   ]
  },
  {
   "cell_type": "code",
   "execution_count": 147,
   "metadata": {
    "Collapsed": "false"
   },
   "outputs": [
    {
     "name": "stdout",
     "output_type": "stream",
     "text": [
      "-1.8700799275581046\n",
      "-0.3657569574403865\n"
     ]
    }
   ],
   "source": [
    "nfull = 1.504322970117718\n",
    "print(nu*nfull/4)  # the density of electrons, relative to CNP\n",
    "print(nu*nfull/4 + nfull)  # the density of electrons, relative to full filling"
   ]
  },
  {
   "cell_type": "code",
   "execution_count": 148,
   "metadata": {
    "Collapsed": "false"
   },
   "outputs": [],
   "source": [
    "dlf2 = qc.load_data('data/2020-03-24/#021_W5_865_40-39_830_39-38_fieldsweep_-6Vbg_baseT_1nA_23-47-37')\n",
    "dlast = np.where(np.isnan(dlf2.triton_field[:]))[0][0]\n",
    "b = dlf2.triton_field[:dlast]\n",
    "R = dlf2.lockin830_X[:dlast]/1e-9\n",
    "G = 1/R"
   ]
  },
  {
   "cell_type": "code",
   "execution_count": 149,
   "metadata": {
    "Collapsed": "false"
   },
   "outputs": [],
   "source": [
    "bvalsn = np.linspace(-0.4, 0, 40*3+1)\n",
    "bvalsp = np.linspace(0, 0.4, 40*3+1)\n",
    "oneside = 0.5*(np.interp(bvalsn, b, G)[::-1] + np.interp(bvalsp, b, G))\n",
    "\n",
    "bs = np.concatenate((bvalsn, bvalsp))\n",
    "Gs = np.concatenate((oneside[::-1], oneside))"
   ]
  },
  {
   "cell_type": "code",
   "execution_count": 150,
   "metadata": {
    "Collapsed": "false"
   },
   "outputs": [],
   "source": [
    "esqh = 1.602e-19**2/6.626e-34\n",
    "G0 = oneside[0]"
   ]
  },
  {
   "cell_type": "code",
   "execution_count": 151,
   "metadata": {
    "Collapsed": "false"
   },
   "outputs": [
    {
     "data": {
      "application/vnd.jupyter.widget-view+json": {
       "model_id": "df5e817bf6a8462f8823e1db5a79b7c9",
       "version_major": 2,
       "version_minor": 0
      },
      "text/plain": [
       "Canvas(toolbar=Toolbar(toolitems=[('Home', 'Reset original view', 'home', 'home'), ('Back', 'Back to previous …"
      ]
     },
     "metadata": {},
     "output_type": "display_data"
    }
   ],
   "source": [
    "plt.figure()\n",
    "# plt.plot(dlf2.triton_field[:], 1/gaussian_filter(dlf2.lockin865_X[:]/1e-9, 3))\n",
    "plt.plot(bs, (gaussian_filter(Gs, 2))/esqh, '.r')\n",
    "plt.xlabel('B (T)')\n",
    "plt.ylabel('$\\sigma(B)$ ($e^2/h$)')\n",
    "plt.savefig('lowfieldpeak_raw', dpi=300, bbox_inches='tight')"
   ]
  },
  {
   "cell_type": "code",
   "execution_count": 27,
   "metadata": {
    "Collapsed": "false"
   },
   "outputs": [],
   "source": [
    "from scipy.special import digamma"
   ]
  },
  {
   "cell_type": "code",
   "execution_count": 28,
   "metadata": {
    "Collapsed": "false"
   },
   "outputs": [],
   "source": [
    "def F(x):\n",
    "    return np.log(x) + digamma(0.5 + 1/x)\n",
    "\n",
    "def dsigma(B):\n",
    "    D = 100\n",
    "    taubinv = 4*D*1.602e-19*B/(6.626e-34/(2*np.pi))\n",
    "    tauphi = 5e-14\n",
    "    tauasy = 1e-13\n",
    "    tauso = 0.6e-15\n",
    "    return -1*1.602e-19**2/(np.pi*6.626e-34)*(F(taubinv/tauphi**-1) - F(taubinv/(tauphi**-1 + 2*tauasy**-1)) - 2*F(taubinv/(tauphi**-1 + tauso**-1)))"
   ]
  },
  {
   "cell_type": "code",
   "execution_count": 29,
   "metadata": {
    "Collapsed": "false"
   },
   "outputs": [
    {
     "data": {
      "application/vnd.jupyter.widget-view+json": {
       "model_id": "6b25866a23904c75a2cab0fe2b8ecc2f",
       "version_major": 2,
       "version_minor": 0
      },
      "text/plain": [
       "Canvas(toolbar=Toolbar(toolitems=[('Home', 'Reset original view', 'home', 'home'), ('Back', 'Back to previous …"
      ]
     },
     "metadata": {},
     "output_type": "display_data"
    },
    {
     "data": {
      "text/plain": [
       "[<matplotlib.lines.Line2D at 0x123960d10>]"
      ]
     },
     "execution_count": 29,
     "metadata": {},
     "output_type": "execute_result"
    }
   ],
   "source": [
    "plt.figure()\n",
    "x = np.linspace(0.000001, 0.01, 501)\n",
    "xs = np.concatenate((-1*x[::-1], x))\n",
    "ys = np.concatenate((dsigma(x)[::-1], dsigma(x)))\n",
    "plt.plot(xs*1000, ys/esqh)"
   ]
  },
  {
   "cell_type": "markdown",
   "metadata": {
    "Collapsed": "false"
   },
   "source": [
    "Fitting attempts"
   ]
  },
  {
   "cell_type": "code",
   "execution_count": 152,
   "metadata": {
    "Collapsed": "false"
   },
   "outputs": [
    {
     "name": "stdout",
     "output_type": "stream",
     "text": [
      "parameter names: ['D', 'tauphi', 'tauasy', 'tauso']\n",
      "independent variables: ['B']\n"
     ]
    }
   ],
   "source": [
    "def F(x):\n",
    "    return np.log(x) + digamma(0.5 + 1/x)\n",
    "\n",
    "def dsigma_fit(B, D, tauphi, tauasy, tauso):  # approximately 5e-5, 1e-15, 1e-19 (need to be in that size order but not sure of the details)\n",
    "#     D = 1e-9\n",
    "    taubinv = 4*D*1.602e-19*B/(6.626e-34/(2*np.pi))\n",
    "    return -1*1.602e-19**2/(np.pi*6.626e-34)*(F(taubinv/tauphi**-1) - F(taubinv/(tauphi**-1 + 2*tauasy**-1)) - 2*F(taubinv/(tauphi**-1 + tauso**-1)))\n",
    "\n",
    "WALmodel=Model(dsigma_fit)\n",
    "\n",
    "print('parameter names: {}'.format(WALmodel.param_names))\n",
    "print('independent variables: {}'.format(WALmodel.independent_vars))"
   ]
  },
  {
   "cell_type": "markdown",
   "metadata": {
    "Collapsed": "false"
   },
   "source": [
    "Trying with stopping at each point"
   ]
  },
  {
   "cell_type": "code",
   "execution_count": 153,
   "metadata": {
    "Collapsed": "false"
   },
   "outputs": [],
   "source": [
    "dstop = qc.load_data('data/2020-03-25/#009_W5_865_40-39_830_39-38_fieldsweep_-6Vbg_baseT_10nA_17-15-59')"
   ]
  },
  {
   "cell_type": "code",
   "execution_count": 154,
   "metadata": {
    "Collapsed": "false"
   },
   "outputs": [
    {
     "data": {
      "text/plain": [
       "201"
      ]
     },
     "execution_count": 154,
     "metadata": {},
     "output_type": "execute_result"
    }
   ],
   "source": [
    "len(dstop.lockin830_X)"
   ]
  },
  {
   "cell_type": "code",
   "execution_count": 155,
   "metadata": {
    "Collapsed": "false"
   },
   "outputs": [
    {
     "data": {
      "application/vnd.jupyter.widget-view+json": {
       "model_id": "626a596c559946d2b9f88529e4f10190",
       "version_major": 2,
       "version_minor": 0
      },
      "text/plain": [
       "Canvas(toolbar=Toolbar(toolitems=[('Home', 'Reset original view', 'home', 'home'), ('Back', 'Back to previous …"
      ]
     },
     "metadata": {},
     "output_type": "display_data"
    },
    {
     "data": {
      "text/plain": [
       "[<matplotlib.lines.Line2D at 0x1317edbd0>]"
      ]
     },
     "execution_count": 155,
     "metadata": {},
     "output_type": "execute_result"
    }
   ],
   "source": [
    "plt.figure()  # it took 54 minutes to do this one sweep with 201 pts.\n",
    "plt.plot(dstop.triton_field_set_stable_set, (1/(dstop.lockin830_X[:]/10e-9) - G0)/esqh, '.')"
   ]
  },
  {
   "cell_type": "markdown",
   "metadata": {
    "Collapsed": "false"
   },
   "source": [
    "# Other gate points"
   ]
  },
  {
   "cell_type": "code",
   "execution_count": 156,
   "metadata": {
    "Collapsed": "false"
   },
   "outputs": [],
   "source": [
    "dlf3 = qc.load_data('data/2020-03-24/#019_W5_865_40-39_830_39-38_fieldsweep_-2Vbg_baseT_1nA_19-25-00')"
   ]
  },
  {
   "cell_type": "code",
   "execution_count": 157,
   "metadata": {
    "Collapsed": "false"
   },
   "outputs": [
    {
     "data": {
      "application/vnd.jupyter.widget-view+json": {
       "model_id": "a9d130a0bb9b4beebd0d350a56ba7db7",
       "version_major": 2,
       "version_minor": 0
      },
      "text/plain": [
       "Canvas(toolbar=Toolbar(toolitems=[('Home', 'Reset original view', 'home', 'home'), ('Back', 'Back to previous …"
      ]
     },
     "metadata": {},
     "output_type": "display_data"
    },
    {
     "data": {
      "text/plain": [
       "[<matplotlib.lines.Line2D at 0x131800810>]"
      ]
     },
     "execution_count": 157,
     "metadata": {},
     "output_type": "execute_result"
    }
   ],
   "source": [
    "plt.figure()\n",
    "plt.plot(dlf3.triton_field[:], gaussian_filter(dlf3.lockin865_X[:]/1e-9, 3))\n",
    "plt.plot(dlf3.triton_field[:], gaussian_filter(dlf3.lockin830_X[:]/1e-9, 3))"
   ]
  },
  {
   "cell_type": "code",
   "execution_count": 158,
   "metadata": {
    "Collapsed": "false"
   },
   "outputs": [],
   "source": [
    "dlf4 = qc.load_data('data/2020-03-24/#017_W5_865_40-39_830_39-38_fieldsweep_2Vbg_baseT_1nA_15-02-38')"
   ]
  },
  {
   "cell_type": "code",
   "execution_count": 159,
   "metadata": {
    "Collapsed": "false"
   },
   "outputs": [
    {
     "data": {
      "application/vnd.jupyter.widget-view+json": {
       "model_id": "55c91ae8631c4cfc84f7ed2d493691bd",
       "version_major": 2,
       "version_minor": 0
      },
      "text/plain": [
       "Canvas(toolbar=Toolbar(toolitems=[('Home', 'Reset original view', 'home', 'home'), ('Back', 'Back to previous …"
      ]
     },
     "metadata": {},
     "output_type": "display_data"
    },
    {
     "data": {
      "text/plain": [
       "[<matplotlib.lines.Line2D at 0x13174fd90>]"
      ]
     },
     "execution_count": 159,
     "metadata": {},
     "output_type": "execute_result"
    }
   ],
   "source": [
    "plt.figure()\n",
    "plt.plot(dlf4.triton_field[:], gaussian_filter(dlf4.lockin865_X[:]/1e-9, 3))\n",
    "plt.plot(dlf4.triton_field[:], gaussian_filter(dlf4.lockin830_X[:]/1e-9, 3))"
   ]
  },
  {
   "cell_type": "code",
   "execution_count": 160,
   "metadata": {
    "Collapsed": "false"
   },
   "outputs": [],
   "source": [
    "dlf5 = qc.load_data('data/2020-03-24/#020_W5_865_40-39_830_39-38_fieldsweep_-3Vbg_baseT_1nA_21-36-10')"
   ]
  },
  {
   "cell_type": "code",
   "execution_count": 161,
   "metadata": {
    "Collapsed": "false"
   },
   "outputs": [
    {
     "data": {
      "application/vnd.jupyter.widget-view+json": {
       "model_id": "84a9ee52367c455a92beacda66f8ad65",
       "version_major": 2,
       "version_minor": 0
      },
      "text/plain": [
       "Canvas(toolbar=Toolbar(toolitems=[('Home', 'Reset original view', 'home', 'home'), ('Back', 'Back to previous …"
      ]
     },
     "metadata": {},
     "output_type": "display_data"
    },
    {
     "data": {
      "text/plain": [
       "[<matplotlib.lines.Line2D at 0x13f84ccd0>]"
      ]
     },
     "execution_count": 161,
     "metadata": {},
     "output_type": "execute_result"
    }
   ],
   "source": [
    "plt.figure()\n",
    "plt.plot(dlf5.triton_field[:], 1/gaussian_filter(dlf5.lockin865_X[:]/1e-9, 3))\n",
    "plt.plot(dlf5.triton_field[:], 1/gaussian_filter(dlf5.lockin830_X[:]/1e-9, 3))"
   ]
  },
  {
   "cell_type": "markdown",
   "metadata": {
    "Collapsed": "true"
   },
   "source": [
    "# Attempting low fields, an ensemble, near -6 to -7Vg"
   ]
  },
  {
   "cell_type": "code",
   "execution_count": 162,
   "metadata": {
    "Collapsed": "false"
   },
   "outputs": [],
   "source": [
    "filenames0 = sorted(glob.glob('data/2020-03-25/#*/'))[-5:]\n",
    "filenames1 = sorted(glob.glob('data/2020-03-26/#*/'))[:36]"
   ]
  },
  {
   "cell_type": "code",
   "execution_count": 163,
   "metadata": {
    "Collapsed": "false"
   },
   "outputs": [],
   "source": [
    "# make one for each lockin (just look at X since the resistance is low)\n",
    "dN = 501\n",
    "f0rows = len(filenames0)\n",
    "rows = len(filenames0) + len(filenames1)\n",
    "totarray830 = np.zeros((rows, dN))\n",
    "totarray865 = np.zeros((rows, dN))\n",
    "bpts = np.linspace(-0.05, 0.05, dN)\n",
    "gpts = np.linspace(-6, -6.8, 41)\n",
    "\n",
    "d0 = qc.load_data(filenames0[0][:-1])\n",
    "dlast = np.where(np.isnan(d0.triton_field[:]))[0][0]\n",
    "d830_0 = np.interp(bpts, d0.triton_field[:dlast], d0.lockin830_X[:dlast])\n",
    "d865_0 = np.interp(bpts, d0.triton_field[:dlast], d0.lockin865_X[:dlast])\n",
    "\n",
    "for i, f in enumerate(filenames0):\n",
    "    data = qc.load_data(f[:-1])\n",
    "    dlast = np.where(np.isnan(data.triton_field[:]))[0][0]\n",
    "    totarray830[i, :] = np.interp(bpts, data.triton_field[:dlast], data.lockin830_X[:dlast]) - np.average(data.lockin830_X[:dlast]) + np.average(d830_0)\n",
    "    totarray865[i, :] = np.interp(bpts, data.triton_field[:dlast], data.lockin865_X[:dlast]) - np.average(data.lockin865_X[:dlast]) + np.average(d865_0)\n",
    "    \n",
    "for i, f in enumerate(filenames1):\n",
    "    data = qc.load_data(f[:-1])\n",
    "    dlast = np.where(np.isnan(data.triton_field[:]))[0][0]\n",
    "    totarray830[f0rows + i, :] = np.interp(bpts, data.triton_field[:dlast], data.lockin830_X[:dlast]) - np.average(data.lockin830_X[:dlast]) + np.average(d830_0)\n",
    "    totarray865[f0rows + i, :] = np.interp(bpts, data.triton_field[:dlast], data.lockin865_X[:dlast]) - np.average(data.lockin865_X[:dlast]) + np.average(d865_0)"
   ]
  },
  {
   "cell_type": "code",
   "execution_count": 164,
   "metadata": {
    "Collapsed": "false"
   },
   "outputs": [
    {
     "data": {
      "text/plain": [
       "0.00025"
      ]
     },
     "execution_count": 164,
     "metadata": {},
     "output_type": "execute_result"
    }
   ],
   "source": [
    "0.1/400"
   ]
  },
  {
   "cell_type": "code",
   "execution_count": 165,
   "metadata": {
    "Collapsed": "false"
   },
   "outputs": [
    {
     "data": {
      "application/vnd.jupyter.widget-view+json": {
       "model_id": "767982755d044769ac62f7162ef63ba9",
       "version_major": 2,
       "version_minor": 0
      },
      "text/plain": [
       "Canvas(toolbar=Toolbar(toolitems=[('Home', 'Reset original view', 'home', 'home'), ('Back', 'Back to previous …"
      ]
     },
     "metadata": {},
     "output_type": "display_data"
    },
    {
     "data": {
      "text/plain": [
       "Text(0, 0.5, 'V$_g$')"
      ]
     },
     "execution_count": 165,
     "metadata": {},
     "output_type": "execute_result"
    }
   ],
   "source": [
    "plt.figure()  # electrodes 39-38\n",
    "plt.pcolormesh(bpts*1000, gpts, 1/(totarray830/10e-9)/esqh, cmap=cc.cm.linear_kryw_0_100_c71)\n",
    "plt.colorbar(label='$\\sigma$ ($e^2/h$)')\n",
    "plt.xlabel('B (mT)')\n",
    "plt.ylabel('V$_g$')\n",
    "# plt.savefig(figfile + 'WAL_2Dplot_3K', dpi=300, bbox_inches='tight')"
   ]
  },
  {
   "cell_type": "code",
   "execution_count": 166,
   "metadata": {
    "Collapsed": "false"
   },
   "outputs": [],
   "source": [
    "# np.savetxt('AnalysisNotebooks/W5bsweepsmall39-38_10nA_3K.txt', totarray830, fmt='%.9e', header='#array of lockin830 voltage readings (divide by 10e-9 to get Rxx) at 3K for electrodes 39-38, with axis 0 being backgate voltage from -6 (top) to -6.8 (bottom), every 0.02 V (41 pts)  and field from -50 to 50 mT, every 0.2 mT (501 pts)')"
   ]
  },
  {
   "cell_type": "code",
   "execution_count": 167,
   "metadata": {
    "Collapsed": "false"
   },
   "outputs": [
    {
     "data": {
      "application/vnd.jupyter.widget-view+json": {
       "model_id": "6691e88605894cf6b2a57f2d296a10c2",
       "version_major": 2,
       "version_minor": 0
      },
      "text/plain": [
       "Canvas(toolbar=Toolbar(toolitems=[('Home', 'Reset original view', 'home', 'home'), ('Back', 'Back to previous …"
      ]
     },
     "metadata": {},
     "output_type": "display_data"
    },
    {
     "data": {
      "text/plain": [
       "Text(0, 0.5, '$\\\\sigma$ ($e^2/h$)')"
      ]
     },
     "execution_count": 167,
     "metadata": {},
     "output_type": "execute_result"
    }
   ],
   "source": [
    "# average\n",
    "plt.figure()\n",
    "plt.plot(bpts*1000, 1/np.average(totarray830[10:, :]/10e-9, axis=0)/esqh)\n",
    "# plt.plot(bpts, 1/(totarray830[20, :]/10e-9)/esqh)\n",
    "# plt.plot(bpts, 1/np.average(totarray865/10e-9, axis=0)/esqh)\n",
    "# plt.plot(bpts, 1/np.average(totarray865[:5, :]/10e-9, axis=0)/esqh)\n",
    "plt.axis([-30, 30, 70, 74])\n",
    "plt.xlabel('B (mT)')\n",
    "plt.ylabel('$\\sigma$ ($e^2/h$)')\n",
    "# plt.savefig(figfile + 'ensembleaverage_dispersive_3K_2_zoom', dpi=300, bbox_inches='tight')"
   ]
  },
  {
   "cell_type": "code",
   "execution_count": 168,
   "metadata": {
    "Collapsed": "false"
   },
   "outputs": [
    {
     "data": {
      "application/vnd.jupyter.widget-view+json": {
       "model_id": "946f2331feb8462595656c34860df4aa",
       "version_major": 2,
       "version_minor": 0
      },
      "text/plain": [
       "Canvas(toolbar=Toolbar(toolitems=[('Home', 'Reset original view', 'home', 'home'), ('Back', 'Back to previous …"
      ]
     },
     "metadata": {},
     "output_type": "display_data"
    },
    {
     "data": {
      "text/plain": [
       "<matplotlib.colorbar.Colorbar at 0x146239f50>"
      ]
     },
     "execution_count": 168,
     "metadata": {},
     "output_type": "execute_result"
    }
   ],
   "source": [
    "plt.figure()  # electrodes 40-39\n",
    "plt.pcolormesh(bpts, gpts, totarray865/10e-9, cmap=cc.cm.linear_kryw_0_100_c71)\n",
    "plt.colorbar()"
   ]
  },
  {
   "cell_type": "code",
   "execution_count": 169,
   "metadata": {
    "Collapsed": "false"
   },
   "outputs": [],
   "source": [
    "# np.savetxt('AnalysisNotebooks/W5bsweepsmall40-39_10nA_3K.txt', totarray830, fmt='%.9e', header='#array of lockin830 voltage readings (divide by 10e-9 to get Rxx) at 3K for electrodes 39-38, with axis 0 being backgate voltage from -6 (top) to -6.8 (bottom), every 0.02 V (41 pts)  and field from -50 to 50 mT, every 0.2 mT (501 pts)')"
   ]
  },
  {
   "cell_type": "code",
   "execution_count": 170,
   "metadata": {
    "Collapsed": "false"
   },
   "outputs": [
    {
     "data": {
      "application/vnd.jupyter.widget-view+json": {
       "model_id": "2372b5e19b304e1b8d51e06bccd30e90",
       "version_major": 2,
       "version_minor": 0
      },
      "text/plain": [
       "Canvas(toolbar=Toolbar(toolitems=[('Home', 'Reset original view', 'home', 'home'), ('Back', 'Back to previous …"
      ]
     },
     "metadata": {},
     "output_type": "display_data"
    },
    {
     "data": {
      "text/plain": [
       "[<matplotlib.lines.Line2D at 0x14608a690>]"
      ]
     },
     "execution_count": 170,
     "metadata": {},
     "output_type": "execute_result"
    }
   ],
   "source": [
    "plt.figure()\n",
    "plt.plot(bpts, 1/np.average(totarray865/10e-9, axis=0))"
   ]
  },
  {
   "cell_type": "code",
   "execution_count": 171,
   "metadata": {
    "Collapsed": "false"
   },
   "outputs": [
    {
     "data": {
      "application/vnd.jupyter.widget-view+json": {
       "model_id": "469fc483caf449b9a9d096684b916dcf",
       "version_major": 2,
       "version_minor": 0
      },
      "text/plain": [
       "Canvas(toolbar=Toolbar(toolitems=[('Home', 'Reset original view', 'home', 'home'), ('Back', 'Back to previous …"
      ]
     },
     "metadata": {},
     "output_type": "display_data"
    },
    {
     "data": {
      "text/plain": [
       "Text(0, 0.5, '$\\\\sigma(B) - \\\\sigma(0)$ ($e^2/h$)')"
      ]
     },
     "execution_count": 171,
     "metadata": {},
     "output_type": "execute_result"
    }
   ],
   "source": [
    "plt.figure()\n",
    "# plt.plot(dlf2.triton_field[:], 1/gaussian_filter(dlf2.lockin865_X[:]/1e-9, 3))\n",
    "# plt.plot(bs, (gaussian_filter(Gs, 2) - G0)/esqh, '.r')\n",
    "plt.plot(bpts, (1/np.average(totarray830[1:2, :]/10e-9, axis=0) - G0)/esqh, '.b')\n",
    "plt.plot(b, (gaussian_filter(G, 2) - G0)/esqh, '.k')\n",
    "plt.plot(dstop.triton_field_set_stable_set, (1/(dstop.lockin830_X[:]/10e-9) - G0)/esqh, '.r')\n",
    "plt.xlabel('B (T)')\n",
    "plt.ylabel('$\\sigma(B) - \\sigma(0)$ ($e^2/h$)')\n",
    "# plt.axis((-0.5, 0.5, -40, 5))\n",
    "# plt.axis(a)\n",
    "# plt.savefig('lowfieldpeak_withoriginal', dpi=300, bbox_inches='tight')"
   ]
  },
  {
   "cell_type": "markdown",
   "metadata": {
    "Collapsed": "false"
   },
   "source": [
    "# Now at -2 Vg"
   ]
  },
  {
   "cell_type": "code",
   "execution_count": 51,
   "metadata": {
    "Collapsed": "false"
   },
   "outputs": [
    {
     "name": "stdout",
     "output_type": "stream",
     "text": [
      "-1.8352941176470585\n",
      "-0.6902187745245999\n"
     ]
    }
   ],
   "source": [
    "V0 = 0.34\n",
    "Vgatefull = 5.1\n",
    "nu = np.interp(-2, [V0 - 7/4*Vgatefull, V0 + 7/4*Vgatefull], [-7, 7])  # the filling of -6 Vg\n",
    "print(nu)\n",
    "nfull = 1.504322970117718\n",
    "print(nu*nfull/4)  # the density of electrons, relative to CNP in 10^12 /cm^2"
   ]
  },
  {
   "cell_type": "markdown",
   "metadata": {
    "Collapsed": "false"
   },
   "source": [
    "## Base Temperature"
   ]
  },
  {
   "cell_type": "markdown",
   "metadata": {
    "Collapsed": "false"
   },
   "source": [
    "First a single point"
   ]
  },
  {
   "cell_type": "code",
   "execution_count": 52,
   "metadata": {
    "Collapsed": "false"
   },
   "outputs": [],
   "source": [
    "dn2 = qc.load_data('data/2020-03-26/#038_W5_865_40-39_830_39-38_smallfieldsweep_-2Vbg_baseT_10nA_13-15-03')\n",
    "dn2last = np.where(np.isnan(dn2.triton_field))[0][0]\n",
    "bn2 = dn2.triton_field[:dn2last]"
   ]
  },
  {
   "cell_type": "code",
   "execution_count": 53,
   "metadata": {
    "Collapsed": "false"
   },
   "outputs": [
    {
     "data": {
      "application/vnd.jupyter.widget-view+json": {
       "model_id": "5ea6314cd93f4e94a033b65537bf0b44",
       "version_major": 2,
       "version_minor": 0
      },
      "text/plain": [
       "Canvas(toolbar=Toolbar(toolitems=[('Home', 'Reset original view', 'home', 'home'), ('Back', 'Back to previous …"
      ]
     },
     "metadata": {},
     "output_type": "display_data"
    }
   ],
   "source": [
    "plt.figure()\n",
    "plt.plot(dn2.triton_field[:]*1000, 1/(dn2.lockin865_X[:]/10e-9)/esqh)\n",
    "plt.axis((-20, 20, 38, 39.2))\n",
    "plt.ylabel('$\\sigma (B)$ ($e^2/h$)')\n",
    "plt.xlabel('B (mT)')\n",
    "plt.savefig(figfile + 'W5_40-39_-2Vbg.png', dpi=300, bbox_inches='tight')"
   ]
  },
  {
   "cell_type": "code",
   "execution_count": 54,
   "metadata": {
    "Collapsed": "false"
   },
   "outputs": [],
   "source": [
    "# Now do the same averaging with the latest data from different gate points.\n",
    "files_n2 = sorted(glob.glob('data/2020-03-26/#*/'))[53:58]"
   ]
  },
  {
   "cell_type": "code",
   "execution_count": 55,
   "metadata": {
    "Collapsed": "false",
    "collapsed": true,
    "jupyter": {
     "outputs_hidden": true
    }
   },
   "outputs": [
    {
     "data": {
      "text/plain": [
       "['data/2020-03-26/#054_W5_865_40-39_830_39-38_baseT_WALfieldsw_Vbg-1.74_10nA_20-57-58/',\n",
       " 'data/2020-03-26/#055_W5_865_40-39_830_39-38_baseT_WALfieldsw_Vbg-1.76_10nA_21-19-35/',\n",
       " 'data/2020-03-26/#056_W5_865_40-39_830_39-38_baseT_WALfieldsw_Vbg-1.78_10nA_21-41-15/',\n",
       " 'data/2020-03-26/#057_W5_865_40-39_830_39-38_baseT_WALfieldsw_Vbg-1.80_10nA_22-02-54/',\n",
       " 'data/2020-03-26/#058_W5_865_40-39_830_39-38_baseT_WALfieldsw_Vbg-1.82_10nA_22-24-33/']"
      ]
     },
     "execution_count": 55,
     "metadata": {},
     "output_type": "execute_result"
    }
   ],
   "source": [
    "files_n2  # just the files where the data range is -50 to 50 mT"
   ]
  },
  {
   "cell_type": "code",
   "execution_count": 56,
   "metadata": {
    "Collapsed": "false",
    "collapsed": true,
    "jupyter": {
     "outputs_hidden": true
    }
   },
   "outputs": [
    {
     "data": {
      "text/plain": [
       "['data/2020-03-26/#059_W5_865_40-39_830_39-38_baseT_WALfieldsw_Vbg-1.84_10nA_22-48-21/',\n",
       " 'data/2020-03-26/#060_W5_865_40-39_830_39-38_baseT_WALfieldsw_Vbg-1.86_10nA_22-59-27/',\n",
       " 'data/2020-03-26/#061_W5_865_40-39_830_39-38_baseT_WALfieldsw_Vbg-1.88_10nA_23-10-33/',\n",
       " 'data/2020-03-26/#062_W5_865_40-39_830_39-38_baseT_WALfieldsw_Vbg-1.90_10nA_23-21-41/',\n",
       " 'data/2020-03-26/#063_W5_865_40-39_830_39-38_baseT_WALfieldsw_Vbg-1.92_10nA_23-32-49/',\n",
       " 'data/2020-03-26/#064_W5_865_40-39_830_39-38_baseT_WALfieldsw_Vbg-1.94_10nA_23-43-56/',\n",
       " 'data/2020-03-26/#065_W5_865_40-39_830_39-38_baseT_WALfieldsw_Vbg-1.96_10nA_23-55-01/']"
      ]
     },
     "execution_count": 56,
     "metadata": {},
     "output_type": "execute_result"
    }
   ],
   "source": [
    "sorted(glob.glob('data/2020-03-26/#*/'))[58:]"
   ]
  },
  {
   "cell_type": "code",
   "execution_count": 57,
   "metadata": {
    "Collapsed": "false"
   },
   "outputs": [],
   "source": [
    "files_n2_1 = sorted(glob.glob('data/2020-03-26/#*/'))[58:65]  # at slightly smaller field range of -/+25 mT"
   ]
  },
  {
   "cell_type": "code",
   "execution_count": 58,
   "metadata": {
    "Collapsed": "false",
    "collapsed": true,
    "jupyter": {
     "outputs_hidden": true
    }
   },
   "outputs": [
    {
     "data": {
      "text/plain": [
       "['data/2020-03-26/#059_W5_865_40-39_830_39-38_baseT_WALfieldsw_Vbg-1.84_10nA_22-48-21/',\n",
       " 'data/2020-03-26/#060_W5_865_40-39_830_39-38_baseT_WALfieldsw_Vbg-1.86_10nA_22-59-27/',\n",
       " 'data/2020-03-26/#061_W5_865_40-39_830_39-38_baseT_WALfieldsw_Vbg-1.88_10nA_23-10-33/',\n",
       " 'data/2020-03-26/#062_W5_865_40-39_830_39-38_baseT_WALfieldsw_Vbg-1.90_10nA_23-21-41/',\n",
       " 'data/2020-03-26/#063_W5_865_40-39_830_39-38_baseT_WALfieldsw_Vbg-1.92_10nA_23-32-49/',\n",
       " 'data/2020-03-26/#064_W5_865_40-39_830_39-38_baseT_WALfieldsw_Vbg-1.94_10nA_23-43-56/',\n",
       " 'data/2020-03-26/#065_W5_865_40-39_830_39-38_baseT_WALfieldsw_Vbg-1.96_10nA_23-55-01/']"
      ]
     },
     "execution_count": 58,
     "metadata": {},
     "output_type": "execute_result"
    }
   ],
   "source": [
    "files_n2_1"
   ]
  },
  {
   "cell_type": "code",
   "execution_count": 59,
   "metadata": {
    "Collapsed": "false",
    "collapsed": true,
    "jupyter": {
     "outputs_hidden": true
    }
   },
   "outputs": [
    {
     "data": {
      "text/plain": [
       "['data/2020-03-27/#001_W5_865_40-39_830_39-38_baseT_WALfieldsw_Vbg-1.98_10nA_00-06-06/',\n",
       " 'data/2020-03-27/#002_W5_865_40-39_830_39-38_baseT_WALfieldsw_Vbg-2.00_10nA_00-17-12/',\n",
       " 'data/2020-03-27/#003_W5_865_40-39_830_39-38_baseT_WALfieldsw_Vbg-2.02_10nA_00-28-18/',\n",
       " 'data/2020-03-27/#004_W5_865_40-39_830_39-38_baseT_WALfieldsw_Vbg-2.04_10nA_00-39-22/',\n",
       " 'data/2020-03-27/#005_W5_865_40-39_830_39-38_baseT_WALfieldsw_Vbg-2.06_10nA_00-50-29/',\n",
       " 'data/2020-03-27/#006_W5_865_40-39_830_39-38_baseT_WALfieldsw_Vbg-2.08_10nA_01-01-35/',\n",
       " 'data/2020-03-27/#007_W5_865_40-39_830_39-38_baseT_WALfieldsw_Vbg-2.10_10nA_01-12-42/',\n",
       " 'data/2020-03-27/#008_W5_865_40-39_830_39-38_baseT_WALfieldsw_Vbg-2.12_10nA_01-23-48/',\n",
       " 'data/2020-03-27/#009_W5_865_40-39_830_39-38_baseT_WALfieldsw_Vbg-2.14_10nA_01-34-56/',\n",
       " 'data/2020-03-27/#010_W5_865_40-39_830_39-38_baseT_WALfieldsw_Vbg-2.16_10nA_01-46-00/',\n",
       " 'data/2020-03-27/#011_W5_865_40-39_830_39-38_baseT_WALfieldsw_Vbg-2.18_10nA_01-57-08/',\n",
       " 'data/2020-03-27/#012_W5_865_40-39_830_39-38_baseT_WALfieldsw_Vbg-2.20_10nA_02-08-16/',\n",
       " 'data/2020-03-27/#013_W5_865_40-39_830_39-38_baseT_WALfieldsw_Vbg-2.22_10nA_02-19-22/',\n",
       " 'data/2020-03-27/#014_W5_865_40-39_830_39-38_baseT_WALfieldsw_Vbg-2.24_10nA_02-30-26/',\n",
       " 'data/2020-03-27/#015_W5_865_40-39_830_39-38_baseT_WALfieldsw_Vbg-2.26_10nA_02-41-32/',\n",
       " 'data/2020-03-27/#016_W5_865_40-39_830_39-38_baseT_WALfieldsw_Vbg-2.28_10nA_02-52-38/',\n",
       " 'data/2020-03-27/#017_W5_865_40-39_830_39-38_baseT_WALfieldsw_Vbg-2.30_10nA_03-03-45/',\n",
       " 'data/2020-03-27/#018_W5_865_40-39_830_39-38_baseT_WALfieldsw_Vbg-2.32_10nA_03-14-52/',\n",
       " 'data/2020-03-27/#019_W5_865_40-39_830_39-38_baseT_WALfieldsw_Vbg-2.34_10nA_03-26-00/']"
      ]
     },
     "execution_count": 59,
     "metadata": {},
     "output_type": "execute_result"
    }
   ],
   "source": [
    "files_n2_2 = sorted(glob.glob('data/2020-03-27/#*/'))[:19]\n",
    "files_n2_2"
   ]
  },
  {
   "cell_type": "code",
   "execution_count": 60,
   "metadata": {
    "Collapsed": "false"
   },
   "outputs": [
    {
     "data": {
      "text/plain": [
       "517"
      ]
     },
     "execution_count": 60,
     "metadata": {},
     "output_type": "execute_result"
    }
   ],
   "source": [
    "d0 = qc.load_data(files_n2[0][:-1])\n",
    "dlast = np.where(np.isnan(d0.triton_field))[0][0]\n",
    "len(d0.triton_field[:dlast])  # Use 501 pts for the range. Now only use -/+ 25 mT, 251 pts"
   ]
  },
  {
   "cell_type": "code",
   "execution_count": 61,
   "metadata": {
    "Collapsed": "false"
   },
   "outputs": [
    {
     "data": {
      "text/plain": [
       "259"
      ]
     },
     "execution_count": 61,
     "metadata": {},
     "output_type": "execute_result"
    }
   ],
   "source": [
    "d1 = qc.load_data(files_n2_1[0][:-1])\n",
    "dlast = np.where(np.isnan(d1.triton_field))[0][0]\n",
    "dlast   # so use 251 interpolated points, since the field sweep rate is the same"
   ]
  },
  {
   "cell_type": "code",
   "execution_count": 62,
   "metadata": {
    "Collapsed": "false"
   },
   "outputs": [],
   "source": [
    "nB_0 = 501\n",
    "barr_0 = np.linspace(-0.05, 0.05, nB_0)  # we will trim this down later when we combine arrays.\n",
    "garr_0 = np.array([-1.74, -1.76, -1.78, -1.8, -1.82])  # add -2 into the front and uncomment the lines below if you want it to +/-50mT\n",
    "ng_0 = len(garr_0)\n",
    "arrayn2_830 = np.zeros((ng_0, nB_0))\n",
    "arrayn2_865 = np.zeros((ng_0, nB_0))\n",
    "\n",
    "# arrayn2_830[0, :] = np.interp(barr_0, bn2, dn2.lockin830_X[:dn2last])\n",
    "# arrayn2_865[0, :] = np.interp(barr_0, bn2, dn2.lockin865_X[:dn2last])\n",
    "\n",
    "for i, f in enumerate(files_n2):\n",
    "    data = qc.load_data(f[:-1])\n",
    "    dlast = np.where(np.isnan(data.triton_field))[0][0]\n",
    "    b = data.triton_field[:dlast]\n",
    "    arrayn2_830[i, :] = np.interp(barr_0, b, data.lockin830_X[:dlast])\n",
    "    arrayn2_865[i, :] = np.interp(barr_0, b, data.lockin865_X[:dlast])\n"
   ]
  },
  {
   "cell_type": "code",
   "execution_count": 63,
   "metadata": {
    "Collapsed": "false"
   },
   "outputs": [],
   "source": [
    "nB = 251\n",
    "barr = np.linspace(-0.025, 0.025, nB)  # we will trim this down later when we combine arrays.\n",
    "garr_1 = np.array([-1.84, -1.86, -1.88, -1.90, -1.92, -1.94, -1.96])\n",
    "ng_1 = len(garr_1)\n",
    "garr_2 = np.linspace(-1.98, -2.34, 19) #np.array([-1.98, -2.0, -2.02, -2.04, -2.06])\n",
    "ng_2 = len(garr_2)\n",
    "arrayn2_830_1 = np.zeros((ng_1 + ng_2, nB))\n",
    "arrayn2_865_1 = np.zeros((ng_1 + ng_2, nB))\n",
    "\n",
    "for i, f in enumerate(files_n2_1):\n",
    "    data = qc.load_data(f[:-1])\n",
    "    dlast = np.where(np.isnan(data.triton_field))[0][0]\n",
    "    b = data.triton_field[:dlast]\n",
    "    arrayn2_830_1[i, :] = np.interp(barr, b, data.lockin830_X[:dlast])\n",
    "    arrayn2_865_1[i, :] = np.interp(barr, b, data.lockin865_X[:dlast])\n",
    "    \n",
    "for i, f in enumerate(files_n2_2):\n",
    "    data = qc.load_data(f[:-1])\n",
    "    dlast = np.where(np.isnan(data.triton_field))[0][0]\n",
    "    b = data.triton_field[:dlast]\n",
    "    arrayn2_830_1[ng_1 + i, :] = np.interp(barr, b, data.lockin830_X[:dlast])\n",
    "    arrayn2_865_1[ng_1 + i, :] = np.interp(barr, b, data.lockin865_X[:dlast])"
   ]
  },
  {
   "cell_type": "code",
   "execution_count": 64,
   "metadata": {
    "Collapsed": "false"
   },
   "outputs": [],
   "source": [
    "totgs = np.concatenate((garr_0, garr_1, garr_2))\n",
    "totarrayn2_830 = np.vstack((arrayn2_830[:, 125:376], arrayn2_830_1))\n",
    "totarrayn2_865 = np.vstack((arrayn2_865[:, 125:376], arrayn2_865_1))"
   ]
  },
  {
   "cell_type": "code",
   "execution_count": 65,
   "metadata": {
    "Collapsed": "false"
   },
   "outputs": [
    {
     "data": {
      "text/plain": [
       "(31, 251)"
      ]
     },
     "execution_count": 65,
     "metadata": {},
     "output_type": "execute_result"
    }
   ],
   "source": [
    "totarrayn2_865.shape"
   ]
  },
  {
   "cell_type": "code",
   "execution_count": 139,
   "metadata": {
    "Collapsed": "false"
   },
   "outputs": [],
   "source": [
    "# Note that index 11 (Vg = -1.96) is bad\n",
    "np.savetxt('AnalysisNotebooks/W5_WAL_arrays/W5_10nA_-2Vbg_baseT_40-39.txt', totarrayn2_865, fmt='%.8e', header='#array of lockin865 voltage readings (divide by 10e-9 to get Rxx) at base Temp for electrodes 40-39, with axis 0 being backgate voltage from -1.74 (top) to -2.34 (bottom)--here note that index 11 (-1.96 Vbg) was stopped partway so should be excluded-- every 0.02 V (31 pts) and field from -25 to 25 mT, every 0.2 mT (251 pts)')\n",
    "np.savetxt('AnalysisNotebooks/W5_WAL_arrays/W5_10nA_-2Vbg_baseT_39-38.txt', totarrayn2_830, fmt='%.8e', header='#array of lockin830 voltage readings (divide by 10e-9 to get Rxx) at base Temp for electrodes 39-38, with axis 0 being backgate voltage from -1.74 (top) to -2.34 (bottom)--here note that index 11 (-1.96 Vbg) was stopped partway so should be excluded-- every 0.02 V (31 pts) and field from -25 to 25 mT, every 0.2 mT (251 pts)')"
   ]
  },
  {
   "cell_type": "code",
   "execution_count": 66,
   "metadata": {
    "Collapsed": "false"
   },
   "outputs": [
    {
     "data": {
      "text/plain": [
       "array([-1.74, -1.76, -1.78, -1.8 , -1.82, -1.84, -1.86, -1.88, -1.9 ,\n",
       "       -1.92, -1.94, -1.96, -1.98, -2.  , -2.02, -2.04, -2.06, -2.08,\n",
       "       -2.1 , -2.12, -2.14, -2.16, -2.18, -2.2 , -2.22, -2.24, -2.26,\n",
       "       -2.28, -2.3 , -2.32, -2.34])"
      ]
     },
     "execution_count": 66,
     "metadata": {},
     "output_type": "execute_result"
    }
   ],
   "source": [
    "totgs"
   ]
  },
  {
   "cell_type": "code",
   "execution_count": 132,
   "metadata": {
    "Collapsed": "false"
   },
   "outputs": [
    {
     "data": {
      "application/vnd.jupyter.widget-view+json": {
       "model_id": "ae409176dd31400cb323fbf9545221b6",
       "version_major": 2,
       "version_minor": 0
      },
      "text/plain": [
       "Canvas(toolbar=Toolbar(toolitems=[('Home', 'Reset original view', 'home', 'home'), ('Back', 'Back to previous …"
      ]
     },
     "metadata": {},
     "output_type": "display_data"
    },
    {
     "data": {
      "text/plain": [
       "<matplotlib.legend.Legend at 0x12a1f3350>"
      ]
     },
     "execution_count": 132,
     "metadata": {},
     "output_type": "execute_result"
    }
   ],
   "source": [
    "plt.figure()\n",
    "for i in range(12):\n",
    "    G830 = 1/(totarrayn2_830[i, :]/10e-9)\n",
    "    plt.plot(barr*1000, G830/esqh, label='{} V'.format(totgs[i]))\n",
    "    \n",
    "plt.legend()"
   ]
  },
  {
   "cell_type": "code",
   "execution_count": 68,
   "metadata": {
    "Collapsed": "false"
   },
   "outputs": [
    {
     "data": {
      "application/vnd.jupyter.widget-view+json": {
       "model_id": "3855414f189e4169a1ee81b96cc28035",
       "version_major": 2,
       "version_minor": 0
      },
      "text/plain": [
       "Canvas(toolbar=Toolbar(toolitems=[('Home', 'Reset original view', 'home', 'home'), ('Back', 'Back to previous …"
      ]
     },
     "metadata": {},
     "output_type": "display_data"
    },
    {
     "data": {
      "text/plain": [
       "[<matplotlib.lines.Line2D at 0x12780a7d0>]"
      ]
     },
     "execution_count": 68,
     "metadata": {},
     "output_type": "execute_result"
    }
   ],
   "source": [
    "plt.figure()\n",
    "plt.plot(barr*1000, 1/np.average(totarrayn2_830[1:, :]/10e-9, axis=0)/esqh, '.k')  # skip the -2Vg point\n",
    "# plt.axis((-20, 20, 38.2, 38.8))\n",
    "# plt.savefig(figfile + 'W5_39-38near-2WALpeak_avgfewpts.png', dpi=300, bbox_inches='tight')"
   ]
  },
  {
   "cell_type": "code",
   "execution_count": 131,
   "metadata": {
    "Collapsed": "false"
   },
   "outputs": [
    {
     "data": {
      "application/vnd.jupyter.widget-view+json": {
       "model_id": "8b4b1d4a15ca4e82a6740943c91149dc",
       "version_major": 2,
       "version_minor": 0
      },
      "text/plain": [
       "Canvas(toolbar=Toolbar(toolitems=[('Home', 'Reset original view', 'home', 'home'), ('Back', 'Back to previous …"
      ]
     },
     "metadata": {},
     "output_type": "display_data"
    },
    {
     "data": {
      "text/plain": [
       "Text(0.5, 0, 'B (mT)')"
      ]
     },
     "execution_count": 131,
     "metadata": {},
     "output_type": "execute_result"
    }
   ],
   "source": [
    "plt.figure()  # index 11 (-1.96V) must have been stopped or something like that.\n",
    "for i in range(10,17):\n",
    "    G865 = 1/(totarrayn2_865[i, :]/10e-9)\n",
    "    plt.plot(barr*1000, G865/esqh, label='{} V'.format(totgs[i]), lw=0.3)\n",
    "    \n",
    "plt.legend(loc='upper right')\n",
    "# plt.axis(a)\n",
    "plt.ylabel('$\\sigma (B)$ ($e^2/h$)')\n",
    "plt.xlabel('B (mT)')\n",
    "\n",
    "# plt.savefig(figfile + 'W5_near-2WALpeak_fewpts.png', dpi=300, bbox_inches='tight')"
   ]
  },
  {
   "cell_type": "code",
   "execution_count": 70,
   "metadata": {
    "Collapsed": "false"
   },
   "outputs": [],
   "source": [
    "a = plt.axis()"
   ]
  },
  {
   "cell_type": "code",
   "execution_count": 71,
   "metadata": {
    "Collapsed": "false"
   },
   "outputs": [],
   "source": [
    "def symmetrize(b, G, bpeak):\n",
    "    \"\"\"Enter the field values in b, conductance values in G, and the best estimate of the \n",
    "    field (in T) at the peak that should be at 0 field.\n",
    "    \n",
    "    This function assumes that bpeak is slightly less than 0 and, more importantly,\n",
    "    that there are more field points above than below this point. It just concatenates points\n",
    "    that can't be symmetrized.\n",
    "    \n",
    "    Returns a symmetrized b, G, G0\"\"\"\n",
    "    \n",
    "    zptind = npd.val_to_index([bpeak], b)[0]\n",
    "    G0 = G[zptind]\n",
    "    Gpsym = 0.5*(G[:zptind+1][::-1] + G[zptind:zptind + zptind + 1])\n",
    "    Gsymm = np.concatenate((Gpsym[::-1], Gpsym[1:]))\n",
    "\n",
    "    bpsymm = (b[zptind:2*zptind + 1] - b[zptind])*1000\n",
    "    bsymm = np.concatenate((-1*bpsymm[::-1], bpsymm[1:]))\n",
    "    \n",
    "    return bsymm, Gsymm, G0"
   ]
  },
  {
   "cell_type": "code",
   "execution_count": 72,
   "metadata": {
    "Collapsed": "false"
   },
   "outputs": [
    {
     "data": {
      "text/plain": [
       "(31, 251)"
      ]
     },
     "execution_count": 72,
     "metadata": {},
     "output_type": "execute_result"
    }
   ],
   "source": [
    "totarrayn2_865.shape"
   ]
  },
  {
   "cell_type": "code",
   "execution_count": 73,
   "metadata": {
    "Collapsed": "false"
   },
   "outputs": [
    {
     "data": {
      "text/plain": [
       "array([-1.74, -1.76, -1.78, -1.8 , -1.82, -1.84, -1.86, -1.88, -1.9 ,\n",
       "       -1.92, -1.94, -1.96, -1.98, -2.  , -2.02, -2.04, -2.06, -2.08,\n",
       "       -2.1 , -2.12, -2.14, -2.16, -2.18, -2.2 , -2.22, -2.24, -2.26,\n",
       "       -2.28, -2.3 , -2.32, -2.34])"
      ]
     },
     "execution_count": 73,
     "metadata": {},
     "output_type": "execute_result"
    }
   ],
   "source": [
    "totgs"
   ]
  },
  {
   "cell_type": "code",
   "execution_count": 74,
   "metadata": {
    "Collapsed": "false"
   },
   "outputs": [
    {
     "data": {
      "text/plain": [
       "(31, 251)"
      ]
     },
     "execution_count": 74,
     "metadata": {},
     "output_type": "execute_result"
    }
   ],
   "source": [
    "totarrayn2_865.shape"
   ]
  },
  {
   "cell_type": "code",
   "execution_count": 75,
   "metadata": {
    "Collapsed": "false"
   },
   "outputs": [
    {
     "data": {
      "application/vnd.jupyter.widget-view+json": {
       "model_id": "4b95a797bd80408f96ce1945ebe4d232",
       "version_major": 2,
       "version_minor": 0
      },
      "text/plain": [
       "Canvas(toolbar=Toolbar(toolitems=[('Home', 'Reset original view', 'home', 'home'), ('Back', 'Back to previous …"
      ]
     },
     "metadata": {},
     "output_type": "display_data"
    },
    {
     "name": "stdout",
     "output_type": "stream",
     "text": [
      "-0.00 is not a value in the array\n",
      "Plotted -0.00 instead\n"
     ]
    },
    {
     "data": {
      "text/plain": [
       "Text(0.5, 0, 'B (mT)')"
      ]
     },
     "execution_count": 75,
     "metadata": {},
     "output_type": "execute_result"
    }
   ],
   "source": [
    "plt.figure()\n",
    "\n",
    "bsymm, Gsymm, G0 = symmetrize(barr, 1/np.average(totarrayn2_865[:, :]/10e-9, axis=0)/esqh, -1.19/1000)\n",
    "\n",
    "plt.plot(bsymm, Gsymm - G0, '.r')\n",
    "# plt.plot(barr*1000, 1/np.average(totarrayn2_865/10e-9, axis=0)/esqh - G0, '.k') # raw\n",
    "# plt.axis((-6, 6, -0.2, 0.05))\n",
    "plt.ylabel('$\\sigma (B) - \\sigma (0)$ ($e^2/h$)')\n",
    "plt.xlabel('B (mT)')\n",
    "# plt.savefig(figfile + 'W5_near-2WALpeak_avgfewmorepts_39-38_-6to6mT.png', dpi=300, bbox_inches='tight')"
   ]
  },
  {
   "cell_type": "code",
   "execution_count": 76,
   "metadata": {
    "Collapsed": "false"
   },
   "outputs": [
    {
     "data": {
      "application/vnd.jupyter.widget-view+json": {
       "model_id": "feb36caa6bf8454a8c1afa652c3565d9",
       "version_major": 2,
       "version_minor": 0
      },
      "text/plain": [
       "Canvas(toolbar=Toolbar(toolitems=[('Home', 'Reset original view', 'home', 'home'), ('Back', 'Back to previous …"
      ]
     },
     "metadata": {},
     "output_type": "display_data"
    },
    {
     "name": "stdout",
     "output_type": "stream",
     "text": [
      "-0.00 is not a value in the array\n",
      "Plotted -0.00 instead\n"
     ]
    },
    {
     "data": {
      "text/plain": [
       "[<matplotlib.lines.Line2D at 0x127671d90>]"
      ]
     },
     "execution_count": 76,
     "metadata": {},
     "output_type": "execute_result"
    }
   ],
   "source": [
    "# attempt at manual fitting\n",
    "plt.figure()\n",
    "\n",
    "bsymm, Gsymm, G0 = symmetrize(barr, 1/np.average(totarrayn2_865/10e-9, axis=0)/esqh, -1.19/1000)\n",
    "\n",
    "plt.plot(bsymm, Gsymm - G0, '.r')\n",
    "plt.axis((-6, 6, -0.2, 0.05))\n",
    "plt.ylabel('$\\sigma (B) - \\sigma (0)$ ($e^2/h$)')\n",
    "plt.xlabel('B (mT)')\n",
    "\n",
    "def dsigma(B):\n",
    "    D = 3.2  # not sure if these values are anywhere close to the right range.\n",
    "    taubinv = 4*D*1.602e-19*B/(6.626e-34/(2*np.pi))\n",
    "    tauphi = 35e-14\n",
    "    tauasy = 18e-14\n",
    "    tauso = 80e-15\n",
    "    return -1*1.602e-19**2/(np.pi*6.626e-34)*(F(taubinv/tauphi**-1) - F(taubinv/(tauphi**-1 + 2*tauasy**-1)) - 2*F(taubinv/(tauphi**-1 + tauso**-1)))\n",
    "\n",
    "x = np.linspace(0.000001, 0.01, 501)\n",
    "xs = np.concatenate((-1*x[::-1], x))\n",
    "ys = np.concatenate((dsigma(x)[::-1], dsigma(x)))\n",
    "plt.plot(xs*1000, ys/esqh)"
   ]
  },
  {
   "cell_type": "code",
   "execution_count": null,
   "metadata": {
    "Collapsed": "false"
   },
   "outputs": [],
   "source": []
  },
  {
   "cell_type": "code",
   "execution_count": 77,
   "metadata": {
    "Collapsed": "false"
   },
   "outputs": [
    {
     "name": "stdout",
     "output_type": "stream",
     "text": [
      "-0.00 is not a value in the array\n",
      "Plotted -0.00 instead\n"
     ]
    },
    {
     "data": {
      "application/vnd.jupyter.widget-view+json": {
       "model_id": "0546599b26544d30ad9909b3d01b2e84",
       "version_major": 2,
       "version_minor": 0
      },
      "text/plain": [
       "Canvas(toolbar=Toolbar(toolitems=[('Home', 'Reset original view', 'home', 'home'), ('Back', 'Back to previous …"
      ]
     },
     "metadata": {},
     "output_type": "display_data"
    },
    {
     "data": {
      "text/plain": [
       "Text(0.5, 0, 'B (mT)')"
      ]
     },
     "execution_count": 77,
     "metadata": {},
     "output_type": "execute_result"
    }
   ],
   "source": [
    "dGn2_865 = np.zeros(totarrayn2_865.shape)\n",
    "pind = npd.val_to_index([-1.19/1000], barr)[0]\n",
    "for i in range(totarrayn2_865.shape[0]):\n",
    "    dGn2_865[i, :] = 1/(totarrayn2_865[i, :]/10e-9)/esqh - 1/(totarrayn2_865[i, pind]/10e-9)/esqh\n",
    "\n",
    "plt.figure()  # lockin865 (40-39)\n",
    "# plt.pcolormesh(barr*1000, totgs, gaussian_filter((1/(totarrayn2_865/10e-9)/esqh - G0), (1, 1)))\n",
    "plt.pcolormesh(barr*1000, totgs, gaussian_filter(dGn2_865, (0.8,0.8)), vmin=-1, vmax=0.25)\n",
    "plt.colorbar()\n",
    "plt.ylabel('V$_{g}$')\n",
    "plt.xlabel('B (mT)')\n",
    "# plt.savefig(figfile + 'W5_near-2WALpeak_2Dmap_40-39.png', dpi=300, bbox_inches='tight')"
   ]
  },
  {
   "cell_type": "code",
   "execution_count": 78,
   "metadata": {
    "Collapsed": "false"
   },
   "outputs": [
    {
     "name": "stdout",
     "output_type": "stream",
     "text": [
      "-0.00 is not a value in the array\n",
      "Plotted -0.00 instead\n"
     ]
    },
    {
     "data": {
      "application/vnd.jupyter.widget-view+json": {
       "model_id": "264c9082472b461e9460b345bbba5b1b",
       "version_major": 2,
       "version_minor": 0
      },
      "text/plain": [
       "Canvas(toolbar=Toolbar(toolitems=[('Home', 'Reset original view', 'home', 'home'), ('Back', 'Back to previous …"
      ]
     },
     "metadata": {},
     "output_type": "display_data"
    },
    {
     "data": {
      "text/plain": [
       "Text(0.5, 0, 'B (mT)')"
      ]
     },
     "execution_count": 78,
     "metadata": {},
     "output_type": "execute_result"
    }
   ],
   "source": [
    "dGn2_830 = np.zeros(totarrayn2_830.shape)\n",
    "pind = npd.val_to_index([-1.19/1000], barr)[0]\n",
    "for i in range(totarrayn2_830.shape[0]):\n",
    "    dGn2_830[i, :] = 1/(totarrayn2_830[i, :]/10e-9)/esqh - 1/(totarrayn2_830[i, pind]/10e-9)/esqh\n",
    "\n",
    "plt.figure()  # lockin830 (39-38)\n",
    "# plt.pcolormesh(barr*1000, totgs, gaussian_filter((1/(totarrayn2_830/10e-9)/esqh - G0), (1, 1)))\n",
    "plt.pcolormesh(barr*1000, totgs, gaussian_filter(dGn2_830, (0.8, 0.8)))\n",
    "plt.colorbar()\n",
    "plt.ylabel('V$_{g}$')\n",
    "plt.xlabel('B (mT)')\n",
    "# plt.savefig(figfile + 'W5_near-2WALpeak_2Dmap_39-38.png', dpi=300, bbox_inches='tight')"
   ]
  },
  {
   "cell_type": "markdown",
   "metadata": {
    "Collapsed": "false"
   },
   "source": [
    "## 300 mK"
   ]
  },
  {
   "cell_type": "code",
   "execution_count": 97,
   "metadata": {
    "Collapsed": "false",
    "collapsed": true,
    "jupyter": {
     "outputs_hidden": true
    }
   },
   "outputs": [
    {
     "data": {
      "text/plain": [
       "['data/2020-03-28/#018_W5_865_40-39_830_39-38_300mK_WALfieldsw_Vbg-1.74_10nA_14-12-09/',\n",
       " 'data/2020-03-28/#019_W5_865_40-39_830_39-38_300mK_WALfieldsw_Vbg-1.76_10nA_14-23-12/',\n",
       " 'data/2020-03-28/#020_W5_865_40-39_830_39-38_300mK_WALfieldsw_Vbg-1.78_10nA_14-34-17/',\n",
       " 'data/2020-03-28/#021_W5_865_40-39_830_39-38_300mK_WALfieldsw_Vbg-1.80_10nA_14-45-17/',\n",
       " 'data/2020-03-28/#022_W5_865_40-39_830_39-38_300mK_WALfieldsw_Vbg-1.82_10nA_14-56-22/',\n",
       " 'data/2020-03-28/#023_W5_865_40-39_830_39-38_300mK_WALfieldsw_Vbg-1.84_10nA_15-07-27/',\n",
       " 'data/2020-03-28/#024_W5_865_40-39_830_39-38_300mK_WALfieldsw_Vbg-1.86_10nA_15-18-32/',\n",
       " 'data/2020-03-28/#025_W5_865_40-39_830_39-38_300mK_WALfieldsw_Vbg-1.88_10nA_15-29-37/',\n",
       " 'data/2020-03-28/#026_W5_865_40-39_830_39-38_300mK_WALfieldsw_Vbg-1.90_10nA_15-40-42/',\n",
       " 'data/2020-03-28/#027_W5_865_40-39_830_39-38_300mK_WALfieldsw_Vbg-1.92_10nA_15-51-47/',\n",
       " 'data/2020-03-28/#028_W5_865_40-39_830_39-38_300mK_WALfieldsw_Vbg-1.94_10nA_16-02-51/',\n",
       " 'data/2020-03-28/#029_W5_865_40-39_830_39-38_300mK_WALfieldsw_Vbg-1.96_10nA_16-13-53/',\n",
       " 'data/2020-03-28/#030_W5_865_40-39_830_39-38_300mK_WALfieldsw_Vbg-1.98_10nA_16-24-56/',\n",
       " 'data/2020-03-28/#031_W5_865_40-39_830_39-38_300mK_WALfieldsw_Vbg-2.00_10nA_16-36-01/',\n",
       " 'data/2020-03-28/#032_W5_865_40-39_830_39-38_300mK_WALfieldsw_Vbg-2.02_10nA_16-47-06/',\n",
       " 'data/2020-03-28/#033_W5_865_40-39_830_39-38_300mK_WALfieldsw_Vbg-2.04_10nA_16-58-12/',\n",
       " 'data/2020-03-28/#034_W5_865_40-39_830_39-38_300mK_WALfieldsw_Vbg-2.06_10nA_17-09-16/',\n",
       " 'data/2020-03-28/#035_W5_865_40-39_830_39-38_300mK_WALfieldsw_Vbg-2.08_10nA_17-20-20/',\n",
       " 'data/2020-03-28/#036_W5_865_40-39_830_39-38_300mK_WALfieldsw_Vbg-2.10_10nA_17-31-25/',\n",
       " 'data/2020-03-28/#037_W5_865_40-39_830_39-38_300mK_WALfieldsw_Vbg-2.12_10nA_17-42-30/',\n",
       " 'data/2020-03-28/#038_W5_865_40-39_830_39-38_300mK_WALfieldsw_Vbg-2.14_10nA_17-53-34/',\n",
       " 'data/2020-03-28/#039_W5_865_40-39_830_39-38_300mK_WALfieldsw_Vbg-2.16_10nA_18-04-40/',\n",
       " 'data/2020-03-28/#040_W5_865_40-39_830_39-38_300mK_WALfieldsw_Vbg-2.18_10nA_18-15-45/',\n",
       " 'data/2020-03-28/#041_W5_865_40-39_830_39-38_300mK_WALfieldsw_Vbg-2.20_10nA_18-26-49/',\n",
       " 'data/2020-03-28/#042_W5_865_40-39_830_39-38_300mK_WALfieldsw_Vbg-2.22_10nA_18-37-54/',\n",
       " 'data/2020-03-28/#043_W5_865_40-39_830_39-38_300mK_WALfieldsw_Vbg-2.24_10nA_18-48-58/',\n",
       " 'data/2020-03-28/#044_W5_865_40-39_830_39-38_300mK_WALfieldsw_Vbg-2.26_10nA_19-00-02/',\n",
       " 'data/2020-03-28/#045_W5_865_40-39_830_39-38_300mK_WALfieldsw_Vbg-2.28_10nA_19-11-07/',\n",
       " 'data/2020-03-28/#046_W5_865_40-39_830_39-38_300mK_WALfieldsw_Vbg-2.30_10nA_19-22-12/',\n",
       " 'data/2020-03-28/#047_W5_865_40-39_830_39-38_300mK_WALfieldsw_Vbg-2.32_10nA_19-33-16/']"
      ]
     },
     "execution_count": 97,
     "metadata": {},
     "output_type": "execute_result"
    }
   ],
   "source": [
    "files_n2_300 = sorted(glob.glob('data/2020-03-28/#*/'))[17:47]\n",
    "files_n2_300"
   ]
  },
  {
   "cell_type": "code",
   "execution_count": 99,
   "metadata": {
    "Collapsed": "false"
   },
   "outputs": [],
   "source": [
    "nB = 251\n",
    "barr = np.linspace(-0.025, 0.025, nB)\n",
    "garr2_300 = np.linspace(-1.74, -2.32, 30)\n",
    "ng2_300 = len(garr2_300)\n",
    "arrayn2_830_300 = np.zeros((ng2_300, nB))\n",
    "arrayn2_865_300 = np.zeros((ng2_300, nB))\n",
    "\n",
    "for i, f in enumerate(files_n2_300):\n",
    "    data = qc.load_data(f[:-1])\n",
    "    dlast = np.where(np.isnan(data.triton_field))[0][0]\n",
    "    b = data.triton_field[:dlast]\n",
    "    arrayn2_830_300[i, :] = np.interp(barr, b, data.lockin830_X[:dlast])\n",
    "    arrayn2_865_300[i, :] = np.interp(barr, b, data.lockin865_X[:dlast])"
   ]
  },
  {
   "cell_type": "code",
   "execution_count": 141,
   "metadata": {
    "Collapsed": "false"
   },
   "outputs": [],
   "source": [
    "np.savetxt('AnalysisNotebooks/W5_WAL_arrays/W5_10nA_-2Vbg_300mK_40-39.txt', arrayn2_865_300, fmt='%.8e', header='#array of lockin865 voltage readings (divide by 10e-9 to get Rxx) at 300mK for electrodes 40-39, with axis 0 being backgate voltage from -1.74 (top) to -2.32 (bottom) every 0.02 V (30 pts) and field from -25 to 25 mT, every 0.2 mT (251 pts)')\n",
    "np.savetxt('AnalysisNotebooks/W5_WAL_arrays/W5_10nA_-2Vbg_300mK_39-38.txt', arrayn2_830_300, fmt='%.8e', header='#array of lockin830 voltage readings (divide by 10e-9 to get Rxx) at 300mK for electrodes 39-38, with axis 0 being backgate voltage from -1.74 (top) to -2.32 (bottom) every 0.02 V (30 pts) and field from -25 to 25 mT, every 0.2 mT (251 pts)')"
   ]
  },
  {
   "cell_type": "code",
   "execution_count": 108,
   "metadata": {
    "Collapsed": "false"
   },
   "outputs": [
    {
     "name": "stdout",
     "output_type": "stream",
     "text": [
      "-0.00 is not a value in the array\n",
      "Plotted -0.00 instead\n"
     ]
    },
    {
     "data": {
      "application/vnd.jupyter.widget-view+json": {
       "model_id": "054e0f989d484e77bbfcc9227678bf50",
       "version_major": 2,
       "version_minor": 0
      },
      "text/plain": [
       "Canvas(toolbar=Toolbar(toolitems=[('Home', 'Reset original view', 'home', 'home'), ('Back', 'Back to previous …"
      ]
     },
     "metadata": {},
     "output_type": "display_data"
    },
    {
     "data": {
      "text/plain": [
       "Text(0.5, 0, 'B (mT)')"
      ]
     },
     "execution_count": 108,
     "metadata": {},
     "output_type": "execute_result"
    }
   ],
   "source": [
    "dGn2_865_300 = np.zeros(arrayn2_865_300.shape)\n",
    "pind = npd.val_to_index([-1.19/1000], barr)[0]\n",
    "for i in range(arrayn2_865_300.shape[0]):\n",
    "    dGn2_865_300[i, :] = 1/(arrayn2_865_300[i, :]/10e-9)/esqh - 1/(arrayn2_865_300[i, pind]/10e-9)/esqh\n",
    "\n",
    "plt.figure()  # lockin830 (40-39)\n",
    "plt.pcolormesh(barr*1000, garr2_300, gaussian_filter(dGn2_865_300, (0.8, 0.8)))\n",
    "plt.colorbar()\n",
    "plt.ylabel('V$_{g}$')\n",
    "plt.xlabel('B (mT)')\n",
    "# plt.savefig(figfile + 'W5_near-2WALpeak_2Dmap_40-39_300mK.png', dpi=300, bbox_inches='tight')"
   ]
  },
  {
   "cell_type": "code",
   "execution_count": 107,
   "metadata": {
    "Collapsed": "false"
   },
   "outputs": [
    {
     "name": "stdout",
     "output_type": "stream",
     "text": [
      "-0.00 is not a value in the array\n",
      "Plotted -0.00 instead\n"
     ]
    },
    {
     "data": {
      "application/vnd.jupyter.widget-view+json": {
       "model_id": "5ecd449d6a304f9cb797f76fbe8471b7",
       "version_major": 2,
       "version_minor": 0
      },
      "text/plain": [
       "Canvas(toolbar=Toolbar(toolitems=[('Home', 'Reset original view', 'home', 'home'), ('Back', 'Back to previous …"
      ]
     },
     "metadata": {},
     "output_type": "display_data"
    },
    {
     "data": {
      "text/plain": [
       "Text(0.5, 0, 'B (mT)')"
      ]
     },
     "execution_count": 107,
     "metadata": {},
     "output_type": "execute_result"
    }
   ],
   "source": [
    "dGn2_830_300 = np.zeros(arrayn2_830_300.shape)\n",
    "pind = npd.val_to_index([-1.19/1000], barr)[0]\n",
    "for i in range(arrayn2_830_300.shape[0]):\n",
    "    dGn2_830_300[i, :] = 1/(arrayn2_830_300[i, :]/10e-9)/esqh - 1/(arrayn2_830_300[i, pind]/10e-9)/esqh\n",
    "\n",
    "plt.figure()  # lockin830 (39-38)\n",
    "plt.pcolormesh(barr*1000, garr2_300, gaussian_filter(dGn2_830_300, (0.8, 0.8)))\n",
    "plt.colorbar()\n",
    "plt.ylabel('V$_{g}$')\n",
    "plt.xlabel('B (mT)')\n",
    "# plt.savefig(figfile + 'W5_near-2WALpeak_2Dmap_39-38_300mK.png', dpi=300, bbox_inches='tight')"
   ]
  },
  {
   "cell_type": "markdown",
   "metadata": {
    "Collapsed": "false"
   },
   "source": [
    "## 500 mK"
   ]
  },
  {
   "cell_type": "code",
   "execution_count": 125,
   "metadata": {
    "Collapsed": "false"
   },
   "outputs": [],
   "source": [
    "files_n2_500 = sorted(glob.glob('data/2020-03-29/#*/'))[28:58]"
   ]
  },
  {
   "cell_type": "code",
   "execution_count": 126,
   "metadata": {
    "Collapsed": "false"
   },
   "outputs": [],
   "source": [
    "nB = 251\n",
    "barr = np.linspace(-0.025, 0.025, nB)\n",
    "garr2_500 = np.linspace(-1.74, -2.32, 30)\n",
    "ng2_500 = len(garr2_300)\n",
    "arrayn2_830_500 = np.zeros((ng2_500, nB))\n",
    "arrayn2_865_500 = np.zeros((ng2_500, nB))\n",
    "\n",
    "for i, f in enumerate(files_n2_500):\n",
    "    data = qc.load_data(f[:-1])\n",
    "    dlast = np.where(np.isnan(data.triton_field))[0][0]\n",
    "    b = data.triton_field[:dlast]\n",
    "    arrayn2_830_500[i, :] = np.interp(barr, b, data.lockin830_X[:dlast])\n",
    "    arrayn2_865_500[i, :] = np.interp(barr, b, data.lockin865_X[:dlast])"
   ]
  },
  {
   "cell_type": "code",
   "execution_count": 142,
   "metadata": {
    "Collapsed": "false"
   },
   "outputs": [],
   "source": [
    "np.savetxt('AnalysisNotebooks/W5_WAL_arrays/W5_10nA_-2Vbg_500mK_40-39.txt', arrayn2_865_500, fmt='%.8e', header='#array of lockin865 voltage readings (divide by 10e-9 to get Rxx) at 500mK for electrodes 40-39, with axis 0 being backgate voltage from -1.74 (top) to -2.32 (bottom) every 0.02 V (30 pts) and field from -25 to 25 mT, every 0.2 mT (251 pts)')\n",
    "np.savetxt('AnalysisNotebooks/W5_WAL_arrays/W5_10nA_-2Vbg_500mK_39-38.txt', arrayn2_830_500, fmt='%.8e', header='#array of lockin830 voltage readings (divide by 10e-9 to get Rxx) at 500mK for electrodes 39-38, with axis 0 being backgate voltage from -1.74 (top) to -2.32 (bottom) every 0.02 V (30 pts) and field from -25 to 25 mT, every 0.2 mT (251 pts)')"
   ]
  },
  {
   "cell_type": "code",
   "execution_count": 127,
   "metadata": {
    "Collapsed": "false"
   },
   "outputs": [
    {
     "name": "stdout",
     "output_type": "stream",
     "text": [
      "-0.00 is not a value in the array\n",
      "Plotted -0.00 instead\n"
     ]
    },
    {
     "data": {
      "application/vnd.jupyter.widget-view+json": {
       "model_id": "fa430c79d8e9486a8cfcbcf3c812e822",
       "version_major": 2,
       "version_minor": 0
      },
      "text/plain": [
       "Canvas(toolbar=Toolbar(toolitems=[('Home', 'Reset original view', 'home', 'home'), ('Back', 'Back to previous …"
      ]
     },
     "metadata": {},
     "output_type": "display_data"
    },
    {
     "data": {
      "text/plain": [
       "Text(0.5, 0, 'B (mT)')"
      ]
     },
     "execution_count": 127,
     "metadata": {},
     "output_type": "execute_result"
    }
   ],
   "source": [
    "dGn2_865_500 = np.zeros(arrayn2_865_500.shape)\n",
    "pind = npd.val_to_index([-1.19/1000], barr)[0]\n",
    "for i in range(arrayn2_865_500.shape[0]):\n",
    "    dGn2_865_500[i, :] = 1/(arrayn2_865_500[i, :]/10e-9)/esqh - 1/(arrayn2_865_500[i, pind]/10e-9)/esqh\n",
    "\n",
    "plt.figure()  # lockin830 (40-39)\n",
    "plt.pcolormesh(barr*1000, garr2_500, gaussian_filter(dGn2_865_500, (0.8, 0.8)))\n",
    "plt.colorbar()\n",
    "plt.ylabel('V$_{g}$')\n",
    "plt.xlabel('B (mT)')\n",
    "# plt.savefig(figfile + 'W5_near-2WALpeak_2Dmap_40-39_500mK.png', dpi=300, bbox_inches='tight')"
   ]
  },
  {
   "cell_type": "code",
   "execution_count": 128,
   "metadata": {
    "Collapsed": "false"
   },
   "outputs": [
    {
     "name": "stdout",
     "output_type": "stream",
     "text": [
      "-0.00 is not a value in the array\n",
      "Plotted -0.00 instead\n"
     ]
    },
    {
     "data": {
      "application/vnd.jupyter.widget-view+json": {
       "model_id": "1f092d443d3445dfba0ea121447caebf",
       "version_major": 2,
       "version_minor": 0
      },
      "text/plain": [
       "Canvas(toolbar=Toolbar(toolitems=[('Home', 'Reset original view', 'home', 'home'), ('Back', 'Back to previous …"
      ]
     },
     "metadata": {},
     "output_type": "display_data"
    },
    {
     "data": {
      "text/plain": [
       "Text(0.5, 0, 'B (mT)')"
      ]
     },
     "execution_count": 128,
     "metadata": {},
     "output_type": "execute_result"
    }
   ],
   "source": [
    "dGn2_830_500 = np.zeros(arrayn2_830_500.shape)\n",
    "pind = npd.val_to_index([-1.19/1000], barr)[0]\n",
    "for i in range(arrayn2_830_500.shape[0]):\n",
    "    dGn2_830_500[i, :] = 1/(arrayn2_830_500[i, :]/10e-9)/esqh - 1/(arrayn2_830_500[i, pind]/10e-9)/esqh\n",
    "\n",
    "plt.figure()  # lockin830 (39-38)\n",
    "plt.pcolormesh(barr*1000, garr2_500, gaussian_filter(dGn2_830_500, (0.8, 0.8)))\n",
    "plt.colorbar()\n",
    "plt.ylabel('V$_{g}$')\n",
    "plt.xlabel('B (mT)')\n",
    "# plt.savefig(figfile + 'W5_near-2WALpeak_2Dmap_39-38_500mK.png', dpi=300, bbox_inches='tight')"
   ]
  },
  {
   "cell_type": "markdown",
   "metadata": {
    "Collapsed": "false"
   },
   "source": [
    "## 700 mK"
   ]
  },
  {
   "cell_type": "code",
   "execution_count": 229,
   "metadata": {
    "Collapsed": "false"
   },
   "outputs": [],
   "source": [
    "files_n2_700 = sorted(glob.glob('data/2020-03-29/#*/'))[-12:] + sorted(glob.glob('data/2020-03-30/#*/'))[:18]"
   ]
  },
  {
   "cell_type": "code",
   "execution_count": 231,
   "metadata": {
    "Collapsed": "false"
   },
   "outputs": [],
   "source": [
    "garr2_700 = np.linspace(-1.74, -2.32, 30)\n",
    "ng2_700 = len(garr2_700)\n",
    "arrayn2_830_700 = np.zeros((ng2_700, nB))\n",
    "arrayn2_865_700 = np.zeros((ng2_700, nB))\n",
    "\n",
    "for i, f in enumerate(files_n2_700):\n",
    "    data = qc.load_data(f[:-1])\n",
    "    dlast = np.where(np.isnan(data.triton_field))[0][0]\n",
    "    b = data.triton_field[:dlast]\n",
    "    arrayn2_830_700[i, :] = np.interp(barr, b, data.lockin830_X[:dlast])\n",
    "    arrayn2_865_700[i, :] = np.interp(barr, b, data.lockin865_X[:dlast])"
   ]
  },
  {
   "cell_type": "code",
   "execution_count": 232,
   "metadata": {
    "Collapsed": "false"
   },
   "outputs": [],
   "source": [
    "np.savetxt('AnalysisNotebooks/W5_WAL_arrays/W5_10nA_-2Vbg_700mK_40-39.txt', arrayn2_865_700, fmt='%.8e', header='#array of lockin865 voltage readings (divide by 10e-9 to get Rxx) at 700mK for electrodes 40-39, with axis 0 being backgate voltage from -1.74 (top) to -2.32 (bottom) every 0.02 V (30 pts) and field from -25 to 25 mT, every 0.2 mT (251 pts)')\n",
    "np.savetxt('AnalysisNotebooks/W5_WAL_arrays/W5_10nA_-2Vbg_700mK_39-38.txt', arrayn2_830_700, fmt='%.8e', header='#array of lockin830 voltage readings (divide by 10e-9 to get Rxx) at 700mK for electrodes 39-38, with axis 0 being backgate voltage from -1.74 (top) to -2.32 (bottom) every 0.02 V (30 pts) and field from -25 to 25 mT, every 0.2 mT (251 pts)')"
   ]
  },
  {
   "cell_type": "markdown",
   "metadata": {
    "Collapsed": "false"
   },
   "source": [
    "## 900 mK"
   ]
  },
  {
   "cell_type": "code",
   "execution_count": 94,
   "metadata": {
    "Collapsed": "false",
    "collapsed": true,
    "jupyter": {
     "outputs_hidden": true
    }
   },
   "outputs": [
    {
     "data": {
      "text/plain": [
       "['data/2020-03-27/#098_W5_865_40-39_830_39-38_0p9K_WALfieldsw_Vbg-1.74_10nA_19-19-23/',\n",
       " 'data/2020-03-27/#099_W5_865_40-39_830_39-38_0p9K_WALfieldsw_Vbg-1.76_10nA_19-30-31/',\n",
       " 'data/2020-03-27/#100_W5_865_40-39_830_39-38_0p9K_WALfieldsw_Vbg-1.78_10nA_19-41-39/',\n",
       " 'data/2020-03-27/#101_W5_865_40-39_830_39-38_0p9K_WALfieldsw_Vbg-1.80_10nA_19-52-46/',\n",
       " 'data/2020-03-27/#102_W5_865_40-39_830_39-38_0p9K_WALfieldsw_Vbg-1.82_10nA_20-03-53/',\n",
       " 'data/2020-03-27/#103_W5_865_40-39_830_39-38_0p9K_WALfieldsw_Vbg-1.84_10nA_20-14-57/',\n",
       " 'data/2020-03-27/#104_W5_865_40-39_830_39-38_0p9K_WALfieldsw_Vbg-1.86_10nA_20-26-01/',\n",
       " 'data/2020-03-27/#105_W5_865_40-39_830_39-38_0p9K_WALfieldsw_Vbg-1.88_10nA_20-37-05/',\n",
       " 'data/2020-03-27/#106_W5_865_40-39_830_39-38_0p9K_WALfieldsw_Vbg-1.90_10nA_20-48-13/',\n",
       " 'data/2020-03-27/#107_W5_865_40-39_830_39-38_0p9K_WALfieldsw_Vbg-1.92_10nA_20-59-21/',\n",
       " 'data/2020-03-27/#108_W5_865_40-39_830_39-38_0p9K_WALfieldsw_Vbg-1.94_10nA_21-10-25/',\n",
       " 'data/2020-03-27/#109_W5_865_40-39_830_39-38_0p9K_WALfieldsw_Vbg-1.96_10nA_21-21-31/',\n",
       " 'data/2020-03-27/#110_W5_865_40-39_830_39-38_0p9K_WALfieldsw_Vbg-1.98_10nA_21-32-39/',\n",
       " 'data/2020-03-27/#111_W5_865_40-39_830_39-38_0p9K_WALfieldsw_Vbg-2.00_10nA_21-43-46/',\n",
       " 'data/2020-03-28/#001_W5_865_40-39_830_39-38_0p9K_WALfieldsw_Vbg-2.00_10nA_09-54-20/',\n",
       " 'data/2020-03-28/#002_W5_865_40-39_830_39-38_0p9K_WALfieldsw_Vbg-2.02_10nA_10-05-25/',\n",
       " 'data/2020-03-28/#003_W5_865_40-39_830_39-38_0p9K_WALfieldsw_Vbg-2.04_10nA_10-16-30/',\n",
       " 'data/2020-03-28/#004_W5_865_40-39_830_39-38_0p9K_WALfieldsw_Vbg-2.06_10nA_10-27-35/',\n",
       " 'data/2020-03-28/#005_W5_865_40-39_830_39-38_0p9K_WALfieldsw_Vbg-2.08_10nA_10-38-39/',\n",
       " 'data/2020-03-28/#006_W5_865_40-39_830_39-38_0p9K_WALfieldsw_Vbg-2.10_10nA_10-49-45/',\n",
       " 'data/2020-03-28/#007_W5_865_40-39_830_39-38_0p9K_WALfieldsw_Vbg-2.12_10nA_11-00-49/',\n",
       " 'data/2020-03-28/#008_W5_865_40-39_830_39-38_0p9K_WALfieldsw_Vbg-2.14_10nA_11-11-54/',\n",
       " 'data/2020-03-28/#009_W5_865_40-39_830_39-38_0p9K_WALfieldsw_Vbg-2.16_10nA_11-23-00/',\n",
       " 'data/2020-03-28/#010_W5_865_40-39_830_39-38_0p9K_WALfieldsw_Vbg-2.18_10nA_11-34-01/',\n",
       " 'data/2020-03-28/#011_W5_865_40-39_830_39-38_0p9K_WALfieldsw_Vbg-2.20_10nA_11-45-07/',\n",
       " 'data/2020-03-28/#012_W5_865_40-39_830_39-38_0p9K_WALfieldsw_Vbg-2.22_10nA_11-56-14/',\n",
       " 'data/2020-03-28/#013_W5_865_40-39_830_39-38_0p9K_WALfieldsw_Vbg-2.24_10nA_12-07-19/',\n",
       " 'data/2020-03-28/#014_W5_865_40-39_830_39-38_0p9K_WALfieldsw_Vbg-2.26_10nA_12-18-24/',\n",
       " 'data/2020-03-28/#015_W5_865_40-39_830_39-38_0p9K_WALfieldsw_Vbg-2.28_10nA_12-29-28/',\n",
       " 'data/2020-03-28/#016_W5_865_40-39_830_39-38_0p9K_WALfieldsw_Vbg-2.30_10nA_12-40-33/',\n",
       " 'data/2020-03-28/#017_W5_865_40-39_830_39-38_0p9K_WALfieldsw_Vbg-2.32_10nA_12-51-37/']"
      ]
     },
     "execution_count": 94,
     "metadata": {},
     "output_type": "execute_result"
    }
   ],
   "source": [
    "files_n2_900 = sorted(glob.glob('data/2020-03-27/#*/'))[97:] + sorted(glob.glob('data/2020-03-28/#*/'))[:17]\n",
    "files_n2_900"
   ]
  },
  {
   "cell_type": "code",
   "execution_count": 95,
   "metadata": {
    "Collapsed": "false"
   },
   "outputs": [],
   "source": [
    "del files_n2_900[13]  # get rid of the stuck magnet (magnet likely restarted and randomly read -50 mT)"
   ]
  },
  {
   "cell_type": "code",
   "execution_count": 110,
   "metadata": {
    "Collapsed": "false"
   },
   "outputs": [],
   "source": [
    "nB = 251\n",
    "barr = np.linspace(-0.025, 0.025, nB)\n",
    "garr2_900 = np.linspace(-1.74, -2.32, 30)\n",
    "ng2_900 = len(garr2_300)\n",
    "arrayn2_830_900 = np.zeros((ng2_900, nB))\n",
    "arrayn2_865_900 = np.zeros((ng2_900, nB))\n",
    "\n",
    "for i, f in enumerate(files_n2_900):\n",
    "    data = qc.load_data(f[:-1])\n",
    "    dlast = np.where(np.isnan(data.triton_field))[0][0]\n",
    "    b = data.triton_field[:dlast]\n",
    "    arrayn2_830_900[i, :] = np.interp(barr, b, data.lockin830_X[:dlast])\n",
    "    arrayn2_865_900[i, :] = np.interp(barr, b, data.lockin865_X[:dlast])"
   ]
  },
  {
   "cell_type": "code",
   "execution_count": 143,
   "metadata": {
    "Collapsed": "false"
   },
   "outputs": [],
   "source": [
    "np.savetxt('AnalysisNotebooks/W5_WAL_arrays/W5_10nA_-2Vbg_900mK_40-39.txt', arrayn2_865_900, fmt='%.8e', header='#array of lockin865 voltage readings (divide by 10e-9 to get Rxx) at 900mK for electrodes 40-39, with axis 0 being backgate voltage from -1.74 (top) to -2.32 (bottom) every 0.02 V (30 pts) and field from -25 to 25 mT, every 0.2 mT (251 pts)')\n",
    "np.savetxt('AnalysisNotebooks/W5_WAL_arrays/W5_10nA_-2Vbg_900mK_39-38.txt', arrayn2_830_900, fmt='%.8e', header='#array of lockin830 voltage readings (divide by 10e-9 to get Rxx) at 900mK for electrodes 39-38, with axis 0 being backgate voltage from -1.74 (top) to -2.32 (bottom) every 0.02 V (30 pts) and field from -25 to 25 mT, every 0.2 mT (251 pts)')"
   ]
  },
  {
   "cell_type": "code",
   "execution_count": 111,
   "metadata": {
    "Collapsed": "false"
   },
   "outputs": [
    {
     "name": "stdout",
     "output_type": "stream",
     "text": [
      "-0.00 is not a value in the array\n",
      "Plotted -0.00 instead\n"
     ]
    },
    {
     "data": {
      "application/vnd.jupyter.widget-view+json": {
       "model_id": "be66e5e06f2a4d49813248a8f1f44887",
       "version_major": 2,
       "version_minor": 0
      },
      "text/plain": [
       "Canvas(toolbar=Toolbar(toolitems=[('Home', 'Reset original view', 'home', 'home'), ('Back', 'Back to previous …"
      ]
     },
     "metadata": {},
     "output_type": "display_data"
    },
    {
     "data": {
      "text/plain": [
       "Text(0.5, 0, 'B (mT)')"
      ]
     },
     "execution_count": 111,
     "metadata": {},
     "output_type": "execute_result"
    }
   ],
   "source": [
    "dGn2_865_900 = np.zeros(arrayn2_865_900.shape)\n",
    "pind = npd.val_to_index([-1.19/1000], barr)[0]\n",
    "for i in range(arrayn2_865_900.shape[0]):\n",
    "    dGn2_865_900[i, :] = 1/(arrayn2_865_900[i, :]/10e-9)/esqh - 1/(arrayn2_865_900[i, pind]/10e-9)/esqh\n",
    "\n",
    "plt.figure()  # lockin830 (40-39)\n",
    "plt.pcolormesh(barr*1000, garr2_900, gaussian_filter(dGn2_865_900, (0.8, 0.8)))\n",
    "plt.colorbar()\n",
    "plt.ylabel('V$_{g}$')\n",
    "plt.xlabel('B (mT)')\n",
    "# plt.savefig(figfile + 'W5_near-2WALpeak_2Dmap_40-39_900mK.png', dpi=300, bbox_inches='tight')"
   ]
  },
  {
   "cell_type": "code",
   "execution_count": 112,
   "metadata": {
    "Collapsed": "false"
   },
   "outputs": [
    {
     "name": "stdout",
     "output_type": "stream",
     "text": [
      "-0.00 is not a value in the array\n",
      "Plotted -0.00 instead\n"
     ]
    },
    {
     "data": {
      "application/vnd.jupyter.widget-view+json": {
       "model_id": "301baef6b8dd4c0e83a14419d359964f",
       "version_major": 2,
       "version_minor": 0
      },
      "text/plain": [
       "Canvas(toolbar=Toolbar(toolitems=[('Home', 'Reset original view', 'home', 'home'), ('Back', 'Back to previous …"
      ]
     },
     "metadata": {},
     "output_type": "display_data"
    },
    {
     "data": {
      "text/plain": [
       "Text(0.5, 0, 'B (mT)')"
      ]
     },
     "execution_count": 112,
     "metadata": {},
     "output_type": "execute_result"
    }
   ],
   "source": [
    "dGn2_830_900 = np.zeros(arrayn2_830_900.shape)\n",
    "pind = npd.val_to_index([-1.19/1000], barr)[0]\n",
    "for i in range(arrayn2_830_900.shape[0]):\n",
    "    dGn2_830_900[i, :] = 1/(arrayn2_830_900[i, :]/10e-9)/esqh - 1/(arrayn2_830_900[i, pind]/10e-9)/esqh\n",
    "\n",
    "plt.figure()  # lockin830 (39-38)\n",
    "plt.pcolormesh(barr*1000, garr2_900, gaussian_filter(dGn2_830_900, (0.8, 0.8)))\n",
    "plt.colorbar()\n",
    "plt.ylabel('V$_{g}$')\n",
    "plt.xlabel('B (mT)')\n",
    "# plt.savefig(figfile + 'W5_near-2WALpeak_2Dmap_39-38_900mK.png', dpi=300, bbox_inches='tight')"
   ]
  },
  {
   "cell_type": "code",
   "execution_count": 287,
   "metadata": {
    "Collapsed": "false"
   },
   "outputs": [],
   "source": [
    "files_n2_3k = sorted(glob.glob('data/2020-03-31/#*/'))[2:32]"
   ]
  },
  {
   "cell_type": "code",
   "execution_count": 288,
   "metadata": {
    "Collapsed": "false"
   },
   "outputs": [],
   "source": [
    "nB = 251\n",
    "barr = np.linspace(-0.025, 0.025, nB)\n",
    "garr2_3k = np.linspace(-1.74, -2.32, 30)\n",
    "ng2_3k = len(garr2_300)\n",
    "arrayn2_830_3k = np.zeros((ng2_3k, nB))\n",
    "arrayn2_865_3k = np.zeros((ng2_3k, nB))\n",
    "\n",
    "for i, f in enumerate(files_n2_3k):\n",
    "    data = qc.load_data(f[:-1])\n",
    "    dlast = np.where(np.isnan(data.triton_field))[0][0]\n",
    "    b = data.triton_field[:dlast]\n",
    "    arrayn2_830_3k[i, :] = np.interp(barr, b, data.lockin830_X[:dlast])\n",
    "    arrayn2_865_3k[i, :] = np.interp(barr, b, data.lockin865_X[:dlast])"
   ]
  },
  {
   "cell_type": "code",
   "execution_count": 289,
   "metadata": {
    "Collapsed": "false"
   },
   "outputs": [],
   "source": [
    "np.savetxt('AnalysisNotebooks/W5_WAL_arrays/W5_10nA_-2Vbg_3K_40-39.txt', arrayn2_865_3k, fmt='%.8e', header='#array of lockin865 voltage readings (divide by 10e-9 to get Rxx) at 3K for electrodes 40-39, with axis 0 being backgate voltage from -1.74 (top) to -2.32 (bottom) every 0.02 V (30 pts) and field from -25 to 25 mT, every 0.2 mT (251 pts)')\n",
    "np.savetxt('AnalysisNotebooks/W5_WAL_arrays/W5_10nA_-2Vbg_3K_39-38.txt', arrayn2_830_3k, fmt='%.8e', header='#array of lockin830 voltage readings (divide by 10e-9 to get Rxx) at 3K for electrodes 39-38, with axis 0 being backgate voltage from -1.74 (top) to -2.32 (bottom) every 0.02 V (30 pts) and field from -25 to 25 mT, every 0.2 mT (251 pts)')"
   ]
  },
  {
   "cell_type": "code",
   "execution_count": null,
   "metadata": {
    "Collapsed": "false"
   },
   "outputs": [],
   "source": []
  },
  {
   "cell_type": "markdown",
   "metadata": {
    "Collapsed": "false"
   },
   "source": [
    "## Combined"
   ]
  },
  {
   "cell_type": "code",
   "execution_count": null,
   "metadata": {
    "Collapsed": "false"
   },
   "outputs": [],
   "source": [
    "# Lockin865 (40-39)\n",
    "plt.figure()\n",
    "plt.plot()"
   ]
  },
  {
   "cell_type": "markdown",
   "metadata": {
    "Collapsed": "false"
   },
   "source": [
    "#  Near -3.5 Vg"
   ]
  },
  {
   "cell_type": "markdown",
   "metadata": {
    "Collapsed": "false"
   },
   "source": [
    "Base temp"
   ]
  },
  {
   "cell_type": "code",
   "execution_count": 172,
   "metadata": {
    "Collapsed": "false",
    "collapsed": true,
    "jupyter": {
     "outputs_hidden": true
    }
   },
   "outputs": [
    {
     "data": {
      "text/plain": [
       "['data/2020-03-27/#046_W5_865_40-39_830_39-38_baseT_WALfieldsw_Vbg-3.26_10nA_08-26-17/',\n",
       " 'data/2020-03-27/#047_W5_865_40-39_830_39-38_baseT_WALfieldsw_Vbg-3.28_10nA_08-37-21/',\n",
       " 'data/2020-03-27/#048_W5_865_40-39_830_39-38_baseT_WALfieldsw_Vbg-3.30_10nA_08-48-26/',\n",
       " 'data/2020-03-27/#049_W5_865_40-39_830_39-38_baseT_WALfieldsw_Vbg-3.32_10nA_08-59-33/',\n",
       " 'data/2020-03-27/#050_W5_865_40-39_830_39-38_baseT_WALfieldsw_Vbg-3.34_10nA_09-10-37/',\n",
       " 'data/2020-03-27/#051_W5_865_40-39_830_39-38_baseT_WALfieldsw_Vbg-3.36_10nA_09-21-41/',\n",
       " 'data/2020-03-27/#052_W5_865_40-39_830_39-38_baseT_WALfieldsw_Vbg-3.38_10nA_09-32-48/',\n",
       " 'data/2020-03-27/#053_W5_865_40-39_830_39-38_baseT_WALfieldsw_Vbg-3.40_10nA_09-43-53/',\n",
       " 'data/2020-03-27/#054_W5_865_40-39_830_39-38_baseT_WALfieldsw_Vbg-3.42_10nA_09-54-57/',\n",
       " 'data/2020-03-27/#055_W5_865_40-39_830_39-38_baseT_WALfieldsw_Vbg-3.44_10nA_10-06-03/',\n",
       " 'data/2020-03-27/#056_W5_865_40-39_830_39-38_baseT_WALfieldsw_Vbg-3.46_10nA_10-17-10/',\n",
       " 'data/2020-03-27/#057_W5_865_40-39_830_39-38_baseT_WALfieldsw_Vbg-3.48_10nA_10-28-17/',\n",
       " 'data/2020-03-27/#058_W5_865_40-39_830_39-38_baseT_WALfieldsw_Vbg-3.50_10nA_10-39-24/',\n",
       " 'data/2020-03-27/#059_W5_865_40-39_830_39-38_baseT_WALfieldsw_Vbg-3.52_10nA_10-50-29/',\n",
       " 'data/2020-03-27/#060_W5_865_40-39_830_39-38_baseT_WALfieldsw_Vbg-3.54_10nA_11-01-35/',\n",
       " 'data/2020-03-27/#061_W5_865_40-39_830_39-38_baseT_WALfieldsw_Vbg-3.56_10nA_11-12-38/',\n",
       " 'data/2020-03-27/#062_W5_865_40-39_830_39-38_baseT_WALfieldsw_Vbg-3.58_10nA_11-23-41/',\n",
       " 'data/2020-03-27/#063_W5_865_40-39_830_39-38_baseT_WALfieldsw_Vbg-3.60_10nA_11-34-48/',\n",
       " 'data/2020-03-27/#064_W5_865_40-39_830_39-38_baseT_WALfieldsw_Vbg-3.62_10nA_11-45-51/',\n",
       " 'data/2020-03-27/#065_W5_865_40-39_830_39-38_baseT_WALfieldsw_Vbg-3.64_10nA_11-56-58/',\n",
       " 'data/2020-03-27/#066_W5_865_40-39_830_39-38_baseT_WALfieldsw_Vbg-3.66_10nA_12-08-02/',\n",
       " 'data/2020-03-27/#067_W5_865_40-39_830_39-38_baseT_WALfieldsw_Vbg-3.68_10nA_12-19-06/',\n",
       " 'data/2020-03-27/#068_W5_865_40-39_830_39-38_baseT_WALfieldsw_Vbg-3.70_10nA_12-30-13/',\n",
       " 'data/2020-03-27/#069_W5_865_40-39_830_39-38_baseT_WALfieldsw_Vbg-3.72_10nA_12-41-20/',\n",
       " 'data/2020-03-27/#070_W5_865_40-39_830_39-38_baseT_WALfieldsw_Vbg-3.74_10nA_12-52-27/',\n",
       " 'data/2020-03-27/#071_W5_865_40-39_830_39-38_baseT_WALfieldsw_Vbg-3.76_10nA_13-03-34/']"
      ]
     },
     "execution_count": 172,
     "metadata": {},
     "output_type": "execute_result"
    }
   ],
   "source": [
    "files_n35_base = sorted(glob.glob('data/2020-03-27/#*/'))[45:71]\n",
    "files_n35_base"
   ]
  },
  {
   "cell_type": "code",
   "execution_count": 173,
   "metadata": {
    "Collapsed": "false"
   },
   "outputs": [],
   "source": [
    "nB = 251\n",
    "barr = np.linspace(-0.025, 0.025, nB)\n",
    "garr_n35 = np.linspace(-3.26, -3.76, 26)\n",
    "ng_n35 = len(garr_n35)\n",
    "arrayn35_830_base = np.zeros((ng_n35, nB))\n",
    "arrayn35_865_base = np.zeros((ng_n35, nB))\n",
    "\n",
    "for i, f in enumerate(files_n35_base):\n",
    "    data = qc.load_data(f[:-1])\n",
    "    dlast = np.where(np.isnan(data.triton_field))[0][0]\n",
    "    b = data.triton_field[:dlast]\n",
    "    arrayn35_830_base[i, :] = np.interp(barr, b, data.lockin830_X[:dlast])\n",
    "    arrayn35_865_base[i, :] = np.interp(barr, b, data.lockin865_X[:dlast])"
   ]
  },
  {
   "cell_type": "code",
   "execution_count": 174,
   "metadata": {
    "Collapsed": "false"
   },
   "outputs": [],
   "source": [
    "np.savetxt('AnalysisNotebooks/W5_WAL_arrays/W5_10nA_-3p5Vbg_baseT_40-39.txt', arrayn35_865_base, fmt='%.8e', header='#array of lockin865 voltage readings (divide by 10e-9 to get Rxx) at base Temp for electrodes 40-39, with axis 0 being backgate voltage from -3.26 (top) to -3.76 (bottom) every 0.02 V (26 pts) and field from -25 to 25 mT, every 0.2 mT (251 pts)')\n",
    "np.savetxt('AnalysisNotebooks/W5_WAL_arrays/W5_10nA_-3p5Vbg_baseT_39-38.txt', arrayn35_830_base, fmt='%.8e', header='#array of lockin830 voltage readings (divide by 10e-9 to get Rxx) at base Temp for electrodes 39-38, with axis 0 being backgate voltage from -3.26 (top) to -3.76 (bottom) every 0.02 V (26 pts) and field from -25 to 25 mT, every 0.2 mT (251 pts)')"
   ]
  },
  {
   "cell_type": "code",
   "execution_count": 866,
   "metadata": {
    "Collapsed": "false"
   },
   "outputs": [
    {
     "data": {
      "application/vnd.jupyter.widget-view+json": {
       "model_id": "6cda5460fba54d759332f55047e5f7e6",
       "version_major": 2,
       "version_minor": 0
      },
      "text/plain": [
       "Canvas(toolbar=Toolbar(toolitems=[('Home', 'Reset original view', 'home', 'home'), ('Back', 'Back to previous …"
      ]
     },
     "metadata": {},
     "output_type": "display_data"
    }
   ],
   "source": [
    "plt.figure()  # lockin865 (40-39), -3.26 to -3.76, averaging 26 pts\n",
    "plt.plot(barr*1000, 1/np.average(arrayn35_865/10e-9, axis=0)/esqh - 24.176, '.r')\n",
    "plt.axis(a)\n",
    "plt.xlabel('B (mT)')\n",
    "plt.ylabel('$\\sigma(B) - \\sigma(0)$ ($e^2/h$)')\n",
    "# plt.savefig(figfile + 'W5_near-3p5WALpeak_avg26pts_40-39_raw.png', dpi=300, bbox_inches='tight')"
   ]
  },
  {
   "cell_type": "code",
   "execution_count": 944,
   "metadata": {
    "Collapsed": "false"
   },
   "outputs": [
    {
     "name": "stdout",
     "output_type": "stream",
     "text": [
      "-0.00 is not a value in the array\n",
      "Plotted -0.00 instead\n"
     ]
    },
    {
     "data": {
      "application/vnd.jupyter.widget-view+json": {
       "model_id": "ae82b64cfb0a40cf8cf9db00eeab1f46",
       "version_major": 2,
       "version_minor": 0
      },
      "text/plain": [
       "Canvas(toolbar=Toolbar(toolitems=[('Home', 'Reset original view', 'home', 'home'), ('Back', 'Back to previous …"
      ]
     },
     "metadata": {},
     "output_type": "display_data"
    },
    {
     "data": {
      "text/plain": [
       "Text(0.5, 0, 'B (mT)')"
      ]
     },
     "execution_count": 944,
     "metadata": {},
     "output_type": "execute_result"
    }
   ],
   "source": [
    "dGn35_865_base = np.zeros(arrayn35_865_base.shape)\n",
    "pind = npd.val_to_index([-1.19/1000], barr)[0]\n",
    "for i in range(arrayn35_865_base.shape[0]):\n",
    "    dGn35_865_base[i, :] = 1/(arrayn35_865_base[i, :]/10e-9)/esqh - 1/(arrayn35_865_base[i, pind]/10e-9)/esqh\n",
    "\n",
    "plt.figure()  # lockin865 (40-39)\n",
    "# plt.pcolormesh(barr*1000, garr_n35, gaussian_filter((1/(arrayn35_865/10e-9)/esqh - 24.176), (1, 1)))\n",
    "plt.pcolormesh(barr*1000, garr_n35, gaussian_filter(dGn35_865_base, (0.8, 0.8)))\n",
    "plt.colorbar()\n",
    "plt.ylabel('V$_{g}$')\n",
    "plt.xlabel('B (mT)')\n",
    "# plt.savefig(figfile + 'W5_near-3p5WALpeak_2d_40-39_raw.png', dpi=300, bbox_inches='tight')"
   ]
  },
  {
   "cell_type": "code",
   "execution_count": 872,
   "metadata": {
    "Collapsed": "false"
   },
   "outputs": [],
   "source": [
    "a = plt.axis()"
   ]
  },
  {
   "cell_type": "code",
   "execution_count": 874,
   "metadata": {
    "Collapsed": "false"
   },
   "outputs": [
    {
     "data": {
      "application/vnd.jupyter.widget-view+json": {
       "model_id": "8e9a59802b274fc6a4b13227cf359aae",
       "version_major": 2,
       "version_minor": 0
      },
      "text/plain": [
       "Canvas(toolbar=Toolbar(toolitems=[('Home', 'Reset original view', 'home', 'home'), ('Back', 'Back to previous …"
      ]
     },
     "metadata": {},
     "output_type": "display_data"
    }
   ],
   "source": [
    "\n",
    "plt.figure()  # lockin830 (39-38), -3.26 to -3.76, averaging 26 pts\n",
    "plt.plot(barr*1000, 1/np.average(arrayn35_830/10e-9, axis=0)/esqh - 29.5, '.r')\n",
    "plt.axis(a)\n",
    "plt.xlabel('B (mT)')\n",
    "plt.ylabel('$\\sigma(B) - \\sigma(0)$ ($e^2/h$)')\n",
    "# plt.savefig(figfile + 'W5_near-3p5WALpeak_avg26pts_39-38_raw.png', dpi=300, bbox_inches='tight')"
   ]
  },
  {
   "cell_type": "code",
   "execution_count": 945,
   "metadata": {
    "Collapsed": "false"
   },
   "outputs": [
    {
     "name": "stdout",
     "output_type": "stream",
     "text": [
      "-0.00 is not a value in the array\n",
      "Plotted -0.00 instead\n"
     ]
    },
    {
     "data": {
      "application/vnd.jupyter.widget-view+json": {
       "model_id": "c47208543a4b422abc0adb5ba0cc99a0",
       "version_major": 2,
       "version_minor": 0
      },
      "text/plain": [
       "Canvas(toolbar=Toolbar(toolitems=[('Home', 'Reset original view', 'home', 'home'), ('Back', 'Back to previous …"
      ]
     },
     "metadata": {},
     "output_type": "display_data"
    },
    {
     "data": {
      "text/plain": [
       "Text(0.5, 0, 'B (mT)')"
      ]
     },
     "execution_count": 945,
     "metadata": {},
     "output_type": "execute_result"
    }
   ],
   "source": [
    "dGn35_830 = np.zeros(arrayn35_830.shape)\n",
    "pind = npd.val_to_index([-1.19/1000], barr)[0]\n",
    "for i in range(arrayn35_830.shape[0]):\n",
    "    dGn35_830[i, :] = 1/(arrayn35_830[i, :]/10e-9)/esqh - 1/(arrayn35_830[i, pind]/10e-9)/esqh\n",
    "\n",
    "plt.figure()  # lockin830 (39-38)\n",
    "# plt.pcolormesh(barr*1000, garr_n35, gaussian_filter((1/(arrayn35_830/10e-9)/esqh - 29.5), (1, 1)))\n",
    "plt.pcolormesh(barr*1000, garr_n35, gaussian_filter(dGn35_830, (0.8, 0.8)))\n",
    "plt.colorbar()\n",
    "plt.ylabel('V$_{g}$')\n",
    "plt.xlabel('B (mT)')\n",
    "# plt.savefig(figfile + 'W5_near-3p5WALpeak_2d_39-38_raw.png', dpi=300, bbox_inches='tight')"
   ]
  },
  {
   "cell_type": "markdown",
   "metadata": {
    "Collapsed": "false"
   },
   "source": [
    "300 mK"
   ]
  },
  {
   "cell_type": "code",
   "execution_count": 175,
   "metadata": {
    "Collapsed": "false"
   },
   "outputs": [],
   "source": [
    "files_n35_300 = sorted(glob.glob('data/2020-03-28/#*/'))[47:] + sorted(glob.glob('data/2020-03-29/#*/'))[:2]"
   ]
  },
  {
   "cell_type": "code",
   "execution_count": 176,
   "metadata": {
    "Collapsed": "false"
   },
   "outputs": [],
   "source": [
    "arrayn35_830_300 = np.zeros((ng_n35, nB))\n",
    "arrayn35_865_300 = np.zeros((ng_n35, nB))\n",
    "\n",
    "for i, f in enumerate(files_n35_300):\n",
    "    data = qc.load_data(f[:-1])\n",
    "    dlast = np.where(np.isnan(data.triton_field))[0][0]\n",
    "    b = data.triton_field[:dlast]\n",
    "    arrayn35_830_300[i, :] = np.interp(barr, b, data.lockin830_X[:dlast])\n",
    "    arrayn35_865_300[i, :] = np.interp(barr, b, data.lockin865_X[:dlast])"
   ]
  },
  {
   "cell_type": "code",
   "execution_count": 180,
   "metadata": {
    "Collapsed": "false"
   },
   "outputs": [],
   "source": [
    "np.savetxt('AnalysisNotebooks/W5_WAL_arrays/W5_10nA_-3p5Vbg_300mK_40-39.txt', arrayn35_865_300, fmt='%.8e', header='#array of lockin865 voltage readings (divide by 10e-9 to get Rxx) at 300mK for electrodes 40-39, with axis 0 being backgate voltage from -3.26 (top) to -3.76 (bottom) every 0.02 V (26 pts) and field from -25 to 25 mT, every 0.2 mT (251 pts)')\n",
    "np.savetxt('AnalysisNotebooks/W5_WAL_arrays/W5_10nA_-3p5Vbg_300mK_39-38.txt', arrayn35_830_300, fmt='%.8e', header='#array of lockin830 voltage readings (divide by 10e-9 to get Rxx) at 300mK for electrodes 39-38, with axis 0 being backgate voltage from -3.26 (top) to -3.76 (bottom) every 0.02 V (26 pts) and field from -25 to 25 mT, every 0.2 mT (251 pts)')"
   ]
  },
  {
   "cell_type": "markdown",
   "metadata": {
    "Collapsed": "false"
   },
   "source": [
    "500 mK"
   ]
  },
  {
   "cell_type": "code",
   "execution_count": 181,
   "metadata": {
    "Collapsed": "false"
   },
   "outputs": [],
   "source": [
    "files_n35_500 = sorted(glob.glob('data/2020-03-29/#*/'))[58:84]"
   ]
  },
  {
   "cell_type": "code",
   "execution_count": 182,
   "metadata": {
    "Collapsed": "false"
   },
   "outputs": [],
   "source": [
    "arrayn35_830_500 = np.zeros((ng_n35, nB))\n",
    "arrayn35_865_500 = np.zeros((ng_n35, nB))\n",
    "\n",
    "for i, f in enumerate(files_n35_500):\n",
    "    data = qc.load_data(f[:-1])\n",
    "    dlast = np.where(np.isnan(data.triton_field))[0][0]\n",
    "    b = data.triton_field[:dlast]\n",
    "    arrayn35_830_500[i, :] = np.interp(barr, b, data.lockin830_X[:dlast])\n",
    "    arrayn35_865_500[i, :] = np.interp(barr, b, data.lockin865_X[:dlast])"
   ]
  },
  {
   "cell_type": "code",
   "execution_count": 183,
   "metadata": {
    "Collapsed": "false"
   },
   "outputs": [],
   "source": [
    "np.savetxt('AnalysisNotebooks/W5_WAL_arrays/W5_10nA_-3p5Vbg_500mK_40-39.txt', arrayn35_865_500, fmt='%.8e', header='#array of lockin865 voltage readings (divide by 10e-9 to get Rxx) at 500mK for electrodes 40-39, with axis 0 being backgate voltage from -3.26 (top) to -3.76 (bottom) every 0.02 V (26 pts) and field from -25 to 25 mT, every 0.2 mT (251 pts)')\n",
    "np.savetxt('AnalysisNotebooks/W5_WAL_arrays/W5_10nA_-3p5Vbg_500mK_39-38.txt', arrayn35_830_500, fmt='%.8e', header='#array of lockin830 voltage readings (divide by 10e-9 to get Rxx) at 500mK for electrodes 39-38, with axis 0 being backgate voltage from -3.26 (top) to -3.76 (bottom) every 0.02 V (26 pts) and field from -25 to 25 mT, every 0.2 mT (251 pts)')"
   ]
  },
  {
   "cell_type": "markdown",
   "metadata": {
    "Collapsed": "false"
   },
   "source": [
    "700 mK"
   ]
  },
  {
   "cell_type": "code",
   "execution_count": 218,
   "metadata": {
    "Collapsed": "false"
   },
   "outputs": [],
   "source": [
    "files_n35_700 = sorted(glob.glob('data/2020-03-30/#*/'))[18:44]"
   ]
  },
  {
   "cell_type": "code",
   "execution_count": 219,
   "metadata": {
    "Collapsed": "false"
   },
   "outputs": [],
   "source": [
    "arrayn35_830_700 = np.zeros((ng_n35, nB))\n",
    "arrayn35_865_700 = np.zeros((ng_n35, nB))\n",
    "\n",
    "for i, f in enumerate(files_n35_700):\n",
    "    data = qc.load_data(f[:-1])\n",
    "    dlast = np.where(np.isnan(data.triton_field))[0][0]\n",
    "    b = data.triton_field[:dlast]\n",
    "    arrayn35_830_700[i, :] = np.interp(barr, b, data.lockin830_X[:dlast])\n",
    "    arrayn35_865_700[i, :] = np.interp(barr, b, data.lockin865_X[:dlast])"
   ]
  },
  {
   "cell_type": "code",
   "execution_count": 220,
   "metadata": {
    "Collapsed": "false"
   },
   "outputs": [],
   "source": [
    "np.savetxt('AnalysisNotebooks/W5_WAL_arrays/W5_10nA_-3p5Vbg_700mK_40-39.txt', arrayn35_865_700, fmt='%.8e', header='#array of lockin865 voltage readings (divide by 10e-9 to get Rxx) at 700mK for electrodes 40-39, with axis 0 being backgate voltage from -3.26 (top) to -3.76 (bottom) every 0.02 V (26 pts) and field from -25 to 25 mT, every 0.2 mT (251 pts)')\n",
    "np.savetxt('AnalysisNotebooks/W5_WAL_arrays/W5_10nA_-3p5Vbg_700mK_39-38.txt', arrayn35_830_700, fmt='%.8e', header='#array of lockin830 voltage readings (divide by 10e-9 to get Rxx) at 700mK for electrodes 39-38, with axis 0 being backgate voltage from -3.26 (top) to -3.76 (bottom) every 0.02 V (26 pts) and field from -25 to 25 mT, every 0.2 mT (251 pts)')"
   ]
  },
  {
   "cell_type": "markdown",
   "metadata": {
    "Collapsed": "false"
   },
   "source": [
    "900 mK"
   ]
  },
  {
   "cell_type": "code",
   "execution_count": 276,
   "metadata": {
    "Collapsed": "false"
   },
   "outputs": [],
   "source": [
    "files_n35_900 = sorted(glob.glob('data/2020-03-30/#*/'))[70:96]"
   ]
  },
  {
   "cell_type": "code",
   "execution_count": 277,
   "metadata": {
    "Collapsed": "false"
   },
   "outputs": [],
   "source": [
    "arrayn35_830_900 = np.zeros((ng_n35, nB))\n",
    "arrayn35_865_900 = np.zeros((ng_n35, nB))\n",
    "\n",
    "for i, f in enumerate(files_n35_900):\n",
    "    data = qc.load_data(f[:-1])\n",
    "    dlast = np.where(np.isnan(data.triton_field))[0][0]\n",
    "    b = data.triton_field[:dlast]\n",
    "    arrayn35_830_900[i, :] = np.interp(barr, b, data.lockin830_X[:dlast])\n",
    "    arrayn35_865_900[i, :] = np.interp(barr, b, data.lockin865_X[:dlast])"
   ]
  },
  {
   "cell_type": "code",
   "execution_count": 278,
   "metadata": {
    "Collapsed": "false"
   },
   "outputs": [],
   "source": [
    "np.savetxt('AnalysisNotebooks/W5_WAL_arrays/W5_10nA_-3p5Vbg_900mK_40-39.txt', arrayn35_865_900, fmt='%.8e', header='#array of lockin865 voltage readings (divide by 10e-9 to get Rxx) at 900mK for electrodes 40-39, with axis 0 being backgate voltage from -3.26 (top) to -3.76 (bottom) every 0.02 V (26 pts) and field from -25 to 25 mT, every 0.2 mT (251 pts)')\n",
    "np.savetxt('AnalysisNotebooks/W5_WAL_arrays/W5_10nA_-3p5Vbg_900mK_39-38.txt', arrayn35_830_900, fmt='%.8e', header='#array of lockin830 voltage readings (divide by 10e-9 to get Rxx) at 900mK for electrodes 39-38, with axis 0 being backgate voltage from -3.26 (top) to -3.76 (bottom) every 0.02 V (26 pts) and field from -25 to 25 mT, every 0.2 mT (251 pts)')"
   ]
  },
  {
   "cell_type": "markdown",
   "metadata": {
    "Collapsed": "false"
   },
   "source": [
    "# Near -6"
   ]
  },
  {
   "cell_type": "code",
   "execution_count": 238,
   "metadata": {
    "Collapsed": "false",
    "collapsed": true,
    "jupyter": {
     "outputs_hidden": true
    }
   },
   "outputs": [
    {
     "data": {
      "text/plain": [
       "['data/2020-03-27/#072_W5_865_40-39_830_39-38_baseT_WALfieldsw_Vbg-5.74_10nA_13-42-33/',\n",
       " 'data/2020-03-27/#073_W5_865_40-39_830_39-38_baseT_WALfieldsw_Vbg-5.76_10nA_13-53-40/',\n",
       " 'data/2020-03-27/#074_W5_865_40-39_830_39-38_baseT_WALfieldsw_Vbg-5.78_10nA_14-04-44/',\n",
       " 'data/2020-03-27/#075_W5_865_40-39_830_39-38_baseT_WALfieldsw_Vbg-5.80_10nA_14-15-48/',\n",
       " 'data/2020-03-27/#076_W5_865_40-39_830_39-38_baseT_WALfieldsw_Vbg-5.82_10nA_14-26-52/',\n",
       " 'data/2020-03-27/#077_W5_865_40-39_830_39-38_baseT_WALfieldsw_Vbg-5.84_10nA_14-37-59/',\n",
       " 'data/2020-03-27/#078_W5_865_40-39_830_39-38_baseT_WALfieldsw_Vbg-5.86_10nA_14-49-08/',\n",
       " 'data/2020-03-27/#079_W5_865_40-39_830_39-38_baseT_WALfieldsw_Vbg-5.88_10nA_15-00-15/',\n",
       " 'data/2020-03-27/#080_W5_865_40-39_830_39-38_baseT_WALfieldsw_Vbg-5.90_10nA_15-11-20/',\n",
       " 'data/2020-03-27/#081_W5_865_40-39_830_39-38_baseT_WALfieldsw_Vbg-5.92_10nA_15-22-27/',\n",
       " 'data/2020-03-27/#082_W5_865_40-39_830_39-38_baseT_WALfieldsw_Vbg-5.94_10nA_15-33-34/',\n",
       " 'data/2020-03-27/#083_W5_865_40-39_830_39-38_baseT_WALfieldsw_Vbg-5.96_10nA_15-44-40/',\n",
       " 'data/2020-03-27/#084_W5_865_40-39_830_39-38_baseT_WALfieldsw_Vbg-5.98_10nA_15-55-47/',\n",
       " 'data/2020-03-27/#085_W5_865_40-39_830_39-38_baseT_WALfieldsw_Vbg-6.00_10nA_16-06-53/',\n",
       " 'data/2020-03-27/#086_W5_865_40-39_830_39-38_baseT_WALfieldsw_Vbg-6.02_10nA_16-17-57/',\n",
       " 'data/2020-03-27/#087_W5_865_40-39_830_39-38_baseT_WALfieldsw_Vbg-6.04_10nA_16-29-04/',\n",
       " 'data/2020-03-27/#088_W5_865_40-39_830_39-38_baseT_WALfieldsw_Vbg-6.06_10nA_16-40-08/',\n",
       " 'data/2020-03-27/#089_W5_865_40-39_830_39-38_baseT_WALfieldsw_Vbg-6.08_10nA_16-51-14/',\n",
       " 'data/2020-03-27/#090_W5_865_40-39_830_39-38_baseT_WALfieldsw_Vbg-6.10_10nA_17-02-22/',\n",
       " 'data/2020-03-27/#091_W5_865_40-39_830_39-38_baseT_WALfieldsw_Vbg-6.12_10nA_17-13-29/',\n",
       " 'data/2020-03-27/#092_W5_865_40-39_830_39-38_baseT_WALfieldsw_Vbg-6.14_10nA_17-24-35/',\n",
       " 'data/2020-03-27/#093_W5_865_40-39_830_39-38_baseT_WALfieldsw_Vbg-6.16_10nA_17-35-41/',\n",
       " 'data/2020-03-27/#094_W5_865_40-39_830_39-38_baseT_WALfieldsw_Vbg-6.18_10nA_17-46-48/',\n",
       " 'data/2020-03-27/#095_W5_865_40-39_830_39-38_baseT_WALfieldsw_Vbg-6.20_10nA_17-57-56/',\n",
       " 'data/2020-03-27/#096_W5_865_40-39_830_39-38_baseT_WALfieldsw_Vbg-6.22_10nA_18-09-00/',\n",
       " 'data/2020-03-27/#097_W5_865_40-39_830_39-38_baseT_WALfieldsw_Vbg-6.24_10nA_18-20-08/']"
      ]
     },
     "execution_count": 238,
     "metadata": {},
     "output_type": "execute_result"
    }
   ],
   "source": [
    "files_n6_base = sorted(glob.glob('data/2020-03-27/#*/'))[71:97]\n",
    "files_n6_base"
   ]
  },
  {
   "cell_type": "code",
   "execution_count": 239,
   "metadata": {
    "Collapsed": "false"
   },
   "outputs": [],
   "source": [
    "nB = 251\n",
    "barr = np.linspace(-0.025, 0.025, nB)  # we will trim this down later when we combine arrays.\n",
    "garr_n6 = np.linspace(-5.74, -6.24, 26)\n",
    "ng_n6 = len(garr_n6)\n",
    "arrayn6_830_base = np.zeros((ng_n6, nB))\n",
    "arrayn6_865_base = np.zeros((ng_n6, nB))\n",
    "\n",
    "for i, f in enumerate(files_n6_base):\n",
    "    data = qc.load_data(f[:-1])\n",
    "    dlast = np.where(np.isnan(data.triton_field))[0][0]\n",
    "    b = data.triton_field[:dlast]\n",
    "    arrayn6_830_base[i, :] = np.interp(barr, b, data.lockin830_X[:dlast])\n",
    "    arrayn6_865_base[i, :] = np.interp(barr, b, data.lockin865_X[:dlast])"
   ]
  },
  {
   "cell_type": "code",
   "execution_count": 240,
   "metadata": {
    "Collapsed": "false"
   },
   "outputs": [
    {
     "data": {
      "text/plain": [
       "(26, 251)"
      ]
     },
     "execution_count": 240,
     "metadata": {},
     "output_type": "execute_result"
    }
   ],
   "source": [
    "arrayn6_830_base.shape"
   ]
  },
  {
   "cell_type": "code",
   "execution_count": 241,
   "metadata": {
    "Collapsed": "false"
   },
   "outputs": [],
   "source": [
    "np.savetxt('AnalysisNotebooks/W5_WAL_arrays/W5_10nA_-6Vbg_baseT_40-39.txt', arrayn6_865_base, fmt='%.8e', header='#array of lockin865 voltage readings (divide by 10e-9 to get Rxx) at base Temp for electrodes 40-39, with axis 0 being backgate voltage from -5.74 (top) to -6.24 (bottom) every 0.02 V (26 pts) and field from -25 to 25 mT, every 0.2 mT (251 pts)')\n",
    "np.savetxt('AnalysisNotebooks/W5_WAL_arrays/W5_10nA_-6Vbg_baseT_39-38.txt', arrayn6_830_base, fmt='%.8e', header='#array of lockin830 voltage readings (divide by 10e-9 to get Rxx) at base Temp for electrodes 39-38, with axis 0 being backgate voltage from -5.74 (top) to -6.24 (bottom) every 0.02 V (26 pts) and field from -25 to 25 mT, every 0.2 mT (251 pts)')"
   ]
  },
  {
   "cell_type": "code",
   "execution_count": 242,
   "metadata": {
    "Collapsed": "false"
   },
   "outputs": [
    {
     "name": "stdout",
     "output_type": "stream",
     "text": [
      "-0.00 is not a value in the array\n",
      "Plotted -0.00 instead\n"
     ]
    },
    {
     "data": {
      "application/vnd.jupyter.widget-view+json": {
       "model_id": "3844a7ff4b814ff0a82ac668f49831b2",
       "version_major": 2,
       "version_minor": 0
      },
      "text/plain": [
       "Canvas(toolbar=Toolbar(toolitems=[('Home', 'Reset original view', 'home', 'home'), ('Back', 'Back to previous …"
      ]
     },
     "metadata": {},
     "output_type": "display_data"
    },
    {
     "data": {
      "text/plain": [
       "Text(0.5, 0, 'B (mT)')"
      ]
     },
     "execution_count": 242,
     "metadata": {},
     "output_type": "execute_result"
    }
   ],
   "source": [
    "dGn6_865_base = np.zeros(arrayn6_865_base.shape)\n",
    "pind = npd.val_to_index([-1.19/1000], barr)[0]\n",
    "for i in range(arrayn6_865_base.shape[0]):\n",
    "    dGn6_865_base[i, :] = 1/(arrayn6_865_base[i, :]/10e-9)/esqh - 1/(arrayn6_865_base[i, pind]/10e-9)/esqh\n",
    "\n",
    "plt.figure()  # lockin865 (40-39)\n",
    "# plt.pcolormesh(barr*1000, garr_n35, gaussian_filter((1/(arrayn35_830/10e-9)/esqh - 29.5), (1, 1)))\n",
    "plt.pcolormesh(barr*1000, garr_n6, gaussian_filter(dGn6_865_base, (0.8, 0.8)))\n",
    "plt.colorbar()\n",
    "plt.ylabel('V$_{g}$')\n",
    "plt.xlabel('B (mT)')\n",
    "# plt.savefig(figfile + 'W5_near-6WALpeak_2d_40-39_raw.png', dpi=300, bbox_inches='tight')"
   ]
  },
  {
   "cell_type": "code",
   "execution_count": 925,
   "metadata": {
    "Collapsed": "false"
   },
   "outputs": [],
   "source": [
    "a = plt.axis()"
   ]
  },
  {
   "cell_type": "code",
   "execution_count": 926,
   "metadata": {
    "Collapsed": "false"
   },
   "outputs": [
    {
     "data": {
      "application/vnd.jupyter.widget-view+json": {
       "model_id": "c3b7e7c667b846e5a20167bad4cdea35",
       "version_major": 2,
       "version_minor": 0
      },
      "text/plain": [
       "Canvas(toolbar=Toolbar(toolitems=[('Home', 'Reset original view', 'home', 'home'), ('Back', 'Back to previous …"
      ]
     },
     "metadata": {},
     "output_type": "display_data"
    }
   ],
   "source": [
    "plt.figure()  # lockin865 (40-39),\n",
    "plt.plot(barr*1000, 1/np.average(arrayn6_865[:]/10e-9, axis=0)/esqh - 48.73, '.r')\n",
    "plt.axis(a)\n",
    "plt.xlabel('B (mT)')\n",
    "plt.ylabel('$\\sigma(B) - \\sigma(0)$ ($e^2/h$)')\n",
    "# plt.savefig(figfile + 'W5_near-6WALpeak_avg8pts_40-39_raw.png', dpi=300, bbox_inches='tight')"
   ]
  },
  {
   "cell_type": "code",
   "execution_count": 244,
   "metadata": {
    "Collapsed": "false"
   },
   "outputs": [
    {
     "name": "stdout",
     "output_type": "stream",
     "text": [
      "-0.00 is not a value in the array\n",
      "Plotted -0.00 instead\n"
     ]
    },
    {
     "data": {
      "application/vnd.jupyter.widget-view+json": {
       "model_id": "7b81d3b5dedd4eda89b6bcab6a2b3338",
       "version_major": 2,
       "version_minor": 0
      },
      "text/plain": [
       "Canvas(toolbar=Toolbar(toolitems=[('Home', 'Reset original view', 'home', 'home'), ('Back', 'Back to previous …"
      ]
     },
     "metadata": {},
     "output_type": "display_data"
    },
    {
     "data": {
      "text/plain": [
       "Text(0.5, 0, 'B (mT)')"
      ]
     },
     "execution_count": 244,
     "metadata": {},
     "output_type": "execute_result"
    }
   ],
   "source": [
    "dGn6_830_base = np.zeros(arrayn6_830_base.shape)\n",
    "pind = npd.val_to_index([-1.19/1000], barr)[0]\n",
    "for i in range(arrayn6_830_base.shape[0]):\n",
    "    dGn6_830_base[i, :] = 1/(arrayn6_830_base[i, :]/10e-9)/esqh - 1/(arrayn6_830_base[i, pind]/10e-9)/esqh\n",
    "\n",
    "plt.figure()  # lockin830 (39-38)\n",
    "# plt.pcolormesh(barr*1000, garr_n35, gaussian_filter((1/(arrayn35_830/10e-9)/esqh - 29.5), (1, 1)))\n",
    "plt.pcolormesh(barr*1000, garr_n6, gaussian_filter(dGn6_830_base, (0.8, 0.8)))\n",
    "plt.colorbar()\n",
    "plt.ylabel('V$_{g}$')\n",
    "plt.xlabel('B (mT)')\n",
    "# plt.savefig(figfile + 'W5_near-6WALpeak_2d_39-38_raw.png', dpi=300, bbox_inches='tight')"
   ]
  },
  {
   "cell_type": "code",
   "execution_count": 918,
   "metadata": {
    "Collapsed": "false"
   },
   "outputs": [
    {
     "data": {
      "application/vnd.jupyter.widget-view+json": {
       "model_id": "4c3fffab35ae483581b46b7cda3add05",
       "version_major": 2,
       "version_minor": 0
      },
      "text/plain": [
       "Canvas(toolbar=Toolbar(toolitems=[('Home', 'Reset original view', 'home', 'home'), ('Back', 'Back to previous …"
      ]
     },
     "metadata": {},
     "output_type": "display_data"
    }
   ],
   "source": [
    "plt.figure()  # lockin830 (39-38),\n",
    "plt.plot(barr*1000, 1/np.average(arrayn6_830[4:]/10e-9, axis=0)/esqh - 73.5, '.r')\n",
    "plt.axis(a)\n",
    "plt.xlabel('B (mT)')\n",
    "plt.ylabel('$\\sigma(B) - \\sigma(0)$ ($e^2/h$)')\n",
    "# plt.savefig(figfile + 'W5_near-6WALpeak_avg8pts_39-38_raw.png', dpi=300, bbox_inches='tight')"
   ]
  },
  {
   "cell_type": "code",
   "execution_count": 916,
   "metadata": {
    "Collapsed": "false"
   },
   "outputs": [],
   "source": [
    "a = plt.axis()"
   ]
  },
  {
   "cell_type": "markdown",
   "metadata": {
    "Collapsed": "false"
   },
   "source": [
    "300 mK"
   ]
  },
  {
   "cell_type": "code",
   "execution_count": 245,
   "metadata": {
    "Collapsed": "false"
   },
   "outputs": [],
   "source": [
    "files_n6_300 = sorted(glob.glob('data/2020-03-29/#*/'))[2:28]"
   ]
  },
  {
   "cell_type": "code",
   "execution_count": 246,
   "metadata": {
    "Collapsed": "false"
   },
   "outputs": [],
   "source": [
    "arrayn6_830_300 = np.zeros((ng_n6, nB))\n",
    "arrayn6_865_300 = np.zeros((ng_n6, nB))\n",
    "\n",
    "for i, f in enumerate(files_n6_300):\n",
    "    data = qc.load_data(f[:-1])\n",
    "    dlast = np.where(np.isnan(data.triton_field))[0][0]\n",
    "    b = data.triton_field[:dlast]\n",
    "    arrayn6_830_300[i, :] = np.interp(barr, b, data.lockin830_X[:dlast])\n",
    "    arrayn6_865_300[i, :] = np.interp(barr, b, data.lockin865_X[:dlast])"
   ]
  },
  {
   "cell_type": "code",
   "execution_count": 247,
   "metadata": {
    "Collapsed": "false"
   },
   "outputs": [],
   "source": [
    "np.savetxt('AnalysisNotebooks/W5_WAL_arrays/W5_10nA_-6Vbg_300mK_40-39.txt', arrayn6_865_300, fmt='%.8e', header='#array of lockin865 voltage readings (divide by 10e-9 to get Rxx) at 300 mK for electrodes 40-39, with axis 0 being backgate voltage from -5.74 (top) to -6.24 (bottom) every 0.02 V (26 pts) and field from -25 to 25 mT, every 0.2 mT (251 pts)')\n",
    "np.savetxt('AnalysisNotebooks/W5_WAL_arrays/W5_10nA_-6Vbg_300mK_39-38.txt', arrayn6_830_300, fmt='%.8e', header='#array of lockin830 voltage readings (divide by 10e-9 to get Rxx) at 300 mK for electrodes 39-38, with axis 0 being backgate voltage from -5.74 (top) to -6.24 (bottom) every 0.02 V (26 pts) and field from -25 to 25 mT, every 0.2 mT (251 pts)')"
   ]
  },
  {
   "cell_type": "markdown",
   "metadata": {
    "Collapsed": "false"
   },
   "source": [
    "500 mK"
   ]
  },
  {
   "cell_type": "code",
   "execution_count": 259,
   "metadata": {
    "Collapsed": "false"
   },
   "outputs": [],
   "source": [
    "files_n6_500 = sorted(glob.glob('data/2020-03-29/#*/'))[84:110]"
   ]
  },
  {
   "cell_type": "code",
   "execution_count": 260,
   "metadata": {
    "Collapsed": "false"
   },
   "outputs": [],
   "source": [
    "arrayn6_830_500 = np.zeros((ng_n6, nB))\n",
    "arrayn6_865_500 = np.zeros((ng_n6, nB))\n",
    "\n",
    "for i, f in enumerate(files_n6_500):\n",
    "    data = qc.load_data(f[:-1])\n",
    "    dlast = np.where(np.isnan(data.triton_field))[0][0]\n",
    "    b = data.triton_field[:dlast]\n",
    "    arrayn6_830_500[i, :] = np.interp(barr, b, data.lockin830_X[:dlast])\n",
    "    arrayn6_865_500[i, :] = np.interp(barr, b, data.lockin865_X[:dlast])"
   ]
  },
  {
   "cell_type": "code",
   "execution_count": 261,
   "metadata": {
    "Collapsed": "false"
   },
   "outputs": [],
   "source": [
    "np.savetxt('AnalysisNotebooks/W5_WAL_arrays/W5_10nA_-6Vbg_500mK_40-39.txt', arrayn6_865_500, fmt='%.8e', header='#array of lockin865 voltage readings (divide by 10e-9 to get Rxx) at 500 mK for electrodes 40-39, with axis 0 being backgate voltage from -5.74 (top) to -6.24 (bottom) every 0.02 V (26 pts) and field from -25 to 25 mT, every 0.2 mT (251 pts)')\n",
    "np.savetxt('AnalysisNotebooks/W5_WAL_arrays/W5_10nA_-6Vbg_500mK_39-38.txt', arrayn6_830_500, fmt='%.8e', header='#array of lockin830 voltage readings (divide by 10e-9 to get Rxx) at 500 mK for electrodes 39-38, with axis 0 being backgate voltage from -5.74 (top) to -6.24 (bottom) every 0.02 V (26 pts) and field from -25 to 25 mT, every 0.2 mT (251 pts)')"
   ]
  },
  {
   "cell_type": "markdown",
   "metadata": {
    "Collapsed": "false"
   },
   "source": [
    "700 mK"
   ]
  },
  {
   "cell_type": "code",
   "execution_count": 265,
   "metadata": {
    "Collapsed": "false"
   },
   "outputs": [],
   "source": [
    "files_n6_700 = sorted(glob.glob('data/2020-03-30/#*/'))[44:70]"
   ]
  },
  {
   "cell_type": "code",
   "execution_count": 266,
   "metadata": {
    "Collapsed": "false"
   },
   "outputs": [],
   "source": [
    "arrayn6_830_700 = np.zeros((ng_n6, nB))\n",
    "arrayn6_865_700 = np.zeros((ng_n6, nB))\n",
    "\n",
    "for i, f in enumerate(files_n6_700):\n",
    "    data = qc.load_data(f[:-1])\n",
    "    dlast = np.where(np.isnan(data.triton_field))[0][0]\n",
    "    b = data.triton_field[:dlast]\n",
    "    arrayn6_830_700[i, :] = np.interp(barr, b, data.lockin830_X[:dlast])\n",
    "    arrayn6_865_700[i, :] = np.interp(barr, b, data.lockin865_X[:dlast])"
   ]
  },
  {
   "cell_type": "code",
   "execution_count": 267,
   "metadata": {
    "Collapsed": "false"
   },
   "outputs": [],
   "source": [
    "np.savetxt('AnalysisNotebooks/W5_WAL_arrays/W5_10nA_-6Vbg_700mK_40-39.txt', arrayn6_865_700, fmt='%.8e', header='#array of lockin865 voltage readings (divide by 10e-9 to get Rxx) at 700 mK for electrodes 40-39, with axis 0 being backgate voltage from -5.74 (top) to -6.24 (bottom) every 0.02 V (26 pts) and field from -25 to 25 mT, every 0.2 mT (251 pts)')\n",
    "np.savetxt('AnalysisNotebooks/W5_WAL_arrays/W5_10nA_-6Vbg_700mK_39-38.txt', arrayn6_830_700, fmt='%.8e', header='#array of lockin830 voltage readings (divide by 10e-9 to get Rxx) at 700 mK for electrodes 39-38, with axis 0 being backgate voltage from -5.74 (top) to -6.24 (bottom) every 0.02 V (26 pts) and field from -25 to 25 mT, every 0.2 mT (251 pts)')"
   ]
  },
  {
   "cell_type": "markdown",
   "metadata": {
    "Collapsed": "false"
   },
   "source": [
    "900 mK"
   ]
  },
  {
   "cell_type": "code",
   "execution_count": 282,
   "metadata": {
    "Collapsed": "false"
   },
   "outputs": [],
   "source": [
    "files_n6_900 = sorted(glob.glob('data/2020-03-30/#*/'))[96:122]"
   ]
  },
  {
   "cell_type": "code",
   "execution_count": 283,
   "metadata": {
    "Collapsed": "false"
   },
   "outputs": [],
   "source": [
    "arrayn6_830_900 = np.zeros((ng_n6, nB))\n",
    "arrayn6_865_900 = np.zeros((ng_n6, nB))\n",
    "\n",
    "for i, f in enumerate(files_n6_900):\n",
    "    data = qc.load_data(f[:-1])\n",
    "    dlast = np.where(np.isnan(data.triton_field))[0][0]\n",
    "    b = data.triton_field[:dlast]\n",
    "    arrayn6_830_900[i, :] = np.interp(barr, b, data.lockin830_X[:dlast])\n",
    "    arrayn6_865_900[i, :] = np.interp(barr, b, data.lockin865_X[:dlast])"
   ]
  },
  {
   "cell_type": "code",
   "execution_count": 284,
   "metadata": {
    "Collapsed": "false"
   },
   "outputs": [],
   "source": [
    "np.savetxt('AnalysisNotebooks/W5_WAL_arrays/W5_10nA_-6Vbg_900mK_40-39.txt', arrayn6_865_900, fmt='%.8e', header='#array of lockin865 voltage readings (divide by 10e-9 to get Rxx) at 900 mK for electrodes 40-39, with axis 0 being backgate voltage from -5.74 (top) to -6.24 (bottom) every 0.02 V (26 pts) and field from -25 to 25 mT, every 0.2 mT (251 pts)')\n",
    "np.savetxt('AnalysisNotebooks/W5_WAL_arrays/W5_10nA_-6Vbg_900mK_39-38.txt', arrayn6_830_900, fmt='%.8e', header='#array of lockin830 voltage readings (divide by 10e-9 to get Rxx) at 900 mK for electrodes 39-38, with axis 0 being backgate voltage from -5.74 (top) to -6.24 (bottom) every 0.02 V (26 pts) and field from -25 to 25 mT, every 0.2 mT (251 pts)')"
   ]
  },
  {
   "cell_type": "code",
   "execution_count": null,
   "metadata": {
    "Collapsed": "false"
   },
   "outputs": [],
   "source": []
  }
 ],
 "metadata": {
  "kernelspec": {
   "display_name": "qcodes",
   "language": "python",
   "name": "qcodes"
  },
  "language_info": {
   "codemirror_mode": {
    "name": "ipython",
    "version": 3
   },
   "file_extension": ".py",
   "mimetype": "text/x-python",
   "name": "python",
   "nbconvert_exporter": "python",
   "pygments_lexer": "ipython3",
   "version": "3.7.4"
  }
 },
 "nbformat": 4,
 "nbformat_minor": 4
}
