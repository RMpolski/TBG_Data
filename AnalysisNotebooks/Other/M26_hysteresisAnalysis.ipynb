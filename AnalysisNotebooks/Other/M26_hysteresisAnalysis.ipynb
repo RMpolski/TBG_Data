{
 "cells": [
  {
   "cell_type": "code",
   "execution_count": 1,
   "metadata": {
    "Collapsed": "false"
   },
   "outputs": [],
   "source": [
    "import numpy as np\n",
    "import matplotlib.pyplot as plt\n",
    "from matplotlib.colors import LogNorm, SymLogNorm, DivergingNorm\n",
    "import matplotlib.colors as colors\n",
    "plt.rcParams['figure.max_open_warning'] = 500\n",
    "import qcodes as qc\n",
    "import qcodes.instrument_drivers.nplab_drivers as npd\n",
    "from scipy.optimize import curve_fit\n",
    "from scipy.interpolate import interp2d, interp1d\n",
    "from os import path\n",
    "import colorcet as cc   # install quickly with \"conda install colorcet\"\n",
    "from scipy.interpolate import RectBivariateSpline\n",
    "from matplotlib import ticker\n",
    "from scipy.ndimage import gaussian_filter, uniform_filter\n",
    "import matplotlib as mpl\n",
    "from lmfit import Model\n",
    "import glob\n",
    "from scipy.special import digamma\n",
    "import scipy.signal.windows as windows"
   ]
  },
  {
   "cell_type": "code",
   "execution_count": 2,
   "metadata": {
    "Collapsed": "false"
   },
   "outputs": [],
   "source": [
    "plt.rcParams['svg.fonttype'] = 'none'\n",
    "plt.rcParams['figure.dpi'] = 300\n",
    "plt.rcParams['lines.markersize'] = 4\n",
    "%config InlineBackend.figure_format = 'svg'\n",
    "\n",
    "font = {\n",
    "                'family': 'Arial',\n",
    "                'size': 12,\n",
    "                'serif': 'Times',\n",
    "                'sans-serif': 'Arial'\n",
    "            }\n",
    "\n",
    "plt.rc('font', **font)"
   ]
  },
  {
   "cell_type": "code",
   "execution_count": 3,
   "metadata": {
    "Collapsed": "false"
   },
   "outputs": [
    {
     "name": "stdout",
     "output_type": "stream",
     "text": [
      "/Users/robertpolski/Documents/NPGroupResearch/Measurements/Triton/qcodes_data\n"
     ]
    }
   ],
   "source": [
    "cd .."
   ]
  },
  {
   "cell_type": "code",
   "execution_count": 4,
   "metadata": {
    "Collapsed": "false"
   },
   "outputs": [],
   "source": [
    "qc.DataSet.default_io.base_location = path.abspath('.')"
   ]
  },
  {
   "cell_type": "code",
   "execution_count": 5,
   "metadata": {
    "Collapsed": "false"
   },
   "outputs": [],
   "source": [
    "figfile = 'Figures/M26Hysteresis/'"
   ]
  },
  {
   "cell_type": "code",
   "execution_count": 6,
   "metadata": {
    "Collapsed": "false"
   },
   "outputs": [],
   "source": [
    "%matplotlib widget"
   ]
  },
  {
   "cell_type": "markdown",
   "metadata": {
    "Collapsed": "false"
   },
   "source": [
    "# M26 device without superconductivity"
   ]
  },
  {
   "cell_type": "code",
   "execution_count": null,
   "metadata": {
    "Collapsed": "false"
   },
   "outputs": [],
   "source": []
  },
  {
   "cell_type": "markdown",
   "metadata": {
    "Collapsed": "false"
   },
   "source": [
    "## Area near 3/4 filling with large hysteresis"
   ]
  },
  {
   "cell_type": "code",
   "execution_count": 22,
   "metadata": {
    "Collapsed": "false"
   },
   "outputs": [],
   "source": [
    "df = qc.load_data('data/2020-02-27/#009_M26_basetemp_1nA_10-4_865_after-0.5T_17-17-26')"
   ]
  },
  {
   "cell_type": "code",
   "execution_count": 23,
   "metadata": {
    "Collapsed": "false"
   },
   "outputs": [
    {
     "data": {
      "application/vnd.jupyter.widget-view+json": {
       "model_id": "7619697c69b244949147f39aca969e55",
       "version_major": 2,
       "version_minor": 0
      },
      "text/plain": [
       "Canvas(toolbar=Toolbar(toolitems=[('Home', 'Reset original view', 'home', 'home'), ('Back', 'Back to previous …"
      ]
     },
     "metadata": {},
     "output_type": "display_data"
    },
    {
     "data": {
      "text/plain": [
       "[<matplotlib.lines.Line2D at 0x123c55450>]"
      ]
     },
     "execution_count": 23,
     "metadata": {},
     "output_type": "execute_result"
    }
   ],
   "source": [
    "plt.figure()\n",
    "plt.plot(df.srframe_volt_p1_set, npd.Rxxfromdata(df, 1e-9)/1000)"
   ]
  },
  {
   "cell_type": "code",
   "execution_count": 24,
   "metadata": {
    "Collapsed": "false"
   },
   "outputs": [],
   "source": [
    "dp = qc.load_data('data/2020-03-03/#015_M26_gatsweep_865_10-3_0p3nA_1000xgain_18-16-14')\n"
   ]
  },
  {
   "cell_type": "code",
   "execution_count": 25,
   "metadata": {
    "Collapsed": "false"
   },
   "outputs": [
    {
     "data": {
      "application/vnd.jupyter.widget-view+json": {
       "model_id": "45c061161e8747b0b6422c167e9d90cb",
       "version_major": 2,
       "version_minor": 0
      },
      "text/plain": [
       "Canvas(toolbar=Toolbar(toolitems=[('Home', 'Reset original view', 'home', 'home'), ('Back', 'Back to previous …"
      ]
     },
     "metadata": {},
     "output_type": "display_data"
    },
    {
     "data": {
      "text/plain": [
       "[<matplotlib.lines.Line2D at 0x12470a110>]"
      ]
     },
     "execution_count": 25,
     "metadata": {},
     "output_type": "execute_result"
    }
   ],
   "source": [
    "plt.figure()\n",
    "plt.plot(dp.srframe_volt_p1_set[:], npd.Rxxfromdata(dp, 0.3e-6)/1000)"
   ]
  },
  {
   "cell_type": "code",
   "execution_count": null,
   "metadata": {
    "Collapsed": "false"
   },
   "outputs": [],
   "source": []
  },
  {
   "cell_type": "code",
   "execution_count": 26,
   "metadata": {
    "Collapsed": "false"
   },
   "outputs": [],
   "source": [
    "data_other1 = qc.load_data('data/2020-03-15/#017_M26_hysteresisupVbg7p8_865_10-3_0p5nA_base T_20-34-22')\n",
    "data_other2 = qc.load_data('data/2020-03-15/#018_M26_hysteresisupVbg7p8_865_10-3_0p5nA_base T_20-44-45')\n",
    "data_other5 = qc.load_data('data/2020-03-15/#021_M26_hysteresisupVbg7p8_865_10-3_0p5nA_100mK_21-48-20')\n",
    "data_other6 = qc.load_data('data/2020-03-15/#022_M26_hysteresisupVbg7p8_865_10-3_0p5nA_100mK_21-58-42')\n",
    "data_other9 = qc.load_data('data/2020-03-15/#025_M26_hysteresisupVbg7p8_865_10-3_0p5nA_200mK_22-39-33')\n",
    "data_other10 = qc.load_data('data/2020-03-15/#026_M26_hysteresisupVbg7p8_865_10-3_0p5nA_200mK_22-49-56')\n",
    "data_other13 = qc.load_data('data/2020-03-15/#029_M26_hysteresisupVbg7p8_865_10-3_0p5nA_300mK_23-30-16')\n",
    "data_other14 = qc.load_data('data/2020-03-15/#030_M26_hysteresisupVbg7p8_865_10-3_0p5nA_300mK_23-40-39')\n",
    "data_other17 = qc.load_data('data/2020-03-16/#002_M26_hysteresisupVbg7p8_865_10-3_0p5nA_400mK_00-27-55')\n",
    "data_other18 = qc.load_data('data/2020-03-16/#003_M26_hysteresisupVbg7p8_865_10-3_0p5nA_400mK_00-38-19')\n",
    "data_other19 = qc.load_data('data/2020-03-16/#006_M26_hysteresisupVbg7p8_865_10-3_0p5nA_500mK_10-17-27')\n",
    "data_other20 = qc.load_data('data/2020-03-16/#007_M26_hysteresisdownVbg7p8_865_10-3_0p5nA_500mK_10-27-50')"
   ]
  },
  {
   "cell_type": "code",
   "execution_count": 27,
   "metadata": {
    "Collapsed": "false"
   },
   "outputs": [],
   "source": [
    "data_other3 = qc.load_data('data/2020-03-15/#019_M26_hysteresisupVbg7p85_865_10-3_0p5nA_base T_20-55-29')\n",
    "data_other4 = qc.load_data('data/2020-03-15/#020_M26_hysteresisupVbg7p85_865_10-3_0p5nA_base T_21-05-52')\n",
    "data_other7 = qc.load_data('data/2020-03-15/#023_M26_hysteresisupVbg7p85_865_10-3_0p5nA_100mK_22-09-26')\n",
    "data_other8 = qc.load_data('data/2020-03-15/#024_M26_hysteresisupVbg7p85_865_10-3_0p5nA_100mK_22-19-49')\n",
    "data_other11 = qc.load_data('data/2020-03-15/#027_M26_hysteresisupVbg7p85_865_10-3_0p5nA_200mK_23-00-38')\n",
    "data_other12= qc.load_data('data/2020-03-15/#028_M26_hysteresisupVbg7p85_865_10-3_0p5nA_200mK_23-11-02')\n",
    "data_other15 = qc.load_data('data/2020-03-15/#031_M26_hysteresisupVbg7p85_865_10-3_0p5nA_300mK_23-51-22')\n",
    "data_other16= qc.load_data('data/2020-03-16/#001_M26_hysteresisupVbg7p85_865_10-3_0p5nA_300mK_00-01-46')"
   ]
  },
  {
   "cell_type": "code",
   "execution_count": 51,
   "metadata": {
    "Collapsed": "false"
   },
   "outputs": [],
   "source": [
    "data272 = qc.load_data('data/2020-03-16/#008_M26_hysteresisupVbg7p85_865_10-3_0p5nA_500mK_10-38-32')\n",
    "data273 = qc.load_data('data/2020-03-16/#009_M26_hysteresisdownVbg7p85_865_10-3_0p5nA_500mK_10-48-56')\n",
    "\n",
    "data274 = qc.load_data('data/2020-03-16/#010_M26_hysteresisupVbg7p8_865_10-3_0p5nA_600mK_11-07-40')\n",
    "data275 = qc.load_data('data/2020-03-16/#011_M26_hysteresisdownVbg7p8_865_10-3_0p5nA_600mK_11-18-02')\n",
    "\n",
    "data276 = qc.load_data('data/2020-03-16/#012_M26_hysteresisupVbg7p85_865_10-3_0p5nA_600mK_11-28-45')\n",
    "data277 = qc.load_data('data/2020-03-16/#013_M26_hysteresisdownVbg7p85_865_10-3_0p5nA_600mK_11-39-08')\n",
    "\n",
    "data278 = qc.load_data('data/2020-03-16/#014_M26_hysteresisupVbg7p8_865_10-3_0p5nA_700mK_11-57-51')\n",
    "data279 = qc.load_data('data/2020-03-16/#015_M26_hysteresisdownVbg7p8_865_10-3_0p5nA_700mK_12-08-14')\n",
    "\n",
    "data280 = qc.load_data('data/2020-03-16/#016_M26_hysteresisupVbg7p85_865_10-3_0p5nA_700mK_12-18-57')\n",
    "data281 = qc.load_data('data/2020-03-16/#017_M26_hysteresisdownVbg7p85_865_10-3_0p5nA_700mK_12-29-21')\n",
    "\n",
    "data282 = qc.load_data('data/2020-03-16/#018_M26_hysteresisupVbg7p8_865_10-3_0p5nA_800mK_12-48-06')\n",
    "data283 = qc.load_data('data/2020-03-16/#019_M26_hysteresisdownVbg7p8_865_10-3_0p5nA_800mK_12-58-29')\n",
    "\n",
    "data284 = qc.load_data('data/2020-03-16/#020_M26_hysteresisupVbg7p85_865_10-3_0p5nA_800mK_13-09-12')\n",
    "data285 = qc.load_data('data/2020-03-16/#021_M26_hysteresisdownVbg7p85_865_10-3_0p5nA_800mK_13-19-35')\n",
    "\n",
    "data286 = qc.load_data('data/2020-03-16/#022_M26_hysteresisupVbg7p8_865_10-3_0p5nA_900mK_13-38-20')\n",
    "data287 = qc.load_data('data/2020-03-16/#023_M26_hysteresisdownVbg7p8_865_10-3_0p5nA_900mK_13-48-43')\n",
    "\n",
    "data288 = qc.load_data('data/2020-03-16/#024_M26_hysteresisupVbg7p85_865_10-3_0p5nA_900mK_13-59-26')\n",
    "data289 = qc.load_data('data/2020-03-16/#025_M26_hysteresisdownVbg7p85_865_10-3_0p5nA_900mK_14-09-49')\n",
    "\n",
    "data290 = qc.load_data('data/2020-03-16/#026_M26_hysteresisupVbg7p8_865_10-3_0p5nA_1K_14-28-33')\n",
    "data291 = qc.load_data('data/2020-03-16/#027_M26_hysteresisdownVbg7p8_865_10-3_0p5nA_1K_14-38-56')\n",
    "\n",
    "data292 = qc.load_data('data/2020-03-16/#028_M26_hysteresisupVbg7p85_865_10-3_0p5nA_1K_14-49-38')\n",
    "data293 = qc.load_data('data/2020-03-16/#029_M26_hysteresisdownVbg7p85_865_10-3_0p5nA_1K_15-00-01')\n",
    "\n",
    "data294 = qc.load_data('data/2020-03-16/#030_M26_hysteresisupVbg7p8_865_10-3_0p5nA_1.1K_15-21-56')\n",
    "data295 = qc.load_data('data/2020-03-16/#031_M26_hysteresisdownVbg7p8_865_10-3_0p5nA_1.1K_15-32-20')\n",
    "\n",
    "data296 = qc.load_data('data/2020-03-16/#032_M26_hysteresisupVbg7p85_865_10-3_0p5nA_1.1K_15-43-04')\n",
    "data297 = qc.load_data('data/2020-03-16/#033_M26_hysteresisdownVbg7p85_865_10-3_0p5nA_1.1K_15-53-27')"
   ]
  },
  {
   "cell_type": "code",
   "execution_count": 59,
   "metadata": {
    "Collapsed": "false"
   },
   "outputs": [],
   "source": [
    "data298 = qc.load_data('data/2020-03-16/#034_M26_hysteresisupVbg7p8_865_10-3_0p5nA_1.2K_16-12-12')\n",
    "data299 = qc.load_data(glob.glob('data/2020-03-16/#035*/')[0][:-1])\n",
    "\n",
    "data300 = qc.load_data(glob.glob('data/2020-03-16/#036*/')[0][:-1])\n",
    "data301 = qc.load_data(glob.glob('data/2020-03-16/#037*/')[0][:-1])\n",
    "\n",
    "data302 = qc.load_data('data/2020-03-16/#038_M26_hysteresisupVbg7p8_865_10-3_0p5nA_1.3K_17-02-26')\n",
    "data303 = qc.load_data(glob.glob('data/2020-03-16/#039*/')[0][:-1])\n",
    "\n",
    "data304 = qc.load_data(glob.glob('data/2020-03-16/#040*/')[0][:-1])\n",
    "data305 = qc.load_data(glob.glob('data/2020-03-16/#041*/')[0][:-1])\n",
    "\n",
    "data306 = qc.load_data('data/2020-03-16/#042_M26_hysteresisupVbg7p8_865_10-3_0p5nA_1.5K_18-18-52')\n",
    "data307 = qc.load_data(glob.glob('data/2020-03-16/#043*/')[0][:-1])\n",
    "\n",
    "data308 = qc.load_data(glob.glob('data/2020-03-16/#044*/')[0][:-1])\n",
    "data309 = qc.load_data(glob.glob('data/2020-03-16/#045*/')[0][:-1])\n",
    "\n",
    "data310 = qc.load_data('data/2020-03-16/#046_M26_hysteresisupVbg7p8_865_10-3_0p5nA_1.75K_19-09-06')\n",
    "data311 = qc.load_data(glob.glob('data/2020-03-16/#047*/')[0][:-1])\n",
    "\n",
    "data312 = qc.load_data(glob.glob('data/2020-03-16/#048*/')[0][:-1])\n",
    "data313 = qc.load_data(glob.glob('data/2020-03-16/#049*/')[0][:-1])\n",
    "\n",
    "data314 = qc.load_data('data/2020-03-16/#050_M26_hysteresisupVbg7p8_865_10-3_0p5nA_2K_19-59-20')\n",
    "data315 = qc.load_data(glob.glob('data/2020-03-16/#051*/')[0][:-1])\n",
    "\n",
    "data316 = qc.load_data(glob.glob('data/2020-03-16/#052*/')[0][:-1])\n",
    "data317 = qc.load_data(glob.glob('data/2020-03-16/#053*/')[0][:-1])\n",
    "\n",
    "data318 = qc.load_data('data/2020-03-16/#054_M26_hysteresisupVbg7p8_865_10-3_0p5nA_2.25K_21-05-14')\n",
    "data319 = qc.load_data(glob.glob('data/2020-03-16/#055*/')[0][:-1])\n",
    "\n",
    "data320 = qc.load_data(glob.glob('data/2020-03-16/#056*/')[0][:-1])\n",
    "data321 = qc.load_data(glob.glob('data/2020-03-16/#057*/')[0][:-1])\n",
    "\n",
    "data326 = qc.load_data('data/2020-03-16/#062_M26_hysteresisupVbg7p8_865_10-3_0p5nA_2.5K_23-10-39')\n",
    "data327 = qc.load_data(glob.glob('data/2020-03-16/#063*/')[0][:-1])\n",
    "\n",
    "data328 = qc.load_data(glob.glob('data/2020-03-16/#064*/')[0][:-1])\n",
    "data329 = qc.load_data(glob.glob('data/2020-03-16/#065*/')[0][:-1])\n",
    "\n",
    "data332 = qc.load_data(glob.glob('data/2020-03-17/#003*/')[0][:-1])\n",
    "data333 = qc.load_data(glob.glob('data/2020-03-17/#004*/')[0][:-1])\n",
    "\n",
    "data334 = qc.load_data('data/2020-03-17/#005_M26_hysteresisupVbg7p8_865_10-3_0p5nA_3K_00-51-07')\n",
    "data335 = qc.load_data(glob.glob('data/2020-03-17/#006*/')[0][:-1])\n",
    "\n",
    "data336 = qc.load_data(glob.glob('data/2020-03-17/#007*/')[0][:-1])\n",
    "data337 = qc.load_data(glob.glob('data/2020-03-17/#008*/')[0][:-1])\n",
    "\n",
    "data338 = qc.load_data('data/2020-03-17/#009_M26_hysteresisupVbg7p8_865_10-3_0p5nA_3.5K_01-41-19')\n",
    "data339 = qc.load_data('data/2020-03-17/#010_M26_hysteresisdownVbg7p8_865_10-3_0p5nA_3.5K_01-51-43')"
   ]
  },
  {
   "cell_type": "code",
   "execution_count": 60,
   "metadata": {
    "Collapsed": "false"
   },
   "outputs": [
    {
     "data": {
      "application/vnd.jupyter.widget-view+json": {
       "model_id": "5ab3f9dbd204445491bb4cb054dc5070",
       "version_major": 2,
       "version_minor": 0
      },
      "text/plain": [
       "Canvas(toolbar=Toolbar(toolitems=[('Home', 'Reset original view', 'home', 'home'), ('Back', 'Back to previous …"
      ]
     },
     "metadata": {},
     "output_type": "display_data"
    },
    {
     "data": {
      "text/plain": [
       "Text(0, 0.5, 'R ($\\\\Omega$)')"
      ]
     },
     "execution_count": 60,
     "metadata": {},
     "output_type": "execute_result"
    }
   ],
   "source": [
    "plt.figure()\n",
    "plt.plot(data_other1.triton_field, data_other1.lockin865_X[:]/0.5e-9/1000)\n",
    "plt.plot(data_other2.triton_field, data_other2.lockin865_X[:]/0.5e-9/1000)\n",
    "plt.plot(data_other5.triton_field, data_other5.lockin865_X[:]/0.5e-9/1000 - 8)\n",
    "plt.plot(data_other6.triton_field, data_other6.lockin865_X[:]/0.5e-9/1000 - 8)\n",
    "plt.plot(data_other9.triton_field, data_other9.lockin865_X[:]/0.5e-9/1000 - 16)\n",
    "plt.plot(data_other10.triton_field, data_other10.lockin865_X[:]/0.5e-9/1000 - 16)\n",
    "plt.plot(data_other13.triton_field, data_other13.lockin865_X[:]/0.5e-9/1000 - 24)\n",
    "plt.plot(data_other14.triton_field, data_other14.lockin865_X[:]/0.5e-9/1000 - 24)\n",
    "plt.plot(data_other19.triton_field, data_other19.lockin865_X[:]/0.5e-9/1000 - 32)\n",
    "plt.plot(data_other20.triton_field, data_other20.lockin865_X[:]/0.5e-9/1000 - 32)\n",
    "plt.title('V$_{bg}$ = 7.8V, 25mK-500mK')\n",
    "plt.xlabel('B (T)')\n",
    "plt.ylabel('R ($\\Omega$)')"
   ]
  },
  {
   "cell_type": "code",
   "execution_count": 31,
   "metadata": {
    "Collapsed": "false"
   },
   "outputs": [
    {
     "data": {
      "application/vnd.jupyter.widget-view+json": {
       "model_id": "11a40b1c458241748a391b9519c45af2",
       "version_major": 2,
       "version_minor": 0
      },
      "text/plain": [
       "Canvas(toolbar=Toolbar(toolitems=[('Home', 'Reset original view', 'home', 'home'), ('Back', 'Back to previous …"
      ]
     },
     "metadata": {},
     "output_type": "display_data"
    },
    {
     "data": {
      "text/plain": [
       "Text(0, 0.5, 'R ($\\\\Omega$)')"
      ]
     },
     "execution_count": 31,
     "metadata": {},
     "output_type": "execute_result"
    }
   ],
   "source": [
    "plt.figure()\n",
    "plt.plot(data274.triton_field, data274.lockin865_X[:]/0.5e-9/1000)\n",
    "plt.plot(data275.triton_field, data275.lockin865_X[:]/0.5e-9/1000)\n",
    "plt.plot(data278.triton_field, data278.lockin865_X[:]/0.5e-9/1000 - 5)\n",
    "plt.plot(data279.triton_field, data279.lockin865_X[:]/0.5e-9/1000 - 5)\n",
    "plt.plot(data282.triton_field, data282.lockin865_X[:]/0.5e-9/1000 - 10)\n",
    "plt.plot(data283.triton_field, data283.lockin865_X[:]/0.5e-9/1000 - 10)\n",
    "plt.plot(data286.triton_field, data286.lockin865_X[:]/0.5e-9/1000 - 15)\n",
    "plt.plot(data287.triton_field, data287.lockin865_X[:]/0.5e-9/1000 - 15)\n",
    "plt.plot(data290.triton_field, data290.lockin865_X[:]/0.5e-9/1000 - 20)\n",
    "plt.plot(data291.triton_field, data291.lockin865_X[:]/0.5e-9/1000 - 20)\n",
    "plt.plot(data294.triton_field, data294.lockin865_X[:]/0.5e-9/1000 - 25)\n",
    "plt.plot(data295.triton_field, data295.lockin865_X[:]/0.5e-9/1000 - 25)\n",
    "plt.title('V$_{bg}$ = 7.8V, 600mK-1.1K')\n",
    "plt.xlabel('B (T)')\n",
    "plt.ylabel('R ($\\Omega$)')"
   ]
  },
  {
   "cell_type": "code",
   "execution_count": 32,
   "metadata": {
    "Collapsed": "false"
   },
   "outputs": [
    {
     "data": {
      "application/vnd.jupyter.widget-view+json": {
       "model_id": "4560b7aeb6664b6ab4f53793c2493a08",
       "version_major": 2,
       "version_minor": 0
      },
      "text/plain": [
       "Canvas(toolbar=Toolbar(toolitems=[('Home', 'Reset original view', 'home', 'home'), ('Back', 'Back to previous …"
      ]
     },
     "metadata": {},
     "output_type": "display_data"
    },
    {
     "data": {
      "text/plain": [
       "Text(0, 0.5, 'R ($\\\\Omega$)')"
      ]
     },
     "execution_count": 32,
     "metadata": {},
     "output_type": "execute_result"
    }
   ],
   "source": [
    "plt.figure()\n",
    "plt.plot(data298.triton_field, data298.lockin865_X[:]/0.5e-9/1000)\n",
    "plt.plot(data299.triton_field, data299.lockin865_X[:]/0.5e-9/1000)\n",
    "plt.plot(data302.triton_field, data302.lockin865_X[:]/0.5e-9/1000 - 2)\n",
    "plt.plot(data303.triton_field, data303.lockin865_X[:]/0.5e-9/1000 - 2)\n",
    "plt.plot(data306.triton_field, data306.lockin865_X[:]/0.5e-9/1000 - 4)\n",
    "plt.plot(data307.triton_field, data307.lockin865_X[:]/0.5e-9/1000 - 4)\n",
    "plt.plot(data310.triton_field, data310.lockin865_X[:]/0.5e-9/1000 - 6)\n",
    "plt.plot(data311.triton_field, data311.lockin865_X[:]/0.5e-9/1000 - 6)\n",
    "plt.plot(data314.triton_field, data314.lockin865_X[:]/0.5e-9/1000 - 8)\n",
    "plt.plot(data315.triton_field, data315.lockin865_X[:]/0.5e-9/1000 - 8)\n",
    "plt.plot(data318.triton_field, data318.lockin865_X[:]/0.5e-9/1000 - 10)\n",
    "plt.plot(data319.triton_field, data319.lockin865_X[:]/0.5e-9/1000 - 10)\n",
    "plt.title('V$_{bg}$ = 7.8V, 1.2K-2.25K')\n",
    "plt.xlabel('B (T)')\n",
    "plt.ylabel('R ($\\Omega$)')"
   ]
  },
  {
   "cell_type": "code",
   "execution_count": 33,
   "metadata": {
    "Collapsed": "false"
   },
   "outputs": [
    {
     "data": {
      "application/vnd.jupyter.widget-view+json": {
       "model_id": "a76b087d52b04f9fab0b6f731e0bf7bb",
       "version_major": 2,
       "version_minor": 0
      },
      "text/plain": [
       "Canvas(toolbar=Toolbar(toolitems=[('Home', 'Reset original view', 'home', 'home'), ('Back', 'Back to previous …"
      ]
     },
     "metadata": {},
     "output_type": "display_data"
    },
    {
     "data": {
      "text/plain": [
       "Text(0, 0.5, 'R ($\\\\Omega$)')"
      ]
     },
     "execution_count": 33,
     "metadata": {},
     "output_type": "execute_result"
    }
   ],
   "source": [
    "plt.figure()\n",
    "plt.plot(data326.triton_field, data326.lockin865_X[:]/0.5e-9)\n",
    "plt.plot(data327.triton_field, data327.lockin865_X[:]/0.5e-9)\n",
    "plt.plot(data334.triton_field, data334.lockin865_X[:]/0.5e-9)\n",
    "plt.plot(data335.triton_field, data335.lockin865_X[:]/0.5e-9)\n",
    "plt.plot(data338.triton_field, data338.lockin865_X[:]/0.5e-9)\n",
    "plt.plot(data339.triton_field, data339.lockin865_X[:]/0.5e-9)\n",
    "plt.title('V$_{bg}$ = 7.8V, 2.5K-3K')\n",
    "plt.xlabel('B (T)')\n",
    "plt.ylabel('R ($\\Omega$)')"
   ]
  },
  {
   "cell_type": "code",
   "execution_count": 55,
   "metadata": {
    "Collapsed": "false"
   },
   "outputs": [
    {
     "data": {
      "application/vnd.jupyter.widget-view+json": {
       "model_id": "763760a477e742428b423bf1e33948f3",
       "version_major": 2,
       "version_minor": 0
      },
      "text/plain": [
       "Canvas(toolbar=Toolbar(toolitems=[('Home', 'Reset original view', 'home', 'home'), ('Back', 'Back to previous …"
      ]
     },
     "metadata": {},
     "output_type": "display_data"
    },
    {
     "data": {
      "text/plain": [
       "Text(0, 0.5, 'R ($\\\\Omega$)')"
      ]
     },
     "execution_count": 55,
     "metadata": {},
     "output_type": "execute_result"
    }
   ],
   "source": [
    "plt.figure()\n",
    "plt.plot(data_other3.triton_field, data_other3.lockin865_X[:]/0.5e-9)\n",
    "plt.plot(data_other4.triton_field, data_other4.lockin865_X[:]/0.5e-9)\n",
    "plt.plot(data_other7.triton_field, data_other7.lockin865_X[:]/0.5e-9)\n",
    "plt.plot(data_other8.triton_field, data_other8.lockin865_X[:]/0.5e-9)\n",
    "plt.plot(data_other11.triton_field, data_other11.lockin865_X[:]/0.5e-9)\n",
    "plt.plot(data_other12.triton_field, data_other12.lockin865_X[:]/0.5e-9)\n",
    "plt.plot(data_other15.triton_field, data_other15.lockin865_X[:]/0.5e-9)\n",
    "plt.plot(data_other16.triton_field, data_other16.lockin865_X[:]/0.5e-9)\n",
    "plt.plot(data272.triton_field, data272.lockin865_X[:]/0.5e-9)\n",
    "plt.plot(data273.triton_field, data273.lockin865_X[:]/0.5e-9)\n",
    "plt.title('V$_{bg}$ = 7.85V, 25mK to 500mK')\n",
    "plt.xlabel('B (T)')\n",
    "plt.ylabel('R ($\\Omega$)')"
   ]
  },
  {
   "cell_type": "code",
   "execution_count": 56,
   "metadata": {
    "Collapsed": "false"
   },
   "outputs": [
    {
     "data": {
      "application/vnd.jupyter.widget-view+json": {
       "model_id": "bfed4ebb52a3471cab566b05837ebab9",
       "version_major": 2,
       "version_minor": 0
      },
      "text/plain": [
       "Canvas(toolbar=Toolbar(toolitems=[('Home', 'Reset original view', 'home', 'home'), ('Back', 'Back to previous …"
      ]
     },
     "metadata": {},
     "output_type": "display_data"
    },
    {
     "data": {
      "text/plain": [
       "Text(0, 0.5, 'R ($\\\\Omega$)')"
      ]
     },
     "execution_count": 56,
     "metadata": {},
     "output_type": "execute_result"
    }
   ],
   "source": [
    "plt.figure()\n",
    "plt.plot(data276.triton_field, data276.lockin865_X[:]/0.5e-9)\n",
    "plt.plot(data277.triton_field, data277.lockin865_X[:]/0.5e-9)\n",
    "plt.plot(data280.triton_field, data280.lockin865_X[:]/0.5e-9)\n",
    "plt.plot(data281.triton_field, data281.lockin865_X[:]/0.5e-9)\n",
    "plt.plot(data284.triton_field, data284.lockin865_X[:]/0.5e-9)\n",
    "plt.plot(data285.triton_field, data285.lockin865_X[:]/0.5e-9)\n",
    "plt.plot(data288.triton_field, data288.lockin865_X[:]/0.5e-9)\n",
    "plt.plot(data289.triton_field, data289.lockin865_X[:]/0.5e-9)\n",
    "plt.plot(data292.triton_field, data292.lockin865_X[:]/0.5e-9)\n",
    "plt.plot(data293.triton_field, data293.lockin865_X[:]/0.5e-9)\n",
    "plt.plot(data296.triton_field, data296.lockin865_X[:]/0.5e-9)\n",
    "plt.plot(data297.triton_field, data297.lockin865_X[:]/0.5e-9)\n",
    "plt.title('V$_{bg}$ = 7.85V, 600mK-1.1K')\n",
    "plt.xlabel('B (T)')\n",
    "plt.ylabel('R ($\\Omega$)')"
   ]
  },
  {
   "cell_type": "code",
   "execution_count": 57,
   "metadata": {
    "Collapsed": "false"
   },
   "outputs": [
    {
     "data": {
      "application/vnd.jupyter.widget-view+json": {
       "model_id": "c0512308af424cc785b3b0eda8b0af92",
       "version_major": 2,
       "version_minor": 0
      },
      "text/plain": [
       "Canvas(toolbar=Toolbar(toolitems=[('Home', 'Reset original view', 'home', 'home'), ('Back', 'Back to previous …"
      ]
     },
     "metadata": {},
     "output_type": "display_data"
    },
    {
     "data": {
      "text/plain": [
       "Text(0, 0.5, 'R ($\\\\Omega$)')"
      ]
     },
     "execution_count": 57,
     "metadata": {},
     "output_type": "execute_result"
    }
   ],
   "source": [
    "plt.figure()\n",
    "plt.plot(data300.triton_field, data300.lockin865_X[:]/0.5e-9)\n",
    "plt.plot(data301.triton_field, data301.lockin865_X[:]/0.5e-9)\n",
    "plt.plot(data304.triton_field, data304.lockin865_X[:]/0.5e-9)\n",
    "plt.plot(data305.triton_field, data305.lockin865_X[:]/0.5e-9)\n",
    "plt.plot(data308.triton_field, data308.lockin865_X[:]/0.5e-9)\n",
    "plt.plot(data309.triton_field, data309.lockin865_X[:]/0.5e-9)\n",
    "plt.plot(data312.triton_field, data312.lockin865_X[:]/0.5e-9)\n",
    "plt.plot(data313.triton_field, data313.lockin865_X[:]/0.5e-9)\n",
    "plt.plot(data316.triton_field, data316.lockin865_X[:]/0.5e-9)\n",
    "plt.plot(data317.triton_field, data317.lockin865_X[:]/0.5e-9)\n",
    "plt.plot(data320.triton_field, data320.lockin865_X[:]/0.5e-9)\n",
    "plt.plot(data321.triton_field, data321.lockin865_X[:]/0.5e-9)\n",
    "plt.title('V$_{bg}$ = 7.85V, 1.2K-2.25K')\n",
    "plt.xlabel('B (T)')\n",
    "plt.ylabel('R ($\\Omega$)')"
   ]
  },
  {
   "cell_type": "code",
   "execution_count": 61,
   "metadata": {
    "Collapsed": "false"
   },
   "outputs": [
    {
     "data": {
      "application/vnd.jupyter.widget-view+json": {
       "model_id": "d0a321650b3b452f8b87ec3d417cea22",
       "version_major": 2,
       "version_minor": 0
      },
      "text/plain": [
       "Canvas(toolbar=Toolbar(toolitems=[('Home', 'Reset original view', 'home', 'home'), ('Back', 'Back to previous …"
      ]
     },
     "metadata": {},
     "output_type": "display_data"
    },
    {
     "data": {
      "text/plain": [
       "Text(0, 0.5, 'R ($\\\\Omega$)')"
      ]
     },
     "execution_count": 61,
     "metadata": {},
     "output_type": "execute_result"
    }
   ],
   "source": [
    "plt.figure()\n",
    "plt.plot(data328.triton_field, data328.lockin865_X[:]/0.5e-9)\n",
    "plt.plot(data329.triton_field, data329.lockin865_X[:]/0.5e-9)\n",
    "plt.plot(data332.triton_field, data332.lockin865_X[:]/0.5e-9)\n",
    "plt.plot(data333.triton_field, data333.lockin865_X[:]/0.5e-9)\n",
    "plt.plot(data336.triton_field, data336.lockin865_X[:]/0.5e-9)\n",
    "plt.plot(data337.triton_field, data337.lockin865_X[:]/0.5e-9)\n",
    "plt.title('V$_{bg}$ = 7.85V, 2.5K-3K')\n",
    "plt.xlabel('B (T)')\n",
    "plt.ylabel('R ($\\Omega$)')"
   ]
  },
  {
   "cell_type": "markdown",
   "metadata": {
    "Collapsed": "false"
   },
   "source": [
    "# Trying some symmetrizing"
   ]
  },
  {
   "cell_type": "code",
   "execution_count": 36,
   "metadata": {
    "Collapsed": "false"
   },
   "outputs": [],
   "source": [
    "fields = np.linspace(-0.48, 0.48, 401)\n",
    "dlast = np.where(np.isnan(data_other1.triton_field[:]))[0][0]\n",
    "bbaseup = data_other1.triton_field[:dlast]\n",
    "Rbaseup = np.interp(fields, bbaseup, data_other1.lockin865_X[:dlast]/0.5e-9)\n",
    "\n",
    "dlast = np.where(np.isnan(data_other2.triton_field[:]))[0][0]\n",
    "bbasedown = data_other2.triton_field[:dlast]\n",
    "Rbasedown = np.interp(fields, bbasedown[::-1], data_other2.lockin865_X[:dlast][::-1]/0.5e-9)"
   ]
  },
  {
   "cell_type": "markdown",
   "metadata": {
    "Collapsed": "false"
   },
   "source": [
    "The basic idea is that we want to try to subtract out regular Hall effect and asymmetric features.\n",
    "\n",
    "\\begin{eqnarray}\n",
    "& R_{xx, sym}^\\uparrow(B) = \\frac{1}{2} \\left[ R^\\uparrow(B) + R^\\downarrow(-B) \\right]\\\\\n",
    "& R_{xx, sym}^\\downarrow(B) = \\frac{1}{2} \\left[ R^\\downarrow(B) + R^\\uparrow(-B) \\right]\\\\\n",
    "& R_{xy, sym}^\\uparrow(B) = \\frac{1}{2} \\left[ R^\\uparrow(B) - R^\\downarrow(-B) \\right]\\\\\n",
    "& R_{xy, sym}^\\downarrow(B) = \\frac{1}{2} \\left[ R^\\downarrow(B) - R^\\uparrow(-B) \\right]\\\\\n",
    "& R_{xx, sym}^{\\uparrow/\\downarrow}(-B) = R_{xx, sym}^{\\downarrow/\\uparrow}(B)\\\\\n",
    "& R_{xy, sym}^{\\uparrow/\\downarrow}(B) = -R_{xy, sym}^{\\downarrow/\\uparrow}(-B)\n",
    "\\end{eqnarray}"
   ]
  },
  {
   "cell_type": "code",
   "execution_count": 37,
   "metadata": {
    "Collapsed": "false"
   },
   "outputs": [],
   "source": [
    "def Rupdown(datasetup, datasetdown, instrument='lockin865', curr=0.5e-9):\n",
    "    fields = np.linspace(-0.48, 0.48, 401)\n",
    "    dlast = np.where(np.isnan(datasetup.triton_field[:]))[0][0]\n",
    "    bbaseup = datasetup.triton_field[:dlast]\n",
    "    Rbaseup = np.interp(fields, bbaseup, getattr(datasetup, instrument+'_X')[:dlast]/curr)\n",
    "    \n",
    "    dlast = np.where(np.isnan(datasetdown.triton_field[:]))[0][0]\n",
    "    bbasedown = datasetdown.triton_field[:dlast]\n",
    "    Rbasedown = np.interp(fields, bbasedown[::-1], getattr(datasetdown, instrument+'_X')[:dlast][::-1]/curr)\n",
    "    return Rbaseup, Rbasedown\n",
    "    \n",
    "def Rsym(Rup, Rdown):\n",
    "    Rxysymup_0 = 0.5*(Rup[200:] - Rdown[:201][::-1])\n",
    "    Rxysymdown_0 = 0.5*(Rdown[200:] - Rup[:201][::-1])\n",
    "    Rxysymup = np.concatenate((-Rxysymdown_0[::-1], Rxysymup_0[1:]))\n",
    "    Rxysymdown = np.concatenate((-Rxysymup_0[::-1], Rxysymdown_0[1:]))\n",
    "\n",
    "    Rxxsymup_0 = 0.5*(Rup[200:] + Rdown[:201][::-1])\n",
    "    Rxxsymdown_0 = 0.5*(Rdown[200:] + Rup[:201][::-1])\n",
    "    Rxxsymup = np.concatenate((Rxxsymdown_0[::-1], Rxxsymup_0[1:]))\n",
    "    Rxxsymdown = np.concatenate((Rxxsymup_0[::-1], Rxxsymdown_0[1:]))\n",
    "    return Rxysymup, Rxysymdown, Rxxsymup, Rxxsymdown"
   ]
  },
  {
   "cell_type": "code",
   "execution_count": 38,
   "metadata": {
    "Collapsed": "false"
   },
   "outputs": [
    {
     "data": {
      "text/plain": [
       "0.16559999999999997"
      ]
     },
     "execution_count": 38,
     "metadata": {},
     "output_type": "execute_result"
    }
   ],
   "source": [
    "fields[269]"
   ]
  },
  {
   "cell_type": "code",
   "execution_count": 39,
   "metadata": {
    "Collapsed": "false"
   },
   "outputs": [],
   "source": [
    "# Rsymup1 = 0.5*(Rbaseup[:269] + Rbasedown[-269:][::-1])\n",
    "Rxysymup_0 = 0.5*(Rbaseup[200:] - Rbasedown[:201][::-1])\n",
    "Rxysymup = np.concatenate((-Rxysymup_0[::-1], Rxysymup_0[1:]))\n",
    "Rxysymdown_0 = 0.5*(Rbasedown[200:] - Rbaseup[:201][::-1])\n",
    "Rxysymdown = np.concatenate((-Rxysymdown_0[::-1], Rxysymdown_0[1:]))\n",
    "\n",
    "Rxxsymup_0 = 0.5*(Rbaseup[200:] + Rbasedown[:201][::-1])\n",
    "Rxxsymup = np.concatenate((Rxxsymup_0[::-1], Rxxsymup_0[1:]))\n",
    "Rxxsymdown_0 = 0.5*(Rbasedown[200:] + Rbaseup[:201][::-1])\n",
    "Rxxsymdown = np.concatenate((Rxxsymdown_0[::-1], Rxxsymdown_0[1:]))\n"
   ]
  },
  {
   "cell_type": "markdown",
   "metadata": {
    "Collapsed": "false"
   },
   "source": [
    "Base temp"
   ]
  },
  {
   "cell_type": "code",
   "execution_count": 40,
   "metadata": {
    "Collapsed": "false"
   },
   "outputs": [
    {
     "data": {
      "application/vnd.jupyter.widget-view+json": {
       "model_id": "fd2801335bf24b7fa24b4fc182a1cd8a",
       "version_major": 2,
       "version_minor": 0
      },
      "text/plain": [
       "Canvas(toolbar=Toolbar(toolitems=[('Home', 'Reset original view', 'home', 'home'), ('Back', 'Back to previous …"
      ]
     },
     "metadata": {},
     "output_type": "display_data"
    },
    {
     "data": {
      "text/plain": [
       "[<matplotlib.lines.Line2D at 0x1230459d0>]"
      ]
     },
     "execution_count": 40,
     "metadata": {},
     "output_type": "execute_result"
    }
   ],
   "source": [
    "Rbaseup, Rbasedown = Rupdown(data_other1, data_other2)\n",
    "Rxysymup_base, Rxysymdown_base, Rxxsymup_base, Rxxsymdown_base = Rsym(Rbaseup, Rbasedown)\n",
    "\n",
    "fig, (ax1, ax2) = plt.subplots(2, 1)\n",
    "ax1.plot(fields, Rbaseup/1000)\n",
    "ax1.plot(fields, Rbasedown/1000)\n",
    "ax2.plot(fields, Rxysymup_base/1000)\n",
    "ax2.plot(fields, Rxysymdown_base/1000)\n",
    "ax1.plot(fields, Rxxsymup_base/1000)\n",
    "ax1.plot(fields, Rxxsymdown_base/1000)"
   ]
  },
  {
   "cell_type": "markdown",
   "metadata": {
    "Collapsed": "false"
   },
   "source": [
    "400 mK"
   ]
  },
  {
   "cell_type": "code",
   "execution_count": 41,
   "metadata": {
    "Collapsed": "false"
   },
   "outputs": [
    {
     "data": {
      "application/vnd.jupyter.widget-view+json": {
       "model_id": "512487a390d4408e8484e7f6d8245adb",
       "version_major": 2,
       "version_minor": 0
      },
      "text/plain": [
       "Canvas(toolbar=Toolbar(toolitems=[('Home', 'Reset original view', 'home', 'home'), ('Back', 'Back to previous …"
      ]
     },
     "metadata": {},
     "output_type": "display_data"
    },
    {
     "data": {
      "text/plain": [
       "[<matplotlib.lines.Line2D at 0x1230da3d0>]"
      ]
     },
     "execution_count": 41,
     "metadata": {},
     "output_type": "execute_result"
    }
   ],
   "source": [
    "Rup, Rdown = Rupdown(data_other17, data_other18)\n",
    "Rxysymup, Rxysymdown, Rxxsymup, Rxxsymdown = Rsym(Rup, Rdown)\n",
    "\n",
    "fig, (ax1, ax2) = plt.subplots(2, 1)\n",
    "ax1.plot(fields, Rup/1000)\n",
    "ax1.plot(fields, Rdown/1000)\n",
    "# plt.plot(fields, Rbasicsym/1000)\n",
    "# plt.plot(fields[:269], Rsymup1/1000)\n",
    "ax2.plot(fields, Rxysymup/1000)\n",
    "ax2.plot(fields, Rxysymdown/1000)\n",
    "ax1.plot(fields, Rxxsymup/1000)\n",
    "ax1.plot(fields, Rxxsymdown/1000)"
   ]
  },
  {
   "cell_type": "code",
   "execution_count": null,
   "metadata": {
    "Collapsed": "false"
   },
   "outputs": [],
   "source": []
  },
  {
   "cell_type": "markdown",
   "metadata": {
    "Collapsed": "false"
   },
   "source": [
    "600 mK"
   ]
  },
  {
   "cell_type": "code",
   "execution_count": 42,
   "metadata": {
    "Collapsed": "false"
   },
   "outputs": [],
   "source": [
    "Rup, Rdown = Rupdown(data274, data275)\n",
    "Rxysymup, Rxysymdown, Rxxsymup, Rxxsymdown = Rsym(Rup, Rdown)"
   ]
  },
  {
   "cell_type": "code",
   "execution_count": 43,
   "metadata": {
    "Collapsed": "false"
   },
   "outputs": [
    {
     "data": {
      "application/vnd.jupyter.widget-view+json": {
       "model_id": "bc39c4dea842454985db9ad5bd78877f",
       "version_major": 2,
       "version_minor": 0
      },
      "text/plain": [
       "Canvas(toolbar=Toolbar(toolitems=[('Home', 'Reset original view', 'home', 'home'), ('Back', 'Back to previous …"
      ]
     },
     "metadata": {},
     "output_type": "display_data"
    },
    {
     "data": {
      "text/plain": [
       "[<matplotlib.lines.Line2D at 0x1236f75d0>]"
      ]
     },
     "execution_count": 43,
     "metadata": {},
     "output_type": "execute_result"
    }
   ],
   "source": [
    "fig, (ax1, ax2) = plt.subplots(2, 1)\n",
    "ax1.plot(fields, Rup/1000)\n",
    "ax1.plot(fields, Rdown/1000)\n",
    "# plt.plot(fields, Rbasicsym/1000)\n",
    "# plt.plot(fields[:269], Rsymup1/1000)\n",
    "ax2.plot(fields, Rxysymup/1000)\n",
    "ax2.plot(fields, Rxysymdown/1000)\n",
    "ax1.plot(fields, Rxxsymup/1000)\n",
    "ax1.plot(fields, Rxxsymdown/1000)"
   ]
  },
  {
   "cell_type": "code",
   "execution_count": null,
   "metadata": {
    "Collapsed": "false"
   },
   "outputs": [],
   "source": []
  },
  {
   "cell_type": "code",
   "execution_count": null,
   "metadata": {
    "Collapsed": "false"
   },
   "outputs": [],
   "source": []
  }
 ],
 "metadata": {
  "kernelspec": {
   "display_name": "qcodes",
   "language": "python",
   "name": "qcodes"
  },
  "language_info": {
   "codemirror_mode": {
    "name": "ipython",
    "version": 3
   },
   "file_extension": ".py",
   "mimetype": "text/x-python",
   "name": "python",
   "nbconvert_exporter": "python",
   "pygments_lexer": "ipython3",
   "version": "3.7.4"
  }
 },
 "nbformat": 4,
 "nbformat_minor": 4
}
