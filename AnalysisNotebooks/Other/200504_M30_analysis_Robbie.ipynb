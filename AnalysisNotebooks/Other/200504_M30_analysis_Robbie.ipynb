{
 "cells": [
  {
   "cell_type": "code",
   "execution_count": 1,
   "metadata": {
    "heading_collapsed": "false",
    "tags": []
   },
   "outputs": [],
   "source": [
    "import numpy as np\n",
    "import matplotlib.pyplot as plt\n",
    "from matplotlib.colors import LogNorm, SymLogNorm, TwoSlopeNorm\n",
    "import matplotlib.colors as colors\n",
    "plt.rcParams['figure.max_open_warning'] = 500\n",
    "import qcodes as qc\n",
    "import qcodes.instrument_drivers.nplab_drivers as npd\n",
    "from scipy.optimize import curve_fit\n",
    "from scipy.interpolate import interp2d, interp1d\n",
    "from os import path\n",
    "import colorcet as cc   # install quickly with \"conda install colorcet\"\n",
    "from scipy.interpolate import RectBivariateSpline\n",
    "from matplotlib import ticker\n",
    "from scipy.ndimage import gaussian_filter, uniform_filter\n",
    "import matplotlib as mpl\n",
    "from lmfit import Model\n",
    "import glob"
   ]
  },
  {
   "cell_type": "code",
   "execution_count": 2,
   "metadata": {
    "heading_collapsed": "false"
   },
   "outputs": [],
   "source": [
    "plt.rcParams['svg.fonttype'] = 'none'\n",
    "plt.rcParams['figure.dpi'] = 300\n",
    "plt.rcParams['lines.markersize'] = 4\n",
    "%config InlineBackend.figure_format = 'svg'\n",
    "\n",
    "font = {\n",
    "                'family': 'Arial',\n",
    "                'size': 12,\n",
    "                'serif': 'Times',\n",
    "                'sans-serif': 'Arial'\n",
    "            }\n",
    "\n",
    "plt.rc('font', **font)"
   ]
  },
  {
   "cell_type": "code",
   "execution_count": 3,
   "metadata": {
    "heading_collapsed": "false"
   },
   "outputs": [
    {
     "name": "stdout",
     "output_type": "stream",
     "text": [
      "/Users/robertpolski/Documents/NPGroupResearch/Measurements/Triton/qcodes_data\n"
     ]
    }
   ],
   "source": [
    "cd .."
   ]
  },
  {
   "cell_type": "code",
   "execution_count": 4,
   "metadata": {
    "heading_collapsed": "false"
   },
   "outputs": [],
   "source": [
    "qc.DataSet.default_io.base_location = path.abspath('.')"
   ]
  },
  {
   "cell_type": "code",
   "execution_count": 5,
   "metadata": {
    "heading_collapsed": "false"
   },
   "outputs": [],
   "source": [
    "figfile = 'Figures/M30_analysis/'"
   ]
  },
  {
   "cell_type": "code",
   "execution_count": 6,
   "metadata": {
    "heading_collapsed": "false"
   },
   "outputs": [],
   "source": [
    "%matplotlib widget"
   ]
  },
  {
   "cell_type": "markdown",
   "metadata": {},
   "source": [
    "Here is what `zeroDparam` looks like\n",
    "\n",
    "    def zerofieldsw(Vb):\n",
    "        slDrc = -0.2058088083627785\n",
    "        srframe.volt_p1(Vb)\n",
    "        srframe.volt_p5(-slDrc*Vb)\n",
    "\n",
    "    zeroDparam = qc.Parameter('zeroDparam', set_cmd=zerofieldsw)\n",
    "    \n",
    "Then the other colored bars are offset from this by a constant\n",
    "\n",
    "    def constant_D_redline_nsw(Vb):\n",
    "        slDrc = -0.2058088083627785\n",
    "        srframe.volt_p1(Vb)\n",
    "        srframe.volt_p5(-slDrc*Vb - 2.2)\n",
    "\n",
    "    constant_D_redline_nsw = qc.Parameter('constant_D_redline_nsw', set_cmd=constant_D_redline_nsw)\n",
    "\n",
    "    def constant_D_greenline_nsw(Vb):\n",
    "        slDrc = -0.2058088083627785\n",
    "        srframe.volt_p1(Vb)\n",
    "        srframe.volt_p5(-slDrc*Vb - 1.2)\n",
    "\n",
    "    constant_D_greenline_nsw = qc.Parameter('constant_D_greenline_nsw', set_cmd=constant_D_greenline_nsw)\n",
    "\n",
    "    def constant_D_greyline_nsw(Vb):\n",
    "        slDrc = -0.2058088083627785\n",
    "        srframe.volt_p1(Vb)\n",
    "        srframe.volt_p5(-slDrc*Vb + 1.3)\n",
    "    \n",
    "    constant_D_greyline_nsw = qc.Parameter('constant_D_greyline_nsw', set_cmd=constant_D_greyline_nsw)\n",
    "\n",
    "    def constant_D_orangeline_nsw(Vb):\n",
    "        slDrc = -0.2058088083627785\n",
    "        srframe.volt_p1(Vb)\n",
    "        srframe.volt_p5(-slDrc*Vb + 2.9)\n",
    "    \n",
    "    constant_D_orangeline_nsw = qc.Parameter('constant_D_orangeline_nsw', set_cmd=constant_D_orangeline_nsw)"
   ]
  },
  {
   "cell_type": "markdown",
   "metadata": {
    "tags": []
   },
   "source": [
    "# M30 determination of charge neutrality, displacement field"
   ]
  },
  {
   "cell_type": "markdown",
   "metadata": {
    "heading_collapsed": "false"
   },
   "source": [
    "Lockin865 was on electrodes 29-28 (superconductivity), lockin830 on 40-41 (integer-filling insulating states)\n",
    "\n",
    "Both R$_{xx}$ measurements"
   ]
  },
  {
   "cell_type": "code",
   "execution_count": 7,
   "metadata": {
    "heading_collapsed": "false"
   },
   "outputs": [
    {
     "data": {
      "text/plain": [
       "DataSet:\n",
       "   location = 'data/2020-05-05/#024_M30_865_29-28__830_40-41_0p5nA_2dgatesweep_19-52-29'\n",
       "   <Type>   | <array_id>          | <array.name> | <array.shape>\n",
       "   Setpoint | srframe_volt_p5_set | volt_p5      | (193,)\n",
       "   Setpoint | srframe_volt_p1_set | volt_p1      | (193, 272)\n",
       "   Measured | lockin830_X         | X            | (193, 272)\n",
       "   Measured | lockin830_Y         | Y            | (193, 272)\n",
       "   Measured | lockin865_X         | X            | (193, 272)\n",
       "   Measured | lockin865_Y         | Y            | (193, 272)"
      ]
     },
     "execution_count": 7,
     "metadata": {},
     "output_type": "execute_result"
    }
   ],
   "source": [
    "d2d = qc.load_data('data/2020-05-05/#024_M30_865_29-28__830_40-41_0p5nA_2dgatesweep_19-52-29')\n",
    "d2d"
   ]
  },
  {
   "cell_type": "code",
   "execution_count": 8,
   "metadata": {
    "heading_collapsed": "false"
   },
   "outputs": [],
   "source": [
    "R2928_2d = npd.Rxxfromdata(d2d, 0.5e-9, 'lockin865')[:, 6:]\n",
    "R4041_2d = npd.Rxxfromdata(d2d, 0.5e-9, 'lockin830')[:, 6:]\n",
    "\n",
    "tg2d = d2d.srframe_volt_p5_set[:]\n",
    "bg2d = d2d.srframe_volt_p1_set[0, 6:]"
   ]
  },
  {
   "cell_type": "code",
   "execution_count": 9,
   "metadata": {
    "heading_collapsed": "false"
   },
   "outputs": [
    {
     "data": {
      "application/vnd.jupyter.widget-view+json": {
       "model_id": "56f1cacb01d841a09333e6df3c9bd887",
       "version_major": 2,
       "version_minor": 0
      },
      "text/plain": [
       "Canvas(toolbar=Toolbar(toolitems=[('Home', 'Reset original view', 'home', 'home'), ('Back', 'Back to previous …"
      ]
     },
     "metadata": {},
     "output_type": "display_data"
    },
    {
     "data": {
      "text/plain": [
       "<matplotlib.collections.QuadMesh at 0x7ff622f1b640>"
      ]
     },
     "execution_count": 9,
     "metadata": {},
     "output_type": "execute_result"
    }
   ],
   "source": [
    "fig, ax = plt.subplots(1, 2, figsize=(10, 4))\n",
    "dnorm = TwoSlopeNorm(vcenter=4, vmin=0, vmax=70)\n",
    "ax[0].pcolormesh(bg2d, tg2d, R2928_2d/1000, cmap=cc.cm.diverging_bwr_20_95_c54, norm=dnorm)\n",
    "ax[1].pcolormesh(bg2d, tg2d, R4041_2d/1000, cmap=cc.cm.diverging_bwr_20_95_c54, norm=dnorm)"
   ]
  },
  {
   "cell_type": "code",
   "execution_count": 10,
   "metadata": {
    "heading_collapsed": "false"
   },
   "outputs": [
    {
     "data": {
      "text/plain": [
       "[<matplotlib.lines.Line2D at 0x7ff624624370>]"
      ]
     },
     "execution_count": 10,
     "metadata": {},
     "output_type": "execute_result"
    }
   ],
   "source": [
    "# the slope of the charge neutrality line\n",
    "slCNP = -0.2058088083627785\n",
    "x1 = np.array([-10, 2])\n",
    "ax[0].plot(x1, x1*slCNP - 1.27, 'k--')\n",
    "ax[1].plot(x1, x1*slCNP - 1.27, 'k--')"
   ]
  },
  {
   "cell_type": "markdown",
   "metadata": {
    "heading_collapsed": "false"
   },
   "source": [
    "From here we get get the 0-displacement-field line. The equations of interest are:\n",
    "\n",
    "\\begin{eqnarray}\n",
    "n & = & \\left[C_t V_t + C_b V_b\\right]/e + n_0\\\\\n",
    "D & = & \\left[C_t V_t - C_b V_b\\right]/\\epsilon_0\n",
    "\\end{eqnarray}\n",
    "\n",
    "This assumes that when topgate and backgate are 0, there is no D field. So a $D = 0$ line will pass through the point (V_b, V_t) = (0, 0). With some algebra, we get an equation for the line:\n",
    "\n",
    "\\begin{equation}\n",
    "V_t = \\frac{C_b}{C_t} V_b = m_1 V_b\n",
    "\\end{equation}\n",
    "\n",
    "Now we want to relate this slope $m_1$ to the slope of the $n = 0$ line, with the equation\n",
    "\n",
    "\\begin{equation}\n",
    "V_t = -\\frac{C_b}{C_t} V_b - \\frac{e}{C_t} n_0 = m_2 V_b + b_2\n",
    "\\end{equation}\n",
    "\n",
    "We see that $m_1 = -m_2$, so now we know the $D = 0$ line."
   ]
  },
  {
   "cell_type": "code",
   "execution_count": 11,
   "metadata": {
    "heading_collapsed": "false"
   },
   "outputs": [
    {
     "data": {
      "text/plain": [
       "[<matplotlib.lines.Line2D at 0x7ff62314e9a0>]"
      ]
     },
     "execution_count": 11,
     "metadata": {},
     "output_type": "execute_result"
    }
   ],
   "source": [
    "# plot the D = 0 lines\n",
    "x2 = np.array([-7.5, 5])\n",
    "ax[0].plot(x2, -slCNP*x2, '--', color='orange')\n",
    "ax[1].plot(x2, -slCNP*x2, '--', color='orange')"
   ]
  },
  {
   "cell_type": "markdown",
   "metadata": {
    "heading_collapsed": "false"
   },
   "source": [
    "This was plotted in fan diagrams, where the parameter zeroDparam sets the backgate to the setpoint $s$ and the topgate to $-m_2 s$, or $0.20581 s$"
   ]
  },
  {
   "cell_type": "code",
   "execution_count": 12,
   "metadata": {
    "heading_collapsed": "false"
   },
   "outputs": [
    {
     "data": {
      "text/plain": [
       "DataSet:\n",
       "   location = 'data/2020-05-06/#002_M30_865_29-28__830_40-41_0p5nA_0T_D0sweep_20-54-51'\n",
       "   <Type>   | <array_id>     | <array.name> | <array.shape>\n",
       "   Setpoint | zeroDparam_set | zeroDparam   | (221,)\n",
       "   Measured | lockin830_X    | X            | (221,)\n",
       "   Measured | lockin830_Y    | Y            | (221,)\n",
       "   Measured | lockin865_X    | X            | (221,)\n",
       "   Measured | lockin865_Y    | Y            | (221,)"
      ]
     },
     "execution_count": 12,
     "metadata": {},
     "output_type": "execute_result"
    }
   ],
   "source": [
    "# first a single sweep\n",
    "d0sweep = qc.load_data('data/2020-05-06/#002_M30_865_29-28__830_40-41_0p5nA_0T_D0sweep_20-54-51')\n",
    "d0sweep"
   ]
  },
  {
   "cell_type": "code",
   "execution_count": 13,
   "metadata": {
    "heading_collapsed": "false"
   },
   "outputs": [
    {
     "data": {
      "application/vnd.jupyter.widget-view+json": {
       "model_id": "df668aa5c4e444dba205c1f0c27b0acd",
       "version_major": 2,
       "version_minor": 0
      },
      "text/plain": [
       "Canvas(toolbar=Toolbar(toolitems=[('Home', 'Reset original view', 'home', 'home'), ('Back', 'Back to previous …"
      ]
     },
     "metadata": {},
     "output_type": "display_data"
    },
    {
     "data": {
      "text/plain": [
       "(20, 500000.0)"
      ]
     },
     "execution_count": 13,
     "metadata": {},
     "output_type": "execute_result"
    }
   ],
   "source": [
    "plt.figure(figsize=(8, 4))\n",
    "plt.semilogy(d0sweep.zeroDparam_set, npd.Rxxfromdata(d0sweep, 0.5e-9, 'lockin865'), label='29-28')\n",
    "plt.semilogy(d0sweep.zeroDparam_set, npd.Rxxfromdata(d0sweep, 0.5e-9, 'lockin830'), label='40-41')\n",
    "plt.ylim(20, 5e5)"
   ]
  },
  {
   "cell_type": "markdown",
   "metadata": {
    "heading_collapsed": "false"
   },
   "source": [
    "Now the fan diagrams to determine the angle. The capacitance of the gates (and therefore n and D) can be determined by inserting the $D = 0$ equation above back into $n$:\n",
    "\n",
    "\\begin{equation}\n",
    "n = \\frac{2C_b}{e} V_b + n_0\n",
    "\\end{equation}\n",
    "\n",
    "So from the fan diagrams, we can determine $2C_b$, and everything else follows from there"
   ]
  },
  {
   "cell_type": "code",
   "execution_count": 14,
   "metadata": {
    "heading_collapsed": "false"
   },
   "outputs": [
    {
     "data": {
      "text/plain": [
       "DataSet:\n",
       "   location = 'data/2020-05-06/#005_M30_865_29-28__830_40-41_1nA_baseT_B-n_D0_sweep_23-13-35'\n",
       "   <Type>   | <array_id>                  | <array.name>     | <array.shape>\n",
       "   Setpoint | triton_field_set_stable_set | field_set_stable | (161,)\n",
       "   Setpoint | zeroDparam_set              | zeroDparam       | (161, 451)\n",
       "   Measured | lockin830_X                 | X                | (161, 451)\n",
       "   Measured | lockin830_Y                 | Y                | (161, 451)\n",
       "   Measured | lockin865_X                 | X                | (161, 451)\n",
       "   Measured | lockin865_Y                 | Y                | (161, 451)"
      ]
     },
     "execution_count": 14,
     "metadata": {},
     "output_type": "execute_result"
    }
   ],
   "source": [
    "dfand0 = qc.load_data('data/2020-05-06/#005_M30_865_29-28__830_40-41_1nA_baseT_B-n_D0_sweep_23-13-35')\n",
    "Rxx2928d0 = npd.Rxxfromdata(dfand0, 0.5e-9, 'lockin865')\n",
    "Rxx4041d0 = npd.Rxxfromdata(dfand0, 0.5e-9, 'lockin830')\n",
    "Vb = dfand0.zeroDparam_set[0, :]\n",
    "B = np.array(dfand0.triton_field_set_stable_set)\n",
    "dfand0"
   ]
  },
  {
   "cell_type": "markdown",
   "metadata": {
    "heading_collapsed": "false"
   },
   "source": [
    "## Electrodes 29-28"
   ]
  },
  {
   "cell_type": "code",
   "execution_count": 15,
   "metadata": {
    "heading_collapsed": "false"
   },
   "outputs": [
    {
     "data": {
      "application/vnd.jupyter.widget-view+json": {
       "model_id": "25f1940e015f4d229649daf8961681e3",
       "version_major": 2,
       "version_minor": 0
      },
      "text/plain": [
       "Canvas(toolbar=Toolbar(toolitems=[('Home', 'Reset original view', 'home', 'home'), ('Back', 'Back to previous …"
      ]
     },
     "metadata": {},
     "output_type": "display_data"
    }
   ],
   "source": [
    "fig, ax = plt.subplots(1, 1, figsize=(10, 5))\n",
    "normf = TwoSlopeNorm(vcenter=10, vmin=0, vmax=70)\n",
    "ax.pcolormesh(Vb, B, Rxx2928d0/1000, cmap=cc.cm.diverging_bwr_20_95_c54, norm=normf)\n",
    "# ax[1].pcolormesh(Vb, B, Rxx4041d0/1000, cmap=cc.cm.diverging_bwr_20_95_c54, norm=normf)\n",
    "\n",
    "\n",
    "Bl = 7\n",
    "Bs = 0\n",
    "V0 = -3.002\n",
    "sl = 30\n",
    "b = -V0*sl\n",
    "\n",
    "for i in [-12, -8, -4, -3, -2, -1]:\n",
    "    x = np.array([(Bs*i - b)/sl, (Bl*i - b)/sl])\n",
    "    ax.plot(x, (x*sl + b)/i, color='white', lw=0.5)\n",
    "\n",
    "V0p = -2.99\n",
    "b = -V0p*sl\n",
    "for i in [1, 2, 3, 4, 6, 8, 10]:\n",
    "    x = np.array([(Bs*i - b)/sl, (Bl*i - b)/sl])\n",
    "    ax.plot(x, (x*sl + b)/i, color='white', lw=0.5)\n",
    "\n",
    "\n",
    "Vfn = -5.93\n",
    "b = -Vfn*sl\n",
    "for i in [-4, -8]:\n",
    "    x = np.array([(Bs*i - b)/sl, (Bl*i - b)/sl])\n",
    "    ax.plot(x, (x*sl + b)/i, color='white', lw=0.5)\n",
    "    \n",
    "Vfp = 0\n",
    "b = -Vfp*sl\n",
    "for i in [4, 8]:\n",
    "    x = np.array([(Bs*i - b)/sl, (Bl*i - b)/sl])\n",
    "    ax.plot(x, (x*sl + b)/i, color='white', lw=0.5)  \n",
    "\n",
    "# plt.axis(a)"
   ]
  },
  {
   "cell_type": "code",
   "execution_count": 16,
   "metadata": {
    "heading_collapsed": "false"
   },
   "outputs": [],
   "source": [
    "a = plt.axis()"
   ]
  },
  {
   "cell_type": "markdown",
   "metadata": {
    "heading_collapsed": "false"
   },
   "source": [
    "Then we can get the capacitance using \n",
    "\n",
    "$$ B = slope (n - n_0) = \\frac{h}{e}(n - n_0) = \\frac{2hC_b}{e^2}V_b$$"
   ]
  },
  {
   "cell_type": "code",
   "execution_count": 17,
   "metadata": {
    "heading_collapsed": "false"
   },
   "outputs": [
    {
     "name": "stdout",
     "output_type": "stream",
     "text": [
      "Bottom capacitance (C/(V*m^2)):  0.0005809849079384244\n",
      "Bottom effective hBN thickness (nm):  45.69826106879509\n",
      "Top capacitance (C/(V*m^2)):  0.0028229350947619513\n",
      "Top effective hBN thickness (nm):  9.405104654819871\n"
     ]
    }
   ],
   "source": [
    "# Then we can get the capacitance\n",
    "V0 = -3\n",
    "sl = 30\n",
    "Cb = sl*1.602e-19**2/6.626e-34/2\n",
    "Ct = Cb/(-slCNP)\n",
    "dBNb = 3*8.85e-12/Cb\n",
    "dBNt = 3*8.85e-12/Ct\n",
    "print('Bottom capacitance (C/(V*m^2)): ', str(Cb))\n",
    "print('Bottom effective hBN thickness (nm): ', str(dBNb*10**9))\n",
    "print('Top capacitance (C/(V*m^2)): ', str(Ct))\n",
    "print('Top effective hBN thickness (nm): ', str(dBNt*10**9))"
   ]
  },
  {
   "cell_type": "code",
   "execution_count": 18,
   "metadata": {
    "heading_collapsed": "false"
   },
   "outputs": [],
   "source": [
    "# We can replot in density now\n",
    "Cb = 0.0005809849079384244\n",
    "prefactor = 2*Cb/1.602e-19/10**16\n",
    "nd0_2829 = prefactor*(Vb - V0) # in 10^12 cm^-2"
   ]
  },
  {
   "cell_type": "code",
   "execution_count": 19,
   "metadata": {
    "heading_collapsed": "false"
   },
   "outputs": [
    {
     "data": {
      "application/vnd.jupyter.widget-view+json": {
       "model_id": "799b6ba69981447598c78f2d39d360c1",
       "version_major": 2,
       "version_minor": 0
      },
      "text/plain": [
       "Canvas(toolbar=Toolbar(toolitems=[('Home', 'Reset original view', 'home', 'home'), ('Back', 'Back to previous …"
      ]
     },
     "metadata": {},
     "output_type": "display_data"
    }
   ],
   "source": [
    "fig, ax = plt.subplots(1, 1, figsize=(10, 5))\n",
    "normf = TwoSlopeNorm(vcenter=3, vmin=0, vmax=20)\n",
    "ax.pcolormesh(nd0_2829, B, Rxx2928d0/1000, cmap=cc.cm.diverging_bwr_20_95_c54, norm=normf)\n",
    "# ax[1].pcolormesh(Vb, B, Rxx4041d0/1000, cmap=cc.cm.diverging_bwr_20_95_c54, norm=normf)\n",
    "\n",
    "\n",
    "Bl = 7\n",
    "Bs = 0\n",
    "n0 = 0\n",
    "sl = 30/prefactor\n",
    "b = -n0*sl\n",
    "\n",
    "for i in [-12, -8, -4, -3, -2, -1]:\n",
    "    x = np.array([(Bs*i - b)/sl, (Bl*i - b)/sl])\n",
    "    ax.plot(x, (x*sl + b)/i, color='white', lw=0.5)\n",
    "\n",
    "n0p = 0\n",
    "b = -n0p*sl\n",
    "for i in [1, 2, 3, 4, 6, 8, 10]:\n",
    "    x = np.array([(Bs*i - b)/sl, (Bl*i - b)/sl])\n",
    "    ax.plot(x, (x*sl + b)/i, color='white', lw=0.5)\n",
    "\n",
    "\n",
    "nfn = -2.13\n",
    "b = -nfn*sl\n",
    "for i in [-4, -8]:\n",
    "    x = np.array([(Bs*i - b)/sl, (Bl*i - b)/sl])\n",
    "    ax.plot(x, (x*sl + b)/i, color='white', lw=0.5)\n",
    "    \n",
    "# nfp = 2.17\n",
    "# b = -nfp*sl\n",
    "# for i in [4, 8]:\n",
    "#     x = np.array([(Bs*i - b)/sl, (Bl*i - b)/sl])\n",
    "#     ax.plot(x, (x*sl + b)/i, color='white', lw=0.5)  \n",
    "\n",
    "# plt.axis(a)\n",
    "\n",
    "# and from half filling, we get nhfp = 1.02, so nfp = between 2.04 and 2.13"
   ]
  },
  {
   "cell_type": "code",
   "execution_count": 20,
   "metadata": {
    "heading_collapsed": "false"
   },
   "outputs": [
    {
     "name": "stdout",
     "output_type": "stream",
     "text": [
      "theta:  0.9469915184650085\n",
      "theta bottom bound, based on half filling insulator:  0.9367164420574015\n",
      "theta top bound, based on full filling fan:  0.9571562982442566\n"
     ]
    }
   ],
   "source": [
    "nfull = (2.04 + 2.13)/2*10**12 # in cm^-2\n",
    "a = 0.246e-9\n",
    "theta = np.sqrt(np.sqrt(3)*nfull*10**4*a**2/8)*180/np.pi\n",
    "print('theta: ', theta)\n",
    "\n",
    "nfullbound0 = 2.04*10**12 # in cm^-2\n",
    "a = 0.246e-9\n",
    "thetabound0 = np.sqrt(np.sqrt(3)*nfullbound0*10**4*a**2/8)*180/np.pi\n",
    "print('theta bottom bound, based on half filling insulator: ', thetabound0)\n",
    "\n",
    "nfullbound1 = 2.13*10**12 # in cm^-2\n",
    "a = 0.246e-9\n",
    "thetabound1 = np.sqrt(np.sqrt(3)*nfullbound1*10**4*a**2/8)*180/np.pi\n",
    "print('theta top bound, based on full filling fan: ', thetabound1)"
   ]
  },
  {
   "cell_type": "markdown",
   "metadata": {
    "heading_collapsed": "false"
   },
   "source": [
    "## Electrodes 40-41"
   ]
  },
  {
   "cell_type": "code",
   "execution_count": 21,
   "metadata": {
    "heading_collapsed": "false"
   },
   "outputs": [],
   "source": [
    "V04041 = -3.04\n",
    "prefactor = 2*Cb/1.602e-19/10**16\n",
    "nd0_4041 = prefactor*(Vb - V04041) # in 10^12 cm^-2"
   ]
  },
  {
   "cell_type": "code",
   "execution_count": 22,
   "metadata": {
    "heading_collapsed": "false"
   },
   "outputs": [
    {
     "data": {
      "application/vnd.jupyter.widget-view+json": {
       "model_id": "c3f84ddd97a94aa584683ce04d71519a",
       "version_major": 2,
       "version_minor": 0
      },
      "text/plain": [
       "Canvas(toolbar=Toolbar(toolitems=[('Home', 'Reset original view', 'home', 'home'), ('Back', 'Back to previous …"
      ]
     },
     "metadata": {},
     "output_type": "display_data"
    }
   ],
   "source": [
    "fig, ax = plt.subplots(1, 1, figsize=(10, 5))\n",
    "normf = TwoSlopeNorm(vcenter=40, vmin=-1, vmax=60)\n",
    "ax.pcolormesh(nd0_4041, B, Rxx4041d0/1000, cmap=cc.cm.diverging_bwr_20_95_c54, norm=normf)\n",
    "\n",
    "\n",
    "Bl = 7\n",
    "Bs = 0\n",
    "n0 = 0\n",
    "sl = 30/prefactor\n",
    "b = -n0*sl\n",
    "\n",
    "for i in [-10, -8, -4, -3, -2, -1]:\n",
    "    x = np.array([(Bs*i - b)/sl, (Bl*i - b)/sl])\n",
    "    ax.plot(x, (x*sl + b)/i, color='white', lw=0.5)\n",
    "\n",
    "n0p = 0\n",
    "b = -n0p*sl\n",
    "for i in [1, 2, 3, 4, 6]:\n",
    "    x = np.array([(Bs*i - b)/sl, (Bl*i - b)/sl])\n",
    "    ax.plot(x, (x*sl + b)/i, color='white', lw=0.5)\n",
    "\n",
    "nfp = 2.15\n",
    "b = -nfp*sl\n",
    "for i in [4, 6, 8, 12]:\n",
    "    x = np.array([(Bs*i - b)/sl, (Bl*i - b)/sl])\n",
    "    ax.plot(x, (x*sl + b)/i, color='white', lw=0.5)\n",
    "\n",
    "nhfn = -1.21\n",
    "b = -nhfn*sl\n",
    "for i in [-2, -4, -6, -8, -10]:\n",
    "    x = np.array([(Bs*i - b)/sl, (Bl*i - b)/sl])\n",
    "    ax.plot(x, (x*sl + b)/i, color='white', lw=0.5)  \n",
    "\n",
    "\n",
    "# nhfn = -1.\n",
    "# b = -nhfn*sl\n",
    "# for i in [-2, -4, -6, -8, -10]:\n",
    "#     x = np.array([(Bs*i - b)/sl, (Bl*i - b)/sl])\n",
    "#     ax.plot(x, (x*sl + b)/i, color='white', lw=0.5)  \n",
    "\n",
    "# plt.axis(a)\n",
    "\n",
    "# and from half filling, we get nhfp = -1.0 or -1.22. so nfp around 2.0 - 2.44 (positive full filling resembles ~2.3, perhaps a good midpoint)"
   ]
  },
  {
   "cell_type": "code",
   "execution_count": 23,
   "metadata": {
    "heading_collapsed": "false"
   },
   "outputs": [],
   "source": [
    "# a = plt.axis()"
   ]
  },
  {
   "cell_type": "code",
   "execution_count": 24,
   "metadata": {
    "heading_collapsed": "false"
   },
   "outputs": [
    {
     "name": "stdout",
     "output_type": "stream",
     "text": [
      "theta:  0.9946195187124093\n",
      "mid-range theta, based on half filling insulator:  1.020236231925887\n",
      "theta top bound, based on full filling fan:  1.0244434094942017\n"
     ]
    }
   ],
   "source": [
    "nfull2 = 2.3*10**12 # in cm^-2\n",
    "a = 0.246e-9\n",
    "theta2 = np.sqrt(np.sqrt(3)*nfull2*10**4*a**2/8)*180/np.pi\n",
    "print('theta: ', theta2)\n",
    "\n",
    "# nfullbound0_2 = 2.0*10**12 # in cm^-2  # I don't think this one is as reliable\n",
    "# a = 0.246e-9\n",
    "# thetabound0 = np.sqrt(np.sqrt(3)*nfullbound0_2*10**4*a**2/8)*180/np.pi\n",
    "# print('theta bottom bound, based on half filling insulator: ', thetabound0)\n",
    "\n",
    "nfullbound0_2 = 2.42*10**12 # in cm^-2  # reasonable alternative using half filling\n",
    "a = 0.246e-9\n",
    "thetabound0 = np.sqrt(np.sqrt(3)*nfullbound0_2*10**4*a**2/8)*180/np.pi\n",
    "print('mid-range theta, based on half filling insulator: ', thetabound0)\n",
    "\n",
    "nfullbound1_2 = 2.44*10**12 # in cm^-2\n",
    "a = 0.246e-9\n",
    "thetabound1 = np.sqrt(np.sqrt(3)*nfullbound1_2*10**4*a**2/8)*180/np.pi\n",
    "print('theta top bound, based on full filling fan: ', thetabound1)"
   ]
  },
  {
   "cell_type": "code",
   "execution_count": 25,
   "metadata": {},
   "outputs": [
    {
     "name": "stdout",
     "output_type": "stream",
     "text": [
      "V0:  -3.04\n",
      "Vgatefull:  3.1709945900957135\n",
      "Prefactor:  0.7253244793238757\n"
     ]
    }
   ],
   "source": [
    "Cb = 0.0005809849079384244\n",
    "prefactor = 2*Cb/1.602e-19/10**16\n",
    "Vgatefull = 2.3/prefactor\n",
    "V0 = -3.04\n",
    "\n",
    "print('V0: ', V0)\n",
    "print('Vgatefull: ', Vgatefull)\n",
    "print('Prefactor: ', prefactor)"
   ]
  },
  {
   "cell_type": "code",
   "execution_count": 26,
   "metadata": {},
   "outputs": [
    {
     "data": {
      "application/vnd.jupyter.widget-view+json": {
       "model_id": "01304c8548cf403db12f85ce58003188",
       "version_major": 2,
       "version_minor": 0
      },
      "text/plain": [
       "Canvas(toolbar=Toolbar(toolitems=[('Home', 'Reset original view', 'home', 'home'), ('Back', 'Back to previous …"
      ]
     },
     "metadata": {},
     "output_type": "display_data"
    },
    {
     "data": {
      "text/plain": [
       "[<matplotlib.axis.XTick at 0x7ff608392fd0>,\n",
       " <matplotlib.axis.XTick at 0x7ff608392fa0>,\n",
       " <matplotlib.axis.XTick at 0x7ff608392670>,\n",
       " <matplotlib.axis.XTick at 0x7ff609ea6790>,\n",
       " <matplotlib.axis.XTick at 0x7ff609ea6ee0>,\n",
       " <matplotlib.axis.XTick at 0x7ff609eaf670>,\n",
       " <matplotlib.axis.XTick at 0x7ff609eafdc0>,\n",
       " <matplotlib.axis.XTick at 0x7ff609eb4550>,\n",
       " <matplotlib.axis.XTick at 0x7ff609eafe20>,\n",
       " <matplotlib.axis.XTick at 0x7ff609ea6be0>,\n",
       " <matplotlib.axis.XTick at 0x7ff609eb4580>,\n",
       " <matplotlib.axis.XTick at 0x7ff609ebd3d0>]"
      ]
     },
     "execution_count": 26,
     "metadata": {},
     "output_type": "execute_result"
    }
   ],
   "source": [
    "# plot in terms of nu to see if peaks line up\n",
    "fig, ax = plt.subplots(1, 1, figsize=(10, 5))\n",
    "normf = TwoSlopeNorm(vcenter=25, vmin=-1, vmax=60)\n",
    "ax.pcolormesh(nd0_4041*4/2.3, B, Rxx4041d0/1000, cmap=cc.cm.diverging_bwr_20_95_c54, norm=normf)\n",
    "ax.set_xticks(range(-5, 7))\n"
   ]
  },
  {
   "cell_type": "code",
   "execution_count": 27,
   "metadata": {},
   "outputs": [
    {
     "data": {
      "application/vnd.jupyter.widget-view+json": {
       "model_id": "0b66d9c555c64dc0a00d8ff17c675615",
       "version_major": 2,
       "version_minor": 0
      },
      "text/plain": [
       "Canvas(toolbar=Toolbar(toolitems=[('Home', 'Reset original view', 'home', 'home'), ('Back', 'Back to previous …"
      ]
     },
     "metadata": {},
     "output_type": "display_data"
    },
    {
     "data": {
      "text/plain": [
       "<matplotlib.collections.QuadMesh at 0x7ff609ed14c0>"
      ]
     },
     "execution_count": 27,
     "metadata": {},
     "output_type": "execute_result"
    }
   ],
   "source": [
    "plt.figure()\n",
    "plt.pcolormesh(Vb, B, Rxx4041d0/1000, vmin=0, vmax=60, cmap='Spectral_r')"
   ]
  },
  {
   "cell_type": "markdown",
   "metadata": {
    "tags": []
   },
   "source": [
    "# Now looking at other D values"
   ]
  },
  {
   "cell_type": "markdown",
   "metadata": {
    "heading_collapsed": "false"
   },
   "source": [
    "Use the equations\n",
    "\n",
    "\\begin{eqnarray}\n",
    "n & = & \\left[C_t V_t + C_b V_b\\right]/e + n_0\\\\\n",
    "D & = & \\left[C_t V_t - C_b V_b\\right]/2\\epsilon_0\n",
    "\\end{eqnarray}\n",
    "\n",
    "to map the gate voltages to n and D"
   ]
  },
  {
   "cell_type": "code",
   "execution_count": 28,
   "metadata": {
    "heading_collapsed": "false"
   },
   "outputs": [],
   "source": [
    "def nD2928(Vb, Vt):\n",
    "    Ct, Cb = 0.0028229350947619513, 0.0005809849079384244\n",
    "    V0 = -3.07\n",
    "    n0 = -2*Cb/1.602e-19*V0\n",
    "    n = (Ct*Vt + Cb*Vb)/1.602e-19 + n0\n",
    "    D = (Ct*Vt - Cb*Vb)/8.85e-12/2\n",
    "    return n/10**16, D/10**9\n",
    "\n",
    "def nD4041(Vb, Vt):\n",
    "    Ct, Cb = 0.0028229350947619513, 0.0005809849079384244\n",
    "    V0 = -3.1\n",
    "    n0 = -2*Cb/1.602e-19*V0\n",
    "    n = (Ct*Vt + Cb*Vb)/1.602e-19 + n0\n",
    "    D = (Ct*Vt - Cb*Vb)/8.85e-12/2\n",
    "    return n/10**16, D/10**9"
   ]
  },
  {
   "cell_type": "code",
   "execution_count": 29,
   "metadata": {
    "heading_collapsed": "false"
   },
   "outputs": [
    {
     "data": {
      "text/plain": [
       "(2.2267461515242983, 0.0)"
      ]
     },
     "execution_count": 29,
     "metadata": {},
     "output_type": "execute_result"
    }
   ],
   "source": [
    "nD2928(0, 0)"
   ]
  },
  {
   "cell_type": "markdown",
   "metadata": {
    "tags": []
   },
   "source": [
    "## 0 T"
   ]
  },
  {
   "cell_type": "code",
   "execution_count": 30,
   "metadata": {
    "heading_collapsed": "false"
   },
   "outputs": [],
   "source": [
    "b, t = np.meshgrid(bg2d, tg2d)\n",
    "n2928, D2928 = nD2928(b, t)\n",
    "n4041, D4041 = nD4041(b, t)"
   ]
  },
  {
   "cell_type": "code",
   "execution_count": 31,
   "metadata": {
    "heading_collapsed": "false"
   },
   "outputs": [
    {
     "data": {
      "application/vnd.jupyter.widget-view+json": {
       "model_id": "edce4ab0115a49e6aebd25e8c515c606",
       "version_major": 2,
       "version_minor": 0
      },
      "text/plain": [
       "Canvas(toolbar=Toolbar(toolitems=[('Home', 'Reset original view', 'home', 'home'), ('Back', 'Back to previous …"
      ]
     },
     "metadata": {},
     "output_type": "display_data"
    },
    {
     "data": {
      "text/plain": [
       "<matplotlib.collections.LineCollection at 0x7ff60c586dc0>"
      ]
     },
     "execution_count": 31,
     "metadata": {},
     "output_type": "execute_result"
    }
   ],
   "source": [
    "fig, ax = plt.subplots(1, 2, figsize=(10, 5), sharey=True)\n",
    "# dnorm = TwoSlopeNorm(vcenter=4, vmin=0, vmax=70)\n",
    "ax[0].pcolormesh(n2928, D2928, R2928_2d/1000, cmap='inferno', norm=SymLogNorm(0.5, vmin=0, vmax=80))\n",
    "ax[0].axis((-4, 4, -0.5, 0.6))\n",
    "ax[1].pcolormesh(n4041, D4041, R4041_2d/1000, cmap='inferno', norm=SymLogNorm(0.5, vmin=0, vmax=80))\n",
    "ax[1].axis((-4, 4, -0.5, 0.6))\n",
    "\n",
    "ax[0].set_xlabel('n (10$^{12}$ cm$^{-2}$)')\n",
    "ax[1].set_xlabel('n (10$^{12}$ cm$^{-2}$)')\n",
    "ax[0].set_ylabel('D (V/nm)')\n",
    "\n",
    "Do = nD2928(0, 2.9)[1]\n",
    "Dg1 = nD2928(0, 1.3)[1]\n",
    "Dg2 = nD2928(0, -1.2)[1]\n",
    "Dr = nD2928(0, -2.2)[1]\n",
    "ax[0].hlines([Do, Dg1, 0, Dg2, Dr], -4, 4, color=['orange', 'gray', 'blue', 'green', 'red'])\n",
    "ax[1].hlines([Do, Dg1, 0, Dg2, Dr], -4, 4, color=['orange', 'gray', 'blue', 'green', 'red'])"
   ]
  },
  {
   "cell_type": "code",
   "execution_count": 32,
   "metadata": {
    "heading_collapsed": "false"
   },
   "outputs": [],
   "source": [
    "slDrc = -0.2058088083627785"
   ]
  },
  {
   "cell_type": "code",
   "execution_count": 33,
   "metadata": {
    "heading_collapsed": "false"
   },
   "outputs": [],
   "source": [
    "# Function for the orange line\n",
    "def constant_D_orangeline_nsw(Vb):\n",
    "    srframe.volt_p1(Vb)\n",
    "    srframe.volt_p5(-slDrc*Vb + 2.9)\n",
    "    \n",
    "#Function for the grey line\n",
    "def constant_D_greyline_nsw(Vb):\n",
    "    srframe.volt_p1(Vb)\n",
    "    srframe.volt_p5(-slDrc*Vb + 1.3)\n",
    "    \n",
    "#Function for the green line (blue)\n",
    "def constant_D_greenline_nsw(Vb):\n",
    "    srframe.volt_p1(Vb)\n",
    "    srframe.volt_p5(-slDrc*Vb - 1.2)\n",
    "\n",
    "#Zero field line\n",
    "def zerofieldsw(Vb):\n",
    "    srframe.volt_p1(Vb)\n",
    "    srframe.volt_p5(-slDrc*Vb)"
   ]
  },
  {
   "cell_type": "code",
   "execution_count": 34,
   "metadata": {
    "heading_collapsed": "false"
   },
   "outputs": [
    {
     "name": "stdout",
     "output_type": "stream",
     "text": [
      "D field for each line (same for both electrodes)\n",
      "orange line:  0.46251478953726877\n",
      "grey line:  0.20733421599946536\n",
      "green line:  -0.19138543015335263\n",
      "red line:  -0.35087328861447986\n"
     ]
    }
   ],
   "source": [
    "\n",
    "print('D field for each line (same for both electrodes)')\n",
    "print('orange line: ', Do)\n",
    "print('grey line: ', Dg1)\n",
    "print('green line: ', Dg2)\n",
    "print('red line: ', Dr)"
   ]
  },
  {
   "cell_type": "markdown",
   "metadata": {
    "heading_collapsed": "true",
    "tags": []
   },
   "source": [
    "## Finite magnetic field 2D scans"
   ]
  },
  {
   "cell_type": "code",
   "execution_count": 32,
   "metadata": {
    "heading_collapsed": "false"
   },
   "outputs": [
    {
     "data": {
      "text/plain": [
       "DataSet:\n",
       "   location = 'data/2020-05-17/#003_M30_865_29-28__830_40-41_1nA_2dgatesweep_8T_16-27-29'\n",
       "   <Type>   | <array_id>          | <array.name> | <array.shape>\n",
       "   Setpoint | srframe_volt_p5_set | volt_p5      | (193,)\n",
       "   Setpoint | srframe_volt_p1_set | volt_p1      | (193, 273)\n",
       "   Measured | lockin830_X         | X            | (193, 273)\n",
       "   Measured | lockin830_Y         | Y            | (193, 273)\n",
       "   Measured | lockin865_X         | X            | (193, 273)\n",
       "   Measured | lockin865_Y         | Y            | (193, 273)"
      ]
     },
     "execution_count": 32,
     "metadata": {},
     "output_type": "execute_result"
    }
   ],
   "source": [
    "d2d_8t = qc.load_data('data/2020-05-17/#003_M30_865_29-28__830_40-41_1nA_2dgatesweep_8T_16-27-29')\n",
    "d2d_8t"
   ]
  },
  {
   "cell_type": "code",
   "execution_count": 33,
   "metadata": {
    "heading_collapsed": "false"
   },
   "outputs": [],
   "source": [
    "R2928_8t = npd.Rxxfromdata(d2d_8t, 1e-9, 'lockin865')[:, 11:]\n",
    "R4041_8t = npd.Rxxfromdata(d2d_8t, 1e-9, 'lockin830')[:, 11:]"
   ]
  },
  {
   "cell_type": "code",
   "execution_count": 34,
   "metadata": {
    "heading_collapsed": "false"
   },
   "outputs": [],
   "source": [
    "vt8t = d2d_8t.srframe_volt_p5_set[:]\n",
    "vb8t = d2d_8t.srframe_volt_p1_set[0, 11:]"
   ]
  },
  {
   "cell_type": "code",
   "execution_count": 35,
   "metadata": {
    "heading_collapsed": "false"
   },
   "outputs": [],
   "source": [
    "b, t = np.meshgrid(vb8t, vt8t)\n",
    "n2928_8t, D2928_8t = nD2928(b, t)\n",
    "n4041_8t, D4041_8t = nD4041(b, t)"
   ]
  },
  {
   "cell_type": "code",
   "execution_count": 36,
   "metadata": {
    "heading_collapsed": "false"
   },
   "outputs": [
    {
     "data": {
      "application/vnd.jupyter.widget-view+json": {
       "model_id": "e464ac259f7d48bda2de305b37c46dc6",
       "version_major": 2,
       "version_minor": 0
      },
      "text/plain": [
       "Canvas(toolbar=Toolbar(toolitems=[('Home', 'Reset original view', 'home', 'home'), ('Back', 'Back to previous …"
      ]
     },
     "metadata": {},
     "output_type": "display_data"
    },
    {
     "data": {
      "text/plain": [
       "Text(0, 0.5, 'D (V/nm)')"
      ]
     },
     "execution_count": 36,
     "metadata": {},
     "output_type": "execute_result"
    }
   ],
   "source": [
    "fig, ax = plt.subplots(1, 2, figsize=(10, 5), sharey=True)\n",
    "# dnorm = TwoSlopeNorm(vcenter=4, vmin=0, vmax=70)\n",
    "ax[0].pcolormesh(n2928_8t, D2928_8t, R2928_8t/1000, cmap='inferno', norm=SymLogNorm(0.5, vmin=0, vmax=80))\n",
    "ax[0].axis((-4, 4, -0.8, 0.75))\n",
    "ax[1].pcolormesh(n4041_8t, D4041_8t, R4041_8t/1000, cmap='inferno', norm=SymLogNorm(0.5, vmin=0, vmax=80))\n",
    "ax[1].axis((-4, 4, -0.8, 0.75))\n",
    "\n",
    "ax[0].set_xlabel('n (10$^{12}$ cm$^{-2}$)')\n",
    "ax[1].set_xlabel('n (10$^{12}$ cm$^{-2}$)')\n",
    "ax[0].set_ylabel('D (V/nm)')"
   ]
  },
  {
   "cell_type": "code",
   "execution_count": 37,
   "metadata": {
    "heading_collapsed": "false"
   },
   "outputs": [
    {
     "data": {
      "text/plain": [
       "DataSet:\n",
       "   location = 'data/2020-05-18/#001_M30_865_29-28__830_40-41_1nA_2dgatesweep_5T_14-07-28'\n",
       "   <Type>   | <array_id>          | <array.name> | <array.shape>\n",
       "   Setpoint | srframe_volt_p5_set | volt_p5      | (193,)\n",
       "   Setpoint | srframe_volt_p1_set | volt_p1      | (193, 273)\n",
       "   Measured | lockin830_X         | X            | (193, 273)\n",
       "   Measured | lockin830_Y         | Y            | (193, 273)\n",
       "   Measured | lockin865_X         | X            | (193, 273)\n",
       "   Measured | lockin865_Y         | Y            | (193, 273)"
      ]
     },
     "execution_count": 37,
     "metadata": {},
     "output_type": "execute_result"
    }
   ],
   "source": [
    "d2d_5t = qc.load_data('data/2020-05-18/#001_M30_865_29-28__830_40-41_1nA_2dgatesweep_5T_14-07-28')\n",
    "d2d_5t"
   ]
  },
  {
   "cell_type": "code",
   "execution_count": 38,
   "metadata": {
    "heading_collapsed": "false"
   },
   "outputs": [],
   "source": [
    "nq = -60\n",
    "R2928_5t = npd.Rxxfromdata(d2d_5t, 1e-9, 'lockin865')[:nq, 11:]\n",
    "R4041_5t = npd.Rxxfromdata(d2d_5t, 1e-9, 'lockin830')[:nq, 11:]"
   ]
  },
  {
   "cell_type": "code",
   "execution_count": 39,
   "metadata": {
    "heading_collapsed": "false"
   },
   "outputs": [],
   "source": [
    "vt5t = d2d_5t.srframe_volt_p5_set[:nq]\n",
    "vb5t = d2d_5t.srframe_volt_p1_set[0, 11:]"
   ]
  },
  {
   "cell_type": "code",
   "execution_count": 40,
   "metadata": {
    "heading_collapsed": "false"
   },
   "outputs": [],
   "source": [
    "b, t = np.meshgrid(vb5t, vt5t)\n",
    "n2928_5t, D2928_5t = nD2928(b, t)\n",
    "n4041_5t, D4041_5t = nD4041(b, t)"
   ]
  },
  {
   "cell_type": "code",
   "execution_count": 41,
   "metadata": {
    "heading_collapsed": "false"
   },
   "outputs": [
    {
     "data": {
      "application/vnd.jupyter.widget-view+json": {
       "model_id": "b38eb356c66740f89163acca7ba88aee",
       "version_major": 2,
       "version_minor": 0
      },
      "text/plain": [
       "Canvas(toolbar=Toolbar(toolitems=[('Home', 'Reset original view', 'home', 'home'), ('Back', 'Back to previous …"
      ]
     },
     "metadata": {},
     "output_type": "display_data"
    },
    {
     "data": {
      "text/plain": [
       "Text(0, 0.5, 'D (V/nm)')"
      ]
     },
     "execution_count": 41,
     "metadata": {},
     "output_type": "execute_result"
    }
   ],
   "source": [
    "fig, ax = plt.subplots(1, 2, figsize=(10, 5), sharey=True)\n",
    "# dnorm = TwoSlopeNorm(vcenter=4, vmin=0, vmax=70)\n",
    "ax[0].pcolormesh(n2928_5t, D2928_5t, R2928_5t/1000, cmap='inferno', norm=SymLogNorm(0.5, vmin=0, vmax=80))\n",
    "ax[0].axis((-4, 4, -0.8, 0.75))\n",
    "ax[1].pcolormesh(n4041_5t, D4041_5t, R4041_5t/1000, cmap='inferno', norm=SymLogNorm(0.5, vmin=0, vmax=80))\n",
    "ax[1].axis((-4, 4, -0.8, 0.75))\n",
    "\n",
    "ax[0].set_xlabel('n (10$^{12}$ cm$^{-2}$)')\n",
    "ax[1].set_xlabel('n (10$^{12}$ cm$^{-2}$)')\n",
    "ax[0].set_ylabel('D (V/nm)')"
   ]
  },
  {
   "cell_type": "markdown",
   "metadata": {
    "heading_collapsed": "true",
    "tags": []
   },
   "source": [
    "# SC D dependence"
   ]
  },
  {
   "cell_type": "code",
   "execution_count": 35,
   "metadata": {
    "heading_collapsed": "false"
   },
   "outputs": [
    {
     "data": {
      "text/plain": [
       "DataSet:\n",
       "   location = 'data/2020-05-09/#007_M30_865_29-28__830_40-41_0p5nAexc_maxSChole_cosntant_n_D_sweep_AC0.5nAdvdi_baseT_b=-0.8mT_11-50-46'\n",
       "   <Type>   | <array_id>               | <array.name>         | <array.shape>\n",
       "   Setpoint | constant_n_maxholeSC_set | constant_n_maxholeSC | (45,)\n",
       "   Setpoint | srdc_volt_set            | volt                 | (45, 161)\n",
       "   Measured | lockin830_X              | X                    | (45, 161)\n",
       "   Measured | lockin830_Y              | Y                    | (45, 161)\n",
       "   Measured | lockin865_X              | X                    | (45, 161)\n",
       "   Measured | lockin865_Y              | Y                    | (45, 161)"
      ]
     },
     "execution_count": 35,
     "metadata": {},
     "output_type": "execute_result"
    }
   ],
   "source": [
    "shole = qc.load_data('data/2020-05-09/#007_M30_865_29-28__830_40-41_0p5nAexc_maxSChole_cosntant_n_D_sweep_AC0.5nAdvdi_baseT_b=-0.8mT_11-50-46')\n",
    "shole"
   ]
  },
  {
   "cell_type": "code",
   "execution_count": 36,
   "metadata": {
    "heading_collapsed": "false"
   },
   "outputs": [
    {
     "data": {
      "application/vnd.jupyter.widget-view+json": {
       "model_id": "a9b74ecf290a47209ad9598273ca93db",
       "version_major": 2,
       "version_minor": 0
      },
      "text/plain": [
       "Canvas(toolbar=Toolbar(toolitems=[('Home', 'Reset original view', 'home', 'home'), ('Back', 'Back to previous …"
      ]
     },
     "metadata": {},
     "output_type": "display_data"
    },
    {
     "data": {
      "text/plain": [
       "Text(0, 0.5, 'dV/dI ($\\\\Omega$)')"
      ]
     },
     "execution_count": 36,
     "metadata": {},
     "output_type": "execute_result"
    }
   ],
   "source": [
    "plt.figure()\n",
    "plt.plot(shole.srdc_volt_set[0, :]*10, gaussian_filter(shole.lockin865_X[15, :]/0.5e-9, 0.7))\n",
    "plt.xlabel('I (nA)')\n",
    "plt.ylabel('dV/dI ($\\Omega$)')\n",
    "# plt.savefig(figfile + 'maxSChole.png', dpi=300, bbox_inches='tight')"
   ]
  },
  {
   "cell_type": "code",
   "execution_count": 37,
   "metadata": {
    "heading_collapsed": "false"
   },
   "outputs": [
    {
     "data": {
      "text/plain": [
       "DataSet:\n",
       "   location = 'data/2020-05-11/#014_M30_865_29-28__830_40-41_0p5nAexc_constant_n_maxSC_40_41_Dsw_AC0.5nAdvdi_baseT_b=-0.8mT_18-39-28'\n",
       "   <Type>   | <array_id>                     | <array.name>               | <array.shape>\n",
       "   Setpoint | constant_n_maxSC_40_41_Dsw_set | constant_n_maxSC_40_41_Dsw | (45,)\n",
       "   Setpoint | srdc_volt_set                  | volt                       | (45, 161)\n",
       "   Measured | lockin830_X                    | X                          | (45, 161)\n",
       "   Measured | lockin830_Y                    | Y                          | (45, 161)\n",
       "   Measured | lockin865_X                    | X                          | (45, 161)\n",
       "   Measured | lockin865_Y                    | Y                          | (45, 161)"
      ]
     },
     "execution_count": 37,
     "metadata": {},
     "output_type": "execute_result"
    }
   ],
   "source": [
    "d4041 = qc.load_data('data/2020-05-11/#014_M30_865_29-28__830_40-41_0p5nAexc_constant_n_maxSC_40_41_Dsw_AC0.5nAdvdi_baseT_b=-0.8mT_18-39-28')\n",
    "dvdi4041 = d4041.lockin830_X[:, :]/0.5e-9\n",
    "Ivals = np.array(d4041.srdc_volt_set[0, :])*10\n",
    "d4041"
   ]
  },
  {
   "cell_type": "code",
   "execution_count": 38,
   "metadata": {
    "heading_collapsed": "false"
   },
   "outputs": [
    {
     "data": {
      "application/vnd.jupyter.widget-view+json": {
       "model_id": "8f04b15b07af4e149e95c110338bd507",
       "version_major": 2,
       "version_minor": 0
      },
      "text/plain": [
       "Canvas(toolbar=Toolbar(toolitems=[('Home', 'Reset original view', 'home', 'home'), ('Back', 'Back to previous …"
      ]
     },
     "metadata": {},
     "output_type": "display_data"
    },
    {
     "data": {
      "text/plain": [
       "<matplotlib.collections.QuadMesh at 0x7ff608e06220>"
      ]
     },
     "execution_count": 38,
     "metadata": {},
     "output_type": "execute_result"
    }
   ],
   "source": [
    "plt.figure()\n",
    "plt.pcolormesh(Ivals, range(dvdi4041.shape[0]), dvdi4041)"
   ]
  },
  {
   "cell_type": "code",
   "execution_count": 39,
   "metadata": {
    "heading_collapsed": "false"
   },
   "outputs": [
    {
     "data": {
      "application/vnd.jupyter.widget-view+json": {
       "model_id": "56f5971705ee49fa88746d38a7286ea3",
       "version_major": 2,
       "version_minor": 0
      },
      "text/plain": [
       "Canvas(toolbar=Toolbar(toolitems=[('Home', 'Reset original view', 'home', 'home'), ('Back', 'Back to previous …"
      ]
     },
     "metadata": {},
     "output_type": "display_data"
    }
   ],
   "source": [
    "plt.figure()\n",
    "plt.plot(Ivals, dvdi4041[0, :])\n",
    "plt.plot(Ivals, dvdi4041[10, :])\n",
    "plt.plot(Ivals, dvdi4041[40, :])\n",
    "plt.savefig(figfile + '4041dvdi_constantn.png', dpi=300, bbox_inches='tight')"
   ]
  },
  {
   "cell_type": "markdown",
   "metadata": {},
   "source": [
    "# T dependence"
   ]
  },
  {
   "cell_type": "markdown",
   "metadata": {
    "tags": []
   },
   "source": [
    "### Data gathering"
   ]
  },
  {
   "cell_type": "code",
   "execution_count": 40,
   "metadata": {
    "heading_collapsed": "false"
   },
   "outputs": [],
   "source": [
    "dtempbase_orange = qc.load_data('data/2020-05-24/#006_M30_865_28-29_830_40-41_0p5nA_-0p8mT_orangeline_sweep_23-38-15')\n",
    "dtemp_1_orange = qc.load_data('data/2020-05-25/#001_M30_865_28-29_830_40-41_0p5nA_gateTsweepto1K_orangeline_0p5nA_00-00-45')\n",
    "dtemp_2_orange = qc.load_data('data/2020-05-25/#002_M30_865_28-29_830_40-41_0p5nA_gateTsweep1p1to1p4K_orangeline_0p5nA_06-27-37')\n",
    "dtemp_3_orange = qc.load_data('data/2020-05-25/#003_M30_865_28-29_830_40-41_0p5nA_gateTsweep1p5to2K_orangeline_0p5nA_07-46-45')\n",
    "dtemp_4_orange = qc.load_data('data/2020-05-25/#004_M30_865_28-29_830_40-41_0p5nA_gateTsweep2p1to10K_orangeline_0p5nA_11-57-46')\n",
    "dtemp_5_orange = qc.load_data('data/2020-05-26/#001_M30_865_28-29_830_40-41_0p5nA_gateTsweep11to30K_orangeline_0p5nA_13-57-02')\n",
    "dtemp_6_orange = qc.load_data('data/2020-05-26/#002_M30_865_28-29_830_40-41_0p5nA_gateTsweep31to40K_orangeline_0p5nA_20-10-58')"
   ]
  },
  {
   "cell_type": "code",
   "execution_count": 41,
   "metadata": {
    "heading_collapsed": "false"
   },
   "outputs": [],
   "source": [
    "dtempbase_red = qc.load_data('data/2020-05-27/#002_M30_865_28-29_830_40-41_0.5nA_-0p8mT_redline_sweep_10-01-39')\n",
    "dtemp_1_red = qc.load_data('data/2020-05-27/#003_M30_865_28-29_830_40-41_0p5nA_gateTsweepto1K_redline_0p5nA_10-26-44')\n",
    "dtemp_2_red = qc.load_data('data/2020-05-27/#004_M30_865_28-29_830_40-41_0p5nA_gateTsweep1p1to1p4K_redline_0p5nA_16-38-35')\n",
    "dtemp_3_red = qc.load_data('data/2020-05-27/#005_M30_865_28-29_830_40-41_0p5nA_gateTsweep1p5to2K_redline_0p5nA_17-54-18')\n",
    "dtemp_4_red = qc.load_data('data/2020-05-27/#006_M30_865_28-29_830_40-41_0p5nA_gateTsweep2p1to10K_redline_0p5nA_20-12-53')\n",
    "dtemp_5_red = qc.load_data('data/2020-05-28/#001_M30_865_28-29_830_40-41_0p5nA_gateTsweep11to30K_redline_0p5nA_21-13-37')\n",
    "dtemp_6_red = qc.load_data('data/2020-05-29/#001_M30_865_28-29_830_40-41_0p5nA_gateTsweep31to40K_redline_0p5nA_03-02-32')"
   ]
  },
  {
   "cell_type": "code",
   "execution_count": 42,
   "metadata": {
    "heading_collapsed": "false"
   },
   "outputs": [],
   "source": [
    "dtempbase_blue = qc.load_data('data/2020-06-04/#004_M30_865_28-29_830_40-41_0.5nA_-0p8mT_D0sweep_baseT_12-39-14')\n",
    "dtemp_1_blue = qc.load_data('data/2020-06-04/#006_M30_865_28-29_830_40-41_0p5nA_gateTsweepto1K_D0_0p5nA_13-13-21')\n",
    "dtemp_2_blue = qc.load_data('data/2020-06-04/#007_M30_865_28-29_830_40-41_0p5nA_gateTsweep1p1to1p4K_D0_0p5nA_19-54-05')\n",
    "dtemp_3_blue = qc.load_data('data/2020-06-04/#008_M30_865_28-29_830_40-41_0p5nA_gateTsweep1p5to2K_D0_0p5nA_21-15-39')\n",
    "dtemp_4_blue = qc.load_data('data/2020-06-04/#009_M30_865_28-29_830_40-41_0p5nA_gateTsweep2p1to10K_D0_0p5nA_23-32-58')\n",
    "dtemp_5_blue = qc.load_data('data/2020-06-06/#001_M30_865_28-29_830_40-41_0p5nA_gateTsweep11to30K_D0_0p5nA_02-10-41')\n",
    "dtemp_6_blue = qc.load_data('data/2020-06-06/#002_M30_865_28-29_830_40-41_0p5nA_gateTsweep31to40K_D0_0p5nA_08-24-24')"
   ]
  },
  {
   "cell_type": "code",
   "execution_count": 43,
   "metadata": {
    "heading_collapsed": "false"
   },
   "outputs": [],
   "source": [
    "temps = np.concatenate(([0.025], dtemp_1_orange.triton_pid_setpoint_set, dtemp_2_orange.triton_pid_setpoint_set[:], dtemp_3_orange.triton_pid_setpoint_set, dtemp_4_orange.triton_pid_setpoint_set))\n",
    "temps_high = np.concatenate(([0.025], dtemp_1_orange.triton_pid_setpoint_set, dtemp_2_orange.triton_pid_setpoint_set[:], dtemp_3_orange.triton_pid_setpoint_set, dtemp_4_orange.triton_pid_setpoint_set, dtemp_5_orange.triton_pid_setpoint_set, dtemp_6_orange.triton_pid_setpoint_set))\n",
    "tgate_orange = dtempbase_orange.constant_D_orangeline_nsw_set[:]\n",
    "R2829_orange = np.vstack((npd.Rxxfromdata(dtempbase_orange , 0.5e-9), npd.Rxxfromdata(dtemp_1_orange, 0.5e-9), npd.Rxxfromdata(dtemp_2_orange, 0.5e-9), npd.Rxxfromdata(dtemp_3_orange, 0.5e-9), npd.Rxxfromdata(dtemp_4_orange, 0.5e-9)))\n",
    "R2829_orange_high = np.vstack((npd.Rxxfromdata(dtempbase_orange , 0.5e-9), npd.Rxxfromdata(dtemp_1_orange, 0.5e-9), npd.Rxxfromdata(dtemp_2_orange, 0.5e-9), npd.Rxxfromdata(dtemp_3_orange, 0.5e-9), npd.Rxxfromdata(dtemp_4_orange, 0.5e-9), npd.Rxxfromdata(dtemp_5_orange, 0.5e-9), npd.Rxxfromdata(dtemp_6_orange, 0.5e-9)))\n",
    "R4041_orange = np.vstack((npd.Rxxfromdata(dtempbase_orange , 0.5e-9, 'lockin830'), npd.Rxxfromdata(dtemp_1_orange, 0.5e-9, 'lockin830'), npd.Rxxfromdata(dtemp_2_orange, 0.5e-9, 'lockin830'), npd.Rxxfromdata(dtemp_3_orange, 0.5e-9, 'lockin830'), npd.Rxxfromdata(dtemp_4_orange, 0.5e-9, 'lockin830')))\n",
    "R4041_orange_high = np.vstack((npd.Rxxfromdata(dtempbase_orange , 0.5e-9, 'lockin830'), npd.Rxxfromdata(dtemp_1_orange, 0.5e-9, 'lockin830'), npd.Rxxfromdata(dtemp_2_orange, 0.5e-9, 'lockin830'), npd.Rxxfromdata(dtemp_3_orange, 0.5e-9, 'lockin830'), npd.Rxxfromdata(dtemp_4_orange, 0.5e-9, 'lockin830'), npd.Rxxfromdata(dtemp_5_orange, 0.5e-9, 'lockin830'), npd.Rxxfromdata(dtemp_6_orange, 0.5e-9, 'lockin830')))"
   ]
  },
  {
   "cell_type": "code",
   "execution_count": 44,
   "metadata": {
    "heading_collapsed": "false"
   },
   "outputs": [],
   "source": [
    "temps = np.concatenate(([0.025], dtemp_1_red.triton_pid_setpoint_set, dtemp_2_red.triton_pid_setpoint_set[:], dtemp_3_red.triton_pid_setpoint_set, dtemp_4_red.triton_pid_setpoint_set[:]))\n",
    "tgate_red = dtempbase_red.constant_D_redline_nsw_set[:]\n",
    "R2829_red = np.vstack((npd.Rxxfromdata(dtempbase_red , 0.5e-9), npd.Rxxfromdata(dtemp_1_red, 0.5e-9), npd.Rxxfromdata(dtemp_2_red, 0.5e-9), npd.Rxxfromdata(dtemp_3_red, 0.5e-9), npd.Rxxfromdata(dtemp_4_red, 0.5e-9)))\n",
    "R2829_red_high = np.vstack((npd.Rxxfromdata(dtempbase_red , 0.5e-9), npd.Rxxfromdata(dtemp_1_red, 0.5e-9), npd.Rxxfromdata(dtemp_2_red, 0.5e-9), npd.Rxxfromdata(dtemp_3_red, 0.5e-9), npd.Rxxfromdata(dtemp_4_red, 0.5e-9), npd.Rxxfromdata(dtemp_5_red, 0.5e-9), npd.Rxxfromdata(dtemp_6_red, 0.5e-9)))\n",
    "R4041_red = np.vstack((npd.Rxxfromdata(dtempbase_red , 0.5e-9, 'lockin830'), npd.Rxxfromdata(dtemp_1_red, 0.5e-9, 'lockin830'), npd.Rxxfromdata(dtemp_2_red, 0.5e-9, 'lockin830'), npd.Rxxfromdata(dtemp_3_red, 0.5e-9, 'lockin830'), npd.Rxxfromdata(dtemp_4_red, 0.5e-9, 'lockin830')))\n",
    "R4041_red_high = np.vstack((npd.Rxxfromdata(dtempbase_red , 0.5e-9, 'lockin830'), npd.Rxxfromdata(dtemp_1_red, 0.5e-9, 'lockin830'), npd.Rxxfromdata(dtemp_2_red, 0.5e-9, 'lockin830'), npd.Rxxfromdata(dtemp_3_red, 0.5e-9, 'lockin830'), npd.Rxxfromdata(dtemp_4_red, 0.5e-9, 'lockin830'), npd.Rxxfromdata(dtemp_5_red, 0.5e-9, 'lockin830'), npd.Rxxfromdata(dtemp_6_red, 0.5e-9, 'lockin830')))"
   ]
  },
  {
   "cell_type": "code",
   "execution_count": 45,
   "metadata": {
    "heading_collapsed": "false"
   },
   "outputs": [],
   "source": [
    "temps = np.concatenate(([0.025], dtemp_1_blue.triton_pid_setpoint_set, dtemp_2_blue.triton_pid_setpoint_set[:], dtemp_3_blue.triton_pid_setpoint_set, dtemp_4_blue.triton_pid_setpoint_set))\n",
    "tgate_blue = dtempbase_blue.zeroDparam_set[:]\n",
    "R2829_blue = np.vstack((npd.Rxxfromdata(dtempbase_blue , 0.5e-9), npd.Rxxfromdata(dtemp_1_blue, 0.5e-9), npd.Rxxfromdata(dtemp_2_blue, 0.5e-9), npd.Rxxfromdata(dtemp_3_blue, 0.5e-9), npd.Rxxfromdata(dtemp_4_blue, 0.5e-9)))\n",
    "R2829_blue_high = np.vstack((npd.Rxxfromdata(dtempbase_blue , 0.5e-9), npd.Rxxfromdata(dtemp_1_blue, 0.5e-9), npd.Rxxfromdata(dtemp_2_blue, 0.5e-9), npd.Rxxfromdata(dtemp_3_blue, 0.5e-9), npd.Rxxfromdata(dtemp_4_blue, 0.5e-9), npd.Rxxfromdata(dtemp_5_blue, 0.5e-9), npd.Rxxfromdata(dtemp_6_blue, 0.5e-9)))\n",
    "R4041_blue = np.vstack((npd.Rxxfromdata(dtempbase_blue , 0.5e-9, 'lockin830'), npd.Rxxfromdata(dtemp_1_blue, 0.5e-9, 'lockin830'), npd.Rxxfromdata(dtemp_2_blue, 0.5e-9, 'lockin830'), npd.Rxxfromdata(dtemp_3_blue, 0.5e-9, 'lockin830'), npd.Rxxfromdata(dtemp_4_blue, 0.5e-9, 'lockin830')))\n",
    "R4041_blue_high = np.vstack((npd.Rxxfromdata(dtempbase_blue , 0.5e-9, 'lockin830'), npd.Rxxfromdata(dtemp_1_blue, 0.5e-9, 'lockin830'), npd.Rxxfromdata(dtemp_2_blue, 0.5e-9, 'lockin830'), npd.Rxxfromdata(dtemp_3_blue, 0.5e-9, 'lockin830'), npd.Rxxfromdata(dtemp_4_blue, 0.5e-9, 'lockin830'), npd.Rxxfromdata(dtemp_5_blue, 0.5e-9, 'lockin830'), npd.Rxxfromdata(dtemp_6_blue, 0.5e-9, 'lockin830')))"
   ]
  },
  {
   "cell_type": "code",
   "execution_count": 46,
   "metadata": {
    "heading_collapsed": "false"
   },
   "outputs": [],
   "source": [
    "R2829_orangecorr = np.copy(R2829_orange)\n",
    "R2829_orangecorr[R2829_orange <= 0] = np.min(np.abs(R2829_orange[R2829_orange > 0]))\n",
    "R4041_orangecorr = np.copy(R4041_orange)\n",
    "R4041_orangecorr[R4041_orange <= 0] = np.min(np.abs(R4041_orange[R4041_orange > 0]))"
   ]
  },
  {
   "cell_type": "code",
   "execution_count": 47,
   "metadata": {
    "heading_collapsed": "false"
   },
   "outputs": [],
   "source": [
    "R2829_redcorr = np.copy(R2829_red)\n",
    "R2829_redcorr[R2829_red <= 0] = np.min(np.abs(R2829_red[R2829_red > 0]))\n",
    "R4041_redcorr = np.copy(R4041_red)\n",
    "R4041_redcorr[R4041_red <= 0] = np.min(np.abs(R4041_red[R4041_red > 0]))"
   ]
  },
  {
   "cell_type": "code",
   "execution_count": 48,
   "metadata": {
    "heading_collapsed": "false"
   },
   "outputs": [],
   "source": [
    "R2829_bluecorr = np.copy(R2829_blue)\n",
    "R2829_bluecorr[R2829_blue <= 0] = np.min(np.abs(R2829_blue[R2829_blue > 0]))\n",
    "R4041_bluecorr = np.copy(R4041_blue)\n",
    "R4041_bluecorr[R4041_blue <= 0] = np.min(np.abs(R4041_blue[R4041_blue > 0]))"
   ]
  },
  {
   "cell_type": "code",
   "execution_count": 49,
   "metadata": {
    "heading_collapsed": "false"
   },
   "outputs": [],
   "source": [
    "tgate_orange_corr = tgate_orange[2:]  # need to correct for a gate offset at baseT\n",
    "R2829_orangecorr = R2829_orangecorr[:, 2:]\n",
    "R2829_orangecorr[0, :] = R2829_orange [0, :-2]\n",
    "R2829_orangecorr[1, :] = R2829_orange [1, 1:-1]\n",
    "R2829_orangecorr[31, :] = R2829_orange [31, 1:-1]\n",
    "R2829_orangecorr[32, :] = R2829_orange [32, 1:-1]"
   ]
  },
  {
   "cell_type": "code",
   "execution_count": 50,
   "metadata": {
    "heading_collapsed": "false"
   },
   "outputs": [],
   "source": [
    "tgate_orange_corr = tgate_orange[2:]  # need to correct for a gate offset at baseT\n",
    "R4041_orangecorr = R4041_orangecorr[:, 2:]\n",
    "R4041_orangecorr[0, :] = R4041_orange [0, :-2]\n",
    "R4041_orangecorr[1, :] = R4041_orange [1, 1:-1]\n",
    "R4041_orangecorr[31, :] = R4041_orange [31, 1:-1]\n",
    "R4041_orangecorr[32, :] = R4041_orange [32, 1:-1]"
   ]
  },
  {
   "cell_type": "code",
   "execution_count": 51,
   "metadata": {
    "heading_collapsed": "false"
   },
   "outputs": [],
   "source": [
    "tgate_red_corr = tgate_red[1:]  # need to correct for a gate offset at baseT\n",
    "R2829_redcorr = R2829_redcorr[:, 1:]\n",
    "R2829_redcorr[1, :] = R2829_red [1, :-1]\n",
    "R2829_redcorr[2, :] = R2829_red [2, :-1]"
   ]
  },
  {
   "cell_type": "code",
   "execution_count": 52,
   "metadata": {
    "heading_collapsed": "false"
   },
   "outputs": [],
   "source": [
    "tgate_red_corr = tgate_red[1:]  # need to correct for a gate offset at baseT\n",
    "R4041_redcorr = R4041_redcorr[:, 1:]\n",
    "R4041_redcorr[1, :] = R4041_red [1, :-1]\n",
    "R4041_redcorr[2, :] = R4041_red [2, :-1]"
   ]
  },
  {
   "cell_type": "markdown",
   "metadata": {
    "heading_collapsed": "true",
    "tags": []
   },
   "source": [
    "### Smaller-angle area with gapped insulator and electron and hole superconductivity"
   ]
  },
  {
   "cell_type": "code",
   "execution_count": 53,
   "metadata": {
    "heading_collapsed": "false"
   },
   "outputs": [],
   "source": [
    "ft = interp2d(tgate_orange_corr, temps, R2829_orangecorr, kind='cubic')"
   ]
  },
  {
   "cell_type": "code",
   "execution_count": 54,
   "metadata": {
    "heading_collapsed": "false"
   },
   "outputs": [],
   "source": [
    "tgate_orange_interp = np.linspace(-13.58, -6.8, 679)\n",
    "temps_interp = np.linspace(0.025, 2, 80)\n",
    "R2829_orangecorr_interp = ft(tgate_orange_interp, temps_interp)"
   ]
  },
  {
   "cell_type": "code",
   "execution_count": 55,
   "metadata": {
    "heading_collapsed": "false"
   },
   "outputs": [],
   "source": [
    "ft3 = interp2d(tgate_red_corr, temps, R2829_redcorr, kind='cubic')"
   ]
  },
  {
   "cell_type": "code",
   "execution_count": 56,
   "metadata": {
    "heading_collapsed": "false"
   },
   "outputs": [],
   "source": [
    "tgate_red_interp = np.linspace(-0.5, 6, 651)\n",
    "temps_interp = np.linspace(0.025, 2, 80)\n",
    "R2829_redcorr_interp = ft3(tgate_red_interp, temps_interp)"
   ]
  },
  {
   "cell_type": "code",
   "execution_count": 57,
   "metadata": {
    "heading_collapsed": "false"
   },
   "outputs": [],
   "source": [
    "ft5 = interp2d(tgate_blue, temps, R2829_bluecorr, kind='cubic')"
   ]
  },
  {
   "cell_type": "code",
   "execution_count": 58,
   "metadata": {
    "heading_collapsed": "false"
   },
   "outputs": [],
   "source": [
    "tgate_blue_interp = np.linspace(-6.5, 0.6, 711)\n",
    "temps_interp = np.linspace(0.025, 2, 80)\n",
    "R2829_bluecorr_interp = ft5(tgate_blue_interp, temps_interp)"
   ]
  },
  {
   "cell_type": "code",
   "execution_count": 59,
   "metadata": {
    "heading_collapsed": "false"
   },
   "outputs": [
    {
     "data": {
      "application/vnd.jupyter.widget-view+json": {
       "model_id": "1a4a2aaba633494cbd82505fd37a1819",
       "version_major": 2,
       "version_minor": 0
      },
      "text/plain": [
       "Canvas(toolbar=Toolbar(toolitems=[('Home', 'Reset original view', 'home', 'home'), ('Back', 'Back to previous …"
      ]
     },
     "metadata": {},
     "output_type": "display_data"
    },
    {
     "data": {
      "text/plain": [
       "<matplotlib.colorbar.Colorbar at 0x7ff611c2f490>"
      ]
     },
     "execution_count": 59,
     "metadata": {},
     "output_type": "execute_result"
    }
   ],
   "source": [
    "fig, ax = plt.subplots(3, 1, figsize=(10, 14))\n",
    "coff = colors.SymLogNorm(750, vmin=0, vmax=2e4)\n",
    "\n",
    "p1 = ax[0].pcolormesh(tgate_orange_interp, temps_interp, R2829_orangecorr_interp, norm=coff, cmap='seismic')\n",
    "ax[0].set_ylabel('T (K)')\n",
    "ax[0].set_xlim(-13.6, -6.8)\n",
    "ax[0].set_title('28-29 orange line D = 0.925 V/nm')\n",
    "fig.colorbar(p1, ax=ax[0], label='R$_{xx}$ (k$\\Omega$)')\n",
    "\n",
    "p2 = ax[1].pcolormesh(tgate_blue_interp, temps_interp, R2829_bluecorr_interp, norm=coff, cmap='seismic')\n",
    "ax[1].set_ylabel('T (K)')\n",
    "ax[1].set_xlim(-6.55, 0.25)\n",
    "ax[1].set_title('blue line D=0 V/nm')\n",
    "fig.colorbar(p2, ax=ax[1], label='R$_{xx}$ (k$\\Omega$)')\n",
    "\n",
    "p3 = ax[2].pcolormesh(tgate_red_interp, temps_interp, R2829_redcorr_interp, norm=coff, cmap='seismic')\n",
    "ax[2].set_ylabel('T (K)')\n",
    "ax[2].set_xlabel('Vg (V)')\n",
    "ax[2].set_xlim(-1.2, 5.6)\n",
    "ax[2].set_title('red line D = -0.7 V/nm')\n",
    "fig.colorbar(p3, ax=ax[2], label='R$_{xx}$ (k$\\Omega$)')"
   ]
  },
  {
   "cell_type": "code",
   "execution_count": 60,
   "metadata": {
    "heading_collapsed": "false"
   },
   "outputs": [
    {
     "data": {
      "application/vnd.jupyter.widget-view+json": {
       "model_id": "4974e62b83c441919ecccf91bf3578ee",
       "version_major": 2,
       "version_minor": 0
      },
      "text/plain": [
       "Canvas(toolbar=Toolbar(toolitems=[('Home', 'Reset original view', 'home', 'home'), ('Back', 'Back to previous …"
      ]
     },
     "metadata": {},
     "output_type": "display_data"
    },
    {
     "data": {
      "text/plain": [
       "<matplotlib.colorbar.Colorbar at 0x7ff611500af0>"
      ]
     },
     "execution_count": 60,
     "metadata": {},
     "output_type": "execute_result"
    }
   ],
   "source": [
    "fig, ax = plt.subplots(3, 1, figsize=(10, 14))\n",
    "coff = colors.SymLogNorm(1000, vmin=0, vmax=2e4)\n",
    "\n",
    "p1 = ax[0].pcolormesh(tgate_orange_corr, temps, R2829_orangecorr, norm=coff, cmap='seismic')\n",
    "ax[0].set_ylabel('T (K)')\n",
    "ax[0].set_xlim(-13.6, -6.8)\n",
    "ax[0].set_title('28-29 orange line D = 0.925 V/nm')\n",
    "fig.colorbar(p1, ax=ax[0], label='R$_{xx}$ (k$\\Omega$)')\n",
    "\n",
    "p2 = ax[1].pcolormesh(tgate_blue, temps, R2829_bluecorr, norm=coff, cmap='seismic')\n",
    "ax[1].set_ylabel('T (K)')\n",
    "ax[1].set_xlim(-6.55, 0.25)\n",
    "ax[1].set_title('blue line D=0 V/nm')\n",
    "fig.colorbar(p2, ax=ax[1], label='R$_{xx}$ (k$\\Omega$)')\n",
    "\n",
    "p3 = ax[2].pcolormesh(tgate_red_corr, temps, R2829_redcorr, norm=coff, cmap='seismic')\n",
    "ax[2].set_ylabel('T (K)')\n",
    "ax[2].set_xlabel('Vg (V)')\n",
    "ax[2].set_xlim(-1.2, 5.6)\n",
    "ax[2].set_title('red line D = -0.7 V/nm')\n",
    "fig.colorbar(p3, ax=ax[2], label='R$_{xx}$ (k$\\Omega$)')"
   ]
  },
  {
   "cell_type": "code",
   "execution_count": 61,
   "metadata": {
    "heading_collapsed": "false"
   },
   "outputs": [
    {
     "data": {
      "application/vnd.jupyter.widget-view+json": {
       "model_id": "6cc84192b61342ca9552e92cc8869ce8",
       "version_major": 2,
       "version_minor": 0
      },
      "text/plain": [
       "Canvas(toolbar=Toolbar(toolitems=[('Home', 'Reset original view', 'home', 'home'), ('Back', 'Back to previous …"
      ]
     },
     "metadata": {},
     "output_type": "display_data"
    },
    {
     "data": {
      "text/plain": [
       "<matplotlib.colorbar.Colorbar at 0x7ff5f7578880>"
      ]
     },
     "execution_count": 61,
     "metadata": {},
     "output_type": "execute_result"
    }
   ],
   "source": [
    "fig, ax = plt.subplots(3, 1, figsize=(10, 14))\n",
    "coff = colors.SymLogNorm(1500, vmin=0, vmax=3e4)\n",
    "\n",
    "p1 = ax[0].pcolormesh(tgate_orange, temps_high, R2829_orange_high, norm=coff, cmap='seismic')\n",
    "ax[0].set_ylabel('T (K)')\n",
    "ax[0].set_xlim(-13.6, -6.8)\n",
    "ax[0].set_title('28-29 orange line D = 0.925 V/nm')\n",
    "fig.colorbar(p1, ax=ax[0], label='R$_{xx}$ (k$\\Omega$)')\n",
    "\n",
    "p2 = ax[1].pcolormesh(tgate_blue, temps_high, R2829_blue_high, norm=coff, cmap='seismic')\n",
    "ax[1].set_ylabel('T (K)')\n",
    "ax[1].set_xlim(-6.55, 0.25)\n",
    "ax[1].set_title('blue line D = 0 V/nm')\n",
    "fig.colorbar(p2, ax=ax[1], label='R$_{xx}$ (k$\\Omega$)')\n",
    "\n",
    "p3 = ax[2].pcolormesh(tgate_red, temps_high, R2829_red_high, norm=coff, cmap='seismic')\n",
    "ax[2].set_ylabel('T (K)')\n",
    "ax[2].set_xlabel('Vg (V)')\n",
    "ax[2].set_xlim(-1.2, 5.6)\n",
    "ax[2].set_title('red line D = -0.7 V/nm')\n",
    "fig.colorbar(p3, ax=ax[2], label='R$_{xx}$ (k$\\Omega$)')"
   ]
  },
  {
   "cell_type": "markdown",
   "metadata": {
    "heading_collapsed": "true",
    "tags": []
   },
   "source": [
    "### Electrodes 40-41: larger angle with likely FM and more correlated features at integer filling"
   ]
  },
  {
   "cell_type": "code",
   "execution_count": 62,
   "metadata": {
    "heading_collapsed": "false"
   },
   "outputs": [],
   "source": [
    "ft2 = interp2d(tgate_orange_corr, temps, R4041_orangecorr, kind='cubic')"
   ]
  },
  {
   "cell_type": "code",
   "execution_count": 63,
   "metadata": {
    "heading_collapsed": "false"
   },
   "outputs": [],
   "source": [
    "tgate_orange_interp = np.linspace(-13.58, -6.8, 679)\n",
    "temps_interp = np.linspace(0.025, 2, 80)\n",
    "R4041_orangecorr_interp = ft2(tgate_orange_interp, temps_interp)"
   ]
  },
  {
   "cell_type": "code",
   "execution_count": 64,
   "metadata": {
    "heading_collapsed": "false"
   },
   "outputs": [],
   "source": [
    "ft4 = interp2d(tgate_red_corr, temps, R4041_redcorr, kind='cubic')"
   ]
  },
  {
   "cell_type": "code",
   "execution_count": 65,
   "metadata": {
    "heading_collapsed": "false"
   },
   "outputs": [],
   "source": [
    "tgate_red_interp = np.linspace(-0.5, 6, 651)\n",
    "temps_interp = np.linspace(0.025, 2, 80)\n",
    "R4041_redcorr_interp = ft4(tgate_red_interp, temps_interp)"
   ]
  },
  {
   "cell_type": "code",
   "execution_count": 66,
   "metadata": {
    "heading_collapsed": "false"
   },
   "outputs": [],
   "source": [
    "ft6 = interp2d(tgate_blue, temps, R4041_bluecorr, kind='cubic')"
   ]
  },
  {
   "cell_type": "code",
   "execution_count": 67,
   "metadata": {
    "heading_collapsed": "false"
   },
   "outputs": [],
   "source": [
    "tgate_blue_interp = np.linspace(-6.5, 0.6, 711)\n",
    "temps_interp = np.linspace(0.025, 2, 80)\n",
    "R4041_bluecorr_interp = ft6(tgate_blue_interp, temps_interp)"
   ]
  },
  {
   "cell_type": "code",
   "execution_count": 68,
   "metadata": {
    "heading_collapsed": "false"
   },
   "outputs": [
    {
     "data": {
      "application/vnd.jupyter.widget-view+json": {
       "model_id": "b05e0906fd24447f9e26bb0441e0f8da",
       "version_major": 2,
       "version_minor": 0
      },
      "text/plain": [
       "Canvas(toolbar=Toolbar(toolitems=[('Home', 'Reset original view', 'home', 'home'), ('Back', 'Back to previous …"
      ]
     },
     "metadata": {},
     "output_type": "display_data"
    },
    {
     "data": {
      "text/plain": [
       "<matplotlib.colorbar.Colorbar at 0x7ff5ff247ee0>"
      ]
     },
     "execution_count": 68,
     "metadata": {},
     "output_type": "execute_result"
    }
   ],
   "source": [
    "fig, ax = plt.subplots(3, 1, figsize=(10, 14))\n",
    "coff = colors.SymLogNorm(4000, vmin=0, vmax=5e4)\n",
    "\n",
    "p1 = ax[0].pcolormesh(tgate_orange_interp, temps_interp, R4041_orangecorr_interp, norm=coff, cmap='seismic')\n",
    "ax[0].set_ylabel('T (K)')\n",
    "ax[0].set_xlim(-13.6, -6.8)\n",
    "ax[0].set_title('40-41 orange line D = 0.925 V/nm')\n",
    "fig.colorbar(p1, ax=ax[0], label='R$_{xx}$ (k$\\Omega$)')\n",
    "\n",
    "p2 = ax[1].pcolormesh(tgate_blue_interp, temps_interp, R4041_bluecorr_interp, norm=coff, cmap='seismic')\n",
    "ax[1].set_ylabel('T (K)')\n",
    "ax[1].set_xlim(-6.55, 0.25)\n",
    "ax[1].set_title('blue line D=0 V/nm')\n",
    "fig.colorbar(p2, ax=ax[1], label='R$_{xx}$ (k$\\Omega$)')\n",
    "\n",
    "p3 = ax[2].pcolormesh(tgate_red_interp, temps_interp, R4041_redcorr_interp, norm=coff, cmap='seismic')\n",
    "ax[2].set_ylabel('T (K)')\n",
    "ax[2].set_xlabel('Vg (V)')\n",
    "ax[2].set_xlim(-1.2, 5.6)\n",
    "ax[2].set_title('40-41 red line D = -0.7 V/nm')\n",
    "fig.colorbar(p3, ax=ax[2], label='R$_{xx}$ (k$\\Omega$)')"
   ]
  },
  {
   "cell_type": "code",
   "execution_count": 69,
   "metadata": {
    "heading_collapsed": "false"
   },
   "outputs": [
    {
     "data": {
      "application/vnd.jupyter.widget-view+json": {
       "model_id": "556fc27b830e44968406b610e2e155b7",
       "version_major": 2,
       "version_minor": 0
      },
      "text/plain": [
       "Canvas(toolbar=Toolbar(toolitems=[('Home', 'Reset original view', 'home', 'home'), ('Back', 'Back to previous …"
      ]
     },
     "metadata": {},
     "output_type": "display_data"
    },
    {
     "data": {
      "text/plain": [
       "<matplotlib.colorbar.Colorbar at 0x7ff5fb281e50>"
      ]
     },
     "execution_count": 69,
     "metadata": {},
     "output_type": "execute_result"
    }
   ],
   "source": [
    "fig, ax = plt.subplots(3, 1, figsize=(10, 14))\n",
    "coff = colors.SymLogNorm(4000, vmin=0, vmax=5e4)\n",
    "\n",
    "p1 = ax[0].pcolormesh(tgate_orange_corr, temps, R4041_orangecorr, norm=coff, cmap='seismic')\n",
    "ax[0].set_ylabel('T (K)')\n",
    "ax[0].set_xlim(-13.6, -6.8)\n",
    "ax[0].set_title('40-41 orange line D = 0.925 V/nm')\n",
    "fig.colorbar(p1, ax=ax[0], label='R$_{xx}$ (k$\\Omega$)')\n",
    "\n",
    "p2 = ax[1].pcolormesh(tgate_blue, temps, R4041_bluecorr, norm=coff, cmap='seismic')\n",
    "ax[1].set_ylabel('T (K)')\n",
    "ax[1].set_xlim(-6.55, 0.25)\n",
    "ax[1].set_title('blue line D=0 V/nm')\n",
    "fig.colorbar(p2, ax=ax[1], label='R$_{xx}$ (k$\\Omega$)')\n",
    "\n",
    "p3 = ax[2].pcolormesh(tgate_red_corr, temps, R4041_redcorr, norm=coff, cmap='seismic')\n",
    "ax[2].set_ylabel('T (K)')\n",
    "ax[2].set_xlabel('Vg (V)')\n",
    "ax[2].set_xlim(-1.2, 5.6)\n",
    "ax[2].set_title('red line D = -0.7 V/nm')\n",
    "fig.colorbar(p3, ax=ax[2], label='R$_{xx}$ (k$\\Omega$)')"
   ]
  },
  {
   "cell_type": "code",
   "execution_count": 70,
   "metadata": {
    "heading_collapsed": "false"
   },
   "outputs": [
    {
     "data": {
      "application/vnd.jupyter.widget-view+json": {
       "model_id": "6d1de3fcd09f4c54a2e6a96b9e3d6ce8",
       "version_major": 2,
       "version_minor": 0
      },
      "text/plain": [
       "Canvas(toolbar=Toolbar(toolitems=[('Home', 'Reset original view', 'home', 'home'), ('Back', 'Back to previous …"
      ]
     },
     "metadata": {},
     "output_type": "display_data"
    },
    {
     "data": {
      "text/plain": [
       "<matplotlib.colorbar.Colorbar at 0x7ff5fe8211c0>"
      ]
     },
     "execution_count": 70,
     "metadata": {},
     "output_type": "execute_result"
    }
   ],
   "source": [
    "fig, ax = plt.subplots(3, 1, figsize=(10, 14))\n",
    "coff = colors.SymLogNorm(5000, vmin=0, vmax=5e4)\n",
    "\n",
    "p1 = ax[0].pcolormesh(tgate_orange, temps_high, R4041_orange_high, norm=coff, cmap='seismic')\n",
    "ax[0].set_ylabel('T (K)')\n",
    "ax[0].set_xlim(-13.6, -6.8)\n",
    "ax[0].set_title('4041 orange line D = 0.925 V/nm')\n",
    "fig.colorbar(p1, ax=ax[0], label='R$_{xx}$ (k$\\Omega$)')\n",
    "\n",
    "p2 = ax[1].pcolormesh(tgate_blue, temps_high, R4041_blue_high, norm=coff, cmap='seismic')\n",
    "ax[1].set_ylabel('T (K)')\n",
    "ax[1].set_xlim(-6.55, 0.25)\n",
    "ax[1].set_title('blue line D = 0 V/nm')\n",
    "fig.colorbar(p2, ax=ax[1], label='R$_{xx}$ (k$\\Omega$)')\n",
    "\n",
    "p3 = ax[2].pcolormesh(tgate_red, temps_high, R4041_red_high, norm=coff, cmap='seismic')\n",
    "ax[2].set_ylabel('T (K)')\n",
    "ax[2].set_xlabel('Vg (V)')\n",
    "ax[2].set_xlim(-1.2, 5.6)\n",
    "ax[2].set_title('red line D = -0.7 V/nm')\n",
    "fig.colorbar(p3, ax=ax[2], label='R$_{xx}$ (k$\\Omega$)')"
   ]
  },
  {
   "cell_type": "markdown",
   "metadata": {
    "heading_collapsed": "true",
    "tags": []
   },
   "source": [
    "### Now plot with respect to filling factor"
   ]
  },
  {
   "cell_type": "markdown",
   "metadata": {},
   "source": [
    "Raw data"
   ]
  },
  {
   "cell_type": "code",
   "execution_count": 71,
   "metadata": {},
   "outputs": [],
   "source": [
    "V0 =  -3.04\n",
    "Vgatefull =  3.1709945900957135\n",
    "nugate_blue = np.interp(tgate_blue, [V0-Vgatefull*6/4, V0+Vgatefull*6/4], [-6, 6])"
   ]
  },
  {
   "cell_type": "code",
   "execution_count": 72,
   "metadata": {},
   "outputs": [
    {
     "data": {
      "application/vnd.jupyter.widget-view+json": {
       "model_id": "e9419f188dd2413f81be824ad72d6795",
       "version_major": 2,
       "version_minor": 0
      },
      "text/plain": [
       "Canvas(toolbar=Toolbar(toolitems=[('Home', 'Reset original view', 'home', 'home'), ('Back', 'Back to previous …"
      ]
     },
     "metadata": {},
     "output_type": "display_data"
    },
    {
     "data": {
      "text/plain": [
       "<matplotlib.colorbar.Colorbar at 0x7ff5e871e4c0>"
      ]
     },
     "execution_count": 72,
     "metadata": {},
     "output_type": "execute_result"
    }
   ],
   "source": [
    "fig, ax = plt.subplots(1, 1, figsize=(9, 4))\n",
    "p = ax.pcolormesh(nugate_blue, temps, R4041_bluecorr, norm=coff, cmap='seismic')\n",
    "ax.set_ylabel('T (K)')\n",
    "# ax.set_xlim(-6.55, 0.25)\n",
    "ax.set_ylim(0.025, 2)\n",
    "ax.set_title('blue line D=0 V/nm')\n",
    "fig.colorbar(p, ax=ax, label='R$_{xx}$ (k$\\Omega$)')"
   ]
  },
  {
   "cell_type": "code",
   "execution_count": 73,
   "metadata": {},
   "outputs": [
    {
     "data": {
      "application/vnd.jupyter.widget-view+json": {
       "model_id": "1ee40fcf4ae7419fa901129fbe11384c",
       "version_major": 2,
       "version_minor": 0
      },
      "text/plain": [
       "Canvas(toolbar=Toolbar(toolitems=[('Home', 'Reset original view', 'home', 'home'), ('Back', 'Back to previous …"
      ]
     },
     "metadata": {},
     "output_type": "display_data"
    },
    {
     "data": {
      "text/plain": [
       "(0.025, 20.0)"
      ]
     },
     "execution_count": 73,
     "metadata": {},
     "output_type": "execute_result"
    }
   ],
   "source": [
    "fig, ax = plt.subplots(1, 1, figsize=(9, 4))\n",
    "norm = TwoSlopeNorm(7.5, 0, 40)\n",
    "p = ax.pcolormesh(nugate_blue, temps_high, R4041_blue_high/1000, norm=norm, cmap=cc.cm.diverging_bwr_20_95_c54)\n",
    "ax.set_ylabel('T (K)')\n",
    "ax.set_xlabel('$\\\\nu$')\n",
    "# ax.set_title('blue line D = 0 V/nm')\n",
    "fig.colorbar(p, ax=ax, label='R$_{xx}$ (k$\\Omega$)')\n",
    "ax.set_ylim(0.025, 20)"
   ]
  },
  {
   "cell_type": "code",
   "execution_count": 74,
   "metadata": {},
   "outputs": [
    {
     "data": {
      "application/vnd.jupyter.widget-view+json": {
       "model_id": "f4b9365aecd443939ada19763e7d88b1",
       "version_major": 2,
       "version_minor": 0
      },
      "text/plain": [
       "Canvas(toolbar=Toolbar(toolitems=[('Home', 'Reset original view', 'home', 'home'), ('Back', 'Back to previous …"
      ]
     },
     "metadata": {},
     "output_type": "display_data"
    },
    {
     "data": {
      "text/plain": [
       "(0.5, 1.3, 0.025, 8.0)"
      ]
     },
     "execution_count": 74,
     "metadata": {},
     "output_type": "execute_result"
    }
   ],
   "source": [
    "fig, ax = plt.subplots(1, 1, figsize=(2, 4))\n",
    "norm = TwoSlopeNorm(7.5, 0, 40)\n",
    "p = ax.pcolormesh(nugate_blue, temps, R4041_bluecorr/1000, norm=norm, cmap=cc.cm.diverging_bwr_20_95_c54)\n",
    "ax.set_ylabel('T (K)')\n",
    "ax.set_xlabel('$\\\\nu$')\n",
    "ax.axis((0.5, 1.3, 0.025, 8))\n",
    "# ax.set_title('blue line D=0 V/nm')\n",
    "# fig.colorbar(p, ax=ax, label='R$_{xx}$ (k$\\Omega$)')"
   ]
  },
  {
   "cell_type": "code",
   "execution_count": 75,
   "metadata": {},
   "outputs": [
    {
     "data": {
      "application/vnd.jupyter.widget-view+json": {
       "model_id": "7e1ad2cadf5240aaa7ae57829f032677",
       "version_major": 2,
       "version_minor": 0
      },
      "text/plain": [
       "Canvas(toolbar=Toolbar(toolitems=[('Home', 'Reset original view', 'home', 'home'), ('Back', 'Back to previous …"
      ]
     },
     "metadata": {},
     "output_type": "display_data"
    },
    {
     "data": {
      "text/plain": [
       "<matplotlib.colorbar.Colorbar at 0x7ff5e8ed8070>"
      ]
     },
     "execution_count": 75,
     "metadata": {},
     "output_type": "execute_result"
    }
   ],
   "source": [
    "fig, ax = plt.subplots(1, 1, figsize=(9, 4))\n",
    "norm = TwoSlopeNorm(8, 0, 40)\n",
    "p = ax.pcolormesh(nugate_blue, temps, R4041_bluecorr/1000, norm=norm, cmap=cc.cm.diverging_bwr_20_95_c54)\n",
    "ax.set_ylabel('T (K)')\n",
    "ax.set_xlabel('$\\\\nu$')\n",
    "# ax.set_title('blue line D=0 V/nm')\n",
    "fig.colorbar(p, ax=ax, label='R$_{xx}$ (k$\\Omega$)')\n"
   ]
  },
  {
   "cell_type": "code",
   "execution_count": null,
   "metadata": {},
   "outputs": [],
   "source": []
  },
  {
   "cell_type": "markdown",
   "metadata": {},
   "source": [
    "Red line (negative D)"
   ]
  },
  {
   "cell_type": "code",
   "execution_count": 76,
   "metadata": {},
   "outputs": [],
   "source": [
    "V0red = 2.32\n",
    "nugate_red = np.interp(tgate_red_corr, [V0red - Vgatefull*6/4, V0red + Vgatefull*6/4], [-6, 6])"
   ]
  },
  {
   "cell_type": "code",
   "execution_count": 77,
   "metadata": {},
   "outputs": [
    {
     "data": {
      "application/vnd.jupyter.widget-view+json": {
       "model_id": "c5eb00a4f37648ed876e8f9e64be3013",
       "version_major": 2,
       "version_minor": 0
      },
      "text/plain": [
       "Canvas(toolbar=Toolbar(toolitems=[('Home', 'Reset original view', 'home', 'home'), ('Back', 'Back to previous …"
      ]
     },
     "metadata": {},
     "output_type": "display_data"
    },
    {
     "data": {
      "text/plain": [
       "<matplotlib.colorbar.Colorbar at 0x7ff5ea659220>"
      ]
     },
     "execution_count": 77,
     "metadata": {},
     "output_type": "execute_result"
    }
   ],
   "source": [
    "fig, ax = plt.subplots(1, 1, figsize=(9, 4))\n",
    "p = ax.pcolormesh(nugate_red, temps, R4041_redcorr, norm=coff, cmap='seismic')\n",
    "ax.set_ylabel('T (K)')\n",
    "ax.set_xlabel('$\\\\nu$')\n",
    "# ax.set_xlim(-1.2, 5.6)\n",
    "ax.set_title('red line D = -0.7 V/nm')\n",
    "fig.colorbar(p, ax=ax, label='R$_{xx}$ (k$\\Omega$)')"
   ]
  },
  {
   "cell_type": "markdown",
   "metadata": {},
   "source": [
    "Orange line (postive D)"
   ]
  },
  {
   "cell_type": "code",
   "execution_count": 78,
   "metadata": {},
   "outputs": [],
   "source": [
    "V0_orange = -10.1\n",
    "nugate_orange = np.interp(tgate_orange_corr, [V0_orange - 6/4*Vgatefull, V0_orange + 6/4*Vgatefull], [-6, 6])"
   ]
  },
  {
   "cell_type": "code",
   "execution_count": 79,
   "metadata": {},
   "outputs": [
    {
     "data": {
      "application/vnd.jupyter.widget-view+json": {
       "model_id": "9149f0e24e0c43008c83826ed5265a02",
       "version_major": 2,
       "version_minor": 0
      },
      "text/plain": [
       "Canvas(toolbar=Toolbar(toolitems=[('Home', 'Reset original view', 'home', 'home'), ('Back', 'Back to previous …"
      ]
     },
     "metadata": {},
     "output_type": "display_data"
    },
    {
     "data": {
      "text/plain": [
       "<matplotlib.colorbar.Colorbar at 0x7ff5ec2138e0>"
      ]
     },
     "execution_count": 79,
     "metadata": {},
     "output_type": "execute_result"
    }
   ],
   "source": [
    "fig, ax = plt.subplots(1, 1, figsize=(9, 4))\n",
    "p = ax.pcolormesh(nugate_orange, temps, R4041_orangecorr, norm=coff, cmap='seismic')\n",
    "ax.set_ylabel('T (K)')\n",
    "# ax.set_xlim(-13.6, -6.8)\n",
    "ax.set_title('40-41 orange line D = 0.925 V/nm')\n",
    "fig.colorbar(p, ax=ax, label='R$_{xx}$ (k$\\Omega$)')"
   ]
  },
  {
   "cell_type": "markdown",
   "metadata": {
    "tags": []
   },
   "source": [
    "### SC Tc determination"
   ]
  },
  {
   "cell_type": "markdown",
   "metadata": {},
   "source": [
    "0 D field"
   ]
  },
  {
   "cell_type": "code",
   "execution_count": 80,
   "metadata": {},
   "outputs": [
    {
     "data": {
      "application/vnd.jupyter.widget-view+json": {
       "model_id": "95ac143216fb4a3dbf501cdb28077d67",
       "version_major": 2,
       "version_minor": 0
      },
      "text/plain": [
       "Canvas(toolbar=Toolbar(toolitems=[('Home', 'Reset original view', 'home', 'home'), ('Back', 'Back to previous …"
      ]
     },
     "metadata": {},
     "output_type": "display_data"
    },
    {
     "name": "stdout",
     "output_type": "stream",
     "text": [
      "nu =  -2.434567382774052\n"
     ]
    },
    {
     "data": {
      "text/plain": [
       "(-0.2, 2.6, 0.0, 5.5)"
      ]
     },
     "execution_count": 80,
     "metadata": {},
     "output_type": "execute_result"
    }
   ],
   "source": [
    "plt.figure()\n",
    "plt.plot(temps, R4041_bluecorr[:, 153]/1000)\n",
    "print('nu = ', nugate_blue[153])\n",
    "\n",
    "plt.axis((-0.2, 2.6, 0, 5.5))"
   ]
  },
  {
   "cell_type": "markdown",
   "metadata": {},
   "source": [
    "Red line"
   ]
  },
  {
   "cell_type": "code",
   "execution_count": 81,
   "metadata": {},
   "outputs": [
    {
     "data": {
      "application/vnd.jupyter.widget-view+json": {
       "model_id": "40f640f7b4c1427eb2b5ffdc3739ae34",
       "version_major": 2,
       "version_minor": 0
      },
      "text/plain": [
       "Canvas(toolbar=Toolbar(toolitems=[('Home', 'Reset original view', 'home', 'home'), ('Back', 'Back to previous …"
      ]
     },
     "metadata": {},
     "output_type": "display_data"
    },
    {
     "name": "stdout",
     "output_type": "stream",
     "text": [
      "nu =  -2.371495688919802\n"
     ]
    },
    {
     "data": {
      "text/plain": [
       "(-0.2, 2.6, -0.1, 5.5)"
      ]
     },
     "execution_count": 81,
     "metadata": {},
     "output_type": "execute_result"
    }
   ],
   "source": [
    "plt.figure()\n",
    "plt.plot(temps, R4041_redcorr[:, 555]/1000)\n",
    "\n",
    "\n",
    "print('nu = ', nugate_red[555])\n",
    "\n",
    "plt.axis((-0.2, 2.6, -0.1, 5.5))"
   ]
  },
  {
   "cell_type": "markdown",
   "metadata": {},
   "source": [
    "Orange line"
   ]
  },
  {
   "cell_type": "code",
   "execution_count": 82,
   "metadata": {},
   "outputs": [
    {
     "data": {
      "application/vnd.jupyter.widget-view+json": {
       "model_id": "315632f5f6dc4b649803deaedf922272",
       "version_major": 2,
       "version_minor": 0
      },
      "text/plain": [
       "Canvas(toolbar=Toolbar(toolitems=[('Home', 'Reset original view', 'home', 'home'), ('Back', 'Back to previous …"
      ]
     },
     "metadata": {},
     "output_type": "display_data"
    },
    {
     "name": "stdout",
     "output_type": "stream",
     "text": [
      "nu =  -2.497639076628303\n"
     ]
    },
    {
     "data": {
      "text/plain": [
       "(-0.2, 2.6, -0.1, 5.5)"
      ]
     },
     "execution_count": 82,
     "metadata": {},
     "output_type": "execute_result"
    }
   ],
   "source": [
    "plt.figure()\n",
    "\n",
    "plt.plot(temps, R4041_orangecorr[:, 150]/1000)\n",
    "\n",
    "print('nu = ', nugate_orange[150])\n",
    "\n",
    "plt.axis((-0.2, 2.6, -0.1, 5.5))"
   ]
  },
  {
   "cell_type": "markdown",
   "metadata": {
    "heading_collapsed": "true",
    "tags": []
   },
   "source": [
    "# WAL D dependence"
   ]
  },
  {
   "cell_type": "markdown",
   "metadata": {
    "heading_collapsed": "true"
   },
   "source": [
    "## D = 0"
   ]
  },
  {
   "cell_type": "code",
   "execution_count": 55,
   "metadata": {
    "Collapsed": "false"
   },
   "outputs": [],
   "source": [
    "def nzero2928(Vb):\n",
    "    # the density (in 10^12 cm^-2) for electrodes 29-28, on the the zero-field line, given Vb\n",
    "    return nD2928(Vb, -slDrc*Vb)[0]\n",
    "\n",
    "def nzero4041(Vb):\n",
    "    # the density (in 10^12 cm^-2) for electrodes 29-28, on the the zero-field line, given Vb\n",
    "    return nD4041(Vb, -slDrc*Vb)[0]"
   ]
  },
  {
   "cell_type": "code",
   "execution_count": 67,
   "metadata": {
    "Collapsed": "false"
   },
   "outputs": [],
   "source": [
    "d0sweep = qc.load_data('data/2020-06-06/#003_M30_865_28-29_830_40-41_1nA_0T_D0sweep_baseT_18-16-11')\n",
    "Vb0sweep = d0sweep.zeroDparam_set[:]\n",
    "n02928 = nzero2928(Vb0sweep)\n",
    "n04041 = nzero4041(Vb0sweep)\n",
    "Rxx0sweep2928 = npd.Rxxfromdata(d0sweep, 1e-9, 'lockin865')\n",
    "Rxx0sweep4041 = npd.Rxxfromdata(d0sweep, 1e-9, 'lockin830')"
   ]
  },
  {
   "cell_type": "code",
   "execution_count": 76,
   "metadata": {
    "Collapsed": "false"
   },
   "outputs": [
    {
     "data": {
      "application/vnd.jupyter.widget-view+json": {
       "model_id": "ff8b0fb12a884648add3443119a11818",
       "version_major": 2,
       "version_minor": 0
      },
      "text/plain": [
       "Canvas(toolbar=Toolbar(toolitems=[('Home', 'Reset original view', 'home', 'home'), ('Back', 'Back to previous …"
      ]
     },
     "metadata": {},
     "output_type": "display_data"
    }
   ],
   "source": [
    "fig, ax = plt.subplots(1, 2, figsize=(10, 3.5))\n",
    "\n",
    "ax[0].semilogy(n02928, Rxx0sweep2928)\n",
    "ax[0].axis([-2.7, 2.8, 10, 4e5])\n",
    "ax[0].set_xlabel('n (10$^{12}$ cm$^{-2}$)')\n",
    "ax[0].set_ylabel('R$_{xx}$ ($\\Omega$)')\n",
    "\n",
    "ax[1].semilogy(n04041, Rxx0sweep4041)\n",
    "ax[1].axis([-2.7, 2.8, 200, 2e5])\n",
    "ax[1].set_xlabel('n (10$^{12}$ cm$^{-2}$)')\n",
    "\n",
    "plt.tight_layout()"
   ]
  },
  {
   "cell_type": "markdown",
   "metadata": {
    "heading_collapsed": "true"
   },
   "source": [
    "### Course scan"
   ]
  },
  {
   "cell_type": "code",
   "execution_count": 523,
   "metadata": {
    "Collapsed": "false"
   },
   "outputs": [
    {
     "data": {
      "text/plain": [
       "126"
      ]
     },
     "execution_count": 523,
     "metadata": {},
     "output_type": "execute_result"
    }
   ],
   "source": [
    "zeroDcoursef = sorted(glob.glob('data/2020-06-06/#*/'))[3:] + sorted(glob.glob('data/2020-06-07/#*/'))[:79]\n",
    "len(zeroDcoursef)"
   ]
  },
  {
   "cell_type": "code",
   "execution_count": 524,
   "metadata": {
    "Collapsed": "false"
   },
   "outputs": [],
   "source": [
    "esqh = 1.602e-19**2/6.626e-34"
   ]
  },
  {
   "cell_type": "code",
   "execution_count": 525,
   "metadata": {
    "Collapsed": "false"
   },
   "outputs": [],
   "source": [
    "barr = np.linspace(-20, 20, 201)\n",
    "Vbvals = np.linspace(-4.5, -2, 126)\n",
    "nvals2928 = nzero2928(Vbvals)\n",
    "nvals4041 = nzero4041(Vbvals)"
   ]
  },
  {
   "cell_type": "code",
   "execution_count": 526,
   "metadata": {
    "Collapsed": "false"
   },
   "outputs": [
    {
     "name": "stdout",
     "output_type": "stream",
     "text": [
      "-0.60 is not a value in the array\n",
      "Plotted -0.60 instead\n"
     ]
    }
   ],
   "source": [
    "# raw Resistance data placed into an array\n",
    "walarr1_865 = np.zeros((len(nvals2928), len(barr)))\n",
    "for i, f in enumerate(zeroDcoursef):\n",
    "    d = qc.load_data(f[:-1])\n",
    "    dlast = np.where(np.isnan(d.triton_field))[0][0]\n",
    "    sweep = np.interp(barr/1000, d.triton_field[:dlast], d.lockin865_X[:dlast]/10e-9)\n",
    "    walarr1_865[i, :] = sweep\n",
    "\n",
    "# form an array of change in conductance from the zero point\n",
    "b01 = -0.6  # the offset of the field zero point\n",
    "pind = npd.val_to_index([b01], barr)[0]\n",
    "dG1_865 = np.zeros(walarr1_865.shape)\n",
    "for i in range(len(nvals2928)):\n",
    "    dG1_865[i, :] = 1/walarr1_865[i, :]/esqh - 1/walarr1_865[i, pind]/esqh"
   ]
  },
  {
   "cell_type": "code",
   "execution_count": 527,
   "metadata": {
    "Collapsed": "false"
   },
   "outputs": [
    {
     "data": {
      "application/vnd.jupyter.widget-view+json": {
       "model_id": "feb1b81bd18240e68a547aec09cc841f",
       "version_major": 2,
       "version_minor": 0
      },
      "text/plain": [
       "Canvas(toolbar=Toolbar(toolitems=[('Home', 'Reset original view', 'home', 'home'), ('Back', 'Back to previous …"
      ]
     },
     "metadata": {},
     "output_type": "display_data"
    },
    {
     "data": {
      "text/plain": [
       "<matplotlib.colorbar.Colorbar at 0x7fd54b72d2d0>"
      ]
     },
     "execution_count": 527,
     "metadata": {},
     "output_type": "execute_result"
    }
   ],
   "source": [
    "plt.figure()\n",
    "plt.pcolormesh(barr-b01, nvals2928, dG1_865, vmin=-1, vmax=0.1)\n",
    "plt.colorbar()"
   ]
  },
  {
   "cell_type": "markdown",
   "metadata": {
    "heading_collapsed": "true"
   },
   "source": [
    "### Holes (fine scale) base T"
   ]
  },
  {
   "cell_type": "code",
   "execution_count": 528,
   "metadata": {
    "Collapsed": "false"
   },
   "outputs": [],
   "source": [
    "barr = np.linspace(-25, 25, 321)"
   ]
  },
  {
   "cell_type": "code",
   "execution_count": 529,
   "metadata": {
    "Collapsed": "false"
   },
   "outputs": [
    {
     "data": {
      "text/plain": [
       "41"
      ]
     },
     "execution_count": 529,
     "metadata": {},
     "output_type": "execute_result"
    }
   ],
   "source": [
    "zeroDholef = sorted(glob.glob('data/2020-06-07/#*/'))[79:120]\n",
    "len(zeroDholef)"
   ]
  },
  {
   "cell_type": "code",
   "execution_count": 530,
   "metadata": {
    "Collapsed": "false"
   },
   "outputs": [],
   "source": [
    "Vbvals = np.linspace(-3.5, -3.1, 41)\n",
    "nvals2928_2 = nzero2928(Vbvals)\n",
    "nvals4041_2 = nzero4041(Vbvals)"
   ]
  },
  {
   "cell_type": "code",
   "execution_count": 531,
   "metadata": {
    "Collapsed": "false"
   },
   "outputs": [
    {
     "name": "stdout",
     "output_type": "stream",
     "text": [
      "-0.31 is not a value in the array\n",
      "Plotted -0.31 instead\n"
     ]
    }
   ],
   "source": [
    "# raw Resistance data placed into an array\n",
    "walarr2_865 = np.zeros((len(nvals2928_2), len(barr)))\n",
    "for i, f in enumerate(zeroDholef):\n",
    "    d = qc.load_data(f[:-1])\n",
    "    dlast = np.where(np.isnan(d.triton_field))[0][0]\n",
    "    sweep = np.interp(barr/1000, d.triton_field[:dlast], d.lockin865_X[:dlast]/10e-9)\n",
    "    walarr2_865[i, :] = sweep\n",
    "\n",
    "# form an array of change in conductance from the zero point\n",
    "b02 = -0.31  # the offset of the field zero point\n",
    "pind = npd.val_to_index([b02], barr)[0]\n",
    "dG2_865 = np.zeros(walarr2_865.shape)\n",
    "for i in range(walarr2_865.shape[0]):\n",
    "    dG2_865[i, :] = 1/walarr2_865[i, :]/esqh - 1/walarr2_865[i, pind]/esqh"
   ]
  },
  {
   "cell_type": "code",
   "execution_count": 532,
   "metadata": {
    "Collapsed": "false"
   },
   "outputs": [
    {
     "data": {
      "application/vnd.jupyter.widget-view+json": {
       "model_id": "4645ac8cc1b24fc98f95e2b4bdb55e5c",
       "version_major": 2,
       "version_minor": 0
      },
      "text/plain": [
       "Canvas(toolbar=Toolbar(toolitems=[('Home', 'Reset original view', 'home', 'home'), ('Back', 'Back to previous …"
      ]
     },
     "metadata": {},
     "output_type": "display_data"
    },
    {
     "data": {
      "text/plain": [
       "<matplotlib.colorbar.Colorbar at 0x7fd54c538dd0>"
      ]
     },
     "execution_count": 532,
     "metadata": {},
     "output_type": "execute_result"
    }
   ],
   "source": [
    "plt.figure()\n",
    "plt.pcolormesh(barr-b02, nvals2928_2, dG2_865, vmin=-1, vmax=0.1)\n",
    "plt.colorbar()"
   ]
  },
  {
   "cell_type": "code",
   "execution_count": 533,
   "metadata": {
    "Collapsed": "false"
   },
   "outputs": [
    {
     "data": {
      "application/vnd.jupyter.widget-view+json": {
       "model_id": "40dd9a12c94e4547a4f6d4d0a56bd170",
       "version_major": 2,
       "version_minor": 0
      },
      "text/plain": [
       "Canvas(toolbar=Toolbar(toolitems=[('Home', 'Reset original view', 'home', 'home'), ('Back', 'Back to previous …"
      ]
     },
     "metadata": {},
     "output_type": "display_data"
    },
    {
     "data": {
      "text/plain": [
       "<matplotlib.legend.Legend at 0x7fd54bf83090>"
      ]
     },
     "execution_count": 533,
     "metadata": {},
     "output_type": "execute_result"
    }
   ],
   "source": [
    "plt.figure()\n",
    "plt.plot(barr-b02, np.average(dG2_865[:], axis=0), label='all')\n",
    "plt.plot(barr-b02, np.average(dG2_865[:20], axis=0), label='sweeps 0 to 20')\n",
    "plt.plot(barr-b02, np.average(dG2_865[20:40], axis=0), label='sweeps 20 to 40')\n",
    "plt.legend()"
   ]
  },
  {
   "cell_type": "markdown",
   "metadata": {
    "heading_collapsed": "true"
   },
   "source": [
    "### Holes 300 mK"
   ]
  },
  {
   "cell_type": "code",
   "execution_count": 534,
   "metadata": {
    "Collapsed": "false"
   },
   "outputs": [
    {
     "data": {
      "text/plain": [
       "['data/2020-06-11/#039_M30_865_28-29_830_40-41_300mK_WALfieldsw_D0_Vbg-3.50_10nA_10-18-39/',\n",
       " 'data/2020-06-11/#040_M30_865_28-29_830_40-41_300mK_WALfieldsw_D0_Vbg-3.48_10nA_10-29-46/',\n",
       " 'data/2020-06-11/#041_M30_865_28-29_830_40-41_300mK_WALfieldsw_D0_Vbg-3.46_10nA_10-40-51/',\n",
       " 'data/2020-06-11/#042_M30_865_28-29_830_40-41_300mK_WALfieldsw_D0_Vbg-3.44_10nA_10-51-56/',\n",
       " 'data/2020-06-11/#043_M30_865_28-29_830_40-41_300mK_WALfieldsw_D0_Vbg-3.42_10nA_11-03-02/',\n",
       " 'data/2020-06-11/#044_M30_865_28-29_830_40-41_300mK_WALfieldsw_D0_Vbg-3.40_10nA_11-14-08/',\n",
       " 'data/2020-06-11/#045_M30_865_28-29_830_40-41_300mK_WALfieldsw_D0_Vbg-3.38_10nA_11-25-15/',\n",
       " 'data/2020-06-11/#046_M30_865_28-29_830_40-41_300mK_WALfieldsw_D0_Vbg-3.36_10nA_11-36-22/',\n",
       " 'data/2020-06-11/#047_M30_865_28-29_830_40-41_300mK_WALfieldsw_D0_Vbg-3.34_10nA_11-47-30/',\n",
       " 'data/2020-06-11/#048_M30_865_28-29_830_40-41_300mK_WALfieldsw_D0_Vbg-3.32_10nA_11-58-35/',\n",
       " 'data/2020-06-11/#049_M30_865_28-29_830_40-41_300mK_WALfieldsw_D0_Vbg-3.30_10nA_12-09-42/',\n",
       " 'data/2020-06-11/#050_M30_865_28-29_830_40-41_300mK_WALfieldsw_D0_Vbg-3.28_10nA_12-20-47/',\n",
       " 'data/2020-06-11/#051_M30_865_28-29_830_40-41_300mK_WALfieldsw_D0_Vbg-3.26_10nA_12-31-55/',\n",
       " 'data/2020-06-11/#052_M30_865_28-29_830_40-41_300mK_WALfieldsw_D0_Vbg-3.24_10nA_12-43-00/',\n",
       " 'data/2020-06-11/#053_M30_865_28-29_830_40-41_300mK_WALfieldsw_D0_Vbg-3.22_10nA_12-54-07/',\n",
       " 'data/2020-06-11/#054_M30_865_28-29_830_40-41_300mK_WALfieldsw_D0_Vbg-3.20_10nA_13-05-13/',\n",
       " 'data/2020-06-11/#055_M30_865_28-29_830_40-41_300mK_WALfieldsw_D0_Vbg-3.18_10nA_13-16-21/',\n",
       " 'data/2020-06-11/#056_M30_865_28-29_830_40-41_300mK_WALfieldsw_D0_Vbg-3.16_10nA_13-27-27/',\n",
       " 'data/2020-06-11/#057_M30_865_28-29_830_40-41_300mK_WALfieldsw_D0_Vbg-3.14_10nA_13-38-34/',\n",
       " 'data/2020-06-11/#058_M30_865_28-29_830_40-41_300mK_WALfieldsw_D0_Vbg-3.12_10nA_13-49-40/',\n",
       " 'data/2020-06-11/#059_M30_865_28-29_830_40-41_300mK_WALfieldsw_D0_Vbg-3.10_10nA_14-00-46/']"
      ]
     },
     "execution_count": 534,
     "metadata": {},
     "output_type": "execute_result"
    }
   ],
   "source": [
    "zeroDholef300 = sorted(glob.glob('data/2020-06-11/#*/'))[38:59]\n",
    "zeroDholef300"
   ]
  },
  {
   "cell_type": "code",
   "execution_count": 535,
   "metadata": {
    "Collapsed": "false"
   },
   "outputs": [],
   "source": [
    "Vbvals = np.linspace(-3.5, -3.1, 21)\n",
    "nvals2928_300 = nzero2928(Vbvals)\n",
    "nvals4041_300 = nzero4041(Vbvals)"
   ]
  },
  {
   "cell_type": "code",
   "execution_count": 536,
   "metadata": {
    "Collapsed": "false"
   },
   "outputs": [
    {
     "name": "stdout",
     "output_type": "stream",
     "text": [
      "-0.31 is not a value in the array\n",
      "Plotted -0.31 instead\n"
     ]
    }
   ],
   "source": [
    "# raw Resistance data placed into an array\n",
    "walarr300_865 = np.zeros((len(nvals2928_300), len(barr)))\n",
    "for i, f in enumerate(zeroDholef300):\n",
    "    d = qc.load_data(f[:-1])\n",
    "    dlast = np.where(np.isnan(d.triton_field))[0][0]\n",
    "    sweep = np.interp(barr/1000, d.triton_field[:dlast], d.lockin865_X[:dlast]/10e-9)\n",
    "    walarr300_865[i, :] = sweep\n",
    "\n",
    "# form an array of change in conductance from the zero point\n",
    "b02 = -0.31  # the offset of the field zero point\n",
    "pind = npd.val_to_index([b02], barr)[0]\n",
    "dG300_865 = np.zeros(walarr300_865.shape)\n",
    "for i in range(walarr300_865.shape[0]):\n",
    "    dG300_865[i, :] = 1/walarr300_865[i, :]/esqh - 1/walarr300_865[i, pind]/esqh"
   ]
  },
  {
   "cell_type": "code",
   "execution_count": 537,
   "metadata": {
    "Collapsed": "false"
   },
   "outputs": [
    {
     "data": {
      "application/vnd.jupyter.widget-view+json": {
       "model_id": "09fbc7b62aa44cb98dce5c12eaf039fe",
       "version_major": 2,
       "version_minor": 0
      },
      "text/plain": [
       "Canvas(toolbar=Toolbar(toolitems=[('Home', 'Reset original view', 'home', 'home'), ('Back', 'Back to previous …"
      ]
     },
     "metadata": {},
     "output_type": "display_data"
    },
    {
     "data": {
      "text/plain": [
       "<matplotlib.colorbar.Colorbar at 0x7fd54b6c9690>"
      ]
     },
     "execution_count": 537,
     "metadata": {},
     "output_type": "execute_result"
    }
   ],
   "source": [
    "plt.figure()\n",
    "plt.pcolormesh(barr-b02, nvals2928_300, dG300_865, vmin=-1, vmax=0.1)\n",
    "plt.colorbar()"
   ]
  },
  {
   "cell_type": "code",
   "execution_count": 538,
   "metadata": {
    "Collapsed": "false"
   },
   "outputs": [
    {
     "data": {
      "application/vnd.jupyter.widget-view+json": {
       "model_id": "548f0102e4b049f98830d639d7d85861",
       "version_major": 2,
       "version_minor": 0
      },
      "text/plain": [
       "Canvas(toolbar=Toolbar(toolitems=[('Home', 'Reset original view', 'home', 'home'), ('Back', 'Back to previous …"
      ]
     },
     "metadata": {},
     "output_type": "display_data"
    },
    {
     "data": {
      "text/plain": [
       "[<matplotlib.lines.Line2D at 0x7fd54b81e490>]"
      ]
     },
     "execution_count": 538,
     "metadata": {},
     "output_type": "execute_result"
    }
   ],
   "source": [
    "plt.figure()\n",
    "plt.plot(barr-b02, np.average(dG300_865[:], axis=0))"
   ]
  },
  {
   "cell_type": "markdown",
   "metadata": {
    "heading_collapsed": "true"
   },
   "source": [
    "### Holes 600 mK"
   ]
  },
  {
   "cell_type": "code",
   "execution_count": 539,
   "metadata": {
    "Collapsed": "false"
   },
   "outputs": [],
   "source": [
    "zeroDholef600 = sorted(glob.glob('data/2020-06-12/#*/'))[68:89]"
   ]
  },
  {
   "cell_type": "code",
   "execution_count": 540,
   "metadata": {
    "Collapsed": "false"
   },
   "outputs": [],
   "source": [
    "Vbvals = np.linspace(-3.5, -3.1, 21)\n",
    "nvals2928_600 = nzero2928(Vbvals)\n",
    "nvals4041_600 = nzero4041(Vbvals)"
   ]
  },
  {
   "cell_type": "code",
   "execution_count": 541,
   "metadata": {
    "Collapsed": "false"
   },
   "outputs": [
    {
     "name": "stdout",
     "output_type": "stream",
     "text": [
      "-0.31 is not a value in the array\n",
      "Plotted -0.31 instead\n"
     ]
    }
   ],
   "source": [
    "# raw Resistance data placed into an array\n",
    "walarr600_865 = np.zeros((len(nvals2928_600), len(barr)))\n",
    "for i, f in enumerate(zeroDholef600):\n",
    "    d = qc.load_data(f[:-1])\n",
    "    dlast = np.where(np.isnan(d.triton_field))[0][0]\n",
    "    sweep = np.interp(barr/1000, d.triton_field[:dlast], d.lockin865_X[:dlast]/10e-9)\n",
    "    walarr600_865[i, :] = sweep\n",
    "\n",
    "# form an array of change in conductance from the zero point\n",
    "b02 = -0.31  # the offset of the field zero point\n",
    "pind = npd.val_to_index([b02], barr)[0]\n",
    "dG600_865 = np.zeros(walarr600_865.shape)\n",
    "for i in range(walarr300_865.shape[0]):\n",
    "    dG600_865[i, :] = 1/walarr600_865[i, :]/esqh - 1/walarr600_865[i, pind]/esqh"
   ]
  },
  {
   "cell_type": "code",
   "execution_count": 542,
   "metadata": {
    "Collapsed": "false"
   },
   "outputs": [
    {
     "data": {
      "application/vnd.jupyter.widget-view+json": {
       "model_id": "3a280c0b38294069828f8bd5eba55d7a",
       "version_major": 2,
       "version_minor": 0
      },
      "text/plain": [
       "Canvas(toolbar=Toolbar(toolitems=[('Home', 'Reset original view', 'home', 'home'), ('Back', 'Back to previous …"
      ]
     },
     "metadata": {},
     "output_type": "display_data"
    },
    {
     "data": {
      "text/plain": [
       "<matplotlib.colorbar.Colorbar at 0x7fd54bf0f150>"
      ]
     },
     "execution_count": 542,
     "metadata": {},
     "output_type": "execute_result"
    }
   ],
   "source": [
    "plt.figure()\n",
    "plt.pcolormesh(barr-b02, nvals2928_600, dG600_865, vmin=-1, vmax=0.1)\n",
    "plt.colorbar()"
   ]
  },
  {
   "cell_type": "code",
   "execution_count": 543,
   "metadata": {
    "Collapsed": "false"
   },
   "outputs": [
    {
     "data": {
      "application/vnd.jupyter.widget-view+json": {
       "model_id": "c918bed530044e3db4848d280c8afe5a",
       "version_major": 2,
       "version_minor": 0
      },
      "text/plain": [
       "Canvas(toolbar=Toolbar(toolitems=[('Home', 'Reset original view', 'home', 'home'), ('Back', 'Back to previous …"
      ]
     },
     "metadata": {},
     "output_type": "display_data"
    },
    {
     "data": {
      "text/plain": [
       "[<matplotlib.lines.Line2D at 0x7fd54d4cb590>]"
      ]
     },
     "execution_count": 543,
     "metadata": {},
     "output_type": "execute_result"
    }
   ],
   "source": [
    "plt.figure()\n",
    "plt.plot(barr-b02, np.average(dG600_865[:], axis=0))"
   ]
  },
  {
   "cell_type": "markdown",
   "metadata": {
    "heading_collapsed": "true"
   },
   "source": [
    "### Holes 3K"
   ]
  },
  {
   "cell_type": "code",
   "execution_count": 544,
   "metadata": {
    "Collapsed": "false"
   },
   "outputs": [],
   "source": [
    "zeroDholef3k = sorted(glob.glob('data/2020-06-13/#*/'))[85:] + sorted(glob.glob('data/2020-06-14/#*/'))[1:2]"
   ]
  },
  {
   "cell_type": "code",
   "execution_count": 545,
   "metadata": {
    "Collapsed": "false"
   },
   "outputs": [],
   "source": [
    "Vbvals = np.linspace(-3.5, -3.1, 41)\n",
    "nvals2928_3k = nzero2928(Vbvals)\n",
    "nvals4041_3k = nzero4041(Vbvals)"
   ]
  },
  {
   "cell_type": "code",
   "execution_count": 558,
   "metadata": {
    "Collapsed": "false"
   },
   "outputs": [
    {
     "name": "stdout",
     "output_type": "stream",
     "text": [
      "-0.31 is not a value in the array\n",
      "Plotted -0.31 instead\n"
     ]
    }
   ],
   "source": [
    "# raw Resistance data placed into an array\n",
    "walarr3k_865 = np.zeros((len(nvals2928_3k), len(barr)))\n",
    "for i, f in enumerate(zeroDholef3k):\n",
    "    d = qc.load_data(f[:-1])\n",
    "    dlast = np.where(np.isnan(d.triton_field))[0][0]\n",
    "    sweep = np.interp(barr/1000, d.triton_field[:dlast], d.lockin865_X[:dlast]/10e-9)\n",
    "    walarr3k_865[i, :] = sweep\n",
    "\n",
    "# form an array of change in conductance from the zero point\n",
    "b02 = -0.31  # the offset of the field zero point\n",
    "pind = npd.val_to_index([b02], barr)[0]\n",
    "dG3k_865 = np.zeros(walarr3k_865.shape)\n",
    "for i in range(walarr3k_865.shape[0]):\n",
    "    dG3k_865[i, :] = 1/walarr3k_865[i, :]/esqh - 1/walarr3k_865[i, pind]/esqh"
   ]
  },
  {
   "cell_type": "code",
   "execution_count": 559,
   "metadata": {
    "Collapsed": "false"
   },
   "outputs": [
    {
     "data": {
      "application/vnd.jupyter.widget-view+json": {
       "model_id": "8297b1aa5a904700bcd6741df0d4f831",
       "version_major": 2,
       "version_minor": 0
      },
      "text/plain": [
       "Canvas(toolbar=Toolbar(toolitems=[('Home', 'Reset original view', 'home', 'home'), ('Back', 'Back to previous …"
      ]
     },
     "metadata": {},
     "output_type": "display_data"
    }
   ],
   "source": [
    "plt.figure()\n",
    "p = plt.plot(barr-b02, (walarr3k_865 - np.transpose([np.average(walarr3k_865, axis=1),]*walarr3k_865.shape[1])).T, lw=0.5)"
   ]
  },
  {
   "cell_type": "code",
   "execution_count": 560,
   "metadata": {
    "Collapsed": "false"
   },
   "outputs": [
    {
     "data": {
      "application/vnd.jupyter.widget-view+json": {
       "model_id": "b1debde13aea4ef69218fb9e6e1456dc",
       "version_major": 2,
       "version_minor": 0
      },
      "text/plain": [
       "Canvas(toolbar=Toolbar(toolitems=[('Home', 'Reset original view', 'home', 'home'), ('Back', 'Back to previous …"
      ]
     },
     "metadata": {},
     "output_type": "display_data"
    },
    {
     "data": {
      "text/plain": [
       "<matplotlib.colorbar.Colorbar at 0x7fd5ad52ce50>"
      ]
     },
     "execution_count": 560,
     "metadata": {},
     "output_type": "execute_result"
    }
   ],
   "source": [
    "plt.figure()\n",
    "plt.pcolormesh(barr-b02, nvals2928_3k, walarr3k_865 - np.transpose([np.average(walarr3k_865, axis=1),]*walarr3k_865.shape[1]))\n",
    "plt.colorbar()"
   ]
  },
  {
   "cell_type": "code",
   "execution_count": 561,
   "metadata": {
    "Collapsed": "false"
   },
   "outputs": [
    {
     "data": {
      "application/vnd.jupyter.widget-view+json": {
       "model_id": "3ebe86efb1fd471cbbfb6d566acf7117",
       "version_major": 2,
       "version_minor": 0
      },
      "text/plain": [
       "Canvas(toolbar=Toolbar(toolitems=[('Home', 'Reset original view', 'home', 'home'), ('Back', 'Back to previous …"
      ]
     },
     "metadata": {},
     "output_type": "display_data"
    },
    {
     "data": {
      "text/plain": [
       "<matplotlib.colorbar.Colorbar at 0x7fd5b20693d0>"
      ]
     },
     "execution_count": 561,
     "metadata": {},
     "output_type": "execute_result"
    }
   ],
   "source": [
    "plt.figure()\n",
    "plt.pcolormesh(barr-b02, nvals2928_3k, dG3k_865, vmin=-1, vmax=0.1)\n",
    "plt.colorbar()"
   ]
  },
  {
   "cell_type": "code",
   "execution_count": 563,
   "metadata": {
    "Collapsed": "false"
   },
   "outputs": [
    {
     "data": {
      "application/vnd.jupyter.widget-view+json": {
       "model_id": "1e0034fa82844cdd8edeb8f77c21c1cf",
       "version_major": 2,
       "version_minor": 0
      },
      "text/plain": [
       "Canvas(toolbar=Toolbar(toolitems=[('Home', 'Reset original view', 'home', 'home'), ('Back', 'Back to previous …"
      ]
     },
     "metadata": {},
     "output_type": "display_data"
    },
    {
     "data": {
      "text/plain": [
       "[<matplotlib.lines.Line2D at 0x7fd5b5438910>]"
      ]
     },
     "execution_count": 563,
     "metadata": {},
     "output_type": "execute_result"
    }
   ],
   "source": [
    "plt.figure()\n",
    "plt.plot(barr-b02, np.average(dG3k_865[:], axis=0))"
   ]
  },
  {
   "cell_type": "markdown",
   "metadata": {
    "heading_collapsed": "true"
   },
   "source": [
    "### Holes combined"
   ]
  },
  {
   "cell_type": "code",
   "execution_count": 567,
   "metadata": {
    "Collapsed": "false"
   },
   "outputs": [
    {
     "data": {
      "application/vnd.jupyter.widget-view+json": {
       "model_id": "f3c819020c6849228a1a41f252d51851",
       "version_major": 2,
       "version_minor": 0
      },
      "text/plain": [
       "Canvas(toolbar=Toolbar(toolitems=[('Home', 'Reset original view', 'home', 'home'), ('Back', 'Back to previous …"
      ]
     },
     "metadata": {},
     "output_type": "display_data"
    },
    {
     "data": {
      "text/plain": [
       "<matplotlib.legend.Legend at 0x7fd585bed6d0>"
      ]
     },
     "execution_count": 567,
     "metadata": {},
     "output_type": "execute_result"
    }
   ],
   "source": [
    "plt.figure()\n",
    "plt.plot(barr-b02, np.average(dG2_865[10:], axis=0), label='Base T')\n",
    "plt.plot(barr-b02, np.average(dG300_865[10:], axis=0), label='300 mK')\n",
    "plt.plot(barr-b02, np.average(dG600_865[10:], axis=0), label='600 mK')\n",
    "plt.plot(barr-b02, np.average(dG3k_865[10:], axis=0), label='3 K')\n",
    "plt.legend()"
   ]
  },
  {
   "cell_type": "code",
   "execution_count": 570,
   "metadata": {
    "Collapsed": "false"
   },
   "outputs": [
    {
     "data": {
      "application/vnd.jupyter.widget-view+json": {
       "model_id": "c8e3aa8608f84826b5942d4100db4151",
       "version_major": 2,
       "version_minor": 0
      },
      "text/plain": [
       "Canvas(toolbar=Toolbar(toolitems=[('Home', 'Reset original view', 'home', 'home'), ('Back', 'Back to previous …"
      ]
     },
     "metadata": {},
     "output_type": "display_data"
    },
    {
     "data": {
      "text/plain": [
       "<matplotlib.legend.Legend at 0x7fd54c654990>"
      ]
     },
     "execution_count": 570,
     "metadata": {},
     "output_type": "execute_result"
    }
   ],
   "source": [
    "plt.figure()\n",
    "plt.plot(barr-b02, np.average(dG2_865[10:], axis=0) - np.average(dG3k_865[20:], axis=0), label='Base T')\n",
    "plt.plot(barr-b02, np.average(dG300_865[10:], axis=0) - np.average(dG3k_865[20:], axis=0), label='300 mK')\n",
    "plt.plot(barr-b02, np.average(dG600_865[10:], axis=0) - np.average(dG3k_865[20:], axis=0), label='600 mK')\n",
    "plt.legend()"
   ]
  },
  {
   "cell_type": "markdown",
   "metadata": {
    "heading_collapsed": "true"
   },
   "source": [
    "### Fine scan electrons"
   ]
  },
  {
   "cell_type": "code",
   "execution_count": 343,
   "metadata": {
    "Collapsed": "false"
   },
   "outputs": [
    {
     "data": {
      "text/plain": [
       "51"
      ]
     },
     "execution_count": 343,
     "metadata": {},
     "output_type": "execute_result"
    }
   ],
   "source": [
    "zeroDelf = sorted(glob.glob('data/2020-06-07/#*/'))[120:] + sorted(glob.glob('data/2020-06-08/#*/'))[:21]\n",
    "L = len(zeroDelf)\n",
    "L"
   ]
  },
  {
   "cell_type": "code",
   "execution_count": 344,
   "metadata": {
    "Collapsed": "false"
   },
   "outputs": [],
   "source": [
    "Vbvals = np.linspace(-2.9, -2.4, L)\n",
    "nvals2928_3 = nzero2928(Vbvals)\n",
    "nvals4041_3 = nzero4041(Vbvals)"
   ]
  },
  {
   "cell_type": "code",
   "execution_count": 345,
   "metadata": {
    "Collapsed": "false"
   },
   "outputs": [
    {
     "name": "stdout",
     "output_type": "stream",
     "text": [
      "-0.58 is not a value in the array\n",
      "Plotted -0.62 instead\n"
     ]
    }
   ],
   "source": [
    "# raw Resistance data placed into an array\n",
    "walarr3_865 = np.zeros((L, len(barr)))\n",
    "for i, f in enumerate(zeroDelf):\n",
    "    d = qc.load_data(f[:-1])\n",
    "    dlast = np.where(np.isnan(d.triton_field))[0][0]\n",
    "    sweep = np.interp(barr/1000, d.triton_field[:dlast], d.lockin865_X[:dlast]/10e-9)\n",
    "    walarr3_865[i, :] = sweep\n",
    "\n",
    "# form an array of change in conductance from the zero point\n",
    "b03 = -0.58  # the offset of the field zero point\n",
    "pind = npd.val_to_index([b0], barr)[0]\n",
    "dG3_865 = np.zeros(walarr3_865.shape)\n",
    "for i in range(L):\n",
    "    dG3_865[i, :] = 1/walarr3_865[i, :]/esqh - 1/walarr3_865[i, pind] /esqh"
   ]
  },
  {
   "cell_type": "code",
   "execution_count": 346,
   "metadata": {
    "Collapsed": "false"
   },
   "outputs": [
    {
     "data": {
      "application/vnd.jupyter.widget-view+json": {
       "model_id": "bbda22f9e9094e3cb82f984ea8c8870f",
       "version_major": 2,
       "version_minor": 0
      },
      "text/plain": [
       "Canvas(toolbar=Toolbar(toolitems=[('Home', 'Reset original view', 'home', 'home'), ('Back', 'Back to previous …"
      ]
     },
     "metadata": {},
     "output_type": "display_data"
    },
    {
     "data": {
      "text/plain": [
       "<matplotlib.colorbar.Colorbar at 0x7fd5b4498410>"
      ]
     },
     "execution_count": 346,
     "metadata": {},
     "output_type": "execute_result"
    }
   ],
   "source": [
    "plt.figure()\n",
    "plt.pcolormesh(barr-b03, nvals2928_3, dG3_865, vmin=-1, vmax=0.1)\n",
    "plt.colorbar()"
   ]
  },
  {
   "cell_type": "code",
   "execution_count": 347,
   "metadata": {
    "Collapsed": "false"
   },
   "outputs": [
    {
     "data": {
      "application/vnd.jupyter.widget-view+json": {
       "model_id": "d15d10c4ca6042019708c2b1565ae568",
       "version_major": 2,
       "version_minor": 0
      },
      "text/plain": [
       "Canvas(toolbar=Toolbar(toolitems=[('Home', 'Reset original view', 'home', 'home'), ('Back', 'Back to previous …"
      ]
     },
     "metadata": {},
     "output_type": "display_data"
    }
   ],
   "source": [
    "plt.figure()\n",
    "p = plt.plot(barr-b03, dG3_865.T, lw=0.2)"
   ]
  },
  {
   "cell_type": "code",
   "execution_count": 348,
   "metadata": {
    "Collapsed": "false"
   },
   "outputs": [
    {
     "data": {
      "application/vnd.jupyter.widget-view+json": {
       "model_id": "cb97c38795394af0ac556a5f09b1e551",
       "version_major": 2,
       "version_minor": 0
      },
      "text/plain": [
       "Canvas(toolbar=Toolbar(toolitems=[('Home', 'Reset original view', 'home', 'home'), ('Back', 'Back to previous …"
      ]
     },
     "metadata": {},
     "output_type": "display_data"
    },
    {
     "data": {
      "text/plain": [
       "<matplotlib.legend.Legend at 0x7fd59a6b4d50>"
      ]
     },
     "execution_count": 348,
     "metadata": {},
     "output_type": "execute_result"
    }
   ],
   "source": [
    "plt.figure()\n",
    "plt.plot(barr-b03, np.average(dG3_865[:], axis=0), label='all')\n",
    "plt.plot(barr-b03, np.average(dG3_865[:20], axis=0), label='sweeps 0 to 20')\n",
    "plt.plot(barr-b03, np.average(dG3_865[20:40], axis=0), label='sweeps 20 to 40')\n",
    "plt.plot(barr-b03, np.average(dG3_865[30:], axis=0), label='sweeps 30 to 50')\n",
    "plt.legend()"
   ]
  },
  {
   "cell_type": "markdown",
   "metadata": {
    "heading_collapsed": "true"
   },
   "source": [
    "## Red line  (-0.70 V/nm)"
   ]
  },
  {
   "cell_type": "markdown",
   "metadata": {
    "heading_collapsed": "true"
   },
   "source": [
    "### Hole side base T"
   ]
  },
  {
   "cell_type": "code",
   "execution_count": 479,
   "metadata": {
    "Collapsed": "false"
   },
   "outputs": [],
   "source": [
    "def nred2928(Vb):\n",
    "    # the density (in 10^12 cm^-2) for electrodes 29-28, on the red line, given Vb\n",
    "    return nD2928(Vb, -slDrc*Vb - 2.2)[0]\n",
    "\n",
    "def nred4041(Vb):\n",
    "    # the density (in 10^12 cm^-2) for electrodes 29-28, on the the red line, given Vb\n",
    "    return nD4041(Vb, -slDrc*Vb - 2.2)[0]"
   ]
  },
  {
   "cell_type": "code",
   "execution_count": 480,
   "metadata": {
    "Collapsed": "false"
   },
   "outputs": [],
   "source": [
    "redDholef = sorted(glob.glob('data/2020-06-08/#*/'))[21:62]"
   ]
  },
  {
   "cell_type": "code",
   "execution_count": 481,
   "metadata": {
    "Collapsed": "false"
   },
   "outputs": [],
   "source": [
    "Vbvals = np.linspace(1.84, 2.24, 41)\n",
    "nvals2928_hr = nred2928(Vbvals)\n",
    "nvals4041_hr = nred4041(Vbvals)"
   ]
  },
  {
   "cell_type": "code",
   "execution_count": 482,
   "metadata": {
    "Collapsed": "false"
   },
   "outputs": [
    {
     "name": "stdout",
     "output_type": "stream",
     "text": [
      "-0.58 is not a value in the array\n",
      "Plotted -0.62 instead\n"
     ]
    }
   ],
   "source": [
    "# raw Resistance data placed into an array\n",
    "walarrhr_865 = np.zeros((len(nvals2928_hr), len(barr)))\n",
    "for i, f in enumerate(redDholef):\n",
    "    d = qc.load_data(f[:-1])\n",
    "    dlast = np.where(np.isnan(d.triton_field))[0][0]\n",
    "    sweep = np.interp(barr/1000, d.triton_field[:dlast], d.lockin865_X[:dlast]/10e-9)\n",
    "    walarrhr_865[i, :] = sweep\n",
    "\n",
    "# form an array of change in conductance from the zero point\n",
    "b02 = -0.31  # the offset of the field zero point\n",
    "pind = npd.val_to_index([b0], barr)[0]\n",
    "dGhr_865 = np.zeros(walarrhr_865.shape)\n",
    "for i in range(walarrhr_865.shape[0]):\n",
    "    dGhr_865[i, :] = 1/walarrhr_865[i, :]/esqh - 1/walarrhr_865[i, pind]/esqh"
   ]
  },
  {
   "cell_type": "code",
   "execution_count": 483,
   "metadata": {
    "Collapsed": "false"
   },
   "outputs": [
    {
     "data": {
      "application/vnd.jupyter.widget-view+json": {
       "model_id": "174051e21eff4541ba699c669598fbd2",
       "version_major": 2,
       "version_minor": 0
      },
      "text/plain": [
       "Canvas(toolbar=Toolbar(toolitems=[('Home', 'Reset original view', 'home', 'home'), ('Back', 'Back to previous …"
      ]
     },
     "metadata": {},
     "output_type": "display_data"
    },
    {
     "data": {
      "text/plain": [
       "<matplotlib.colorbar.Colorbar at 0x7fd588f5ee50>"
      ]
     },
     "execution_count": 483,
     "metadata": {},
     "output_type": "execute_result"
    }
   ],
   "source": [
    "plt.figure()\n",
    "plt.pcolormesh(barr-b02, nvals2928_hr, dGhr_865, vmin=-1, vmax=0.1)\n",
    "plt.colorbar()"
   ]
  },
  {
   "cell_type": "code",
   "execution_count": 484,
   "metadata": {
    "Collapsed": "false"
   },
   "outputs": [
    {
     "data": {
      "application/vnd.jupyter.widget-view+json": {
       "model_id": "2833fb2767e844809062b8b8e741227f",
       "version_major": 2,
       "version_minor": 0
      },
      "text/plain": [
       "Canvas(toolbar=Toolbar(toolitems=[('Home', 'Reset original view', 'home', 'home'), ('Back', 'Back to previous …"
      ]
     },
     "metadata": {},
     "output_type": "display_data"
    },
    {
     "data": {
      "text/plain": [
       "<matplotlib.legend.Legend at 0x7fd5b1cdc950>"
      ]
     },
     "execution_count": 484,
     "metadata": {},
     "output_type": "execute_result"
    }
   ],
   "source": [
    "plt.figure()\n",
    "plt.plot(barr-b02, np.average(dGhr_865[:], axis=0), label='all')\n",
    "plt.plot(barr-b02, np.average(dGhr_865[:20], axis=0), label='sweeps 0 to 20')\n",
    "plt.plot(barr-b02, np.average(dGhr_865[20:40], axis=0), label='sweeps 20 to 40')\n",
    "plt.legend()"
   ]
  },
  {
   "cell_type": "markdown",
   "metadata": {
    "heading_collapsed": "true"
   },
   "source": [
    "### Holes 300 mK"
   ]
  },
  {
   "cell_type": "code",
   "execution_count": 454,
   "metadata": {
    "Collapsed": "false"
   },
   "outputs": [
    {
     "data": {
      "text/plain": [
       "['data/2020-06-11/#086_M30_865_28-29_830_40-41_300mK_WALfieldsw_redline_Vbg1.84_10nA_19-16-16/',\n",
       " 'data/2020-06-11/#087_M30_865_28-29_830_40-41_300mK_WALfieldsw_redline_Vbg1.86_10nA_19-27-21/',\n",
       " 'data/2020-06-11/#088_M30_865_28-29_830_40-41_300mK_WALfieldsw_redline_Vbg1.88_10nA_19-38-27/',\n",
       " 'data/2020-06-11/#089_M30_865_28-29_830_40-41_300mK_WALfieldsw_redline_Vbg1.90_10nA_19-49-35/',\n",
       " 'data/2020-06-11/#090_M30_865_28-29_830_40-41_300mK_WALfieldsw_redline_Vbg1.92_10nA_20-00-39/',\n",
       " 'data/2020-06-11/#091_M30_865_28-29_830_40-41_300mK_WALfieldsw_redline_Vbg1.94_10nA_20-11-45/',\n",
       " 'data/2020-06-11/#092_M30_865_28-29_830_40-41_300mK_WALfieldsw_redline_Vbg1.96_10nA_20-22-51/',\n",
       " 'data/2020-06-11/#093_M30_865_28-29_830_40-41_300mK_WALfieldsw_redline_Vbg1.98_10nA_20-33-56/',\n",
       " 'data/2020-06-11/#094_M30_865_28-29_830_40-41_300mK_WALfieldsw_redline_Vbg2.00_10nA_20-45-01/',\n",
       " 'data/2020-06-11/#095_M30_865_28-29_830_40-41_300mK_WALfieldsw_redline_Vbg2.02_10nA_20-56-08/',\n",
       " 'data/2020-06-11/#096_M30_865_28-29_830_40-41_300mK_WALfieldsw_redline_Vbg2.04_10nA_21-07-14/',\n",
       " 'data/2020-06-11/#097_M30_865_28-29_830_40-41_300mK_WALfieldsw_redline_Vbg2.06_10nA_21-18-19/',\n",
       " 'data/2020-06-11/#098_M30_865_28-29_830_40-41_300mK_WALfieldsw_redline_Vbg2.08_10nA_21-29-25/',\n",
       " 'data/2020-06-11/#099_M30_865_28-29_830_40-41_300mK_WALfieldsw_redline_Vbg2.10_10nA_21-40-31/',\n",
       " 'data/2020-06-11/#100_M30_865_28-29_830_40-41_300mK_WALfieldsw_redline_Vbg2.12_10nA_21-51-38/',\n",
       " 'data/2020-06-11/#101_M30_865_28-29_830_40-41_300mK_WALfieldsw_redline_Vbg2.14_10nA_22-02-43/',\n",
       " 'data/2020-06-11/#102_M30_865_28-29_830_40-41_300mK_WALfieldsw_redline_Vbg2.16_10nA_22-13-48/',\n",
       " 'data/2020-06-11/#103_M30_865_28-29_830_40-41_300mK_WALfieldsw_redline_Vbg2.18_10nA_22-24-54/',\n",
       " 'data/2020-06-11/#104_M30_865_28-29_830_40-41_300mK_WALfieldsw_redline_Vbg2.20_10nA_22-35-59/',\n",
       " 'data/2020-06-11/#105_M30_865_28-29_830_40-41_300mK_WALfieldsw_redline_Vbg2.22_10nA_22-47-05/',\n",
       " 'data/2020-06-11/#106_M30_865_28-29_830_40-41_300mK_WALfieldsw_redline_Vbg2.24_10nA_22-58-12/']"
      ]
     },
     "execution_count": 454,
     "metadata": {},
     "output_type": "execute_result"
    }
   ],
   "source": [
    "redDholef300 = sorted(glob.glob('data/2020-06-11/#*/'))[85:106]\n",
    "redDholef300"
   ]
  },
  {
   "cell_type": "code",
   "execution_count": 455,
   "metadata": {
    "Collapsed": "false"
   },
   "outputs": [],
   "source": [
    "Vbvals = np.linspace(1.84, 2.24, 21)\n",
    "nvals2928_hr300 = nred2928(Vbvals)\n",
    "nvals4041_hr300 = nred4041(Vbvals)"
   ]
  },
  {
   "cell_type": "code",
   "execution_count": 456,
   "metadata": {
    "Collapsed": "false"
   },
   "outputs": [
    {
     "name": "stdout",
     "output_type": "stream",
     "text": [
      "-0.58 is not a value in the array\n",
      "Plotted -0.62 instead\n"
     ]
    }
   ],
   "source": [
    "# raw Resistance data placed into an array\n",
    "walarrhr300_865 = np.zeros((len(nvals2928_hr300), len(barr)))\n",
    "for i, f in enumerate(redDholef300):\n",
    "    d = qc.load_data(f[:-1])\n",
    "    dlast = np.where(np.isnan(d.triton_field))[0][0]\n",
    "    sweep = np.interp(barr/1000, d.triton_field[:dlast], d.lockin865_X[:dlast]/10e-9)\n",
    "    walarrhr300_865[i, :] = sweep\n",
    "\n",
    "# form an array of change in conductance from the zero point\n",
    "b02 = -0.31  # the offset of the field zero point\n",
    "pind = npd.val_to_index([b0], barr)[0]\n",
    "dGhr300_865 = np.zeros(walarrhr300_865.shape)\n",
    "for i in range(walarrhr300_865.shape[0]):\n",
    "    dGhr300_865[i, :] = 1/walarrhr300_865[i, :]/esqh - 1/walarrhr300_865[i, pind]/esqh"
   ]
  },
  {
   "cell_type": "code",
   "execution_count": 457,
   "metadata": {
    "Collapsed": "false"
   },
   "outputs": [
    {
     "data": {
      "application/vnd.jupyter.widget-view+json": {
       "model_id": "be8befc34fc74e82a8496e196bb56682",
       "version_major": 2,
       "version_minor": 0
      },
      "text/plain": [
       "Canvas(toolbar=Toolbar(toolitems=[('Home', 'Reset original view', 'home', 'home'), ('Back', 'Back to previous …"
      ]
     },
     "metadata": {},
     "output_type": "display_data"
    },
    {
     "data": {
      "text/plain": [
       "<matplotlib.colorbar.Colorbar at 0x7fd56a89ce90>"
      ]
     },
     "execution_count": 457,
     "metadata": {},
     "output_type": "execute_result"
    }
   ],
   "source": [
    "plt.figure()\n",
    "plt.pcolormesh(barr-b02, nvals2928_hr300, dGhr300_865, vmin=-1, vmax=0.1)\n",
    "plt.colorbar()"
   ]
  },
  {
   "cell_type": "code",
   "execution_count": 458,
   "metadata": {
    "Collapsed": "false"
   },
   "outputs": [
    {
     "data": {
      "application/vnd.jupyter.widget-view+json": {
       "model_id": "4d91080618b74d7f8a62e097d0346b02",
       "version_major": 2,
       "version_minor": 0
      },
      "text/plain": [
       "Canvas(toolbar=Toolbar(toolitems=[('Home', 'Reset original view', 'home', 'home'), ('Back', 'Back to previous …"
      ]
     },
     "metadata": {},
     "output_type": "display_data"
    },
    {
     "data": {
      "text/plain": [
       "[<matplotlib.lines.Line2D at 0x7fd5bf5a3590>]"
      ]
     },
     "execution_count": 458,
     "metadata": {},
     "output_type": "execute_result"
    }
   ],
   "source": [
    "plt.figure()\n",
    "plt.plot(barr-b02, np.average(dGhr300_865[:], axis=0))"
   ]
  },
  {
   "cell_type": "markdown",
   "metadata": {
    "heading_collapsed": "true"
   },
   "source": [
    "### Holes 600 mK"
   ]
  },
  {
   "cell_type": "code",
   "execution_count": null,
   "metadata": {
    "Collapsed": "false"
   },
   "outputs": [],
   "source": []
  },
  {
   "cell_type": "code",
   "execution_count": 462,
   "metadata": {
    "Collapsed": "false"
   },
   "outputs": [],
   "source": [
    "redDholef600 = sorted(glob.glob('data/2020-06-12/#*/'))[115:] + sorted(glob.glob('data/2020-06-13/#*/'))[:12]"
   ]
  },
  {
   "cell_type": "code",
   "execution_count": 463,
   "metadata": {
    "Collapsed": "false"
   },
   "outputs": [],
   "source": [
    "Vbvals = np.linspace(1.84, 2.24, 21)\n",
    "nvals2928_hr600 = nred2928(Vbvals)\n",
    "nvals4041_hr600 = nred4041(Vbvals)"
   ]
  },
  {
   "cell_type": "code",
   "execution_count": 467,
   "metadata": {
    "Collapsed": "false"
   },
   "outputs": [
    {
     "name": "stdout",
     "output_type": "stream",
     "text": [
      "-0.58 is not a value in the array\n",
      "Plotted -0.62 instead\n"
     ]
    }
   ],
   "source": [
    "# raw Resistance data placed into an array\n",
    "walarrhr600_865 = np.zeros((len(nvals2928_hr600), len(barr)))\n",
    "for i, f in enumerate(redDholef600):\n",
    "    d = qc.load_data(f[:-1])\n",
    "    dlast = np.where(np.isnan(d.triton_field))[0][0]\n",
    "    sweep = np.interp(barr/1000, d.triton_field[:dlast], d.lockin865_X[:dlast]/10e-9)\n",
    "    walarrhr600_865[i, :] = sweep\n",
    "\n",
    "# form an array of change in conductance from the zero point\n",
    "b02 = -0.31  # the offset of the field zero point\n",
    "pind = npd.val_to_index([b0], barr)[0]\n",
    "dGhr600_865 = np.zeros(walarrhr600_865.shape)\n",
    "for i in range(walarrhr600_865.shape[0]):\n",
    "    dGhr600_865[i, :] = 1/walarrhr600_865[i, :]/esqh - 1/walarrhr600_865[i, pind]/esqh"
   ]
  },
  {
   "cell_type": "code",
   "execution_count": 468,
   "metadata": {
    "Collapsed": "false"
   },
   "outputs": [
    {
     "data": {
      "application/vnd.jupyter.widget-view+json": {
       "model_id": "062308e5fea244359167574c12dc3266",
       "version_major": 2,
       "version_minor": 0
      },
      "text/plain": [
       "Canvas(toolbar=Toolbar(toolitems=[('Home', 'Reset original view', 'home', 'home'), ('Back', 'Back to previous …"
      ]
     },
     "metadata": {},
     "output_type": "display_data"
    },
    {
     "data": {
      "text/plain": [
       "<matplotlib.colorbar.Colorbar at 0x7fd5bdf2b310>"
      ]
     },
     "execution_count": 468,
     "metadata": {},
     "output_type": "execute_result"
    }
   ],
   "source": [
    "plt.figure()\n",
    "plt.pcolormesh(barr-b02, nvals2928_hr600, dGhr600_865, vmin=-1, vmax=0.1)\n",
    "plt.colorbar()"
   ]
  },
  {
   "cell_type": "code",
   "execution_count": 469,
   "metadata": {
    "Collapsed": "false"
   },
   "outputs": [
    {
     "data": {
      "application/vnd.jupyter.widget-view+json": {
       "model_id": "cb48dd3d47df404ea9f8c1284413ca2e",
       "version_major": 2,
       "version_minor": 0
      },
      "text/plain": [
       "Canvas(toolbar=Toolbar(toolitems=[('Home', 'Reset original view', 'home', 'home'), ('Back', 'Back to previous …"
      ]
     },
     "metadata": {},
     "output_type": "display_data"
    },
    {
     "data": {
      "text/plain": [
       "[<matplotlib.lines.Line2D at 0x7fd5b4789310>]"
      ]
     },
     "execution_count": 469,
     "metadata": {},
     "output_type": "execute_result"
    }
   ],
   "source": [
    "plt.figure()\n",
    "plt.plot(barr-b02, np.average(dGhr600_865[:], axis=0))"
   ]
  },
  {
   "cell_type": "markdown",
   "metadata": {
    "heading_collapsed": "true"
   },
   "source": [
    "### Holes 3K"
   ]
  },
  {
   "cell_type": "code",
   "execution_count": null,
   "metadata": {
    "Collapsed": "false"
   },
   "outputs": [],
   "source": []
  },
  {
   "cell_type": "code",
   "execution_count": 472,
   "metadata": {
    "Collapsed": "false"
   },
   "outputs": [],
   "source": [
    "redDholef3k = sorted(glob.glob('data/2020-06-14/#*/'))[53:94]"
   ]
  },
  {
   "cell_type": "code",
   "execution_count": 474,
   "metadata": {
    "Collapsed": "false"
   },
   "outputs": [],
   "source": [
    "Vbvals = np.linspace(1.84, 2.24, 41)\n",
    "nvals2928_hr3k = nred2928(Vbvals)\n",
    "nvals4041_hr3k = nred4041(Vbvals)"
   ]
  },
  {
   "cell_type": "code",
   "execution_count": 475,
   "metadata": {
    "Collapsed": "false"
   },
   "outputs": [
    {
     "name": "stdout",
     "output_type": "stream",
     "text": [
      "-0.58 is not a value in the array\n",
      "Plotted -0.62 instead\n"
     ]
    }
   ],
   "source": [
    "# raw Resistance data placed into an array\n",
    "walarrhr3k_865 = np.zeros((len(nvals2928_hr3k), len(barr)))\n",
    "for i, f in enumerate(redDholef3k):\n",
    "    d = qc.load_data(f[:-1])\n",
    "    dlast = np.where(np.isnan(d.triton_field))[0][0]\n",
    "    sweep = np.interp(barr/1000, d.triton_field[:dlast], d.lockin865_X[:dlast]/10e-9)\n",
    "    walarrhr3k_865[i, :] = sweep\n",
    "\n",
    "# form an array of change in conductance from the zero point\n",
    "b02 = -0.31  # the offset of the field zero point\n",
    "pind = npd.val_to_index([b0], barr)[0]\n",
    "dGhr3k_865 = np.zeros(walarrhr3k_865.shape)\n",
    "for i in range(walarrhr3k_865.shape[0]):\n",
    "    dGhr3k_865[i, :] = 1/walarrhr3k_865[i, :]/esqh - 1/walarrhr3k_865[i, pind]/esqh"
   ]
  },
  {
   "cell_type": "code",
   "execution_count": 476,
   "metadata": {
    "Collapsed": "false"
   },
   "outputs": [
    {
     "data": {
      "application/vnd.jupyter.widget-view+json": {
       "model_id": "eaf8e2bf20734fa499e435ceeb4ce2b4",
       "version_major": 2,
       "version_minor": 0
      },
      "text/plain": [
       "Canvas(toolbar=Toolbar(toolitems=[('Home', 'Reset original view', 'home', 'home'), ('Back', 'Back to previous …"
      ]
     },
     "metadata": {},
     "output_type": "display_data"
    },
    {
     "data": {
      "text/plain": [
       "<matplotlib.colorbar.Colorbar at 0x7fd587774990>"
      ]
     },
     "execution_count": 476,
     "metadata": {},
     "output_type": "execute_result"
    }
   ],
   "source": [
    "plt.figure()\n",
    "plt.pcolormesh(barr-b02, nvals2928_hr3k, dGhr3k_865, vmin=-1, vmax=0.1)\n",
    "plt.colorbar()"
   ]
  },
  {
   "cell_type": "code",
   "execution_count": 477,
   "metadata": {
    "Collapsed": "false"
   },
   "outputs": [
    {
     "data": {
      "application/vnd.jupyter.widget-view+json": {
       "model_id": "d8a95b61a4a34364856d45cdd827bbd0",
       "version_major": 2,
       "version_minor": 0
      },
      "text/plain": [
       "Canvas(toolbar=Toolbar(toolitems=[('Home', 'Reset original view', 'home', 'home'), ('Back', 'Back to previous …"
      ]
     },
     "metadata": {},
     "output_type": "display_data"
    },
    {
     "data": {
      "text/plain": [
       "[<matplotlib.lines.Line2D at 0x7fd5861048d0>]"
      ]
     },
     "execution_count": 477,
     "metadata": {},
     "output_type": "execute_result"
    }
   ],
   "source": [
    "plt.figure()\n",
    "plt.plot(barr-b02, np.average(dGhr3k_865[:], axis=0))"
   ]
  },
  {
   "cell_type": "markdown",
   "metadata": {
    "heading_collapsed": "true"
   },
   "source": [
    "### Holes Temps combined "
   ]
  },
  {
   "cell_type": "code",
   "execution_count": 485,
   "metadata": {
    "Collapsed": "false"
   },
   "outputs": [
    {
     "data": {
      "application/vnd.jupyter.widget-view+json": {
       "model_id": "f16f690ba9c44157aca35336fa03b117",
       "version_major": 2,
       "version_minor": 0
      },
      "text/plain": [
       "Canvas(toolbar=Toolbar(toolitems=[('Home', 'Reset original view', 'home', 'home'), ('Back', 'Back to previous …"
      ]
     },
     "metadata": {},
     "output_type": "display_data"
    },
    {
     "data": {
      "text/plain": [
       "<matplotlib.legend.Legend at 0x7fd56a6ca890>"
      ]
     },
     "execution_count": 485,
     "metadata": {},
     "output_type": "execute_result"
    }
   ],
   "source": [
    "plt.figure()\n",
    "plt.plot(barr-b02, np.average(dGhr_865[:], axis=0), label='Base T')\n",
    "plt.plot(barr-b02, np.average(dGhr300_865[:], axis=0), label='300 mK')\n",
    "plt.plot(barr-b02, np.average(dGhr600_865[:], axis=0), label='600 mK')\n",
    "plt.plot(barr-b02, np.average(dGhr3k_865[:], axis=0), label='3 K')\n",
    "plt.legend()"
   ]
  },
  {
   "cell_type": "code",
   "execution_count": 489,
   "metadata": {
    "Collapsed": "false"
   },
   "outputs": [
    {
     "data": {
      "application/vnd.jupyter.widget-view+json": {
       "model_id": "8f383af602374c1aa38050fe4a87d2d6",
       "version_major": 2,
       "version_minor": 0
      },
      "text/plain": [
       "Canvas(toolbar=Toolbar(toolitems=[('Home', 'Reset original view', 'home', 'home'), ('Back', 'Back to previous …"
      ]
     },
     "metadata": {},
     "output_type": "display_data"
    },
    {
     "data": {
      "text/plain": [
       "<matplotlib.legend.Legend at 0x7fd56b48d5d0>"
      ]
     },
     "execution_count": 489,
     "metadata": {},
     "output_type": "execute_result"
    }
   ],
   "source": [
    "# subtract the 3K data\n",
    "plt.figure()\n",
    "plt.plot(barr-b02, np.average(dGhr_865[:], axis=0) - np.average(dGhr3k_865[:], axis=0), label='Base T')\n",
    "plt.plot(barr-b02, np.average(dGhr300_865[:], axis=0) - np.average(dGhr3k_865[:], axis=0), label='300 mK')\n",
    "plt.plot(barr-b02, np.average(dGhr600_865[:], axis=0) - np.average(dGhr3k_865[:], axis=0), label='600 mK')\n",
    "# plt.plot(barr-b02, np.average(dGhr3k_865[:], axis=0), label='3 K')\n",
    "plt.legend()"
   ]
  },
  {
   "cell_type": "markdown",
   "metadata": {
    "heading_collapsed": "true"
   },
   "source": [
    "### Electron side"
   ]
  },
  {
   "cell_type": "code",
   "execution_count": 375,
   "metadata": {
    "Collapsed": "false"
   },
   "outputs": [],
   "source": [
    "redDelf = sorted(glob.glob('data/2020-06-08/#*/'))[62:113]"
   ]
  },
  {
   "cell_type": "code",
   "execution_count": 371,
   "metadata": {
    "Collapsed": "false"
   },
   "outputs": [],
   "source": [
    "Vbvals = np.linspace(2.44, 2.94, 51)\n",
    "nvals2928_er = nred2928(Vbvals)\n",
    "nvals4041_er = nred4041(Vbvals)"
   ]
  },
  {
   "cell_type": "code",
   "execution_count": 372,
   "metadata": {
    "Collapsed": "false"
   },
   "outputs": [
    {
     "name": "stdout",
     "output_type": "stream",
     "text": [
      "-0.58 is not a value in the array\n",
      "Plotted -0.62 instead\n"
     ]
    }
   ],
   "source": [
    "# raw Resistance data placed into an array\n",
    "walarrer_865 = np.zeros((len(nvals2928_er), len(barr)))\n",
    "for i, f in enumerate(redDelf):\n",
    "    d = qc.load_data(f[:-1])\n",
    "    dlast = np.where(np.isnan(d.triton_field))[0][0]\n",
    "    sweep = np.interp(barr/1000, d.triton_field[:dlast], d.lockin865_X[:dlast]/10e-9)\n",
    "    walarrer_865[i, :] = sweep\n",
    "\n",
    "# form an array of change in conductance from the zero point\n",
    "b02 = -0.31  # the offset of the field zero point\n",
    "pind = npd.val_to_index([b0], barr)[0]\n",
    "dGer_865 = np.zeros(walarrer_865.shape)\n",
    "for i in range(walarrer_865.shape[0]):\n",
    "    dGer_865[i, :] = 1/walarrer_865[i, :]/esqh - 1/walarrer_865[i, pind]/esqh"
   ]
  },
  {
   "cell_type": "code",
   "execution_count": 373,
   "metadata": {
    "Collapsed": "false"
   },
   "outputs": [
    {
     "data": {
      "application/vnd.jupyter.widget-view+json": {
       "model_id": "f5343f80dccf446bbba1529da2ccfc88",
       "version_major": 2,
       "version_minor": 0
      },
      "text/plain": [
       "Canvas(toolbar=Toolbar(toolitems=[('Home', 'Reset original view', 'home', 'home'), ('Back', 'Back to previous …"
      ]
     },
     "metadata": {},
     "output_type": "display_data"
    },
    {
     "data": {
      "text/plain": [
       "<matplotlib.colorbar.Colorbar at 0x7fd588f2b390>"
      ]
     },
     "execution_count": 373,
     "metadata": {},
     "output_type": "execute_result"
    }
   ],
   "source": [
    "plt.figure()\n",
    "plt.pcolormesh(barr-b02, nvals2928_er, dGer_865, vmin=-1, vmax=0.1)\n",
    "plt.colorbar()"
   ]
  },
  {
   "cell_type": "code",
   "execution_count": 374,
   "metadata": {
    "Collapsed": "false"
   },
   "outputs": [
    {
     "data": {
      "application/vnd.jupyter.widget-view+json": {
       "model_id": "b364bf66bcfa45189eb2f15e9a2168fc",
       "version_major": 2,
       "version_minor": 0
      },
      "text/plain": [
       "Canvas(toolbar=Toolbar(toolitems=[('Home', 'Reset original view', 'home', 'home'), ('Back', 'Back to previous …"
      ]
     },
     "metadata": {},
     "output_type": "display_data"
    },
    {
     "data": {
      "text/plain": [
       "<matplotlib.legend.Legend at 0x7fd580bf1850>"
      ]
     },
     "execution_count": 374,
     "metadata": {},
     "output_type": "execute_result"
    }
   ],
   "source": [
    "plt.figure()\n",
    "plt.plot(barr-b02, np.average(dGer_865[:], axis=0), label='all')\n",
    "plt.plot(barr-b02, np.average(dGer_865[:20], axis=0), label='sweeps 0 to 20')\n",
    "plt.plot(barr-b02, np.average(dGer_865[20:40], axis=0), label='sweeps 20 to 40')\n",
    "plt.legend()"
   ]
  },
  {
   "cell_type": "markdown",
   "metadata": {
    "heading_collapsed": "true"
   },
   "source": [
    "## Orange line (0.925 V/nm)"
   ]
  },
  {
   "cell_type": "code",
   "execution_count": 376,
   "metadata": {
    "Collapsed": "false"
   },
   "outputs": [],
   "source": [
    "def norange2928(Vb):\n",
    "    # the density (in 10^12 cm^-2) for electrodes 29-28, on the orange line, given Vb\n",
    "    return nD2928(Vb, -slDrc*Vb + 2.9)[0]\n",
    "\n",
    "def norange4041(Vb):\n",
    "    # the density (in 10^12 cm^-2) for electrodes 29-28, on the the orange line, given Vb\n",
    "    return nD4041(Vb, -slDrc*Vb + 2.9)[0]"
   ]
  },
  {
   "cell_type": "markdown",
   "metadata": {
    "heading_collapsed": "true"
   },
   "source": [
    "### Hole side base T"
   ]
  },
  {
   "cell_type": "code",
   "execution_count": 580,
   "metadata": {
    "Collapsed": "false"
   },
   "outputs": [],
   "source": [
    "orangeDholef = sorted(glob.glob('data/2020-06-08/#*/'))[113:] + sorted(glob.glob('data/2020-06-09/#*/'))[:25]"
   ]
  },
  {
   "cell_type": "code",
   "execution_count": 581,
   "metadata": {
    "Collapsed": "false"
   },
   "outputs": [],
   "source": [
    "Vbvals = np.linspace(-10.55, -10.15, 41)\n",
    "nvals2928_ho = norange2928(Vbvals)\n",
    "nvals4041_ho = norange4041(Vbvals)"
   ]
  },
  {
   "cell_type": "code",
   "execution_count": 582,
   "metadata": {
    "Collapsed": "false"
   },
   "outputs": [
    {
     "name": "stdout",
     "output_type": "stream",
     "text": [
      "-0.31 is not a value in the array\n",
      "Plotted -0.31 instead\n"
     ]
    }
   ],
   "source": [
    "# raw Resistance data placed into an array\n",
    "walarrho_865 = np.zeros((len(nvals2928_ho), len(barr)))\n",
    "for i, f in enumerate(orangeDholef):\n",
    "    d = qc.load_data(f[:-1])\n",
    "    dlast = np.where(np.isnan(d.triton_field))[0][0]\n",
    "    sweep = np.interp(barr/1000, d.triton_field[:dlast], d.lockin865_X[:dlast]/10e-9)\n",
    "    walarrho_865[i, :] = sweep\n",
    "\n",
    "# form an array of change in conductance from the zero point\n",
    "b02 = -0.31  # the offset of the field zero point\n",
    "pind = npd.val_to_index([b02], barr)[0]\n",
    "dGho_865 = np.zeros(walarrho_865.shape)\n",
    "for i in range(walarrho_865.shape[0]):\n",
    "    dGho_865[i, :] = 1/walarrho_865[i, :]/esqh - 1/walarrho_865[i, pind]/esqh"
   ]
  },
  {
   "cell_type": "code",
   "execution_count": 583,
   "metadata": {
    "Collapsed": "false"
   },
   "outputs": [
    {
     "data": {
      "application/vnd.jupyter.widget-view+json": {
       "model_id": "db291346787f4d3f9a7e8e7d93c68f75",
       "version_major": 2,
       "version_minor": 0
      },
      "text/plain": [
       "Canvas(toolbar=Toolbar(toolitems=[('Home', 'Reset original view', 'home', 'home'), ('Back', 'Back to previous …"
      ]
     },
     "metadata": {},
     "output_type": "display_data"
    },
    {
     "data": {
      "text/plain": [
       "<matplotlib.colorbar.Colorbar at 0x7fd5b5056710>"
      ]
     },
     "execution_count": 583,
     "metadata": {},
     "output_type": "execute_result"
    }
   ],
   "source": [
    "plt.figure()\n",
    "plt.pcolormesh(barr-b02, nvals2928_ho, dGho_865, vmin=-1, vmax=0.1)\n",
    "plt.colorbar()"
   ]
  },
  {
   "cell_type": "code",
   "execution_count": 584,
   "metadata": {
    "Collapsed": "false"
   },
   "outputs": [
    {
     "data": {
      "application/vnd.jupyter.widget-view+json": {
       "model_id": "42d6407559fa4bd1bacf6d62d5267022",
       "version_major": 2,
       "version_minor": 0
      },
      "text/plain": [
       "Canvas(toolbar=Toolbar(toolitems=[('Home', 'Reset original view', 'home', 'home'), ('Back', 'Back to previous …"
      ]
     },
     "metadata": {},
     "output_type": "display_data"
    },
    {
     "data": {
      "text/plain": [
       "<matplotlib.legend.Legend at 0x7fd5b46abf90>"
      ]
     },
     "execution_count": 584,
     "metadata": {},
     "output_type": "execute_result"
    }
   ],
   "source": [
    "plt.figure()\n",
    "plt.plot(barr-b02, np.average(dGho_865[:], axis=0), label='all')\n",
    "plt.plot(barr-b02, np.average(dGho_865[:20], axis=0), label='sweeps 0 to 20')\n",
    "plt.plot(barr-b02, np.average(dGho_865[20:40], axis=0), label='sweeps 20 to 40')\n",
    "plt.legend()"
   ]
  },
  {
   "cell_type": "markdown",
   "metadata": {
    "heading_collapsed": "true"
   },
   "source": [
    "### Holes side 300 mK"
   ]
  },
  {
   "cell_type": "code",
   "execution_count": 585,
   "metadata": {
    "Collapsed": "false"
   },
   "outputs": [],
   "source": [
    "orangeDholef300 = sorted(glob.glob('data/2020-06-12/#*/'))[21:42]"
   ]
  },
  {
   "cell_type": "code",
   "execution_count": 587,
   "metadata": {
    "Collapsed": "false"
   },
   "outputs": [],
   "source": [
    "Vbvals = np.linspace(-10.55, -10.15, 21)\n",
    "nvals2928_ho300 = norange2928(Vbvals)\n",
    "nvals4041_ho300 = norange4041(Vbvals)"
   ]
  },
  {
   "cell_type": "code",
   "execution_count": 588,
   "metadata": {
    "Collapsed": "false"
   },
   "outputs": [
    {
     "name": "stdout",
     "output_type": "stream",
     "text": [
      "-0.31 is not a value in the array\n",
      "Plotted -0.31 instead\n"
     ]
    }
   ],
   "source": [
    "# raw Resistance data placed into an array\n",
    "walarrho300_865 = np.zeros((len(nvals2928_ho300), len(barr)))\n",
    "for i, f in enumerate(orangeDholef300):\n",
    "    d = qc.load_data(f[:-1])\n",
    "    dlast = np.where(np.isnan(d.triton_field))[0][0]\n",
    "    sweep = np.interp(barr/1000, d.triton_field[:dlast], d.lockin865_X[:dlast]/10e-9)\n",
    "    walarrho300_865[i, :] = sweep\n",
    "\n",
    "# form an array of change in conductance from the zero point\n",
    "b02 = -0.31  # the offset of the field zero point\n",
    "pind = npd.val_to_index([b02], barr)[0]\n",
    "dGho300_865 = np.zeros(walarrho300_865.shape)\n",
    "for i in range(walarrho300_865.shape[0]):\n",
    "    dGho300_865[i, :] = 1/walarrho300_865[i, :]/esqh - 1/walarrho300_865[i, pind]/esqh"
   ]
  },
  {
   "cell_type": "code",
   "execution_count": 589,
   "metadata": {
    "Collapsed": "false"
   },
   "outputs": [
    {
     "data": {
      "application/vnd.jupyter.widget-view+json": {
       "model_id": "5888a6776cbd4ddb969bf3cd9197ba96",
       "version_major": 2,
       "version_minor": 0
      },
      "text/plain": [
       "Canvas(toolbar=Toolbar(toolitems=[('Home', 'Reset original view', 'home', 'home'), ('Back', 'Back to previous …"
      ]
     },
     "metadata": {},
     "output_type": "display_data"
    },
    {
     "data": {
      "text/plain": [
       "<matplotlib.colorbar.Colorbar at 0x7fd5c079e390>"
      ]
     },
     "execution_count": 589,
     "metadata": {},
     "output_type": "execute_result"
    }
   ],
   "source": [
    "plt.figure()\n",
    "plt.pcolormesh(barr-b02, nvals2928_ho300, dGho300_865, vmin=-1, vmax=0.1)\n",
    "plt.colorbar()"
   ]
  },
  {
   "cell_type": "code",
   "execution_count": 590,
   "metadata": {
    "Collapsed": "false"
   },
   "outputs": [
    {
     "data": {
      "application/vnd.jupyter.widget-view+json": {
       "model_id": "c384267d6add46238d7975fa4e0f1c4a",
       "version_major": 2,
       "version_minor": 0
      },
      "text/plain": [
       "Canvas(toolbar=Toolbar(toolitems=[('Home', 'Reset original view', 'home', 'home'), ('Back', 'Back to previous …"
      ]
     },
     "metadata": {},
     "output_type": "display_data"
    },
    {
     "data": {
      "text/plain": [
       "[<matplotlib.lines.Line2D at 0x7fd5c1d99410>]"
      ]
     },
     "execution_count": 590,
     "metadata": {},
     "output_type": "execute_result"
    }
   ],
   "source": [
    "plt.figure()\n",
    "plt.plot(barr-b02, np.average(dGho300_865[:], axis=0), label='all')"
   ]
  },
  {
   "cell_type": "markdown",
   "metadata": {
    "heading_collapsed": "true"
   },
   "source": [
    "### Hole side 600 mK"
   ]
  },
  {
   "cell_type": "code",
   "execution_count": 594,
   "metadata": {
    "Collapsed": "false"
   },
   "outputs": [],
   "source": [
    "orangeDholef600 = sorted(glob.glob('data/2020-06-13/#*/'))[38:59]"
   ]
  },
  {
   "cell_type": "code",
   "execution_count": 595,
   "metadata": {
    "Collapsed": "false"
   },
   "outputs": [],
   "source": [
    "Vbvals = np.linspace(-10.55, -10.15, 21)\n",
    "nvals2928_ho600 = norange2928(Vbvals)\n",
    "nvals4041_ho600 = norange4041(Vbvals)"
   ]
  },
  {
   "cell_type": "code",
   "execution_count": 596,
   "metadata": {
    "Collapsed": "false"
   },
   "outputs": [
    {
     "name": "stdout",
     "output_type": "stream",
     "text": [
      "-0.31 is not a value in the array\n",
      "Plotted -0.31 instead\n"
     ]
    }
   ],
   "source": [
    "# raw Resistance data placed into an array\n",
    "walarrho600_865 = np.zeros((len(nvals2928_ho600), len(barr)))\n",
    "for i, f in enumerate(orangeDholef600):\n",
    "    d = qc.load_data(f[:-1])\n",
    "    dlast = np.where(np.isnan(d.triton_field))[0][0]\n",
    "    sweep = np.interp(barr/1000, d.triton_field[:dlast], d.lockin865_X[:dlast]/10e-9)\n",
    "    walarrho600_865[i, :] = sweep\n",
    "\n",
    "# form an array of change in conductance from the zero point\n",
    "b02 = -0.31  # the offset of the field zero point\n",
    "pind = npd.val_to_index([b02], barr)[0]\n",
    "dGho600_865 = np.zeros(walarrho600_865.shape)\n",
    "for i in range(walarrho600_865.shape[0]):\n",
    "    dGho600_865[i, :] = 1/walarrho600_865[i, :]/esqh - 1/walarrho600_865[i, pind]/esqh"
   ]
  },
  {
   "cell_type": "code",
   "execution_count": 597,
   "metadata": {
    "Collapsed": "false"
   },
   "outputs": [
    {
     "data": {
      "application/vnd.jupyter.widget-view+json": {
       "model_id": "a96d071d0fd9424f8519aea61ecfb8d9",
       "version_major": 2,
       "version_minor": 0
      },
      "text/plain": [
       "Canvas(toolbar=Toolbar(toolitems=[('Home', 'Reset original view', 'home', 'home'), ('Back', 'Back to previous …"
      ]
     },
     "metadata": {},
     "output_type": "display_data"
    },
    {
     "data": {
      "text/plain": [
       "<matplotlib.colorbar.Colorbar at 0x7fd54c76bb50>"
      ]
     },
     "execution_count": 597,
     "metadata": {},
     "output_type": "execute_result"
    }
   ],
   "source": [
    "plt.figure()\n",
    "plt.pcolormesh(barr-b02, nvals2928_ho600, dGho600_865, vmin=-1, vmax=0.1)\n",
    "plt.colorbar()"
   ]
  },
  {
   "cell_type": "code",
   "execution_count": 598,
   "metadata": {
    "Collapsed": "false"
   },
   "outputs": [
    {
     "data": {
      "application/vnd.jupyter.widget-view+json": {
       "model_id": "c053303eb2414e36a4d77306c4d57215",
       "version_major": 2,
       "version_minor": 0
      },
      "text/plain": [
       "Canvas(toolbar=Toolbar(toolitems=[('Home', 'Reset original view', 'home', 'home'), ('Back', 'Back to previous …"
      ]
     },
     "metadata": {},
     "output_type": "display_data"
    },
    {
     "data": {
      "text/plain": [
       "[<matplotlib.lines.Line2D at 0x7fd5b44a7510>]"
      ]
     },
     "execution_count": 598,
     "metadata": {},
     "output_type": "execute_result"
    }
   ],
   "source": [
    "plt.figure()\n",
    "plt.plot(barr-b02, np.average(dGho600_865[:], axis=0), label='all')"
   ]
  },
  {
   "cell_type": "markdown",
   "metadata": {
    "heading_collapsed": "true"
   },
   "source": [
    "### Holes 3K"
   ]
  },
  {
   "cell_type": "code",
   "execution_count": 600,
   "metadata": {
    "Collapsed": "false"
   },
   "outputs": [],
   "source": [
    "orangeDholef3k = sorted(glob.glob('data/2020-06-15/#*/'))[20:61]"
   ]
  },
  {
   "cell_type": "code",
   "execution_count": 601,
   "metadata": {
    "Collapsed": "false"
   },
   "outputs": [],
   "source": [
    "Vbvals = np.linspace(-10.55, -10.15, 41)\n",
    "nvals2928_ho3k = norange2928(Vbvals)\n",
    "nvals4041_ho3k = norange4041(Vbvals)"
   ]
  },
  {
   "cell_type": "code",
   "execution_count": 602,
   "metadata": {
    "Collapsed": "false"
   },
   "outputs": [
    {
     "name": "stdout",
     "output_type": "stream",
     "text": [
      "-0.31 is not a value in the array\n",
      "Plotted -0.31 instead\n"
     ]
    }
   ],
   "source": [
    "# raw Resistance data placed into an array\n",
    "walarrho3k_865 = np.zeros((len(nvals2928_ho3k), len(barr)))\n",
    "for i, f in enumerate(orangeDholef3k):\n",
    "    d = qc.load_data(f[:-1])\n",
    "    dlast = np.where(np.isnan(d.triton_field))[0][0]\n",
    "    sweep = np.interp(barr/1000, d.triton_field[:dlast], d.lockin865_X[:dlast]/10e-9)\n",
    "    walarrho3k_865[i, :] = sweep\n",
    "\n",
    "# form an array of change in conductance from the zero point\n",
    "b02 = -0.31  # the offset of the field zero point\n",
    "pind = npd.val_to_index([b02], barr)[0]\n",
    "dGho3k_865 = np.zeros(walarrho3k_865.shape)\n",
    "for i in range(walarrho3k_865.shape[0]):\n",
    "    dGho3k_865[i, :] = 1/walarrho3k_865[i, :]/esqh - 1/walarrho3k_865[i, pind]/esqh"
   ]
  },
  {
   "cell_type": "code",
   "execution_count": 603,
   "metadata": {
    "Collapsed": "false"
   },
   "outputs": [
    {
     "data": {
      "application/vnd.jupyter.widget-view+json": {
       "model_id": "dc463a89395148f7b693277f329cb67c",
       "version_major": 2,
       "version_minor": 0
      },
      "text/plain": [
       "Canvas(toolbar=Toolbar(toolitems=[('Home', 'Reset original view', 'home', 'home'), ('Back', 'Back to previous …"
      ]
     },
     "metadata": {},
     "output_type": "display_data"
    },
    {
     "data": {
      "text/plain": [
       "<matplotlib.colorbar.Colorbar at 0x7fd5527f4050>"
      ]
     },
     "execution_count": 603,
     "metadata": {},
     "output_type": "execute_result"
    }
   ],
   "source": [
    "plt.figure()\n",
    "plt.pcolormesh(barr-b02, nvals2928_ho3k, dGho3k_865, vmin=-1, vmax=0.1)\n",
    "plt.colorbar()"
   ]
  },
  {
   "cell_type": "code",
   "execution_count": 604,
   "metadata": {
    "Collapsed": "false"
   },
   "outputs": [
    {
     "data": {
      "application/vnd.jupyter.widget-view+json": {
       "model_id": "15dbe0077a904b31be91d8ce5d1e87cd",
       "version_major": 2,
       "version_minor": 0
      },
      "text/plain": [
       "Canvas(toolbar=Toolbar(toolitems=[('Home', 'Reset original view', 'home', 'home'), ('Back', 'Back to previous …"
      ]
     },
     "metadata": {},
     "output_type": "display_data"
    },
    {
     "data": {
      "text/plain": [
       "[<matplotlib.lines.Line2D at 0x7fd54b796950>]"
      ]
     },
     "execution_count": 604,
     "metadata": {},
     "output_type": "execute_result"
    }
   ],
   "source": [
    "plt.figure()\n",
    "plt.plot(barr-b02, np.average(dGho3k_865[:], axis=0), label='all')"
   ]
  },
  {
   "cell_type": "markdown",
   "metadata": {
    "heading_collapsed": "false"
   },
   "source": [
    "### Combined"
   ]
  },
  {
   "cell_type": "code",
   "execution_count": 605,
   "metadata": {
    "Collapsed": "false"
   },
   "outputs": [
    {
     "data": {
      "application/vnd.jupyter.widget-view+json": {
       "model_id": "5308d72d29784f8d8d97b610d9f0f827",
       "version_major": 2,
       "version_minor": 0
      },
      "text/plain": [
       "Canvas(toolbar=Toolbar(toolitems=[('Home', 'Reset original view', 'home', 'home'), ('Back', 'Back to previous …"
      ]
     },
     "metadata": {},
     "output_type": "display_data"
    },
    {
     "data": {
      "text/plain": [
       "<matplotlib.legend.Legend at 0x7fd5c1d42310>"
      ]
     },
     "execution_count": 605,
     "metadata": {},
     "output_type": "execute_result"
    }
   ],
   "source": [
    "plt.figure()\n",
    "plt.plot(barr-b02, np.average(dGho_865[:], axis=0), label='Base T')\n",
    "plt.plot(barr-b02, np.average(dGho300_865[:], axis=0), label='300 mK')\n",
    "plt.plot(barr-b02, np.average(dGho600_865[:], axis=0), label='600 mK')\n",
    "plt.plot(barr-b02, np.average(dGho3k_865[:], axis=0), label='3 K')\n",
    "plt.legend()"
   ]
  },
  {
   "cell_type": "code",
   "execution_count": 607,
   "metadata": {
    "Collapsed": "false"
   },
   "outputs": [
    {
     "data": {
      "application/vnd.jupyter.widget-view+json": {
       "model_id": "06474bdfa7d241afae8588cafc03c1a0",
       "version_major": 2,
       "version_minor": 0
      },
      "text/plain": [
       "Canvas(toolbar=Toolbar(toolitems=[('Home', 'Reset original view', 'home', 'home'), ('Back', 'Back to previous …"
      ]
     },
     "metadata": {},
     "output_type": "display_data"
    },
    {
     "data": {
      "text/plain": [
       "<matplotlib.legend.Legend at 0x7fd5bdf8a350>"
      ]
     },
     "execution_count": 607,
     "metadata": {},
     "output_type": "execute_result"
    }
   ],
   "source": [
    "# subtract 3K\n",
    "plt.figure()\n",
    "plt.plot(barr-b02, np.average(dGho_865[:], axis=0) - np.average(dGho3k_865[:], axis=0), label='Base T')\n",
    "plt.plot(barr-b02, np.average(dGho300_865[:], axis=0) - np.average(dGho3k_865[:], axis=0), label='300 mK')\n",
    "plt.plot(barr-b02, np.average(dGho600_865[:], axis=0) - np.average(dGho3k_865[:], axis=0), label='600 mK')\n",
    "plt.legend()"
   ]
  },
  {
   "cell_type": "markdown",
   "metadata": {
    "heading_collapsed": "false"
   },
   "source": [
    "### Electron side"
   ]
  },
  {
   "cell_type": "code",
   "execution_count": 404,
   "metadata": {
    "Collapsed": "false"
   },
   "outputs": [],
   "source": [
    "orangeDelf = sorted(glob.glob('data/2020-06-09/#*/'))[25:60] + sorted(glob.glob('data/2020-06-09/#*/'))[68:84]"
   ]
  },
  {
   "cell_type": "code",
   "execution_count": 405,
   "metadata": {
    "Collapsed": "false"
   },
   "outputs": [],
   "source": [
    "Vbvals = np.linspace(-9.95, -9.45, 51)\n",
    "nvals2928_eo = norange2928(Vbvals)\n",
    "nvals4041_eo = norange4041(Vbvals)"
   ]
  },
  {
   "cell_type": "code",
   "execution_count": 410,
   "metadata": {
    "Collapsed": "false"
   },
   "outputs": [
    {
     "name": "stdout",
     "output_type": "stream",
     "text": [
      "-0.58 is not a value in the array\n",
      "Plotted -0.62 instead\n"
     ]
    }
   ],
   "source": [
    "# raw Resistance data placed into an array\n",
    "walarreo_865 = np.zeros((len(nvals2928_eo), len(barr)))\n",
    "for i, f in enumerate(orangeDelf):\n",
    "    d = qc.load_data(f[:-1])\n",
    "    dlast = np.where(np.isnan(d.triton_field))[0][0]\n",
    "    sweep = np.interp(barr/1000, d.triton_field[:dlast], d.lockin865_X[:dlast]/10e-9)\n",
    "    walarreo_865[i, :] = sweep\n",
    "\n",
    "# form an array of change in conductance from the zero point\n",
    "b02 = -0.31  # the offset of the field zero point\n",
    "pind = npd.val_to_index([b0], barr)[0]\n",
    "dGeo_865 = np.zeros(walarreo_865.shape)\n",
    "for i in range(walarreo_865.shape[0]):\n",
    "    dGeo_865[i, :] = 1/walarreo_865[i, :]/esqh - 1/walarreo_865[i, pind]/esqh"
   ]
  },
  {
   "cell_type": "code",
   "execution_count": 411,
   "metadata": {
    "Collapsed": "false"
   },
   "outputs": [
    {
     "data": {
      "application/vnd.jupyter.widget-view+json": {
       "model_id": "6af648c9206a47bb935534279a19db1f",
       "version_major": 2,
       "version_minor": 0
      },
      "text/plain": [
       "Canvas(toolbar=Toolbar(toolitems=[('Home', 'Reset original view', 'home', 'home'), ('Back', 'Back to previous …"
      ]
     },
     "metadata": {},
     "output_type": "display_data"
    },
    {
     "data": {
      "text/plain": [
       "<matplotlib.colorbar.Colorbar at 0x7fd580c4a2d0>"
      ]
     },
     "execution_count": 411,
     "metadata": {},
     "output_type": "execute_result"
    }
   ],
   "source": [
    "plt.figure()\n",
    "plt.pcolormesh(barr-b02, nvals2928_eo, dGeo_865, vmin=-1, vmax=0.1)\n",
    "plt.colorbar()"
   ]
  },
  {
   "cell_type": "code",
   "execution_count": 414,
   "metadata": {
    "Collapsed": "false"
   },
   "outputs": [
    {
     "data": {
      "application/vnd.jupyter.widget-view+json": {
       "model_id": "7bb05506259e4e6691c0319e8ac65cc6",
       "version_major": 2,
       "version_minor": 0
      },
      "text/plain": [
       "Canvas(toolbar=Toolbar(toolitems=[('Home', 'Reset original view', 'home', 'home'), ('Back', 'Back to previous …"
      ]
     },
     "metadata": {},
     "output_type": "display_data"
    },
    {
     "data": {
      "text/plain": [
       "<matplotlib.legend.Legend at 0x7fd5ae7c4790>"
      ]
     },
     "execution_count": 414,
     "metadata": {},
     "output_type": "execute_result"
    }
   ],
   "source": [
    "plt.figure()\n",
    "plt.plot(barr-b02, np.average(dGeo_865[:], axis=0), label='all')\n",
    "plt.plot(barr-b02, np.average(dGeo_865[:20], axis=0), label='sweeps 0 to 20')\n",
    "plt.plot(barr-b02, np.average(dGeo_865[20:40], axis=0), label='sweeps 20 to 40')\n",
    "plt.plot(barr-b02, np.average(dGeo_865[30:50], axis=0), label='sweeps 30 to 50')\n",
    "plt.legend()"
   ]
  },
  {
   "cell_type": "markdown",
   "metadata": {
    "heading_collapsed": "true",
    "tags": []
   },
   "source": [
    "# Rxy and Hall density plots"
   ]
  },
  {
   "cell_type": "code",
   "execution_count": 48,
   "metadata": {
    "heading_collapsed": "false"
   },
   "outputs": [
    {
     "data": {
      "text/plain": [
       "DataSet:\n",
       "   location = 'data/2020-05-15/#005_M30_865_28-42__830_32-40_1nA_baseT_B-n_D0_sweep_21-41-18'\n",
       "   <Type>   | <array_id>                  | <array.name>     | <array.shape>\n",
       "   Setpoint | triton_field_set_stable_set | field_set_stable | (161,)\n",
       "   Setpoint | zeroDparam_set              | zeroDparam       | (161, 451)\n",
       "   Measured | lockin830_X                 | X                | (161, 451)\n",
       "   Measured | lockin830_Y                 | Y                | (161, 451)\n",
       "   Measured | lockin865_X                 | X                | (161, 451)\n",
       "   Measured | lockin865_Y                 | Y                | (161, 451)"
      ]
     },
     "execution_count": 48,
     "metadata": {},
     "output_type": "execute_result"
    }
   ],
   "source": [
    "d0rxyfan = qc.load_data('data/2020-05-15/#005_M30_865_28-42__830_32-40_1nA_baseT_B-n_D0_sweep_21-41-18')\n",
    "d0rxyfan"
   ]
  },
  {
   "cell_type": "code",
   "execution_count": 49,
   "metadata": {
    "heading_collapsed": "false"
   },
   "outputs": [
    {
     "data": {
      "text/plain": [
       "DataArray[161]: triton_field_set_stable_set\n",
       "array([0.  , 0.05, 0.1 , 0.15, 0.2 , 0.25, 0.3 , 0.35, 0.4 , 0.45, 0.5 ,\n",
       "       0.55, 0.6 , 0.65, 0.7 , 0.75, 0.8 , 0.85, 0.9 , 0.95, 1.  , 1.05,\n",
       "       1.1 , 1.15, 1.2 , 1.25, 1.3 , 1.35, 1.4 , 1.45, 1.5 , 1.55, 1.6 ,\n",
       "       1.65, 1.7 , 1.75, 1.8 , 1.85, 1.9 , 1.95, 2.  , 2.05, 2.1 , 2.15,\n",
       "       2.2 , 2.25, 2.3 , 2.35, 2.4 , 2.45, 2.5 , 2.55, 2.6 , 2.65, 2.7 ,\n",
       "       2.75, 2.8 , 2.85, 2.9 , 2.95, 3.  , 3.05, 3.1 , 3.15, 3.2 , 3.25,\n",
       "       3.3 , 3.35, 3.4 , 3.45, 3.5 , 3.55, 3.6 , 3.65, 3.7 , 3.75, 3.8 ,\n",
       "       3.85, 3.9 , 3.95, 4.  , 4.05, 4.1 , 4.15, 4.2 , 4.25, 4.3 , 4.35,\n",
       "       4.4 , 4.45, 4.5 , 4.55, 4.6 , 4.65, 4.7 , 4.75, 4.8 , 4.85, 4.9 ,\n",
       "       4.95, 5.  , 5.05, 5.1 , 5.15, 5.2 , 5.25, 5.3 , 5.35, 5.4 , 5.45,\n",
       "       5.5 , 5.55, 5.6 , 5.65, 5.7 , 5.75, 5.8 , 5.85, 5.9 , 5.95, 6.  ,\n",
       "       6.05, 6.1 , 6.15, 6.2 , 6.25, 6.3 , 6.35, 6.4 , 6.45, 6.5 , 6.55,\n",
       "       6.6 , 6.65, 6.7 , 6.75, 6.8 , 6.85, 6.9 , 6.95, 7.  , 7.05, 7.1 ,\n",
       "       7.15, 7.2 , 7.25, 7.3 , 7.35, 7.4 , 7.45, 7.5 , 7.55, 7.6 , 7.65,\n",
       "       7.7 , 7.75, 7.8 , 7.85, 7.9 , 7.95, 8.  ])"
      ]
     },
     "execution_count": 49,
     "metadata": {},
     "output_type": "execute_result"
    }
   ],
   "source": [
    "d0rxxfan = qc.load_data('data/2020-05-06/#005_M30_865_29-28__830_40-41_1nA_baseT_B-n_D0_sweep_23-13-35')\n",
    "Rxx0 = npd.Rxxfromdata(d0rxxfan, 1e-9, 'lockin865')\n",
    "d0rxxfan.triton_field_set_stable_set"
   ]
  },
  {
   "cell_type": "code",
   "execution_count": 50,
   "metadata": {
    "heading_collapsed": "false"
   },
   "outputs": [
    {
     "data": {
      "text/plain": [
       "DataSet:\n",
       "   location = 'data/2020-05-06/#005_M30_865_29-28__830_40-41_1nA_baseT_B-n_D0_sweep_23-13-35'\n",
       "   <Type>   | <array_id>                  | <array.name>     | <array.shape>\n",
       "   Setpoint | triton_field_set_stable_set | field_set_stable | (161,)\n",
       "   Setpoint | zeroDparam_set              | zeroDparam       | (161, 451)\n",
       "   Measured | lockin830_X                 | X                | (161, 451)\n",
       "   Measured | lockin830_Y                 | Y                | (161, 451)\n",
       "   Measured | lockin865_X                 | X                | (161, 451)\n",
       "   Measured | lockin865_Y                 | Y                | (161, 451)"
      ]
     },
     "execution_count": 50,
     "metadata": {},
     "output_type": "execute_result"
    }
   ],
   "source": [
    "d0rxxfan"
   ]
  },
  {
   "cell_type": "code",
   "execution_count": 51,
   "metadata": {
    "heading_collapsed": "false"
   },
   "outputs": [],
   "source": [
    "d0rxyfan.lockin830_X[:, :] *= -1"
   ]
  },
  {
   "cell_type": "code",
   "execution_count": 52,
   "metadata": {
    "heading_collapsed": "false"
   },
   "outputs": [],
   "source": [
    "esqh = 1.602e-19**2/6.626e-34"
   ]
  },
  {
   "cell_type": "code",
   "execution_count": 53,
   "metadata": {
    "heading_collapsed": "false"
   },
   "outputs": [
    {
     "data": {
      "text/plain": [
       "DataArray[161]: triton_field_set_stable_set\n",
       "array([0.  , 0.05, 0.1 , 0.15, 0.2 , 0.25, 0.3 , 0.35, 0.4 , 0.45, 0.5 ,\n",
       "       0.55, 0.6 , 0.65, 0.7 , 0.75, 0.8 , 0.85, 0.9 , 0.95, 1.  , 1.05,\n",
       "       1.1 , 1.15, 1.2 , 1.25, 1.3 , 1.35, 1.4 , 1.45, 1.5 , 1.55, 1.6 ,\n",
       "       1.65, 1.7 , 1.75, 1.8 , 1.85, 1.9 , 1.95, 2.  , 2.05, 2.1 , 2.15,\n",
       "       2.2 , 2.25, 2.3 , 2.35, 2.4 , 2.45, 2.5 , 2.55, 2.6 , 2.65, 2.7 ,\n",
       "       2.75, 2.8 , 2.85, 2.9 , 2.95, 3.  , 3.05, 3.1 , 3.15, 3.2 , 3.25,\n",
       "       3.3 , 3.35, 3.4 , 3.45, 3.5 , 3.55, 3.6 , 3.65, 3.7 , 3.75, 3.8 ,\n",
       "       3.85, 3.9 , 3.95, 4.  , 4.05, 4.1 , 4.15, 4.2 , 4.25, 4.3 , 4.35,\n",
       "       4.4 , 4.45, 4.5 , 4.55, 4.6 , 4.65, 4.7 , 4.75, 4.8 , 4.85, 4.9 ,\n",
       "       4.95, 5.  , 5.05, 5.1 , 5.15, 5.2 , 5.25, 5.3 , 5.35, 5.4 , 5.45,\n",
       "       5.5 , 5.55, 5.6 , 5.65, 5.7 , 5.75, 5.8 , 5.85, 5.9 , 5.95, 6.  ,\n",
       "       6.05, 6.1 , 6.15, 6.2 , 6.25, 6.3 , 6.35, 6.4 , 6.45, 6.5 , 6.55,\n",
       "       6.6 , 6.65, 6.7 , 6.75, 6.8 , 6.85, 6.9 , 6.95, 7.  , 7.05, 7.1 ,\n",
       "       7.15, 7.2 , 7.25, 7.3 , 7.35, 7.4 , 7.45, 7.5 , 7.55, 7.6 , 7.65,\n",
       "       7.7 , 7.75, 7.8 , 7.85, 7.9 , 7.95, 8.  ])"
      ]
     },
     "execution_count": 53,
     "metadata": {},
     "output_type": "execute_result"
    }
   ],
   "source": [
    "d0rxyfan.triton_field_set_stable_set"
   ]
  },
  {
   "cell_type": "code",
   "execution_count": 54,
   "metadata": {
    "heading_collapsed": "false"
   },
   "outputs": [
    {
     "data": {
      "application/vnd.jupyter.widget-view+json": {
       "model_id": "e2456dde3c154539b0db14828ba3d899",
       "version_major": 2,
       "version_minor": 0
      },
      "text/plain": [
       "Canvas(toolbar=Toolbar(toolitems=[('Home', 'Reset original view', 'home', 'home'), ('Back', 'Back to previous …"
      ]
     },
     "metadata": {},
     "output_type": "display_data"
    },
    {
     "data": {
      "text/plain": [
       "Text(0, 0.5, 'R$_{xx}$ ($\\\\Omega$)')"
      ]
     },
     "execution_count": 54,
     "metadata": {},
     "output_type": "execute_result"
    }
   ],
   "source": [
    "fig, ax = plt.subplots(2, 1, figsize=(9, 7), sharex=True)\n",
    "ind = 10\n",
    "field = d0rxyfan.triton_field_set_stable_set[ind]\n",
    "changerxy = gaussian_filter((d0rxyfan.lockin865_X[ind, :] - d0rxyfan.lockin865_X[0, :])/1e-9, 1.2)\n",
    "ax[0].plot(d0rxyfan.zeroDparam_set[0, :], field/(1.602e-19*changerxy)/10**16, label='B = {}T'.format(field))\n",
    "ax[0].set_ylim(-2, 2)\n",
    "ax[0].legend()\n",
    "ax[1].semilogy(d0rxxfan.zeroDparam_set[0, :], Rxx0[0, :])\n",
    "ax[1].set_ylim(50, 10**5)\n",
    "ax[1].set_xlabel('V$_{bg}$ (topgate also varied for constant D = 0)')\n",
    "ax[0].set_ylabel('n$_{Hall}$ (10$^{12}$ cm$^{-2}$)')\n",
    "ax[1].set_ylabel('R$_{xx}$ ($\\Omega$)')"
   ]
  },
  {
   "cell_type": "markdown",
   "metadata": {
    "heading_collapsed": "false"
   },
   "source": [
    "Try fitting a line to the points from 0T to 0.5T for each gate point"
   ]
  },
  {
   "cell_type": "code",
   "execution_count": 55,
   "metadata": {
    "heading_collapsed": "false"
   },
   "outputs": [],
   "source": [
    "gate = d0rxyfan.zeroDparam_set[0, :]\n",
    "drxydb = np.zeros(len(gate))\n",
    "for i in range(len(gate)):\n",
    "    sl, b = np.polyfit([0, 0.1, 0.2, 0.3, 0.4, 0.5], d0rxyfan.lockin865_X[:6, i]/1e-9, 1)\n",
    "    drxydb[i] = sl"
   ]
  },
  {
   "cell_type": "code",
   "execution_count": 56,
   "metadata": {
    "heading_collapsed": "false"
   },
   "outputs": [
    {
     "data": {
      "application/vnd.jupyter.widget-view+json": {
       "model_id": "4fcd90a206ed4d7bbef51d76fcbc7a83",
       "version_major": 2,
       "version_minor": 0
      },
      "text/plain": [
       "Canvas(toolbar=Toolbar(toolitems=[('Home', 'Reset original view', 'home', 'home'), ('Back', 'Back to previous …"
      ]
     },
     "metadata": {},
     "output_type": "display_data"
    },
    {
     "data": {
      "text/plain": [
       "Text(0, 0.5, 'R$_{xx}$ ($\\\\Omega$)')"
      ]
     },
     "execution_count": 56,
     "metadata": {},
     "output_type": "execute_result"
    }
   ],
   "source": [
    "fig, ax = plt.subplots(2, 1, figsize=(9, 7), sharex=True)\n",
    "ind = 10\n",
    "nHall = 1/(1.602e-19*drxydb)/10**16\n",
    "ax[0].plot(gate, gaussian_filter(nHall, 1))\n",
    "ax[0].set_ylim(-5, 5)\n",
    "ax[1].semilogy(gate, Rxx0[0, :])\n",
    "ax[1].set_ylim(50, 10**5)\n",
    "ax[1].set_xlabel('V$_{bg}$ (topgate also varied for constant D = 0)')\n",
    "ax[0].set_ylabel('n$_{Hall}$ (10$^{12}$ cm$^{-2}$)')\n",
    "ax[1].set_ylabel('R$_{xx}$ ($\\Omega$)')"
   ]
  },
  {
   "cell_type": "markdown",
   "metadata": {
    "heading_collapsed": "false"
   },
   "source": [
    "Try taking out 0T (maybe also 0.1T) and do some filtering in the gate-Rxy curves before fitting the slopes"
   ]
  },
  {
   "cell_type": "code",
   "execution_count": 57,
   "metadata": {
    "heading_collapsed": "false"
   },
   "outputs": [],
   "source": [
    "gate = d0rxyfan.zeroDparam_set[0, :]\n",
    "drxyfanfilt = gaussian_filter(d0rxyfan.lockin865_X[2:7, :]/1e-9, (0, 1))\n",
    "\n",
    "drxydb = np.zeros(len(gate))\n",
    "for i in range(len(gate)):\n",
    "    sl, b = np.polyfit([0.2, 0.3, 0.4, 0.5, 0.6], drxyfanfilt[:, i], 1)\n",
    "    drxydb[i] = sl"
   ]
  },
  {
   "cell_type": "code",
   "execution_count": 58,
   "metadata": {
    "heading_collapsed": "false"
   },
   "outputs": [
    {
     "data": {
      "application/vnd.jupyter.widget-view+json": {
       "model_id": "cdedc851613a47be93560ff6999398b9",
       "version_major": 2,
       "version_minor": 0
      },
      "text/plain": [
       "Canvas(toolbar=Toolbar(toolitems=[('Home', 'Reset original view', 'home', 'home'), ('Back', 'Back to previous …"
      ]
     },
     "metadata": {},
     "output_type": "display_data"
    },
    {
     "data": {
      "text/plain": [
       "Text(0, 0.5, 'R$_{xx}$ ($\\\\Omega$)')"
      ]
     },
     "execution_count": 58,
     "metadata": {},
     "output_type": "execute_result"
    }
   ],
   "source": [
    "fig, ax = plt.subplots(2, 1, figsize=(9, 7), sharex=True)\n",
    "ind = 10\n",
    "nHall = 1/(1.602e-19*drxydb)/10**16\n",
    "ax[0].plot(gate, gaussian_filter(nHall, 1))\n",
    "ax[0].set_ylim(-7, 7)\n",
    "ax[1].semilogy(gate, Rxx0[0, :])\n",
    "ax[1].set_ylim(50, 10**5)\n",
    "ax[1].set_xlabel('V$_{bg}$ (topgate also varied for constant D = 0)')\n",
    "ax[0].set_ylabel('n$_{Hall}$ (10$^{12}$ cm$^{-2}$)')\n",
    "ax[1].set_ylabel('R$_{xx}$ ($\\Omega$)')"
   ]
  },
  {
   "cell_type": "code",
   "execution_count": null,
   "metadata": {
    "heading_collapsed": "false"
   },
   "outputs": [],
   "source": []
  },
  {
   "cell_type": "code",
   "execution_count": null,
   "metadata": {},
   "outputs": [],
   "source": []
  }
 ],
 "metadata": {
  "kernelspec": {
   "display_name": "qcodes",
   "language": "python",
   "name": "qcodes"
  },
  "language_info": {
   "codemirror_mode": {
    "name": "ipython",
    "version": 3
   },
   "file_extension": ".py",
   "mimetype": "text/x-python",
   "name": "python",
   "nbconvert_exporter": "python",
   "pygments_lexer": "ipython3",
   "version": "3.8.0"
  }
 },
 "nbformat": 4,
 "nbformat_minor": 4
}
