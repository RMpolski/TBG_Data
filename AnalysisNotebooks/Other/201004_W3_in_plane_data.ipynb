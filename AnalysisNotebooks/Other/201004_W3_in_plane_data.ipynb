{
 "cells": [
  {
   "cell_type": "code",
   "execution_count": 1,
   "metadata": {
    "heading_collapsed": "false",
    "tags": []
   },
   "outputs": [],
   "source": [
    "import numpy as np\n",
    "import time\n",
    "import matplotlib.pyplot as plt\n",
    "import qcodes as qc\n",
    "import matplotlib.colors as colors\n",
    "import qcodes.instrument_drivers.nplab_drivers as npd\n",
    "from matplotlib.colors import SymLogNorm, LogNorm\n",
    "import os"
   ]
  },
  {
   "cell_type": "code",
   "execution_count": 2,
   "metadata": {
    "heading_collapsed": "false"
   },
   "outputs": [],
   "source": [
    "from scipy.interpolate import RectBivariateSpline\n",
    "from scipy.ndimage import gaussian_filter"
   ]
  },
  {
   "cell_type": "code",
   "execution_count": 3,
   "metadata": {
    "heading_collapsed": "false"
   },
   "outputs": [],
   "source": [
    "import qcodes.instrument_drivers.nplab_drivers as npd\n",
    "from scipy.signal import find_peaks"
   ]
  },
  {
   "cell_type": "code",
   "execution_count": 4,
   "metadata": {
    "heading_collapsed": "false"
   },
   "outputs": [
    {
     "data": {
      "text/plain": [
       "'/Users/robertpolski/Documents/NPGroupResearch/Measurements/Triton/qcodes_data/AnalysisNotebooks'"
      ]
     },
     "execution_count": 4,
     "metadata": {},
     "output_type": "execute_result"
    }
   ],
   "source": [
    "qc.DataSet.default_io.base_location"
   ]
  },
  {
   "cell_type": "code",
   "execution_count": 5,
   "metadata": {
    "heading_collapsed": "false"
   },
   "outputs": [],
   "source": [
    "import colorcet as cc"
   ]
  },
  {
   "cell_type": "code",
   "execution_count": 6,
   "metadata": {
    "heading_collapsed": "false"
   },
   "outputs": [],
   "source": [
    "%matplotlib widget"
   ]
  },
  {
   "cell_type": "code",
   "execution_count": 12,
   "metadata": {},
   "outputs": [
    {
     "name": "stdout",
     "output_type": "stream",
     "text": [
      "/Users/robertpolski/Documents/NPGroupResearch/Measurements/Triton/qcodes_data\n"
     ]
    }
   ],
   "source": [
    "cd .."
   ]
  },
  {
   "cell_type": "code",
   "execution_count": 13,
   "metadata": {
    "heading_collapsed": "false"
   },
   "outputs": [],
   "source": [
    "qc.DataSet.default_io.base_location = os.path.abspath('.')"
   ]
  },
  {
   "cell_type": "markdown",
   "metadata": {
    "tags": []
   },
   "source": [
    "# T dependence"
   ]
  },
  {
   "cell_type": "code",
   "execution_count": 14,
   "metadata": {
    "heading_collapsed": "false",
    "tags": []
   },
   "outputs": [],
   "source": [
    "data_n_T_1 = qc.load_data('data/2020-10-01/#004_W3_865_7-8_830_8-9_2nA_0Bfield_gateTsweepto1K_11-21-17')\n",
    "data_n_T_2 = qc.load_data('data/2020-10-01/#005_W3_865_7-8_830_8-9_2nA_0Bfield_gateTsweep1p05to1p4K_15-46-08')\n",
    "data_n_T_3 = qc.load_data('data/2020-10-01/#006_W3_865_7-8_830_8-9_2nA_0Bfield_gateTsweep1p45to2K_17-32-28')\n",
    "data_n_T_4 = qc.load_data('data/2020-10-01/#007_W3_865_7-8_830_8-9_2nA_0Bfield_gateTsweep2p1to10K_22-01-42')\n",
    "data_n_T_5 = qc.load_data('data/2020-10-02/#001_W3_865_7-8_830_8-9_2nA_0Bfield_gateTsweep10p5to30K_15-37-29')\n",
    "data_n_T_6 = qc.load_data('data/2020-10-03/#001_W3_865_7-8_830_8-9_2nA_0Bfield_gateTsweep30p5to40K_01-05-40')\n",
    "vg = data_n_T_1.srframe_volt_p1_set[0,:]\n",
    "T = np.concatenate((data_n_T_1.triton_pid_setpoint_set[:],data_n_T_2.triton_pid_setpoint_set[:], data_n_T_3.triton_pid_setpoint_set[:], data_n_T_4.triton_pid_setpoint_set[:], data_n_T_5.triton_pid_setpoint_set[:], data_n_T_6.triton_pid_setpoint_set[:]))\n",
    "Rxx0708 = np.vstack((npd.Rxxfromdata(data_n_T_1, 2e-9, 'lockin865'), npd.Rxxfromdata(data_n_T_2, 2e-9, 'lockin865'), npd.Rxxfromdata(data_n_T_3, 2e-9, 'lockin865'), npd.Rxxfromdata(data_n_T_4, 2e-9, 'lockin865'), npd.Rxxfromdata(data_n_T_5, 2e-9, 'lockin865'), npd.Rxxfromdata(data_n_T_6, 2e-9, 'lockin865')))\n"
   ]
  },
  {
   "cell_type": "code",
   "execution_count": 15,
   "metadata": {
    "heading_collapsed": "false"
   },
   "outputs": [
    {
     "data": {
      "text/plain": [
       "4.4"
      ]
     },
     "execution_count": 15,
     "metadata": {},
     "output_type": "execute_result"
    }
   ],
   "source": [
    "vg[470]"
   ]
  },
  {
   "cell_type": "code",
   "execution_count": 16,
   "metadata": {
    "heading_collapsed": "false"
   },
   "outputs": [
    {
     "data": {
      "application/vnd.jupyter.widget-view+json": {
       "model_id": "869d8e833a9a4010ab34cda3337e6618",
       "version_major": 2,
       "version_minor": 0
      },
      "text/plain": [
       "Canvas(toolbar=Toolbar(toolitems=[('Home', 'Reset original view', 'home', 'home'), ('Back', 'Back to previous …"
      ]
     },
     "metadata": {},
     "output_type": "display_data"
    },
    {
     "data": {
      "text/plain": [
       "Text(0.5, 1.0, 'Vg-T sweep')"
      ]
     },
     "execution_count": 16,
     "metadata": {},
     "output_type": "execute_result"
    }
   ],
   "source": [
    "plt.figure(figsize=(10, 4))\n",
    "plt.pcolormesh(vg, T,  gaussian_filter(Rxx0708,1), cmap='seismic', norm=colors.SymLogNorm(700,  vmin=0, vmax=60e3))\n",
    "\n",
    "for i in range(17,len(T)): # -1/2\n",
    "    peaks, _ = find_peaks(gaussian_filter(Rxx0708[i, 15:70], 2), prominence=0.8, width=10)\n",
    "    for f in range(len(peaks)):\n",
    "        plt.plot(vg[15+peaks[f]], T[i], \".\", color = 'blue')\n",
    "        \n",
    "for i in range(17,len(T)): # -1/4\n",
    "    peaks, _ = find_peaks(gaussian_filter(Rxx0708[i, 95:190], 2), prominence=0.4, width=10)\n",
    "    for f in range(len(peaks)):\n",
    "        plt.plot(vg[95+peaks[f]], T[i], \".\", color = 'blue')\n",
    "        \n",
    "for i in range(len(T)): # 1/4\n",
    "    peaks, _ = find_peaks(gaussian_filter(Rxx0708[i, 300:400], 2), prominence=0.4, width=10)\n",
    "    for f in range(len(peaks)):\n",
    "        plt.plot(vg[300+peaks[f]], T[i], \".\", color = 'blue')\n",
    "        \n",
    "for i in range(len(T)): # 1/2\n",
    "    peaks, _ = find_peaks(gaussian_filter(Rxx0708[i, 400:470], 2), prominence=0.4, width=10)\n",
    "    for f in range(len(peaks)):\n",
    "        plt.plot(vg[400+peaks[f]], T[i], \".\", color = 'blue')\n",
    "\n",
    "plt.xlabel('Vg (V)')\n",
    "plt.ylabel('T (K)')\n",
    "plt.ylim(0.05,10)\n",
    "plt.colorbar()\n",
    "plt.axis()\n",
    "plt.title('Vg-T sweep')"
   ]
  },
  {
   "cell_type": "code",
   "execution_count": 17,
   "metadata": {
    "heading_collapsed": "false"
   },
   "outputs": [
    {
     "data": {
      "application/vnd.jupyter.widget-view+json": {
       "model_id": "8a43ecc4d2f84806b62136ba546e09db",
       "version_major": 2,
       "version_minor": 0
      },
      "text/plain": [
       "Canvas(toolbar=Toolbar(toolitems=[('Home', 'Reset original view', 'home', 'home'), ('Back', 'Back to previous …"
      ]
     },
     "metadata": {},
     "output_type": "display_data"
    },
    {
     "data": {
      "text/plain": [
       "Text(0.5, 1.0, 'Vg-T sweep')"
      ]
     },
     "execution_count": 17,
     "metadata": {},
     "output_type": "execute_result"
    }
   ],
   "source": [
    "plt.figure(figsize=(10, 4))\n",
    "plt.pcolormesh(vg, T,  gaussian_filter(Rxx0708,1), cmap='seismic', norm=colors.SymLogNorm(3000,  vmin=0, vmax=60e3))\n",
    "\n",
    "for i in range(17,len(T)): # -1/2\n",
    "    peaks, _ = find_peaks(gaussian_filter(Rxx0708[i, 15:70], 2), prominence=0.8, width=10)\n",
    "    for f in range(len(peaks)):\n",
    "        plt.plot(vg[15+peaks[f]], T[i], \".\", color = 'blue')\n",
    "        \n",
    "for i in range(17,len(T)): # -1/4\n",
    "    peaks, _ = find_peaks(gaussian_filter(Rxx0708[i, 95:190], 2), prominence=0.4, width=10)\n",
    "    for f in range(len(peaks)):\n",
    "        plt.plot(vg[95+peaks[f]], T[i], \".\", color = 'blue')\n",
    "        \n",
    "for i in range(len(T)): # 1/4\n",
    "    peaks, _ = find_peaks(gaussian_filter(Rxx0708[i, 300:400], 2), prominence=0.4, width=10)\n",
    "    for f in range(len(peaks)):\n",
    "        plt.plot(vg[300+peaks[f]], T[i], \".\", color = 'blue')\n",
    "        \n",
    "for i in range(len(T)): # 1/2\n",
    "    peaks, _ = find_peaks(gaussian_filter(Rxx0708[i, 400:470], 2), prominence=0.4, width=10)\n",
    "    for f in range(len(peaks)):\n",
    "        plt.plot(vg[400+peaks[f]], T[i], \".\", color = 'blue')\n",
    "\n",
    "plt.xlabel('Vg (V)')\n",
    "plt.ylabel('T (K)')\n",
    "plt.colorbar()\n",
    "plt.axis()\n",
    "plt.title('Vg-T sweep')"
   ]
  },
  {
   "cell_type": "code",
   "execution_count": 18,
   "metadata": {
    "heading_collapsed": "false"
   },
   "outputs": [
    {
     "data": {
      "application/vnd.jupyter.widget-view+json": {
       "model_id": "ea03206866584af1bf246b95ab1c7912",
       "version_major": 2,
       "version_minor": 0
      },
      "text/plain": [
       "Canvas(toolbar=Toolbar(toolitems=[('Home', 'Reset original view', 'home', 'home'), ('Back', 'Back to previous …"
      ]
     },
     "metadata": {},
     "output_type": "display_data"
    },
    {
     "data": {
      "text/plain": [
       "<matplotlib.legend.Legend at 0x7feb23d450d0>"
      ]
     },
     "execution_count": 18,
     "metadata": {},
     "output_type": "execute_result"
    }
   ],
   "source": [
    "plt.figure(figsize=(8, 4))\n",
    "for i in range(20):\n",
    "    indx=8*i\n",
    "    plt.semilogy(vg, gaussian_filter(Rxx0708[indx,:],1), label='T {}K'.format(T[indx]))\n",
    "\n",
    "plt.legend()"
   ]
  },
  {
   "cell_type": "markdown",
   "metadata": {
    "tags": []
   },
   "source": [
    "# in plane field base T"
   ]
  },
  {
   "cell_type": "code",
   "execution_count": 19,
   "metadata": {
    "heading_collapsed": "false"
   },
   "outputs": [],
   "source": [
    "data_n_B = qc.load_data('data/2020-09-29/#010_W3_865_7-8_830_8-9_2nA_0to6T_fieldgate_18-23-33')\n",
    "data_n_B_2 = qc.load_data('data/2020-09-30/#001_W3_865_7-8_830_8-9_2nA_6p05to8T_fieldgate_16-17-09')\n",
    "vg = data_n_B.srframe_volt_p1_set[0, :]\n",
    "B = np.concatenate((data_n_B.triton_field_set_stable_set[:],data_n_B_2.triton_field_set_stable_set[:]))\n",
    "Rxx0708 = np.vstack((npd.Rxxfromdata(data_n_B, 2e-9, 'lockin865'), npd.Rxxfromdata(data_n_B_2, 2e-9, 'lockin865')))\n",
    "Rxx0809 = np.vstack((npd.Rxxfromdata(data_n_B, 2e-9, 'lockin830'), npd.Rxxfromdata(data_n_B_2, 2e-9, 'lockin830')))"
   ]
  },
  {
   "cell_type": "code",
   "execution_count": 20,
   "metadata": {
    "heading_collapsed": "false"
   },
   "outputs": [
    {
     "data": {
      "application/vnd.jupyter.widget-view+json": {
       "model_id": "98c45b2572ac451188ce987afcdb5660",
       "version_major": 2,
       "version_minor": 0
      },
      "text/plain": [
       "Canvas(toolbar=Toolbar(toolitems=[('Home', 'Reset original view', 'home', 'home'), ('Back', 'Back to previous …"
      ]
     },
     "metadata": {},
     "output_type": "display_data"
    },
    {
     "data": {
      "text/plain": [
       "Text(0.5, 1.0, '25mK Vg-in plane field sweep')"
      ]
     },
     "execution_count": 20,
     "metadata": {},
     "output_type": "execute_result"
    }
   ],
   "source": [
    "plt.figure(figsize=(10, 3))\n",
    "plt.pcolormesh(vg, B,  gaussian_filter(Rxx0708,2), cmap='seismic', norm=colors.SymLogNorm(900,  vmin=0, vmax=30e3))\n",
    "\n",
    "for i in range(35,len(B)): # -1/2\n",
    "    peaks, _ = find_peaks(gaussian_filter(Rxx0708[i, 15:70], 2), prominence=0.8, width=10)\n",
    "    for f in range(len(peaks)):\n",
    "        plt.plot(vg[15+peaks[f]], B[i], \".\", color = 'blue')\n",
    "\n",
    "for i in range(len(B)): # 1/4\n",
    "    peaks, _ = find_peaks(gaussian_filter(Rxx0708[i, 290:380], 2), prominence=0.4, width=10)\n",
    "    for f in range(len(peaks)):\n",
    "        plt.plot(vg[290+peaks[f]], B[i], \".\", color = 'blue')\n",
    "        \n",
    "for i in range(len(B)): # 1/2\n",
    "    peaks, _ = find_peaks(gaussian_filter(Rxx0708[i, 380:470], 2), prominence=0.4, width=10)\n",
    "    for f in range(len(peaks)):\n",
    "        plt.plot(vg[380+peaks[f]], B[i], \".\", color = 'blue')\n",
    "        \n",
    "        \n",
    "\n",
    "plt.xlabel('Vg (V)')\n",
    "plt.ylabel('B (T)')\n",
    "plt.colorbar()\n",
    "plt.axis()\n",
    "plt.title('25mK Vg-in plane field sweep')"
   ]
  },
  {
   "cell_type": "code",
   "execution_count": 21,
   "metadata": {
    "heading_collapsed": "false"
   },
   "outputs": [
    {
     "data": {
      "application/vnd.jupyter.widget-view+json": {
       "model_id": "fdc845eb580d418fa0e147d87734023b",
       "version_major": 2,
       "version_minor": 0
      },
      "text/plain": [
       "Canvas(toolbar=Toolbar(toolitems=[('Home', 'Reset original view', 'home', 'home'), ('Back', 'Back to previous …"
      ]
     },
     "metadata": {},
     "output_type": "display_data"
    },
    {
     "data": {
      "text/plain": [
       "<matplotlib.legend.Legend at 0x7feb25774b20>"
      ]
     },
     "execution_count": 21,
     "metadata": {},
     "output_type": "execute_result"
    }
   ],
   "source": [
    "plt.figure(figsize=(8, 4))\n",
    "for i in range(5):\n",
    "    indx=40*i\n",
    "    plt.semilogy(vg, gaussian_filter(Rxx0708[indx,:],2), label='B {}T'.format(B[indx]))\n",
    "\n",
    "plt.legend()"
   ]
  },
  {
   "cell_type": "code",
   "execution_count": 22,
   "metadata": {
    "heading_collapsed": "false"
   },
   "outputs": [
    {
     "data": {
      "application/vnd.jupyter.widget-view+json": {
       "model_id": "87d2052c9752466bae0f533ca29dad93",
       "version_major": 2,
       "version_minor": 0
      },
      "text/plain": [
       "Canvas(toolbar=Toolbar(toolitems=[('Home', 'Reset original view', 'home', 'home'), ('Back', 'Back to previous …"
      ]
     },
     "metadata": {},
     "output_type": "display_data"
    },
    {
     "data": {
      "text/plain": [
       "<matplotlib.legend.Legend at 0x7feb27169310>"
      ]
     },
     "execution_count": 22,
     "metadata": {},
     "output_type": "execute_result"
    }
   ],
   "source": [
    "plt.figure(figsize=(8, 4))\n",
    "for i in range(1):\n",
    "    indx=10*i\n",
    "    plt.plot(data_n_B.srframe_volt_p1_set[0,:], gaussian_filter(data_n_B.lockin865_X[indx,:]/2e-9,1), label='B {}T'.format(data_n_B.triton_field_set_stable_set[indx]))\n",
    "\n",
    "plt.xlabel('Vg (V)')\n",
    "plt.ylabel('R (Ohm)')\n",
    "plt.legend()"
   ]
  },
  {
   "cell_type": "markdown",
   "metadata": {},
   "source": [
    "# in plane field 1K"
   ]
  },
  {
   "cell_type": "code",
   "execution_count": 23,
   "metadata": {
    "heading_collapsed": "false"
   },
   "outputs": [],
   "source": [
    "data_n_B_1K = qc.load_data('data/2020-10-03/#002_W3_865_7-8_830_8-9_2nA_0to6T_fieldgate_1K_12-17-41')\n",
    "data_n_B_1K_2 = qc.load_data('data/2020-10-03/#003_W3_865_7-8_830_8-9_2nA_6p1to8T_fieldgate_1K_23-47-28')\n",
    "vg = data_n_B_1K.srframe_volt_p1_set[0, :]\n",
    "B = np.concatenate((data_n_B_1K.triton_field_set_stable_set[:],data_n_B_1K_2.triton_field_set_stable_set[:]))\n",
    "Rxx0708 = np.vstack((npd.Rxxfromdata(data_n_B_1K, 2e-9, 'lockin865'), npd.Rxxfromdata(data_n_B_1K_2, 2e-9, 'lockin865')))\n",
    "Rxx0809 = np.vstack((npd.Rxxfromdata(data_n_B_1K, 2e-9, 'lockin830'), npd.Rxxfromdata(data_n_B_1K_2, 2e-9, 'lockin830')))"
   ]
  },
  {
   "cell_type": "code",
   "execution_count": 24,
   "metadata": {
    "heading_collapsed": "false"
   },
   "outputs": [
    {
     "data": {
      "application/vnd.jupyter.widget-view+json": {
       "model_id": "6fa21ad5fc1540919df608df51d78536",
       "version_major": 2,
       "version_minor": 0
      },
      "text/plain": [
       "Canvas(toolbar=Toolbar(toolitems=[('Home', 'Reset original view', 'home', 'home'), ('Back', 'Back to previous …"
      ]
     },
     "metadata": {},
     "output_type": "display_data"
    },
    {
     "data": {
      "text/plain": [
       "Text(0.5, 1.0, '1K Vg-in plane field sweep')"
      ]
     },
     "execution_count": 24,
     "metadata": {},
     "output_type": "execute_result"
    }
   ],
   "source": [
    "plt.figure(figsize=(10, 3))\n",
    "plt.pcolormesh(vg, B,  gaussian_filter(Rxx0708,1), cmap='seismic', norm=colors.SymLogNorm(900,  vmin=0, vmax=30e3))\n",
    "\n",
    "for i in range(len(B)): # -1/2\n",
    "    peaks, _ = find_peaks(gaussian_filter(Rxx0708[i, 15:70], 2), prominence=0.8, width=10)\n",
    "    for f in range(len(peaks)):\n",
    "        plt.plot(vg[15+peaks[f]], B[i], \".\", color = 'blue')\n",
    "\n",
    "\n",
    "for i in range(len(B)): # -1/4\n",
    "    peaks, _ = find_peaks(gaussian_filter(Rxx0708[i, 90:180], 2), prominence=0.4, width=10)\n",
    "    for f in range(len(peaks)):\n",
    "        plt.plot(vg[90+peaks[f]], B[i], \".\", color = 'blue')\n",
    "\n",
    "\n",
    "for i in range(len(B)): # 1/4\n",
    "    peaks, _ = find_peaks(gaussian_filter(Rxx0708[i, 290:380], 2), prominence=0.4, width=10)\n",
    "    for f in range(len(peaks)):\n",
    "        plt.plot(vg[290+peaks[f]], B[i], \".\", color = 'blue')\n",
    "        \n",
    "for i in range(len(B)): # 1/2\n",
    "    peaks, _ = find_peaks(gaussian_filter(Rxx0708[i, 380:470], 2), prominence=0.4, width=10)\n",
    "    for f in range(len(peaks)):\n",
    "        plt.plot(vg[380+peaks[f]], B[i], \".\", color = 'blue')\n",
    "        \n",
    "plt.xlabel('Vg (V)')\n",
    "plt.ylabel('B (T)')\n",
    "plt.colorbar()\n",
    "plt.axis()\n",
    "plt.title('1K Vg-in plane field sweep')"
   ]
  },
  {
   "cell_type": "code",
   "execution_count": 25,
   "metadata": {
    "heading_collapsed": "false"
   },
   "outputs": [
    {
     "data": {
      "application/vnd.jupyter.widget-view+json": {
       "model_id": "386f5a5f81144e14ac38d4c993dcd403",
       "version_major": 2,
       "version_minor": 0
      },
      "text/plain": [
       "Canvas(toolbar=Toolbar(toolitems=[('Home', 'Reset original view', 'home', 'home'), ('Back', 'Back to previous …"
      ]
     },
     "metadata": {},
     "output_type": "display_data"
    },
    {
     "data": {
      "text/plain": [
       "<matplotlib.legend.Legend at 0x7feb26819190>"
      ]
     },
     "execution_count": 25,
     "metadata": {},
     "output_type": "execute_result"
    }
   ],
   "source": [
    "plt.figure(figsize=(8, 4))\n",
    "for i in range(9):\n",
    "    indx=10*i\n",
    "    plt.plot(vg, gaussian_filter(Rxx0708[indx,:],1), label='B {}T'.format(B[indx]))\n",
    "\n",
    "plt.legend()"
   ]
  },
  {
   "cell_type": "markdown",
   "metadata": {},
   "source": [
    "# in plane field 3K"
   ]
  },
  {
   "cell_type": "code",
   "execution_count": 26,
   "metadata": {
    "heading_collapsed": "false"
   },
   "outputs": [],
   "source": [
    "data_n_B_3K = qc.load_data('data/2020-10-04/#001_W3_865_7-8_830_8-9_2nA_8to6p1T_fieldgate_3K_10-18-24')\n",
    "data_n_B_3K_2 = qc.load_data('data/2020-10-04/#002_W3_865_7-8_830_8-9_2nA_6to0T_fieldgate_3K_19-00-08')\n",
    "vg = data_n_B_3K.srframe_volt_p1_set[0, :]\n",
    "B = np.concatenate((data_n_B_3K.triton_field_set_stable_set[:],data_n_B_3K_2.triton_field_set_stable_set[:]))\n",
    "Rxx0708 = np.vstack((npd.Rxxfromdata(data_n_B_3K, 2e-9, 'lockin865'), npd.Rxxfromdata(data_n_B_3K_2, 2e-9, 'lockin865')))\n",
    "Rxx0809 = np.vstack((npd.Rxxfromdata(data_n_B_3K, 2e-9, 'lockin830'), npd.Rxxfromdata(data_n_B_3K_2, 2e-9, 'lockin830')))"
   ]
  },
  {
   "cell_type": "code",
   "execution_count": 27,
   "metadata": {
    "heading_collapsed": "false"
   },
   "outputs": [
    {
     "data": {
      "application/vnd.jupyter.widget-view+json": {
       "model_id": "1d1e87bd20624094af7200a97e89b07a",
       "version_major": 2,
       "version_minor": 0
      },
      "text/plain": [
       "Canvas(toolbar=Toolbar(toolitems=[('Home', 'Reset original view', 'home', 'home'), ('Back', 'Back to previous …"
      ]
     },
     "metadata": {},
     "output_type": "display_data"
    },
    {
     "data": {
      "text/plain": [
       "Text(0.5, 1.0, '3K Vg-in plane field sweep')"
      ]
     },
     "execution_count": 27,
     "metadata": {},
     "output_type": "execute_result"
    }
   ],
   "source": [
    "plt.figure(figsize=(10, 3))\n",
    "plt.pcolormesh(vg, B,  gaussian_filter(Rxx0708,1), cmap='seismic', norm=colors.SymLogNorm(500,  vmin=0, vmax=30e3))\n",
    "\n",
    "for i in range(len(B)): # -1/2\n",
    "    peaks, _ = find_peaks(gaussian_filter(Rxx0708[i, 15:70], 2), prominence=0.8, width=10)\n",
    "    for f in range(len(peaks)):\n",
    "        plt.plot(vg[15+peaks[f]], B[i], \".\", color = 'blue')\n",
    "\n",
    "\n",
    "for i in range(len(B)): # -1/4\n",
    "    peaks, _ = find_peaks(gaussian_filter(Rxx0708[i, 90:180], 2), prominence=0.4, width=10)\n",
    "    for f in range(len(peaks)):\n",
    "        plt.plot(vg[90+peaks[f]], B[i], \".\", color = 'blue')\n",
    "\n",
    "\n",
    "for i in range(len(B)): # 1/4\n",
    "    peaks, _ = find_peaks(gaussian_filter(Rxx0708[i, 290:380], 2), prominence=0.4, width=10)\n",
    "    for f in range(len(peaks)):\n",
    "        plt.plot(vg[290+peaks[f]], B[i], \".\", color = 'blue')\n",
    "        \n",
    "for i in range(len(B)): # 1/2\n",
    "    peaks, _ = find_peaks(gaussian_filter(Rxx0708[i, 380:470], 2), prominence=0.4, width=10)\n",
    "    for f in range(len(peaks)):\n",
    "        plt.plot(vg[380+peaks[f]], B[i], \".\", color = 'blue')\n",
    "        \n",
    "plt.xlabel('Vg (V)')\n",
    "plt.ylabel('B (T)')\n",
    "plt.colorbar()\n",
    "plt.axis()\n",
    "plt.title('3K Vg-in plane field sweep')"
   ]
  },
  {
   "cell_type": "code",
   "execution_count": 28,
   "metadata": {
    "heading_collapsed": "false"
   },
   "outputs": [
    {
     "data": {
      "application/vnd.jupyter.widget-view+json": {
       "model_id": "bd2dd650373f4f54b99495589d40f890",
       "version_major": 2,
       "version_minor": 0
      },
      "text/plain": [
       "Canvas(toolbar=Toolbar(toolitems=[('Home', 'Reset original view', 'home', 'home'), ('Back', 'Back to previous …"
      ]
     },
     "metadata": {},
     "output_type": "display_data"
    },
    {
     "data": {
      "text/plain": [
       "<matplotlib.legend.Legend at 0x7feb2935b250>"
      ]
     },
     "execution_count": 28,
     "metadata": {},
     "output_type": "execute_result"
    }
   ],
   "source": [
    "plt.figure(figsize=(8, 4))\n",
    "for i in range(9):\n",
    "    indx=10*i\n",
    "    plt.plot(vg, gaussian_filter(Rxx0708[indx,:],1), label='B {}T'.format(B[indx]))\n",
    "\n",
    "plt.legend()"
   ]
  },
  {
   "cell_type": "markdown",
   "metadata": {},
   "source": [
    "# in plane field 5K"
   ]
  },
  {
   "cell_type": "code",
   "execution_count": 29,
   "metadata": {
    "heading_collapsed": "false"
   },
   "outputs": [],
   "source": [
    "data_n_B_5K = qc.load_data('data/2020-10-05/#001_W3_865_7-8_830_8-9_2nA_0to6T_fieldgate_5K_06-54-04')\n",
    "data_n_B_5K_2 = qc.load_data('data/2020-10-05/#002_W3_865_7-8_830_8-9_2nA_6p1to8T_fieldgate_5K_18-20-17')\n",
    "vg = data_n_B_5K.srframe_volt_p1_set[0, :]\n",
    "B = np.concatenate((data_n_B_5K.triton_field_set_stable_set[:],data_n_B_5K_2.triton_field_set_stable_set[:]))\n",
    "Rxx0708 = np.vstack((npd.Rxxfromdata(data_n_B_5K, 2e-9, 'lockin865'), npd.Rxxfromdata(data_n_B_5K_2, 2e-9, 'lockin865')))\n",
    "Rxx0809 = np.vstack((npd.Rxxfromdata(data_n_B_5K, 2e-9, 'lockin830'), npd.Rxxfromdata(data_n_B_5K_2, 2e-9, 'lockin830')))"
   ]
  },
  {
   "cell_type": "code",
   "execution_count": 30,
   "metadata": {
    "heading_collapsed": "false"
   },
   "outputs": [
    {
     "data": {
      "application/vnd.jupyter.widget-view+json": {
       "model_id": "71c7f46c4948411dac5489ff7b0799c7",
       "version_major": 2,
       "version_minor": 0
      },
      "text/plain": [
       "Canvas(toolbar=Toolbar(toolitems=[('Home', 'Reset original view', 'home', 'home'), ('Back', 'Back to previous …"
      ]
     },
     "metadata": {},
     "output_type": "display_data"
    },
    {
     "data": {
      "text/plain": [
       "Text(0.5, 1.0, '5K Vg-in plane field sweep')"
      ]
     },
     "execution_count": 30,
     "metadata": {},
     "output_type": "execute_result"
    }
   ],
   "source": [
    "plt.figure(figsize=(10, 3))\n",
    "plt.pcolormesh(vg, B,  gaussian_filter(Rxx0708,1), cmap='seismic', norm=colors.SymLogNorm(1400,  vmin=0, vmax=30e3))\n",
    "\n",
    "for i in range(len(B)): # -1/2\n",
    "    peaks, _ = find_peaks(gaussian_filter(Rxx0708[i, 15:70], 2), prominence=0.8, width=10)\n",
    "    for f in range(len(peaks)):\n",
    "        plt.plot(vg[15+peaks[f]], B[i], \".\", color = 'blue')\n",
    "\n",
    "\n",
    "for i in range(len(B)): # -1/4\n",
    "    peaks, _ = find_peaks(gaussian_filter(Rxx0708[i, 90:180], 2), prominence=0.4, width=10)\n",
    "    for f in range(len(peaks)):\n",
    "        plt.plot(vg[90+peaks[f]], B[i], \".\", color = 'blue')\n",
    "\n",
    "\n",
    "for i in range(len(B)): # 1/4\n",
    "    peaks, _ = find_peaks(gaussian_filter(Rxx0708[i, 290:380], 2), prominence=0.4, width=10)\n",
    "    for f in range(len(peaks)):\n",
    "        plt.plot(vg[290+peaks[f]], B[i], \".\", color = 'blue')\n",
    "        \n",
    "for i in range(len(B)): # 1/2\n",
    "    peaks, _ = find_peaks(gaussian_filter(Rxx0708[i, 380:470], 2), prominence=0.4, width=10)\n",
    "    for f in range(len(peaks)):\n",
    "        plt.plot(vg[380+peaks[f]], B[i], \".\", color = 'blue')\n",
    "        \n",
    "plt.xlabel('Vg (V)')\n",
    "plt.ylabel('B (T)')\n",
    "plt.colorbar()\n",
    "plt.axis()\n",
    "plt.title('5K Vg-in plane field sweep')"
   ]
  },
  {
   "cell_type": "code",
   "execution_count": 31,
   "metadata": {
    "heading_collapsed": "false"
   },
   "outputs": [
    {
     "data": {
      "application/vnd.jupyter.widget-view+json": {
       "model_id": "cc279aa70c244cb0a7f19ef763e38019",
       "version_major": 2,
       "version_minor": 0
      },
      "text/plain": [
       "Canvas(toolbar=Toolbar(toolitems=[('Home', 'Reset original view', 'home', 'home'), ('Back', 'Back to previous …"
      ]
     },
     "metadata": {},
     "output_type": "display_data"
    },
    {
     "data": {
      "text/plain": [
       "<matplotlib.legend.Legend at 0x7feb294567f0>"
      ]
     },
     "execution_count": 31,
     "metadata": {},
     "output_type": "execute_result"
    }
   ],
   "source": [
    "plt.figure(figsize=(8, 4))\n",
    "for i in range(9):\n",
    "    indx=10*i\n",
    "    plt.plot(vg, gaussian_filter(Rxx0708[indx,:],1), label='B {}T'.format(B[indx]))\n",
    "\n",
    "plt.legend()"
   ]
  }
 ],
 "metadata": {
  "kernelspec": {
   "display_name": "qcodes",
   "language": "python",
   "name": "qcodes"
  },
  "language_info": {
   "codemirror_mode": {
    "name": "ipython",
    "version": 3
   },
   "file_extension": ".py",
   "mimetype": "text/x-python",
   "name": "python",
   "nbconvert_exporter": "python",
   "pygments_lexer": "ipython3",
   "version": "3.8.0"
  }
 },
 "nbformat": 4,
 "nbformat_minor": 4
}
