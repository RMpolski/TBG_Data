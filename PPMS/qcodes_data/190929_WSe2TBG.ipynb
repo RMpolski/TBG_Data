{
 "cells": [
  {
   "cell_type": "code",
   "execution_count": 1,
   "metadata": {
    "Collapsed": "false"
   },
   "outputs": [],
   "source": [
    "import numpy as np\n",
    "import matplotlib.pyplot as plt\n",
    "import qcodes as qc\n",
    "import qcodes.instrument_drivers.nplab_drivers as npd\n",
    "import time\n",
    "%matplotlib notebook"
   ]
  },
  {
   "cell_type": "code",
   "execution_count": 2,
   "metadata": {
    "Collapsed": "false"
   },
   "outputs": [
    {
     "name": "stdout",
     "output_type": "stream",
     "text": [
      "Note this uses mT units for getting and setting fields with field() and field_set_stable(). Just divide Oe by 10 to get mT\n",
      "Connected to: Stanford_Research_Systems SR830 (serial:s/n35235, firmware:ver1.07) in 0.48s\n",
      "Connected to: Keithley Instruments 2200-72-1 (serial:9200719, firmware:1.28-1.26) in 0.03s\n",
      "Connected to: Stanford_Research_Systems SR810 (serial:s/n21019, firmware:ver1.01) in 0.05s\n"
     ]
    }
   ],
   "source": [
    "npd.ppms_init('lockin1', 'k2200', 'lockin2')"
   ]
  },
  {
   "cell_type": "code",
   "execution_count": 3,
   "metadata": {
    "Collapsed": "false"
   },
   "outputs": [
    {
     "data": {
      "text/plain": [
       "4.61939e-06"
      ]
     },
     "execution_count": 3,
     "metadata": {},
     "output_type": "execute_result"
    }
   ],
   "source": [
    "lockin1.X()"
   ]
  },
  {
   "cell_type": "code",
   "execution_count": 9,
   "metadata": {
    "Collapsed": "false"
   },
   "outputs": [],
   "source": [
    "lockin2.sensitivity(0.002)"
   ]
  },
  {
   "cell_type": "code",
   "execution_count": 3,
   "metadata": {
    "Collapsed": "false"
   },
   "outputs": [
    {
     "data": {
      "text/plain": [
       "0.0"
      ]
     },
     "execution_count": 3,
     "metadata": {},
     "output_type": "execute_result"
    }
   ],
   "source": [
    "k2200.voltage()"
   ]
  },
  {
   "cell_type": "code",
   "execution_count": 4,
   "metadata": {
    "Collapsed": "false"
   },
   "outputs": [],
   "source": [
    "k2200.voltage.step = 0.08\n",
    "k2200.voltage.inter_delay = 0.1"
   ]
  },
  {
   "cell_type": "code",
   "execution_count": 12,
   "metadata": {
    "Collapsed": "false"
   },
   "outputs": [],
   "source": [
    "k2200.voltage(1)"
   ]
  },
  {
   "cell_type": "code",
   "execution_count": 6,
   "metadata": {
    "Collapsed": "false"
   },
   "outputs": [],
   "source": [
    "k2200.voltage(0)"
   ]
  },
  {
   "cell_type": "code",
   "execution_count": 4,
   "metadata": {
    "Collapsed": "false"
   },
   "outputs": [],
   "source": [
    "k2200.output(1)"
   ]
  },
  {
   "cell_type": "markdown",
   "metadata": {
    "Collapsed": "false"
   },
   "source": [
    "Measuring 10-9, current in 11 (1 Gohm resistor, 1V), contact 6 grounded. The gate is set to negative voltages"
   ]
  },
  {
   "cell_type": "code",
   "execution_count": 10,
   "metadata": {
    "Collapsed": "false"
   },
   "outputs": [
    {
     "data": {
      "text/plain": [
       "64105.3"
      ]
     },
     "execution_count": 10,
     "metadata": {},
     "output_type": "execute_result"
    }
   ],
   "source": [
    "lockin1.X()/1e-9"
   ]
  },
  {
   "cell_type": "code",
   "execution_count": 16,
   "metadata": {
    "Collapsed": "false"
   },
   "outputs": [
    {
     "name": "stdout",
     "output_type": "stream",
     "text": [
      "7.10343e-05 -0.000122898\n"
     ]
    }
   ],
   "source": [
    "print(lockin1.X(), lockin1.Y())"
   ]
  },
  {
   "cell_type": "markdown",
   "metadata": {
    "Collapsed": "false"
   },
   "source": [
    "Try next contacts since Y is so large. 8-7"
   ]
  },
  {
   "cell_type": "code",
   "execution_count": 4,
   "metadata": {
    "Collapsed": "false"
   },
   "outputs": [
    {
     "name": "stdout",
     "output_type": "stream",
     "text": [
      "1.09152e-05 -1.86265e-07\n"
     ]
    }
   ],
   "source": [
    "print(lockin1.X(), lockin1.Y())  # better"
   ]
  },
  {
   "cell_type": "code",
   "execution_count": 6,
   "metadata": {
    "Collapsed": "false"
   },
   "outputs": [
    {
     "name": "stdout",
     "output_type": "stream",
     "text": [
      "Started at 2019-09-29 21:42:59\n",
      "DataSet:\n",
      "   location = 'data/2019-09-29/#001_2K_Contacts8-7_negative_gate_21-42-55'\n",
      "   <Type>   | <array_id>        | <array.name> | <array.shape>\n",
      "   Setpoint | k2200_voltage_set | voltage      | (101,)\n",
      "   Measured | lockin1_X         | X            | (101,)\n",
      "   Measured | lockin1_Y         | Y            | (101,)\n",
      "Finished at 2019-09-29 21:44:58\n"
     ]
    }
   ],
   "source": [
    "gvals = np.linspace(0, 15, 101)\n",
    "data1, plot1 = npd.single_param_sweep(k2200.voltage, gvals, 1, lockin1.X, lockin1.Y, DataName='2K_Contacts8-7_negative_gate')"
   ]
  },
  {
   "cell_type": "code",
   "execution_count": 7,
   "metadata": {
    "Collapsed": "false"
   },
   "outputs": [],
   "source": [
    "k2200.voltage(0)"
   ]
  },
  {
   "cell_type": "markdown",
   "metadata": {
    "Collapsed": "false"
   },
   "source": [
    "Try 3-4"
   ]
  },
  {
   "cell_type": "code",
   "execution_count": 10,
   "metadata": {
    "Collapsed": "false"
   },
   "outputs": [],
   "source": [
    "k2200.voltage(0)"
   ]
  },
  {
   "cell_type": "markdown",
   "metadata": {
    "Collapsed": "false"
   },
   "source": [
    "Try 14-3"
   ]
  },
  {
   "cell_type": "code",
   "execution_count": null,
   "metadata": {
    "Collapsed": "false"
   },
   "outputs": [],
   "source": [
    "the current sourcing contacts  could be an issue too. Yeah, I'll try to switch them. Right now nothing is working"
   ]
  },
  {
   "cell_type": "markdown",
   "metadata": {
    "Collapsed": "false"
   },
   "source": [
    "Trying to source current 12-4, measuring 8-7"
   ]
  },
  {
   "cell_type": "code",
   "execution_count": 11,
   "metadata": {
    "Collapsed": "false"
   },
   "outputs": [
    {
     "name": "stdout",
     "output_type": "stream",
     "text": [
      "Started at 2019-09-29 21:54:04\n",
      "DataSet:\n",
      "   location = 'data/2019-09-29/#002_2K_Contacts8-7_negative_gate_21-54-03'\n",
      "   <Type>   | <array_id>        | <array.name> | <array.shape>\n",
      "   Setpoint | k2200_voltage_set | voltage      | (101,)\n",
      "   Measured | lockin1_X         | X            | (101,)\n",
      "   Measured | lockin1_Y         | Y            | (101,)\n",
      "Finished at 2019-09-29 21:56:03\n"
     ]
    }
   ],
   "source": [
    "gvals = np.linspace(0, 15, 101)\n",
    "data2, plot2 = npd.single_param_sweep(k2200.voltage, gvals, 1, lockin1.X, lockin1.Y, DataName='2K_Contacts8-7_negative_gate')"
   ]
  },
  {
   "cell_type": "code",
   "execution_count": 24,
   "metadata": {
    "Collapsed": "false"
   },
   "outputs": [],
   "source": [
    "k2200.voltage(0)"
   ]
  },
  {
   "cell_type": "markdown",
   "metadata": {
    "Collapsed": "false"
   },
   "source": [
    "I think contacts 9, 14, 6 don't work. Use 10-4 for source, drain. Measure 13-3"
   ]
  },
  {
   "cell_type": "code",
   "execution_count": 13,
   "metadata": {
    "Collapsed": "false"
   },
   "outputs": [
    {
     "name": "stdout",
     "output_type": "stream",
     "text": [
      "Started at 2019-09-29 22:04:53\n",
      "DataSet:\n",
      "   location = 'data/2019-09-29/#003_2K_Contacts13-3_negative_gate_22-04-52'\n",
      "   <Type>   | <array_id>        | <array.name> | <array.shape>\n",
      "   Setpoint | k2200_voltage_set | voltage      | (101,)\n",
      "   Measured | lockin1_X         | X            | (101,)\n",
      "   Measured | lockin1_Y         | Y            | (101,)\n",
      "Finished at 2019-09-29 22:06:52\n"
     ]
    }
   ],
   "source": [
    "gvals = np.linspace(0, 15, 101)\n",
    "data3, plot3 = npd.single_param_sweep(k2200.voltage, gvals, 1, lockin1.X, lockin1.Y, DataName='2K_Contacts13-3_negative_gate')"
   ]
  },
  {
   "cell_type": "markdown",
   "metadata": {
    "Collapsed": "false"
   },
   "source": [
    "Same source/drain, but use 12-13"
   ]
  },
  {
   "cell_type": "code",
   "execution_count": 14,
   "metadata": {
    "Collapsed": "false"
   },
   "outputs": [
    {
     "name": "stdout",
     "output_type": "stream",
     "text": [
      "Started at 2019-09-29 22:10:43\n",
      "DataSet:\n",
      "   location = 'data/2019-09-29/#004_2K_Contacts12-13_negative_gate_22-10-42'\n",
      "   <Type>   | <array_id>        | <array.name> | <array.shape>\n",
      "   Setpoint | k2200_voltage_set | voltage      | (101,)\n",
      "   Measured | lockin1_X         | X            | (101,)\n",
      "   Measured | lockin1_Y         | Y            | (101,)\n",
      "Finished at 2019-09-29 22:12:42\n"
     ]
    }
   ],
   "source": [
    "gvals = np.linspace(15, 0, 101)\n",
    "data4, plot4 = npd.single_param_sweep(k2200.voltage, gvals, 1, lockin1.X, lockin1.Y, DataName='2K_Contacts12-13_negative_gate')\n",
    "k2200.voltage(0)"
   ]
  },
  {
   "cell_type": "code",
   "execution_count": 15,
   "metadata": {
    "Collapsed": "false"
   },
   "outputs": [
    {
     "name": "stdout",
     "output_type": "stream",
     "text": [
      "Started at 2019-09-29 22:15:10\n",
      "DataSet:\n",
      "   location = 'data/2019-09-29/#005_2K_Contacts8-7_negative_gate_22-15-09'\n",
      "   <Type>   | <array_id>        | <array.name> | <array.shape>\n",
      "   Setpoint | k2200_voltage_set | voltage      | (101,)\n",
      "   Measured | lockin1_X         | X            | (101,)\n",
      "   Measured | lockin1_Y         | Y            | (101,)\n",
      "Finished at 2019-09-29 22:17:09\n"
     ]
    }
   ],
   "source": [
    "gvals = np.linspace(0, 15, 101)\n",
    "data5, plot5 = npd.single_param_sweep(k2200.voltage, gvals, 1, lockin1.X, lockin1.Y, DataName='2K_Contacts8-7_negative_gate')\n",
    "k2200.voltage(0)"
   ]
  },
  {
   "cell_type": "code",
   "execution_count": 16,
   "metadata": {
    "Collapsed": "false"
   },
   "outputs": [
    {
     "name": "stdout",
     "output_type": "stream",
     "text": [
      "Started at 2019-09-29 22:18:40\n",
      "DataSet:\n",
      "   location = 'data/2019-09-29/#006_2K_Contacts13-3_negative_gate_22-18-40'\n",
      "   <Type>   | <array_id>        | <array.name> | <array.shape>\n",
      "   Setpoint | k2200_voltage_set | voltage      | (101,)\n",
      "   Measured | lockin1_X         | X            | (101,)\n",
      "   Measured | lockin1_Y         | Y            | (101,)\n",
      "Finished at 2019-09-29 22:20:39\n"
     ]
    }
   ],
   "source": [
    "# Source 11-4, measure 13-3\n",
    "gvals = np.linspace(0, 15, 101)\n",
    "data6, plot6 = npd.single_param_sweep(k2200.voltage, gvals, 1, lockin1.X, lockin1.Y, DataName='2K_Contacts13-3_negative_gate')\n",
    "k2200.voltage(0)"
   ]
  },
  {
   "cell_type": "code",
   "execution_count": 17,
   "metadata": {
    "Collapsed": "false"
   },
   "outputs": [
    {
     "name": "stdout",
     "output_type": "stream",
     "text": [
      "Started at 2019-09-29 22:23:36\n",
      "DataSet:\n",
      "   location = 'data/2019-09-29/#007_2K_Contacts10-3_negative_gate_22-23-35'\n",
      "   <Type>   | <array_id>        | <array.name> | <array.shape>\n",
      "   Setpoint | k2200_voltage_set | voltage      | (101,)\n",
      "   Measured | lockin1_X         | X            | (101,)\n",
      "   Measured | lockin1_Y         | Y            | (101,)\n",
      "Finished at 2019-09-29 22:25:35\n"
     ]
    }
   ],
   "source": [
    "gvals = np.linspace(0, 15, 101)\n",
    "data7, plot7 = npd.single_param_sweep(k2200.voltage, gvals, 1, lockin1.X, lockin1.Y, DataName='2K_Contacts10-3_negative_gate')\n",
    "k2200.voltage(0)"
   ]
  },
  {
   "cell_type": "code",
   "execution_count": 18,
   "metadata": {
    "Collapsed": "false"
   },
   "outputs": [
    {
     "name": "stdout",
     "output_type": "stream",
     "text": [
      "Started at 2019-09-29 22:27:40\n",
      "DataSet:\n",
      "   location = 'data/2019-09-29/#008_2K_Contacts10-7_negative_gate_22-27-39'\n",
      "   <Type>   | <array_id>        | <array.name> | <array.shape>\n",
      "   Setpoint | k2200_voltage_set | voltage      | (101,)\n",
      "   Measured | lockin1_X         | X            | (101,)\n",
      "   Measured | lockin1_Y         | Y            | (101,)\n",
      "Finished at 2019-09-29 22:29:39\n"
     ]
    }
   ],
   "source": [
    "gvals = np.linspace(0, 15, 101)\n",
    "data8, plot8 = npd.single_param_sweep(k2200.voltage, gvals, 1, lockin1.X, lockin1.Y, DataName='2K_Contacts10-7_negative_gate')\n",
    "k2200.voltage(0)"
   ]
  },
  {
   "cell_type": "code",
   "execution_count": 19,
   "metadata": {
    "Collapsed": "false"
   },
   "outputs": [
    {
     "name": "stdout",
     "output_type": "stream",
     "text": [
      "Started at 2019-09-29 22:30:45\n",
      "DataSet:\n",
      "   location = 'data/2019-09-29/#009_2K_Contacts10-8_negative_gate_22-30-45'\n",
      "   <Type>   | <array_id>        | <array.name> | <array.shape>\n",
      "   Setpoint | k2200_voltage_set | voltage      | (101,)\n",
      "   Measured | lockin1_X         | X            | (101,)\n",
      "   Measured | lockin1_Y         | Y            | (101,)\n",
      "Finished at 2019-09-29 22:32:44\n"
     ]
    }
   ],
   "source": [
    "gvals = np.linspace(0, 15, 101)  # oops, 10-8 instead of 10-7\n",
    "data8, plot8 = npd.single_param_sweep(k2200.voltage, gvals, 1, lockin1.X, lockin1.Y, DataName='2K_Contacts10-7_negative_gate')\n",
    "k2200.voltage(0)"
   ]
  },
  {
   "cell_type": "code",
   "execution_count": 20,
   "metadata": {
    "Collapsed": "false"
   },
   "outputs": [
    {
     "name": "stdout",
     "output_type": "stream",
     "text": [
      "Started at 2019-09-29 22:34:55\n",
      "DataSet:\n",
      "   location = 'data/2019-09-29/#010_2K_Contacts10-9_negative_gate_22-34-54'\n",
      "   <Type>   | <array_id>        | <array.name> | <array.shape>\n",
      "   Setpoint | k2200_voltage_set | voltage      | (101,)\n",
      "   Measured | lockin1_X         | X            | (101,)\n",
      "   Measured | lockin1_Y         | Y            | (101,)\n",
      "Finished at 2019-09-29 22:36:53\n"
     ]
    }
   ],
   "source": [
    "gvals = np.linspace(0, 15, 101)\n",
    "data10, plot10 = npd.single_param_sweep(k2200.voltage, gvals, 1, lockin1.X, lockin1.Y, DataName='2K_Contacts10-9_negative_gate')\n",
    "k2200.voltage(0)"
   ]
  },
  {
   "cell_type": "code",
   "execution_count": 21,
   "metadata": {
    "Collapsed": "false"
   },
   "outputs": [
    {
     "name": "stdout",
     "output_type": "stream",
     "text": [
      "Started at 2019-09-29 22:37:54\n",
      "DataSet:\n",
      "   location = 'data/2019-09-29/#011_2K_Contacts10-13_negative_gate_22-37-54'\n",
      "   <Type>   | <array_id>        | <array.name> | <array.shape>\n",
      "   Setpoint | k2200_voltage_set | voltage      | (101,)\n",
      "   Measured | lockin1_X         | X            | (101,)\n",
      "   Measured | lockin1_Y         | Y            | (101,)\n",
      "Finished at 2019-09-29 22:39:53\n"
     ]
    }
   ],
   "source": [
    "gvals = np.linspace(0, 15, 101)\n",
    "data11, plot11 = npd.single_param_sweep(k2200.voltage, gvals, 1, lockin1.X, lockin1.Y, DataName='2K_Contacts10-13_negative_gate')\n",
    "k2200.voltage(0)"
   ]
  },
  {
   "cell_type": "code",
   "execution_count": 22,
   "metadata": {
    "Collapsed": "false"
   },
   "outputs": [
    {
     "name": "stdout",
     "output_type": "stream",
     "text": [
      "Started at 2019-09-29 22:40:47\n",
      "DataSet:\n",
      "   location = 'data/2019-09-29/#012_2K_Contacts10-14_negative_gate_22-40-46'\n",
      "   <Type>   | <array_id>        | <array.name> | <array.shape>\n",
      "   Setpoint | k2200_voltage_set | voltage      | (101,)\n",
      "   Measured | lockin1_X         | X            | (101,)\n",
      "   Measured | lockin1_Y         | Y            | (101,)\n",
      "Finished at 2019-09-29 22:42:46\n"
     ]
    }
   ],
   "source": [
    "gvals = np.linspace(0, 15, 101)\n",
    "data12, plot12 = npd.single_param_sweep(k2200.voltage, gvals, 1, lockin1.X, lockin1.Y, DataName='2K_Contacts10-14_negative_gate')\n",
    "k2200.voltage(0)"
   ]
  },
  {
   "cell_type": "code",
   "execution_count": 25,
   "metadata": {
    "Collapsed": "false"
   },
   "outputs": [
    {
     "name": "stdout",
     "output_type": "stream",
     "text": [
      "Started at 2019-09-30 11:29:59\n",
      "DataSet:\n",
      "   location = 'data/2019-09-30/#001_290K_Contacts4-3_positive_gate_11-29-58'\n",
      "   <Type>   | <array_id>        | <array.name> | <array.shape>\n",
      "   Setpoint | k2200_voltage_set | voltage      | (101,)\n",
      "   Measured | lockin1_X         | X            | (101,)\n",
      "   Measured | lockin1_Y         | Y            | (101,)\n",
      "Finished at 2019-09-30 11:32:01\n"
     ]
    }
   ],
   "source": [
    "gvals = np.linspace(0, 15, 101)\n",
    "data0, plot0 = npd.single_param_sweep(k2200.voltage, gvals, 1, lockin1.X, lockin1.Y, DataName='290K_Contacts4-3_positive_gate')\n",
    "k2200.voltage(0)"
   ]
  },
  {
   "cell_type": "markdown",
   "metadata": {
    "Collapsed": "false"
   },
   "source": [
    "Maybe 13 is bad too, but it works fine when used to measure 13-3... However, 9 seems to work in the 4-pt setup. Try 10-14"
   ]
  },
  {
   "cell_type": "code",
   "execution_count": null,
   "metadata": {
    "Collapsed": "false"
   },
   "outputs": [],
   "source": [
    "you should just go home dude, we'll figure ut out in the morning. Ok, I don't get what's happening. lol me neither. I'll just try one more on the other side of the devicecool. Contacts 3, 4 seem to be working really well. Contacts 10, 11 are also pretty good. Then contacts 12, 13, 8, 7 seem marginal..  I looked by doing a current measurement an d gotcha"
   ]
  },
  {
   "cell_type": "code",
   "execution_count": 28,
   "metadata": {
    "Collapsed": "false"
   },
   "outputs": [
    {
     "name": "stdout",
     "output_type": "stream",
     "text": [
      "Started at 2019-09-30 12:16:48\n",
      "DataSet:\n",
      "   location = 'data/2019-09-30/#002_2K_Contacts4-3_positive_gate_12-16-47'\n",
      "   <Type>   | <array_id>        | <array.name> | <array.shape>\n",
      "   Setpoint | k2200_voltage_set | voltage      | (101,)\n",
      "   Measured | lockin1_X         | X            | (101,)\n",
      "   Measured | lockin1_Y         | Y            | (101,)\n",
      "Finished at 2019-09-30 12:18:47\n"
     ]
    },
    {
     "data": {
      "image/png": "[encoded data removed]",
      "text/plain": [
       "<qcodes.plots.pyqtgraph.QtPlot at 0x2ef252aa5c0>"
      ]
     },
     "execution_count": 28,
     "metadata": {},
     "output_type": "execute_result"
    }
   ],
   "source": [
    "gvals = np.linspace(0, 15, 101)\n",
    "data1, plot1 = npd.single_param_sweep(k2200.voltage, gvals, 1, lockin1.X, lockin1.Y, DataName='2K_Contacts4-3_positive_gate')\n",
    "k2200.voltage(0)\n",
    "plot1[0]"
   ]
  },
  {
   "cell_type": "code",
   "execution_count": 29,
   "metadata": {
    "Collapsed": "false"
   },
   "outputs": [
    {
     "name": "stdout",
     "output_type": "stream",
     "text": [
      "Started at 2019-09-30 12:20:19\n",
      "DataSet:\n",
      "   location = 'data/2019-09-30/#003_2K_Contacts14-13_positive_gate_12-20-17'\n",
      "   <Type>   | <array_id>        | <array.name> | <array.shape>\n",
      "   Setpoint | k2200_voltage_set | voltage      | (101,)\n",
      "   Measured | lockin1_X         | X            | (101,)\n",
      "   Measured | lockin1_Y         | Y            | (101,)\n",
      "Finished at 2019-09-30 12:22:21\n"
     ]
    },
    {
     "data": {
      "image/png": "[encoded data removed]",
      "text/plain": [
       "<qcodes.plots.pyqtgraph.QtPlot at 0x2ef252aa438>"
      ]
     },
     "execution_count": 29,
     "metadata": {},
     "output_type": "execute_result"
    }
   ],
   "source": [
    "gvals = np.linspace(0, 15, 101)\n",
    "data2, plot2 = npd.single_param_sweep(k2200.voltage, gvals, 1, lockin1.X, lockin1.Y, DataName='2K_Contacts14-13_positive_gate')\n",
    "k2200.voltage(0)\n",
    "plot2[0]"
   ]
  },
  {
   "cell_type": "code",
   "execution_count": 30,
   "metadata": {
    "Collapsed": "false"
   },
   "outputs": [
    {
     "name": "stdout",
     "output_type": "stream",
     "text": [
      "Started at 2019-09-30 12:23:34\n",
      "DataSet:\n",
      "   location = 'data/2019-09-30/#004_2K_Contacts14-13_positive_gate_12-23-34'\n",
      "   <Type>   | <array_id>        | <array.name> | <array.shape>\n",
      "   Setpoint | k2200_voltage_set | voltage      | (81,)\n",
      "   Measured | lockin1_X         | X            | (81,)\n",
      "   Measured | lockin1_Y         | Y            | (81,)\n",
      "Finished at 2019-09-30 12:25:26\n"
     ]
    },
    {
     "data": {
      "image/png": "[encoded data removed]",
      "text/plain": [
       "<qcodes.plots.pyqtgraph.QtPlot at 0x2ef252ab4a8>"
      ]
     },
     "execution_count": 30,
     "metadata": {},
     "output_type": "execute_result"
    }
   ],
   "source": [
    "gvals = np.linspace(0, 20, 81)\n",
    "data3, plot3 = npd.single_param_sweep(k2200.voltage, gvals, 1, lockin1.X, lockin1.Y, DataName='2K_Contacts14-13_positive_gate')\n",
    "k2200.voltage(0)\n",
    "plot3[0]"
   ]
  },
  {
   "cell_type": "code",
   "execution_count": 31,
   "metadata": {
    "Collapsed": "false"
   },
   "outputs": [
    {
     "name": "stdout",
     "output_type": "stream",
     "text": [
      "Started at 2019-09-30 12:27:01\n",
      "DataSet:\n",
      "   location = 'data/2019-09-30/#005_2K_Contacts9-10_positive_gate_12-26-59'\n",
      "   <Type>   | <array_id>        | <array.name> | <array.shape>\n",
      "   Setpoint | k2200_voltage_set | voltage      | (51,)\n",
      "   Measured | lockin1_X         | X            | (51,)\n",
      "   Measured | lockin1_Y         | Y            | (51,)\n",
      "Finished at 2019-09-30 12:28:27\n"
     ]
    },
    {
     "data": {
      "image/png": "[encoded data removed]",
      "text/plain": [
       "<qcodes.plots.pyqtgraph.QtPlot at 0x2ef252ab470>"
      ]
     },
     "execution_count": 31,
     "metadata": {},
     "output_type": "execute_result"
    }
   ],
   "source": [
    "gvals = np.linspace(0, 25, 51)\n",
    "data4, plot4 = npd.single_param_sweep(k2200.voltage, gvals, 1, lockin1.X, lockin1.Y, DataName='2K_Contacts9-10_positive_gate')\n",
    "k2200.voltage(0)\n",
    "plot4[0]"
   ]
  },
  {
   "cell_type": "code",
   "execution_count": 32,
   "metadata": {
    "Collapsed": "false"
   },
   "outputs": [
    {
     "name": "stdout",
     "output_type": "stream",
     "text": [
      "Started at 2019-09-30 12:30:25\n",
      "DataSet:\n",
      "   location = 'data/2019-09-30/#006_2K_Contacts4-3_positive_gate_12-30-24'\n",
      "   <Type>   | <array_id>        | <array.name> | <array.shape>\n",
      "   Setpoint | k2200_voltage_set | voltage      | (61,)\n",
      "   Measured | lockin1_X         | X            | (61,)\n",
      "   Measured | lockin1_Y         | Y            | (61,)\n",
      "Finished at 2019-09-30 12:32:08\n"
     ]
    },
    {
     "data": {
      "image/png": "[encoded data removed]",
      "text/plain": [
       "<qcodes.plots.pyqtgraph.QtPlot at 0x2ef2528ad68>"
      ]
     },
     "execution_count": 32,
     "metadata": {},
     "output_type": "execute_result"
    }
   ],
   "source": [
    "gvals = np.linspace(0, , 61)\n",
    "data5, plot5 = npd.single_param_sweep(k2200.voltage, gvals, 1, lockin1.X, lockin1.Y, DataName='2K_Contacts4-3_positive_gate')\n",
    "k2200.voltage(0)\n",
    "plot5[0]"
   ]
  },
  {
   "cell_type": "code",
   "execution_count": 33,
   "metadata": {
    "Collapsed": "false"
   },
   "outputs": [
    {
     "name": "stdout",
     "output_type": "stream",
     "text": [
      "Started at 2019-09-30 12:37:59\n",
      "DataSet:\n",
      "   location = 'data/2019-09-30/#007_2K_Contacts4-12_negative_gate_12-37-58'\n",
      "   <Type>   | <array_id>        | <array.name> | <array.shape>\n",
      "   Setpoint | k2200_voltage_set | voltage      | (71,)\n",
      "   Measured | lockin1_X         | X            | (71,)\n",
      "   Measured | lockin1_Y         | Y            | (71,)\n",
      "Finished at 2019-09-30 12:39:59\n"
     ]
    },
    {
     "data": {
      "image/png": "[encoded data removed]",
      "text/plain": [
       "<qcodes.plots.pyqtgraph.QtPlot at 0x2ef252b5518>"
      ]
     },
     "execution_count": 33,
     "metadata": {},
     "output_type": "execute_result"
    }
   ],
   "source": [
    "gvals = np.linspace(0, 35, 71)\n",
    "data6, plot6 = npd.single_param_sweep(k2200.voltage, gvals, 1, lockin1.X, lockin1.Y, DataName='2K_Contacts4-12_negative_gate')\n",
    "k2200.voltage(0)\n",
    "plot6[0]"
   ]
  },
  {
   "cell_type": "code",
   "execution_count": 34,
   "metadata": {
    "Collapsed": "false"
   },
   "outputs": [
    {
     "name": "stdout",
     "output_type": "stream",
     "text": [
      "Started at 2019-09-30 12:41:55\n",
      "DataSet:\n",
      "   location = 'data/2019-09-30/#008_2K_Contacts7-10_negative_gate_12-41-54'\n",
      "   <Type>   | <array_id>        | <array.name> | <array.shape>\n",
      "   Setpoint | k2200_voltage_set | voltage      | (71,)\n",
      "   Measured | lockin1_X         | X            | (71,)\n",
      "   Measured | lockin1_Y         | Y            | (71,)\n",
      "Finished at 2019-09-30 12:43:55\n"
     ]
    },
    {
     "data": {
      "image/png": "[encoded data removed]",
      "text/plain": [
       "<qcodes.plots.pyqtgraph.QtPlot at 0x2ef252b5128>"
      ]
     },
     "execution_count": 34,
     "metadata": {},
     "output_type": "execute_result"
    }
   ],
   "source": [
    "gvals = np.linspace(0, 35, 71)\n",
    "data7, plot7 = npd.single_param_sweep(k2200.voltage, gvals, 1, lockin1.X, lockin1.Y, DataName='2K_Contacts7-10_negative_gate')\n",
    "k2200.voltage(0)\n",
    "plot7[0]"
   ]
  },
  {
   "cell_type": "markdown",
   "metadata": {
    "Collapsed": "false"
   },
   "source": [
    "Lockin1 connected to contacts 4-3, lockin2 connected to contacts 7-8"
   ]
  },
  {
   "cell_type": "code",
   "execution_count": 11,
   "metadata": {
    "Collapsed": "false"
   },
   "outputs": [
    {
     "name": "stdout",
     "output_type": "stream",
     "text": [
      "Started at 2019-09-30 15:51:18\n",
      "DataSet:\n",
      "   location = 'data/2019-09-30/#010_1p8K_contacts3-4,contacts7-8_twod_positivegate_15-51-10'\n",
      "   <Type>   | <array_id>                | <array.name>     | <array.shape>\n",
      "   Setpoint | ppms_field_set_stable_set | field_set_stable | (46,)\n",
      "   Setpoint | k2200_voltage_set         | voltage          | (46, 101)\n",
      "   Measured | lockin1_X                 | X                | (46, 101)\n",
      "   Measured | lockin1_Y                 | Y                | (46, 101)\n",
      "   Measured | lockin2_X                 | X                | (46, 101)\n",
      "Finished at 2019-09-30 19:03:10\n"
     ]
    }
   ],
   "source": [
    "gvals = np.linspace(10, 0, 101)  # positive gate voltage (electron side)\n",
    "fieldvals = np.linspace(0, 9000, 46)\n",
    "data8, plot8 = npd.twod_param_sweep(ppms.field_set_stable, fieldvals, k2200.voltage, gvals, lockin1.X, lockin1.Y, lockin2.X, SetDelay1=3, SetDelay2=2, DataName='1p8K_contacts3-4,contacts7-8_twod_positivegate')"
   ]
  },
  {
   "cell_type": "code",
   "execution_count": 50,
   "metadata": {
    "Collapsed": "false"
   },
   "outputs": [
    {
     "data": {
      "text/plain": [
       "0.000123025"
      ]
     },
     "execution_count": 50,
     "metadata": {},
     "output_type": "execute_result"
    }
   ],
   "source": [
    "np.max(data8.lockin1_X[:,:])"
   ]
  },
  {
   "cell_type": "code",
   "execution_count": 44,
   "metadata": {
    "Collapsed": "false"
   },
   "outputs": [
    {
     "data": {
      "application/javascript": [
       "/* Put everything inside the global mpl namespace */\n",
       "window.mpl = {};\n",
       "\n",
       "\n",
       "mpl.get_websocket_type = function() {\n",
       "    if (typeof(WebSocket) !== 'undefined') {\n",
       "        return WebSocket;\n",
       "    } else if (typeof(MozWebSocket) !== 'undefined') {\n",
       "        return MozWebSocket;\n",
       "    } else {\n",
       "        alert('Your browser does not have WebSocket support.' +\n",
       "              'Please try Chrome, Safari or Firefox ≥ 6. ' +\n",
       "              'Firefox 4 and 5 are also supported but you ' +\n",
       "              'have to enable WebSockets in about:config.');\n",
       "    };\n",
       "}\n",
       "\n",
       "mpl.figure = function(figure_id, websocket, ondownload, parent_element) {\n",
       "    this.id = figure_id;\n",
       "\n",
       "    this.ws = websocket;\n",
       "\n",
       "    this.supports_binary = (this.ws.binaryType != undefined);\n",
       "\n",
       "    if (!this.supports_binary) {\n",
       "        var warnings = document.getElementById(\"mpl-warnings\");\n",
       "        if (warnings) {\n",
       "            warnings.style.display = 'block';\n",
       "            warnings.textContent = (\n",
       "                \"This browser does not support binary websocket messages. \" +\n",
       "                    \"Performance may be slow.\");\n",
       "        }\n",
       "    }\n",
       "\n",
       "    this.imageObj = new Image();\n",
       "\n",
       "    this.context = undefined;\n",
       "    this.message = undefined;\n",
       "    this.canvas = undefined;\n",
       "    this.rubberband_canvas = undefined;\n",
       "    this.rubberband_context = undefined;\n",
       "    this.format_dropdown = undefined;\n",
       "\n",
       "    this.image_mode = 'full';\n",
       "\n",
       "    this.root = $('<div/>');\n",
       "    this._root_extra_style(this.root)\n",
       "    this.root.attr('style', 'display: inline-block');\n",
       "\n",
       "    $(parent_element).append(this.root);\n",
       "\n",
       "    this._init_header(this);\n",
       "    this._init_canvas(this);\n",
       "    this._init_toolbar(this);\n",
       "\n",
       "    var fig = this;\n",
       "\n",
       "    this.waiting = false;\n",
       "\n",
       "    this.ws.onopen =  function () {\n",
       "            fig.send_message(\"supports_binary\", {value: fig.supports_binary});\n",
       "            fig.send_message(\"send_image_mode\", {});\n",
       "            if (mpl.ratio != 1) {\n",
       "                fig.send_message(\"set_dpi_ratio\", {'dpi_ratio': mpl.ratio});\n",
       "            }\n",
       "            fig.send_message(\"refresh\", {});\n",
       "        }\n",
       "\n",
       "    this.imageObj.onload = function() {\n",
       "            if (fig.image_mode == 'full') {\n",
       "                // Full images could contain transparency (where diff images\n",
       "                // almost always do), so we need to clear the canvas so that\n",
       "                // there is no ghosting.\n",
       "                fig.context.clearRect(0, 0, fig.canvas.width, fig.canvas.height);\n",
       "            }\n",
       "            fig.context.drawImage(fig.imageObj, 0, 0);\n",
       "        };\n",
       "\n",
       "    this.imageObj.onunload = function() {\n",
       "        fig.ws.close();\n",
       "    }\n",
       "\n",
       "    this.ws.onmessage = this._make_on_message_function(this);\n",
       "\n",
       "    this.ondownload = ondownload;\n",
       "}\n",
       "\n",
       "mpl.figure.prototype._init_header = function() {\n",
       "    var titlebar = $(\n",
       "        '<div class=\"ui-dialog-titlebar ui-widget-header ui-corner-all ' +\n",
       "        'ui-helper-clearfix\"/>');\n",
       "    var titletext = $(\n",
       "        '<div class=\"ui-dialog-title\" style=\"width: 100%; ' +\n",
       "        'text-align: center; padding: 3px;\"/>');\n",
       "    titlebar.append(titletext)\n",
       "    this.root.append(titlebar);\n",
       "    this.header = titletext[0];\n",
       "}\n",
       "\n",
       "\n",
       "\n",
       "mpl.figure.prototype._canvas_extra_style = function(canvas_div) {\n",
       "\n",
       "}\n",
       "\n",
       "\n",
       "mpl.figure.prototype._root_extra_style = function(canvas_div) {\n",
       "\n",
       "}\n",
       "\n",
       "mpl.figure.prototype._init_canvas = function() {\n",
       "    var fig = this;\n",
       "\n",
       "    var canvas_div = $('<div/>');\n",
       "\n",
       "    canvas_div.attr('style', 'position: relative; clear: both; outline: 0');\n",
       "\n",
       "    function canvas_keyboard_event(event) {\n",
       "        return fig.key_event(event, event['data']);\n",
       "    }\n",
       "\n",
       "    canvas_div.keydown('key_press', canvas_keyboard_event);\n",
       "    canvas_div.keyup('key_release', canvas_keyboard_event);\n",
       "    this.canvas_div = canvas_div\n",
       "    this._canvas_extra_style(canvas_div)\n",
       "    this.root.append(canvas_div);\n",
       "\n",
       "    var canvas = $('<canvas/>');\n",
       "    canvas.addClass('mpl-canvas');\n",
       "    canvas.attr('style', \"left: 0; top: 0; z-index: 0; outline: 0\")\n",
       "\n",
       "    this.canvas = canvas[0];\n",
       "    this.context = canvas[0].getContext(\"2d\");\n",
       "\n",
       "    var backingStore = this.context.backingStorePixelRatio ||\n",
       "\tthis.context.webkitBackingStorePixelRatio ||\n",
       "\tthis.context.mozBackingStorePixelRatio ||\n",
       "\tthis.context.msBackingStorePixelRatio ||\n",
       "\tthis.context.oBackingStorePixelRatio ||\n",
       "\tthis.context.backingStorePixelRatio || 1;\n",
       "\n",
       "    mpl.ratio = (window.devicePixelRatio || 1) / backingStore;\n",
       "\n",
       "    var rubberband = $('<canvas/>');\n",
       "    rubberband.attr('style', \"position: absolute; left: 0; top: 0; z-index: 1;\")\n",
       "\n",
       "    var pass_mouse_events = true;\n",
       "\n",
       "    canvas_div.resizable({\n",
       "        start: function(event, ui) {\n",
       "            pass_mouse_events = false;\n",
       "        },\n",
       "        resize: function(event, ui) {\n",
       "            fig.request_resize(ui.size.width, ui.size.height);\n",
       "        },\n",
       "        stop: function(event, ui) {\n",
       "            pass_mouse_events = true;\n",
       "            fig.request_resize(ui.size.width, ui.size.height);\n",
       "        },\n",
       "    });\n",
       "\n",
       "    function mouse_event_fn(event) {\n",
       "        if (pass_mouse_events)\n",
       "            return fig.mouse_event(event, event['data']);\n",
       "    }\n",
       "\n",
       "    rubberband.mousedown('button_press', mouse_event_fn);\n",
       "    rubberband.mouseup('button_release', mouse_event_fn);\n",
       "    // Throttle sequential mouse events to 1 every 20ms.\n",
       "    rubberband.mousemove('motion_notify', mouse_event_fn);\n",
       "\n",
       "    rubberband.mouseenter('figure_enter', mouse_event_fn);\n",
       "    rubberband.mouseleave('figure_leave', mouse_event_fn);\n",
       "\n",
       "    canvas_div.on(\"wheel\", function (event) {\n",
       "        event = event.originalEvent;\n",
       "        event['data'] = 'scroll'\n",
       "        if (event.deltaY < 0) {\n",
       "            event.step = 1;\n",
       "        } else {\n",
       "            event.step = -1;\n",
       "        }\n",
       "        mouse_event_fn(event);\n",
       "    });\n",
       "\n",
       "    canvas_div.append(canvas);\n",
       "    canvas_div.append(rubberband);\n",
       "\n",
       "    this.rubberband = rubberband;\n",
       "    this.rubberband_canvas = rubberband[0];\n",
       "    this.rubberband_context = rubberband[0].getContext(\"2d\");\n",
       "    this.rubberband_context.strokeStyle = \"#000000\";\n",
       "\n",
       "    this._resize_canvas = function(width, height) {\n",
       "        // Keep the size of the canvas, canvas container, and rubber band\n",
       "        // canvas in synch.\n",
       "        canvas_div.css('width', width)\n",
       "        canvas_div.css('height', height)\n",
       "\n",
       "        canvas.attr('width', width * mpl.ratio);\n",
       "        canvas.attr('height', height * mpl.ratio);\n",
       "        canvas.attr('style', 'width: ' + width + 'px; height: ' + height + 'px;');\n",
       "\n",
       "        rubberband.attr('width', width);\n",
       "        rubberband.attr('height', height);\n",
       "    }\n",
       "\n",
       "    // Set the figure to an initial 600x600px, this will subsequently be updated\n",
       "    // upon first draw.\n",
       "    this._resize_canvas(600, 600);\n",
       "\n",
       "    // Disable right mouse context menu.\n",
       "    $(this.rubberband_canvas).bind(\"contextmenu\",function(e){\n",
       "        return false;\n",
       "    });\n",
       "\n",
       "    function set_focus () {\n",
       "        canvas.focus();\n",
       "        canvas_div.focus();\n",
       "    }\n",
       "\n",
       "    window.setTimeout(set_focus, 100);\n",
       "}\n",
       "\n",
       "mpl.figure.prototype._init_toolbar = function() {\n",
       "    var fig = this;\n",
       "\n",
       "    var nav_element = $('<div/>')\n",
       "    nav_element.attr('style', 'width: 100%');\n",
       "    this.root.append(nav_element);\n",
       "\n",
       "    // Define a callback function for later on.\n",
       "    function toolbar_event(event) {\n",
       "        return fig.toolbar_button_onclick(event['data']);\n",
       "    }\n",
       "    function toolbar_mouse_event(event) {\n",
       "        return fig.toolbar_button_onmouseover(event['data']);\n",
       "    }\n",
       "\n",
       "    for(var toolbar_ind in mpl.toolbar_items) {\n",
       "        var name = mpl.toolbar_items[toolbar_ind][0];\n",
       "        var tooltip = mpl.toolbar_items[toolbar_ind][1];\n",
       "        var image = mpl.toolbar_items[toolbar_ind][2];\n",
       "        var method_name = mpl.toolbar_items[toolbar_ind][3];\n",
       "\n",
       "        if (!name) {\n",
       "            // put a spacer in here.\n",
       "            continue;\n",
       "        }\n",
       "        var button = $('<button/>');\n",
       "        button.addClass('ui-button ui-widget ui-state-default ui-corner-all ' +\n",
       "                        'ui-button-icon-only');\n",
       "        button.attr('role', 'button');\n",
       "        button.attr('aria-disabled', 'false');\n",
       "        button.click(method_name, toolbar_event);\n",
       "        button.mouseover(tooltip, toolbar_mouse_event);\n",
       "\n",
       "        var icon_img = $('<span/>');\n",
       "        icon_img.addClass('ui-button-icon-primary ui-icon');\n",
       "        icon_img.addClass(image);\n",
       "        icon_img.addClass('ui-corner-all');\n",
       "\n",
       "        var tooltip_span = $('<span/>');\n",
       "        tooltip_span.addClass('ui-button-text');\n",
       "        tooltip_span.html(tooltip);\n",
       "\n",
       "        button.append(icon_img);\n",
       "        button.append(tooltip_span);\n",
       "\n",
       "        nav_element.append(button);\n",
       "    }\n",
       "\n",
       "    var fmt_picker_span = $('<span/>');\n",
       "\n",
       "    var fmt_picker = $('<select/>');\n",
       "    fmt_picker.addClass('mpl-toolbar-option ui-widget ui-widget-content');\n",
       "    fmt_picker_span.append(fmt_picker);\n",
       "    nav_element.append(fmt_picker_span);\n",
       "    this.format_dropdown = fmt_picker[0];\n",
       "\n",
       "    for (var ind in mpl.extensions) {\n",
       "        var fmt = mpl.extensions[ind];\n",
       "        var option = $(\n",
       "            '<option/>', {selected: fmt === mpl.default_extension}).html(fmt);\n",
       "        fmt_picker.append(option)\n",
       "    }\n",
       "\n",
       "    // Add hover states to the ui-buttons\n",
       "    $( \".ui-button\" ).hover(\n",
       "        function() { $(this).addClass(\"ui-state-hover\");},\n",
       "        function() { $(this).removeClass(\"ui-state-hover\");}\n",
       "    );\n",
       "\n",
       "    var status_bar = $('<span class=\"mpl-message\"/>');\n",
       "    nav_element.append(status_bar);\n",
       "    this.message = status_bar[0];\n",
       "}\n",
       "\n",
       "mpl.figure.prototype.request_resize = function(x_pixels, y_pixels) {\n",
       "    // Request matplotlib to resize the figure. Matplotlib will then trigger a resize in the client,\n",
       "    // which will in turn request a refresh of the image.\n",
       "    this.send_message('resize', {'width': x_pixels, 'height': y_pixels});\n",
       "}\n",
       "\n",
       "mpl.figure.prototype.send_message = function(type, properties) {\n",
       "    properties['type'] = type;\n",
       "    properties['figure_id'] = this.id;\n",
       "    this.ws.send(JSON.stringify(properties));\n",
       "}\n",
       "\n",
       "mpl.figure.prototype.send_draw_message = function() {\n",
       "    if (!this.waiting) {\n",
       "        this.waiting = true;\n",
       "        this.ws.send(JSON.stringify({type: \"draw\", figure_id: this.id}));\n",
       "    }\n",
       "}\n",
       "\n",
       "\n",
       "mpl.figure.prototype.handle_save = function(fig, msg) {\n",
       "    var format_dropdown = fig.format_dropdown;\n",
       "    var format = format_dropdown.options[format_dropdown.selectedIndex].value;\n",
       "    fig.ondownload(fig, format);\n",
       "}\n",
       "\n",
       "\n",
       "mpl.figure.prototype.handle_resize = function(fig, msg) {\n",
       "    var size = msg['size'];\n",
       "    if (size[0] != fig.canvas.width || size[1] != fig.canvas.height) {\n",
       "        fig._resize_canvas(size[0], size[1]);\n",
       "        fig.send_message(\"refresh\", {});\n",
       "    };\n",
       "}\n",
       "\n",
       "mpl.figure.prototype.handle_rubberband = function(fig, msg) {\n",
       "    var x0 = msg['x0'] / mpl.ratio;\n",
       "    var y0 = (fig.canvas.height - msg['y0']) / mpl.ratio;\n",
       "    var x1 = msg['x1'] / mpl.ratio;\n",
       "    var y1 = (fig.canvas.height - msg['y1']) / mpl.ratio;\n",
       "    x0 = Math.floor(x0) + 0.5;\n",
       "    y0 = Math.floor(y0) + 0.5;\n",
       "    x1 = Math.floor(x1) + 0.5;\n",
       "    y1 = Math.floor(y1) + 0.5;\n",
       "    var min_x = Math.min(x0, x1);\n",
       "    var min_y = Math.min(y0, y1);\n",
       "    var width = Math.abs(x1 - x0);\n",
       "    var height = Math.abs(y1 - y0);\n",
       "\n",
       "    fig.rubberband_context.clearRect(\n",
       "        0, 0, fig.canvas.width, fig.canvas.height);\n",
       "\n",
       "    fig.rubberband_context.strokeRect(min_x, min_y, width, height);\n",
       "}\n",
       "\n",
       "mpl.figure.prototype.handle_figure_label = function(fig, msg) {\n",
       "    // Updates the figure title.\n",
       "    fig.header.textContent = msg['label'];\n",
       "}\n",
       "\n",
       "mpl.figure.prototype.handle_cursor = function(fig, msg) {\n",
       "    var cursor = msg['cursor'];\n",
       "    switch(cursor)\n",
       "    {\n",
       "    case 0:\n",
       "        cursor = 'pointer';\n",
       "        break;\n",
       "    case 1:\n",
       "        cursor = 'default';\n",
       "        break;\n",
       "    case 2:\n",
       "        cursor = 'crosshair';\n",
       "        break;\n",
       "    case 3:\n",
       "        cursor = 'move';\n",
       "        break;\n",
       "    }\n",
       "    fig.rubberband_canvas.style.cursor = cursor;\n",
       "}\n",
       "\n",
       "mpl.figure.prototype.handle_message = function(fig, msg) {\n",
       "    fig.message.textContent = msg['message'];\n",
       "}\n",
       "\n",
       "mpl.figure.prototype.handle_draw = function(fig, msg) {\n",
       "    // Request the server to send over a new figure.\n",
       "    fig.send_draw_message();\n",
       "}\n",
       "\n",
       "mpl.figure.prototype.handle_image_mode = function(fig, msg) {\n",
       "    fig.image_mode = msg['mode'];\n",
       "}\n",
       "\n",
       "mpl.figure.prototype.updated_canvas_event = function() {\n",
       "    // Called whenever the canvas gets updated.\n",
       "    this.send_message(\"ack\", {});\n",
       "}\n",
       "\n",
       "// A function to construct a web socket function for onmessage handling.\n",
       "// Called in the figure constructor.\n",
       "mpl.figure.prototype._make_on_message_function = function(fig) {\n",
       "    return function socket_on_message(evt) {\n",
       "        if (evt.data instanceof Blob) {\n",
       "            /* FIXME: We get \"Resource interpreted as Image but\n",
       "             * transferred with MIME type text/plain:\" errors on\n",
       "             * Chrome.  But how to set the MIME type?  It doesn't seem\n",
       "             * to be part of the websocket stream */\n",
       "            evt.data.type = \"image/png\";\n",
       "\n",
       "            /* Free the memory for the previous frames */\n",
       "            if (fig.imageObj.src) {\n",
       "                (window.URL || window.webkitURL).revokeObjectURL(\n",
       "                    fig.imageObj.src);\n",
       "            }\n",
       "\n",
       "            fig.imageObj.src = (window.URL || window.webkitURL).createObjectURL(\n",
       "                evt.data);\n",
       "            fig.updated_canvas_event();\n",
       "            fig.waiting = false;\n",
       "            return;\n",
       "        }\n",
       "        else if (typeof evt.data === 'string' && evt.data.slice(0, 21) == \"data:image/png;base64\") {\n",
       "            fig.imageObj.src = evt.data;\n",
       "            fig.updated_canvas_event();\n",
       "            fig.waiting = false;\n",
       "            return;\n",
       "        }\n",
       "\n",
       "        var msg = JSON.parse(evt.data);\n",
       "        var msg_type = msg['type'];\n",
       "\n",
       "        // Call the  \"handle_{type}\" callback, which takes\n",
       "        // the figure and JSON message as its only arguments.\n",
       "        try {\n",
       "            var callback = fig[\"handle_\" + msg_type];\n",
       "        } catch (e) {\n",
       "            console.log(\"No handler for the '\" + msg_type + \"' message type: \", msg);\n",
       "            return;\n",
       "        }\n",
       "\n",
       "        if (callback) {\n",
       "            try {\n",
       "                // console.log(\"Handling '\" + msg_type + \"' message: \", msg);\n",
       "                callback(fig, msg);\n",
       "            } catch (e) {\n",
       "                console.log(\"Exception inside the 'handler_\" + msg_type + \"' callback:\", e, e.stack, msg);\n",
       "            }\n",
       "        }\n",
       "    };\n",
       "}\n",
       "\n",
       "// from http://stackoverflow.com/questions/1114465/getting-mouse-location-in-canvas\n",
       "mpl.findpos = function(e) {\n",
       "    //this section is from http://www.quirksmode.org/js/events_properties.html\n",
       "    var targ;\n",
       "    if (!e)\n",
       "        e = window.event;\n",
       "    if (e.target)\n",
       "        targ = e.target;\n",
       "    else if (e.srcElement)\n",
       "        targ = e.srcElement;\n",
       "    if (targ.nodeType == 3) // defeat Safari bug\n",
       "        targ = targ.parentNode;\n",
       "\n",
       "    // jQuery normalizes the pageX and pageY\n",
       "    // pageX,Y are the mouse positions relative to the document\n",
       "    // offset() returns the position of the element relative to the document\n",
       "    var x = e.pageX - $(targ).offset().left;\n",
       "    var y = e.pageY - $(targ).offset().top;\n",
       "\n",
       "    return {\"x\": x, \"y\": y};\n",
       "};\n",
       "\n",
       "/*\n",
       " * return a copy of an object with only non-object keys\n",
       " * we need this to avoid circular references\n",
       " * http://stackoverflow.com/a/24161582/3208463\n",
       " */\n",
       "function simpleKeys (original) {\n",
       "  return Object.keys(original).reduce(function (obj, key) {\n",
       "    if (typeof original[key] !== 'object')\n",
       "        obj[key] = original[key]\n",
       "    return obj;\n",
       "  }, {});\n",
       "}\n",
       "\n",
       "mpl.figure.prototype.mouse_event = function(event, name) {\n",
       "    var canvas_pos = mpl.findpos(event)\n",
       "\n",
       "    if (name === 'button_press')\n",
       "    {\n",
       "        this.canvas.focus();\n",
       "        this.canvas_div.focus();\n",
       "    }\n",
       "\n",
       "    var x = canvas_pos.x * mpl.ratio;\n",
       "    var y = canvas_pos.y * mpl.ratio;\n",
       "\n",
       "    this.send_message(name, {x: x, y: y, button: event.button,\n",
       "                             step: event.step,\n",
       "                             guiEvent: simpleKeys(event)});\n",
       "\n",
       "    /* This prevents the web browser from automatically changing to\n",
       "     * the text insertion cursor when the button is pressed.  We want\n",
       "     * to control all of the cursor setting manually through the\n",
       "     * 'cursor' event from matplotlib */\n",
       "    event.preventDefault();\n",
       "    return false;\n",
       "}\n",
       "\n",
       "mpl.figure.prototype._key_event_extra = function(event, name) {\n",
       "    // Handle any extra behaviour associated with a key event\n",
       "}\n",
       "\n",
       "mpl.figure.prototype.key_event = function(event, name) {\n",
       "\n",
       "    // Prevent repeat events\n",
       "    if (name == 'key_press')\n",
       "    {\n",
       "        if (event.which === this._key)\n",
       "            return;\n",
       "        else\n",
       "            this._key = event.which;\n",
       "    }\n",
       "    if (name == 'key_release')\n",
       "        this._key = null;\n",
       "\n",
       "    var value = '';\n",
       "    if (event.ctrlKey && event.which != 17)\n",
       "        value += \"ctrl+\";\n",
       "    if (event.altKey && event.which != 18)\n",
       "        value += \"alt+\";\n",
       "    if (event.shiftKey && event.which != 16)\n",
       "        value += \"shift+\";\n",
       "\n",
       "    value += 'k';\n",
       "    value += event.which.toString();\n",
       "\n",
       "    this._key_event_extra(event, name);\n",
       "\n",
       "    this.send_message(name, {key: value,\n",
       "                             guiEvent: simpleKeys(event)});\n",
       "    return false;\n",
       "}\n",
       "\n",
       "mpl.figure.prototype.toolbar_button_onclick = function(name) {\n",
       "    if (name == 'download') {\n",
       "        this.handle_save(this, null);\n",
       "    } else {\n",
       "        this.send_message(\"toolbar_button\", {name: name});\n",
       "    }\n",
       "};\n",
       "\n",
       "mpl.figure.prototype.toolbar_button_onmouseover = function(tooltip) {\n",
       "    this.message.textContent = tooltip;\n",
       "};\n",
       "mpl.toolbar_items = [[\"Home\", \"Reset original view\", \"fa fa-home icon-home\", \"home\"], [\"Back\", \"Back to previous view\", \"fa fa-arrow-left icon-arrow-left\", \"back\"], [\"Forward\", \"Forward to next view\", \"fa fa-arrow-right icon-arrow-right\", \"forward\"], [\"\", \"\", \"\", \"\"], [\"Pan\", \"Pan axes with left mouse, zoom with right\", \"fa fa-arrows icon-move\", \"pan\"], [\"Zoom\", \"Zoom to rectangle\", \"fa fa-square-o icon-check-empty\", \"zoom\"], [\"\", \"\", \"\", \"\"], [\"Download\", \"Download plot\", \"fa fa-floppy-o icon-save\", \"download\"]];\n",
       "\n",
       "mpl.extensions = [\"eps\", \"jpeg\", \"pdf\", \"png\", \"ps\", \"raw\", \"svg\", \"tif\"];\n",
       "\n",
       "mpl.default_extension = \"png\";var comm_websocket_adapter = function(comm) {\n",
       "    // Create a \"websocket\"-like object which calls the given IPython comm\n",
       "    // object with the appropriate methods. Currently this is a non binary\n",
       "    // socket, so there is still some room for performance tuning.\n",
       "    var ws = {};\n",
       "\n",
       "    ws.close = function() {\n",
       "        comm.close()\n",
       "    };\n",
       "    ws.send = function(m) {\n",
       "        //console.log('sending', m);\n",
       "        comm.send(m);\n",
       "    };\n",
       "    // Register the callback with on_msg.\n",
       "    comm.on_msg(function(msg) {\n",
       "        //console.log('receiving', msg['content']['data'], msg);\n",
       "        // Pass the mpl event to the overridden (by mpl) onmessage function.\n",
       "        ws.onmessage(msg['content']['data'])\n",
       "    });\n",
       "    return ws;\n",
       "}\n",
       "\n",
       "mpl.mpl_figure_comm = function(comm, msg) {\n",
       "    // This is the function which gets called when the mpl process\n",
       "    // starts-up an IPython Comm through the \"matplotlib\" channel.\n",
       "\n",
       "    var id = msg.content.data.id;\n",
       "    // Get hold of the div created by the display call when the Comm\n",
       "    // socket was opened in Python.\n",
       "    var element = $(\"#\" + id);\n",
       "    var ws_proxy = comm_websocket_adapter(comm)\n",
       "\n",
       "    function ondownload(figure, format) {\n",
       "        window.open(figure.imageObj.src);\n",
       "    }\n",
       "\n",
       "    var fig = new mpl.figure(id, ws_proxy,\n",
       "                           ondownload,\n",
       "                           element.get(0));\n",
       "\n",
       "    // Call onopen now - mpl needs it, as it is assuming we've passed it a real\n",
       "    // web socket which is closed, not our websocket->open comm proxy.\n",
       "    ws_proxy.onopen();\n",
       "\n",
       "    fig.parent_element = element.get(0);\n",
       "    fig.cell_info = mpl.find_output_cell(\"<div id='\" + id + \"'></div>\");\n",
       "    if (!fig.cell_info) {\n",
       "        console.error(\"Failed to find cell for figure\", id, fig);\n",
       "        return;\n",
       "    }\n",
       "\n",
       "    var output_index = fig.cell_info[2]\n",
       "    var cell = fig.cell_info[0];\n",
       "\n",
       "};\n",
       "\n",
       "mpl.figure.prototype.handle_close = function(fig, msg) {\n",
       "    var width = fig.canvas.width/mpl.ratio\n",
       "    fig.root.unbind('remove')\n",
       "\n",
       "    // Update the output cell to use the data from the current canvas.\n",
       "    fig.push_to_output();\n",
       "    var dataURL = fig.canvas.toDataURL();\n",
       "    // Re-enable the keyboard manager in IPython - without this line, in FF,\n",
       "    // the notebook keyboard shortcuts fail.\n",
       "    IPython.keyboard_manager.enable()\n",
       "    $(fig.parent_element).html('<img src=\"' + dataURL + '\" width=\"' + width + '\">');\n",
       "    fig.close_ws(fig, msg);\n",
       "}\n",
       "\n",
       "mpl.figure.prototype.close_ws = function(fig, msg){\n",
       "    fig.send_message('closing', msg);\n",
       "    // fig.ws.close()\n",
       "}\n",
       "\n",
       "mpl.figure.prototype.push_to_output = function(remove_interactive) {\n",
       "    // Turn the data on the canvas into data in the output cell.\n",
       "    var width = this.canvas.width/mpl.ratio\n",
       "    var dataURL = this.canvas.toDataURL();\n",
       "    this.cell_info[1]['text/html'] = '<img src=\"' + dataURL + '\" width=\"' + width + '\">';\n",
       "}\n",
       "\n",
       "mpl.figure.prototype.updated_canvas_event = function() {\n",
       "    // Tell IPython that the notebook contents must change.\n",
       "    IPython.notebook.set_dirty(true);\n",
       "    this.send_message(\"ack\", {});\n",
       "    var fig = this;\n",
       "    // Wait a second, then push the new image to the DOM so\n",
       "    // that it is saved nicely (might be nice to debounce this).\n",
       "    setTimeout(function () { fig.push_to_output() }, 1000);\n",
       "}\n",
       "\n",
       "mpl.figure.prototype._init_toolbar = function() {\n",
       "    var fig = this;\n",
       "\n",
       "    var nav_element = $('<div/>')\n",
       "    nav_element.attr('style', 'width: 100%');\n",
       "    this.root.append(nav_element);\n",
       "\n",
       "    // Define a callback function for later on.\n",
       "    function toolbar_event(event) {\n",
       "        return fig.toolbar_button_onclick(event['data']);\n",
       "    }\n",
       "    function toolbar_mouse_event(event) {\n",
       "        return fig.toolbar_button_onmouseover(event['data']);\n",
       "    }\n",
       "\n",
       "    for(var toolbar_ind in mpl.toolbar_items){\n",
       "        var name = mpl.toolbar_items[toolbar_ind][0];\n",
       "        var tooltip = mpl.toolbar_items[toolbar_ind][1];\n",
       "        var image = mpl.toolbar_items[toolbar_ind][2];\n",
       "        var method_name = mpl.toolbar_items[toolbar_ind][3];\n",
       "\n",
       "        if (!name) { continue; };\n",
       "\n",
       "        var button = $('<button class=\"btn btn-default\" href=\"#\" title=\"' + name + '\"><i class=\"fa ' + image + ' fa-lg\"></i></button>');\n",
       "        button.click(method_name, toolbar_event);\n",
       "        button.mouseover(tooltip, toolbar_mouse_event);\n",
       "        nav_element.append(button);\n",
       "    }\n",
       "\n",
       "    // Add the status bar.\n",
       "    var status_bar = $('<span class=\"mpl-message\" style=\"text-align:right; float: right;\"/>');\n",
       "    nav_element.append(status_bar);\n",
       "    this.message = status_bar[0];\n",
       "\n",
       "    // Add the close button to the window.\n",
       "    var buttongrp = $('<div class=\"btn-group inline pull-right\"></div>');\n",
       "    var button = $('<button class=\"btn btn-mini btn-primary\" href=\"#\" title=\"Stop Interaction\"><i class=\"fa fa-power-off icon-remove icon-large\"></i></button>');\n",
       "    button.click(function (evt) { fig.handle_close(fig, {}); } );\n",
       "    button.mouseover('Stop Interaction', toolbar_mouse_event);\n",
       "    buttongrp.append(button);\n",
       "    var titlebar = this.root.find($('.ui-dialog-titlebar'));\n",
       "    titlebar.prepend(buttongrp);\n",
       "}\n",
       "\n",
       "mpl.figure.prototype._root_extra_style = function(el){\n",
       "    var fig = this\n",
       "    el.on(\"remove\", function(){\n",
       "\tfig.close_ws(fig, {});\n",
       "    });\n",
       "}\n",
       "\n",
       "mpl.figure.prototype._canvas_extra_style = function(el){\n",
       "    // this is important to make the div 'focusable\n",
       "    el.attr('tabindex', 0)\n",
       "    // reach out to IPython and tell the keyboard manager to turn it's self\n",
       "    // off when our div gets focus\n",
       "\n",
       "    // location in version 3\n",
       "    if (IPython.notebook.keyboard_manager) {\n",
       "        IPython.notebook.keyboard_manager.register_events(el);\n",
       "    }\n",
       "    else {\n",
       "        // location in version 2\n",
       "        IPython.keyboard_manager.register_events(el);\n",
       "    }\n",
       "\n",
       "}\n",
       "\n",
       "mpl.figure.prototype._key_event_extra = function(event, name) {\n",
       "    var manager = IPython.notebook.keyboard_manager;\n",
       "    if (!manager)\n",
       "        manager = IPython.keyboard_manager;\n",
       "\n",
       "    // Check for shift+enter\n",
       "    if (event.shiftKey && event.which == 13) {\n",
       "        this.canvas_div.blur();\n",
       "        event.shiftKey = false;\n",
       "        // Send a \"J\" for go to next cell\n",
       "        event.which = 74;\n",
       "        event.keyCode = 74;\n",
       "        manager.command_mode();\n",
       "        manager.handle_keydown(event);\n",
       "    }\n",
       "}\n",
       "\n",
       "mpl.figure.prototype.handle_save = function(fig, msg) {\n",
       "    fig.ondownload(fig, null);\n",
       "}\n",
       "\n",
       "\n",
       "mpl.find_output_cell = function(html_output) {\n",
       "    // Return the cell and output element which can be found *uniquely* in the notebook.\n",
       "    // Note - this is a bit hacky, but it is done because the \"notebook_saving.Notebook\"\n",
       "    // IPython event is triggered only after the cells have been serialised, which for\n",
       "    // our purposes (turning an active figure into a static one), is too late.\n",
       "    var cells = IPython.notebook.get_cells();\n",
       "    var ncells = cells.length;\n",
       "    for (var i=0; i<ncells; i++) {\n",
       "        var cell = cells[i];\n",
       "        if (cell.cell_type === 'code'){\n",
       "            for (var j=0; j<cell.output_area.outputs.length; j++) {\n",
       "                var data = cell.output_area.outputs[j];\n",
       "                if (data.data) {\n",
       "                    // IPython >= 3 moved mimebundle to data attribute of output\n",
       "                    data = data.data;\n",
       "                }\n",
       "                if (data['text/html'] == html_output) {\n",
       "                    return [cell, data, j];\n",
       "                }\n",
       "            }\n",
       "        }\n",
       "    }\n",
       "}\n",
       "\n",
       "// Register the function which deals with the matplotlib target/channel.\n",
       "// The kernel may be null if the page has been refreshed.\n",
       "if (IPython.notebook.kernel != null) {\n",
       "    IPython.notebook.kernel.comm_manager.register_target('matplotlib', mpl.mpl_figure_comm);\n",
       "}\n"
      ],
      "text/plain": [
       "<IPython.core.display.Javascript object>"
      ]
     },
     "metadata": {},
     "output_type": "display_data"
    },
    {
     "data": {
      "text/html": [
       "<img src=\"data:image/png;base64,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\" width=\"886.6666901553125\">"
      ],
      "text/plain": [
       "<IPython.core.display.HTML object>"
      ]
     },
     "metadata": {},
     "output_type": "display_data"
    },
    {
     "data": {
      "text/plain": [
       "<matplotlib.collections.QuadMesh at 0x227c759cac8>"
      ]
     },
     "execution_count": 44,
     "metadata": {},
     "output_type": "execute_result"
    }
   ],
   "source": [
    "%matplotlib notebook\n",
    "from matplotlib.colors import SymLogNorm \n",
    "plt.pcolormesh(data8.lockin2_X[:]/1e-9,norm=SymLogNorm(300))"
   ]
  },
  {
   "cell_type": "code",
   "execution_count": 51,
   "metadata": {
    "Collapsed": "false"
   },
   "outputs": [
    {
     "name": "stdout",
     "output_type": "stream",
     "text": [
      "Started at 2019-09-30 19:27:53\n",
      "DataSet:\n",
      "   location = 'data/2019-09-30/#011_1nA_1p8K_9T_19-27-52'\n",
      "   <Type>   | <array_id>        | <array.name> | <array.shape>\n",
      "   Setpoint | k2200_voltage_set | voltage      | (201,)\n",
      "   Measured | lockin1_X         | X            | (201,)\n",
      "   Measured | lockin1_Y         | Y            | (201,)\n",
      "   Measured | lockin2_X         | X            | (201,)\n",
      "   Measured | lockin2_Y         | Y            | (201,)\n",
      "Finished at 2019-09-30 19:33:36\n"
     ]
    }
   ],
   "source": [
    "gvals = np.linspace(10, 0, 201)\n",
    "data9, plot9 = npd.single_param_sweep(k2200.voltage, gvals, 1.5, lockin1.X, lockin1.Y, lockin2.X, lockin2.Y, DataName='1nA_1p8K_9T')"
   ]
  },
  {
   "cell_type": "code",
   "execution_count": 62,
   "metadata": {
    "Collapsed": "false"
   },
   "outputs": [],
   "source": [
    "# try one with 5 nA instead of 1 nA excitation\n",
    "lockin1.amplitude(5)"
   ]
  },
  {
   "cell_type": "code",
   "execution_count": 63,
   "metadata": {
    "Collapsed": "false"
   },
   "outputs": [
    {
     "name": "stdout",
     "output_type": "stream",
     "text": [
      "Started at 2019-09-30 19:37:24\n",
      "DataSet:\n",
      "   location = 'data/2019-09-30/#012_5nA_1p8K_9T_19-37-22'\n",
      "   <Type>   | <array_id>        | <array.name> | <array.shape>\n",
      "   Setpoint | k2200_voltage_set | voltage      | (201,)\n",
      "   Measured | lockin1_X         | X            | (201,)\n",
      "   Measured | lockin1_Y         | Y            | (201,)\n",
      "   Measured | lockin2_X         | X            | (201,)\n",
      "   Measured | lockin2_Y         | Y            | (201,)\n",
      "Finished at 2019-09-30 19:43:10\n"
     ]
    }
   ],
   "source": [
    "gvals = np.linspace(10, 0, 201)\n",
    "data10, plot10 = npd.single_param_sweep(k2200.voltage, gvals, 1.5, lockin1.X, lockin1.Y, lockin2.X, lockin2.Y, DataName='5nA_1p8K_9T')"
   ]
  },
  {
   "cell_type": "code",
   "execution_count": 74,
   "metadata": {
    "Collapsed": "false"
   },
   "outputs": [
    {
     "data": {
      "application/javascript": [
       "/* Put everything inside the global mpl namespace */\n",
       "window.mpl = {};\n",
       "\n",
       "\n",
       "mpl.get_websocket_type = function() {\n",
       "    if (typeof(WebSocket) !== 'undefined') {\n",
       "        return WebSocket;\n",
       "    } else if (typeof(MozWebSocket) !== 'undefined') {\n",
       "        return MozWebSocket;\n",
       "    } else {\n",
       "        alert('Your browser does not have WebSocket support.' +\n",
       "              'Please try Chrome, Safari or Firefox ≥ 6. ' +\n",
       "              'Firefox 4 and 5 are also supported but you ' +\n",
       "              'have to enable WebSockets in about:config.');\n",
       "    };\n",
       "}\n",
       "\n",
       "mpl.figure = function(figure_id, websocket, ondownload, parent_element) {\n",
       "    this.id = figure_id;\n",
       "\n",
       "    this.ws = websocket;\n",
       "\n",
       "    this.supports_binary = (this.ws.binaryType != undefined);\n",
       "\n",
       "    if (!this.supports_binary) {\n",
       "        var warnings = document.getElementById(\"mpl-warnings\");\n",
       "        if (warnings) {\n",
       "            warnings.style.display = 'block';\n",
       "            warnings.textContent = (\n",
       "                \"This browser does not support binary websocket messages. \" +\n",
       "                    \"Performance may be slow.\");\n",
       "        }\n",
       "    }\n",
       "\n",
       "    this.imageObj = new Image();\n",
       "\n",
       "    this.context = undefined;\n",
       "    this.message = undefined;\n",
       "    this.canvas = undefined;\n",
       "    this.rubberband_canvas = undefined;\n",
       "    this.rubberband_context = undefined;\n",
       "    this.format_dropdown = undefined;\n",
       "\n",
       "    this.image_mode = 'full';\n",
       "\n",
       "    this.root = $('<div/>');\n",
       "    this._root_extra_style(this.root)\n",
       "    this.root.attr('style', 'display: inline-block');\n",
       "\n",
       "    $(parent_element).append(this.root);\n",
       "\n",
       "    this._init_header(this);\n",
       "    this._init_canvas(this);\n",
       "    this._init_toolbar(this);\n",
       "\n",
       "    var fig = this;\n",
       "\n",
       "    this.waiting = false;\n",
       "\n",
       "    this.ws.onopen =  function () {\n",
       "            fig.send_message(\"supports_binary\", {value: fig.supports_binary});\n",
       "            fig.send_message(\"send_image_mode\", {});\n",
       "            if (mpl.ratio != 1) {\n",
       "                fig.send_message(\"set_dpi_ratio\", {'dpi_ratio': mpl.ratio});\n",
       "            }\n",
       "            fig.send_message(\"refresh\", {});\n",
       "        }\n",
       "\n",
       "    this.imageObj.onload = function() {\n",
       "            if (fig.image_mode == 'full') {\n",
       "                // Full images could contain transparency (where diff images\n",
       "                // almost always do), so we need to clear the canvas so that\n",
       "                // there is no ghosting.\n",
       "                fig.context.clearRect(0, 0, fig.canvas.width, fig.canvas.height);\n",
       "            }\n",
       "            fig.context.drawImage(fig.imageObj, 0, 0);\n",
       "        };\n",
       "\n",
       "    this.imageObj.onunload = function() {\n",
       "        fig.ws.close();\n",
       "    }\n",
       "\n",
       "    this.ws.onmessage = this._make_on_message_function(this);\n",
       "\n",
       "    this.ondownload = ondownload;\n",
       "}\n",
       "\n",
       "mpl.figure.prototype._init_header = function() {\n",
       "    var titlebar = $(\n",
       "        '<div class=\"ui-dialog-titlebar ui-widget-header ui-corner-all ' +\n",
       "        'ui-helper-clearfix\"/>');\n",
       "    var titletext = $(\n",
       "        '<div class=\"ui-dialog-title\" style=\"width: 100%; ' +\n",
       "        'text-align: center; padding: 3px;\"/>');\n",
       "    titlebar.append(titletext)\n",
       "    this.root.append(titlebar);\n",
       "    this.header = titletext[0];\n",
       "}\n",
       "\n",
       "\n",
       "\n",
       "mpl.figure.prototype._canvas_extra_style = function(canvas_div) {\n",
       "\n",
       "}\n",
       "\n",
       "\n",
       "mpl.figure.prototype._root_extra_style = function(canvas_div) {\n",
       "\n",
       "}\n",
       "\n",
       "mpl.figure.prototype._init_canvas = function() {\n",
       "    var fig = this;\n",
       "\n",
       "    var canvas_div = $('<div/>');\n",
       "\n",
       "    canvas_div.attr('style', 'position: relative; clear: both; outline: 0');\n",
       "\n",
       "    function canvas_keyboard_event(event) {\n",
       "        return fig.key_event(event, event['data']);\n",
       "    }\n",
       "\n",
       "    canvas_div.keydown('key_press', canvas_keyboard_event);\n",
       "    canvas_div.keyup('key_release', canvas_keyboard_event);\n",
       "    this.canvas_div = canvas_div\n",
       "    this._canvas_extra_style(canvas_div)\n",
       "    this.root.append(canvas_div);\n",
       "\n",
       "    var canvas = $('<canvas/>');\n",
       "    canvas.addClass('mpl-canvas');\n",
       "    canvas.attr('style', \"left: 0; top: 0; z-index: 0; outline: 0\")\n",
       "\n",
       "    this.canvas = canvas[0];\n",
       "    this.context = canvas[0].getContext(\"2d\");\n",
       "\n",
       "    var backingStore = this.context.backingStorePixelRatio ||\n",
       "\tthis.context.webkitBackingStorePixelRatio ||\n",
       "\tthis.context.mozBackingStorePixelRatio ||\n",
       "\tthis.context.msBackingStorePixelRatio ||\n",
       "\tthis.context.oBackingStorePixelRatio ||\n",
       "\tthis.context.backingStorePixelRatio || 1;\n",
       "\n",
       "    mpl.ratio = (window.devicePixelRatio || 1) / backingStore;\n",
       "\n",
       "    var rubberband = $('<canvas/>');\n",
       "    rubberband.attr('style', \"position: absolute; left: 0; top: 0; z-index: 1;\")\n",
       "\n",
       "    var pass_mouse_events = true;\n",
       "\n",
       "    canvas_div.resizable({\n",
       "        start: function(event, ui) {\n",
       "            pass_mouse_events = false;\n",
       "        },\n",
       "        resize: function(event, ui) {\n",
       "            fig.request_resize(ui.size.width, ui.size.height);\n",
       "        },\n",
       "        stop: function(event, ui) {\n",
       "            pass_mouse_events = true;\n",
       "            fig.request_resize(ui.size.width, ui.size.height);\n",
       "        },\n",
       "    });\n",
       "\n",
       "    function mouse_event_fn(event) {\n",
       "        if (pass_mouse_events)\n",
       "            return fig.mouse_event(event, event['data']);\n",
       "    }\n",
       "\n",
       "    rubberband.mousedown('button_press', mouse_event_fn);\n",
       "    rubberband.mouseup('button_release', mouse_event_fn);\n",
       "    // Throttle sequential mouse events to 1 every 20ms.\n",
       "    rubberband.mousemove('motion_notify', mouse_event_fn);\n",
       "\n",
       "    rubberband.mouseenter('figure_enter', mouse_event_fn);\n",
       "    rubberband.mouseleave('figure_leave', mouse_event_fn);\n",
       "\n",
       "    canvas_div.on(\"wheel\", function (event) {\n",
       "        event = event.originalEvent;\n",
       "        event['data'] = 'scroll'\n",
       "        if (event.deltaY < 0) {\n",
       "            event.step = 1;\n",
       "        } else {\n",
       "            event.step = -1;\n",
       "        }\n",
       "        mouse_event_fn(event);\n",
       "    });\n",
       "\n",
       "    canvas_div.append(canvas);\n",
       "    canvas_div.append(rubberband);\n",
       "\n",
       "    this.rubberband = rubberband;\n",
       "    this.rubberband_canvas = rubberband[0];\n",
       "    this.rubberband_context = rubberband[0].getContext(\"2d\");\n",
       "    this.rubberband_context.strokeStyle = \"#000000\";\n",
       "\n",
       "    this._resize_canvas = function(width, height) {\n",
       "        // Keep the size of the canvas, canvas container, and rubber band\n",
       "        // canvas in synch.\n",
       "        canvas_div.css('width', width)\n",
       "        canvas_div.css('height', height)\n",
       "\n",
       "        canvas.attr('width', width * mpl.ratio);\n",
       "        canvas.attr('height', height * mpl.ratio);\n",
       "        canvas.attr('style', 'width: ' + width + 'px; height: ' + height + 'px;');\n",
       "\n",
       "        rubberband.attr('width', width);\n",
       "        rubberband.attr('height', height);\n",
       "    }\n",
       "\n",
       "    // Set the figure to an initial 600x600px, this will subsequently be updated\n",
       "    // upon first draw.\n",
       "    this._resize_canvas(600, 600);\n",
       "\n",
       "    // Disable right mouse context menu.\n",
       "    $(this.rubberband_canvas).bind(\"contextmenu\",function(e){\n",
       "        return false;\n",
       "    });\n",
       "\n",
       "    function set_focus () {\n",
       "        canvas.focus();\n",
       "        canvas_div.focus();\n",
       "    }\n",
       "\n",
       "    window.setTimeout(set_focus, 100);\n",
       "}\n",
       "\n",
       "mpl.figure.prototype._init_toolbar = function() {\n",
       "    var fig = this;\n",
       "\n",
       "    var nav_element = $('<div/>')\n",
       "    nav_element.attr('style', 'width: 100%');\n",
       "    this.root.append(nav_element);\n",
       "\n",
       "    // Define a callback function for later on.\n",
       "    function toolbar_event(event) {\n",
       "        return fig.toolbar_button_onclick(event['data']);\n",
       "    }\n",
       "    function toolbar_mouse_event(event) {\n",
       "        return fig.toolbar_button_onmouseover(event['data']);\n",
       "    }\n",
       "\n",
       "    for(var toolbar_ind in mpl.toolbar_items) {\n",
       "        var name = mpl.toolbar_items[toolbar_ind][0];\n",
       "        var tooltip = mpl.toolbar_items[toolbar_ind][1];\n",
       "        var image = mpl.toolbar_items[toolbar_ind][2];\n",
       "        var method_name = mpl.toolbar_items[toolbar_ind][3];\n",
       "\n",
       "        if (!name) {\n",
       "            // put a spacer in here.\n",
       "            continue;\n",
       "        }\n",
       "        var button = $('<button/>');\n",
       "        button.addClass('ui-button ui-widget ui-state-default ui-corner-all ' +\n",
       "                        'ui-button-icon-only');\n",
       "        button.attr('role', 'button');\n",
       "        button.attr('aria-disabled', 'false');\n",
       "        button.click(method_name, toolbar_event);\n",
       "        button.mouseover(tooltip, toolbar_mouse_event);\n",
       "\n",
       "        var icon_img = $('<span/>');\n",
       "        icon_img.addClass('ui-button-icon-primary ui-icon');\n",
       "        icon_img.addClass(image);\n",
       "        icon_img.addClass('ui-corner-all');\n",
       "\n",
       "        var tooltip_span = $('<span/>');\n",
       "        tooltip_span.addClass('ui-button-text');\n",
       "        tooltip_span.html(tooltip);\n",
       "\n",
       "        button.append(icon_img);\n",
       "        button.append(tooltip_span);\n",
       "\n",
       "        nav_element.append(button);\n",
       "    }\n",
       "\n",
       "    var fmt_picker_span = $('<span/>');\n",
       "\n",
       "    var fmt_picker = $('<select/>');\n",
       "    fmt_picker.addClass('mpl-toolbar-option ui-widget ui-widget-content');\n",
       "    fmt_picker_span.append(fmt_picker);\n",
       "    nav_element.append(fmt_picker_span);\n",
       "    this.format_dropdown = fmt_picker[0];\n",
       "\n",
       "    for (var ind in mpl.extensions) {\n",
       "        var fmt = mpl.extensions[ind];\n",
       "        var option = $(\n",
       "            '<option/>', {selected: fmt === mpl.default_extension}).html(fmt);\n",
       "        fmt_picker.append(option)\n",
       "    }\n",
       "\n",
       "    // Add hover states to the ui-buttons\n",
       "    $( \".ui-button\" ).hover(\n",
       "        function() { $(this).addClass(\"ui-state-hover\");},\n",
       "        function() { $(this).removeClass(\"ui-state-hover\");}\n",
       "    );\n",
       "\n",
       "    var status_bar = $('<span class=\"mpl-message\"/>');\n",
       "    nav_element.append(status_bar);\n",
       "    this.message = status_bar[0];\n",
       "}\n",
       "\n",
       "mpl.figure.prototype.request_resize = function(x_pixels, y_pixels) {\n",
       "    // Request matplotlib to resize the figure. Matplotlib will then trigger a resize in the client,\n",
       "    // which will in turn request a refresh of the image.\n",
       "    this.send_message('resize', {'width': x_pixels, 'height': y_pixels});\n",
       "}\n",
       "\n",
       "mpl.figure.prototype.send_message = function(type, properties) {\n",
       "    properties['type'] = type;\n",
       "    properties['figure_id'] = this.id;\n",
       "    this.ws.send(JSON.stringify(properties));\n",
       "}\n",
       "\n",
       "mpl.figure.prototype.send_draw_message = function() {\n",
       "    if (!this.waiting) {\n",
       "        this.waiting = true;\n",
       "        this.ws.send(JSON.stringify({type: \"draw\", figure_id: this.id}));\n",
       "    }\n",
       "}\n",
       "\n",
       "\n",
       "mpl.figure.prototype.handle_save = function(fig, msg) {\n",
       "    var format_dropdown = fig.format_dropdown;\n",
       "    var format = format_dropdown.options[format_dropdown.selectedIndex].value;\n",
       "    fig.ondownload(fig, format);\n",
       "}\n",
       "\n",
       "\n",
       "mpl.figure.prototype.handle_resize = function(fig, msg) {\n",
       "    var size = msg['size'];\n",
       "    if (size[0] != fig.canvas.width || size[1] != fig.canvas.height) {\n",
       "        fig._resize_canvas(size[0], size[1]);\n",
       "        fig.send_message(\"refresh\", {});\n",
       "    };\n",
       "}\n",
       "\n",
       "mpl.figure.prototype.handle_rubberband = function(fig, msg) {\n",
       "    var x0 = msg['x0'] / mpl.ratio;\n",
       "    var y0 = (fig.canvas.height - msg['y0']) / mpl.ratio;\n",
       "    var x1 = msg['x1'] / mpl.ratio;\n",
       "    var y1 = (fig.canvas.height - msg['y1']) / mpl.ratio;\n",
       "    x0 = Math.floor(x0) + 0.5;\n",
       "    y0 = Math.floor(y0) + 0.5;\n",
       "    x1 = Math.floor(x1) + 0.5;\n",
       "    y1 = Math.floor(y1) + 0.5;\n",
       "    var min_x = Math.min(x0, x1);\n",
       "    var min_y = Math.min(y0, y1);\n",
       "    var width = Math.abs(x1 - x0);\n",
       "    var height = Math.abs(y1 - y0);\n",
       "\n",
       "    fig.rubberband_context.clearRect(\n",
       "        0, 0, fig.canvas.width, fig.canvas.height);\n",
       "\n",
       "    fig.rubberband_context.strokeRect(min_x, min_y, width, height);\n",
       "}\n",
       "\n",
       "mpl.figure.prototype.handle_figure_label = function(fig, msg) {\n",
       "    // Updates the figure title.\n",
       "    fig.header.textContent = msg['label'];\n",
       "}\n",
       "\n",
       "mpl.figure.prototype.handle_cursor = function(fig, msg) {\n",
       "    var cursor = msg['cursor'];\n",
       "    switch(cursor)\n",
       "    {\n",
       "    case 0:\n",
       "        cursor = 'pointer';\n",
       "        break;\n",
       "    case 1:\n",
       "        cursor = 'default';\n",
       "        break;\n",
       "    case 2:\n",
       "        cursor = 'crosshair';\n",
       "        break;\n",
       "    case 3:\n",
       "        cursor = 'move';\n",
       "        break;\n",
       "    }\n",
       "    fig.rubberband_canvas.style.cursor = cursor;\n",
       "}\n",
       "\n",
       "mpl.figure.prototype.handle_message = function(fig, msg) {\n",
       "    fig.message.textContent = msg['message'];\n",
       "}\n",
       "\n",
       "mpl.figure.prototype.handle_draw = function(fig, msg) {\n",
       "    // Request the server to send over a new figure.\n",
       "    fig.send_draw_message();\n",
       "}\n",
       "\n",
       "mpl.figure.prototype.handle_image_mode = function(fig, msg) {\n",
       "    fig.image_mode = msg['mode'];\n",
       "}\n",
       "\n",
       "mpl.figure.prototype.updated_canvas_event = function() {\n",
       "    // Called whenever the canvas gets updated.\n",
       "    this.send_message(\"ack\", {});\n",
       "}\n",
       "\n",
       "// A function to construct a web socket function for onmessage handling.\n",
       "// Called in the figure constructor.\n",
       "mpl.figure.prototype._make_on_message_function = function(fig) {\n",
       "    return function socket_on_message(evt) {\n",
       "        if (evt.data instanceof Blob) {\n",
       "            /* FIXME: We get \"Resource interpreted as Image but\n",
       "             * transferred with MIME type text/plain:\" errors on\n",
       "             * Chrome.  But how to set the MIME type?  It doesn't seem\n",
       "             * to be part of the websocket stream */\n",
       "            evt.data.type = \"image/png\";\n",
       "\n",
       "            /* Free the memory for the previous frames */\n",
       "            if (fig.imageObj.src) {\n",
       "                (window.URL || window.webkitURL).revokeObjectURL(\n",
       "                    fig.imageObj.src);\n",
       "            }\n",
       "\n",
       "            fig.imageObj.src = (window.URL || window.webkitURL).createObjectURL(\n",
       "                evt.data);\n",
       "            fig.updated_canvas_event();\n",
       "            fig.waiting = false;\n",
       "            return;\n",
       "        }\n",
       "        else if (typeof evt.data === 'string' && evt.data.slice(0, 21) == \"data:image/png;base64\") {\n",
       "            fig.imageObj.src = evt.data;\n",
       "            fig.updated_canvas_event();\n",
       "            fig.waiting = false;\n",
       "            return;\n",
       "        }\n",
       "\n",
       "        var msg = JSON.parse(evt.data);\n",
       "        var msg_type = msg['type'];\n",
       "\n",
       "        // Call the  \"handle_{type}\" callback, which takes\n",
       "        // the figure and JSON message as its only arguments.\n",
       "        try {\n",
       "            var callback = fig[\"handle_\" + msg_type];\n",
       "        } catch (e) {\n",
       "            console.log(\"No handler for the '\" + msg_type + \"' message type: \", msg);\n",
       "            return;\n",
       "        }\n",
       "\n",
       "        if (callback) {\n",
       "            try {\n",
       "                // console.log(\"Handling '\" + msg_type + \"' message: \", msg);\n",
       "                callback(fig, msg);\n",
       "            } catch (e) {\n",
       "                console.log(\"Exception inside the 'handler_\" + msg_type + \"' callback:\", e, e.stack, msg);\n",
       "            }\n",
       "        }\n",
       "    };\n",
       "}\n",
       "\n",
       "// from http://stackoverflow.com/questions/1114465/getting-mouse-location-in-canvas\n",
       "mpl.findpos = function(e) {\n",
       "    //this section is from http://www.quirksmode.org/js/events_properties.html\n",
       "    var targ;\n",
       "    if (!e)\n",
       "        e = window.event;\n",
       "    if (e.target)\n",
       "        targ = e.target;\n",
       "    else if (e.srcElement)\n",
       "        targ = e.srcElement;\n",
       "    if (targ.nodeType == 3) // defeat Safari bug\n",
       "        targ = targ.parentNode;\n",
       "\n",
       "    // jQuery normalizes the pageX and pageY\n",
       "    // pageX,Y are the mouse positions relative to the document\n",
       "    // offset() returns the position of the element relative to the document\n",
       "    var x = e.pageX - $(targ).offset().left;\n",
       "    var y = e.pageY - $(targ).offset().top;\n",
       "\n",
       "    return {\"x\": x, \"y\": y};\n",
       "};\n",
       "\n",
       "/*\n",
       " * return a copy of an object with only non-object keys\n",
       " * we need this to avoid circular references\n",
       " * http://stackoverflow.com/a/24161582/3208463\n",
       " */\n",
       "function simpleKeys (original) {\n",
       "  return Object.keys(original).reduce(function (obj, key) {\n",
       "    if (typeof original[key] !== 'object')\n",
       "        obj[key] = original[key]\n",
       "    return obj;\n",
       "  }, {});\n",
       "}\n",
       "\n",
       "mpl.figure.prototype.mouse_event = function(event, name) {\n",
       "    var canvas_pos = mpl.findpos(event)\n",
       "\n",
       "    if (name === 'button_press')\n",
       "    {\n",
       "        this.canvas.focus();\n",
       "        this.canvas_div.focus();\n",
       "    }\n",
       "\n",
       "    var x = canvas_pos.x * mpl.ratio;\n",
       "    var y = canvas_pos.y * mpl.ratio;\n",
       "\n",
       "    this.send_message(name, {x: x, y: y, button: event.button,\n",
       "                             step: event.step,\n",
       "                             guiEvent: simpleKeys(event)});\n",
       "\n",
       "    /* This prevents the web browser from automatically changing to\n",
       "     * the text insertion cursor when the button is pressed.  We want\n",
       "     * to control all of the cursor setting manually through the\n",
       "     * 'cursor' event from matplotlib */\n",
       "    event.preventDefault();\n",
       "    return false;\n",
       "}\n",
       "\n",
       "mpl.figure.prototype._key_event_extra = function(event, name) {\n",
       "    // Handle any extra behaviour associated with a key event\n",
       "}\n",
       "\n",
       "mpl.figure.prototype.key_event = function(event, name) {\n",
       "\n",
       "    // Prevent repeat events\n",
       "    if (name == 'key_press')\n",
       "    {\n",
       "        if (event.which === this._key)\n",
       "            return;\n",
       "        else\n",
       "            this._key = event.which;\n",
       "    }\n",
       "    if (name == 'key_release')\n",
       "        this._key = null;\n",
       "\n",
       "    var value = '';\n",
       "    if (event.ctrlKey && event.which != 17)\n",
       "        value += \"ctrl+\";\n",
       "    if (event.altKey && event.which != 18)\n",
       "        value += \"alt+\";\n",
       "    if (event.shiftKey && event.which != 16)\n",
       "        value += \"shift+\";\n",
       "\n",
       "    value += 'k';\n",
       "    value += event.which.toString();\n",
       "\n",
       "    this._key_event_extra(event, name);\n",
       "\n",
       "    this.send_message(name, {key: value,\n",
       "                             guiEvent: simpleKeys(event)});\n",
       "    return false;\n",
       "}\n",
       "\n",
       "mpl.figure.prototype.toolbar_button_onclick = function(name) {\n",
       "    if (name == 'download') {\n",
       "        this.handle_save(this, null);\n",
       "    } else {\n",
       "        this.send_message(\"toolbar_button\", {name: name});\n",
       "    }\n",
       "};\n",
       "\n",
       "mpl.figure.prototype.toolbar_button_onmouseover = function(tooltip) {\n",
       "    this.message.textContent = tooltip;\n",
       "};\n",
       "mpl.toolbar_items = [[\"Home\", \"Reset original view\", \"fa fa-home icon-home\", \"home\"], [\"Back\", \"Back to previous view\", \"fa fa-arrow-left icon-arrow-left\", \"back\"], [\"Forward\", \"Forward to next view\", \"fa fa-arrow-right icon-arrow-right\", \"forward\"], [\"\", \"\", \"\", \"\"], [\"Pan\", \"Pan axes with left mouse, zoom with right\", \"fa fa-arrows icon-move\", \"pan\"], [\"Zoom\", \"Zoom to rectangle\", \"fa fa-square-o icon-check-empty\", \"zoom\"], [\"\", \"\", \"\", \"\"], [\"Download\", \"Download plot\", \"fa fa-floppy-o icon-save\", \"download\"]];\n",
       "\n",
       "mpl.extensions = [\"eps\", \"jpeg\", \"pdf\", \"png\", \"ps\", \"raw\", \"svg\", \"tif\"];\n",
       "\n",
       "mpl.default_extension = \"png\";var comm_websocket_adapter = function(comm) {\n",
       "    // Create a \"websocket\"-like object which calls the given IPython comm\n",
       "    // object with the appropriate methods. Currently this is a non binary\n",
       "    // socket, so there is still some room for performance tuning.\n",
       "    var ws = {};\n",
       "\n",
       "    ws.close = function() {\n",
       "        comm.close()\n",
       "    };\n",
       "    ws.send = function(m) {\n",
       "        //console.log('sending', m);\n",
       "        comm.send(m);\n",
       "    };\n",
       "    // Register the callback with on_msg.\n",
       "    comm.on_msg(function(msg) {\n",
       "        //console.log('receiving', msg['content']['data'], msg);\n",
       "        // Pass the mpl event to the overridden (by mpl) onmessage function.\n",
       "        ws.onmessage(msg['content']['data'])\n",
       "    });\n",
       "    return ws;\n",
       "}\n",
       "\n",
       "mpl.mpl_figure_comm = function(comm, msg) {\n",
       "    // This is the function which gets called when the mpl process\n",
       "    // starts-up an IPython Comm through the \"matplotlib\" channel.\n",
       "\n",
       "    var id = msg.content.data.id;\n",
       "    // Get hold of the div created by the display call when the Comm\n",
       "    // socket was opened in Python.\n",
       "    var element = $(\"#\" + id);\n",
       "    var ws_proxy = comm_websocket_adapter(comm)\n",
       "\n",
       "    function ondownload(figure, format) {\n",
       "        window.open(figure.imageObj.src);\n",
       "    }\n",
       "\n",
       "    var fig = new mpl.figure(id, ws_proxy,\n",
       "                           ondownload,\n",
       "                           element.get(0));\n",
       "\n",
       "    // Call onopen now - mpl needs it, as it is assuming we've passed it a real\n",
       "    // web socket which is closed, not our websocket->open comm proxy.\n",
       "    ws_proxy.onopen();\n",
       "\n",
       "    fig.parent_element = element.get(0);\n",
       "    fig.cell_info = mpl.find_output_cell(\"<div id='\" + id + \"'></div>\");\n",
       "    if (!fig.cell_info) {\n",
       "        console.error(\"Failed to find cell for figure\", id, fig);\n",
       "        return;\n",
       "    }\n",
       "\n",
       "    var output_index = fig.cell_info[2]\n",
       "    var cell = fig.cell_info[0];\n",
       "\n",
       "};\n",
       "\n",
       "mpl.figure.prototype.handle_close = function(fig, msg) {\n",
       "    var width = fig.canvas.width/mpl.ratio\n",
       "    fig.root.unbind('remove')\n",
       "\n",
       "    // Update the output cell to use the data from the current canvas.\n",
       "    fig.push_to_output();\n",
       "    var dataURL = fig.canvas.toDataURL();\n",
       "    // Re-enable the keyboard manager in IPython - without this line, in FF,\n",
       "    // the notebook keyboard shortcuts fail.\n",
       "    IPython.keyboard_manager.enable()\n",
       "    $(fig.parent_element).html('<img src=\"' + dataURL + '\" width=\"' + width + '\">');\n",
       "    fig.close_ws(fig, msg);\n",
       "}\n",
       "\n",
       "mpl.figure.prototype.close_ws = function(fig, msg){\n",
       "    fig.send_message('closing', msg);\n",
       "    // fig.ws.close()\n",
       "}\n",
       "\n",
       "mpl.figure.prototype.push_to_output = function(remove_interactive) {\n",
       "    // Turn the data on the canvas into data in the output cell.\n",
       "    var width = this.canvas.width/mpl.ratio\n",
       "    var dataURL = this.canvas.toDataURL();\n",
       "    this.cell_info[1]['text/html'] = '<img src=\"' + dataURL + '\" width=\"' + width + '\">';\n",
       "}\n",
       "\n",
       "mpl.figure.prototype.updated_canvas_event = function() {\n",
       "    // Tell IPython that the notebook contents must change.\n",
       "    IPython.notebook.set_dirty(true);\n",
       "    this.send_message(\"ack\", {});\n",
       "    var fig = this;\n",
       "    // Wait a second, then push the new image to the DOM so\n",
       "    // that it is saved nicely (might be nice to debounce this).\n",
       "    setTimeout(function () { fig.push_to_output() }, 1000);\n",
       "}\n",
       "\n",
       "mpl.figure.prototype._init_toolbar = function() {\n",
       "    var fig = this;\n",
       "\n",
       "    var nav_element = $('<div/>')\n",
       "    nav_element.attr('style', 'width: 100%');\n",
       "    this.root.append(nav_element);\n",
       "\n",
       "    // Define a callback function for later on.\n",
       "    function toolbar_event(event) {\n",
       "        return fig.toolbar_button_onclick(event['data']);\n",
       "    }\n",
       "    function toolbar_mouse_event(event) {\n",
       "        return fig.toolbar_button_onmouseover(event['data']);\n",
       "    }\n",
       "\n",
       "    for(var toolbar_ind in mpl.toolbar_items){\n",
       "        var name = mpl.toolbar_items[toolbar_ind][0];\n",
       "        var tooltip = mpl.toolbar_items[toolbar_ind][1];\n",
       "        var image = mpl.toolbar_items[toolbar_ind][2];\n",
       "        var method_name = mpl.toolbar_items[toolbar_ind][3];\n",
       "\n",
       "        if (!name) { continue; };\n",
       "\n",
       "        var button = $('<button class=\"btn btn-default\" href=\"#\" title=\"' + name + '\"><i class=\"fa ' + image + ' fa-lg\"></i></button>');\n",
       "        button.click(method_name, toolbar_event);\n",
       "        button.mouseover(tooltip, toolbar_mouse_event);\n",
       "        nav_element.append(button);\n",
       "    }\n",
       "\n",
       "    // Add the status bar.\n",
       "    var status_bar = $('<span class=\"mpl-message\" style=\"text-align:right; float: right;\"/>');\n",
       "    nav_element.append(status_bar);\n",
       "    this.message = status_bar[0];\n",
       "\n",
       "    // Add the close button to the window.\n",
       "    var buttongrp = $('<div class=\"btn-group inline pull-right\"></div>');\n",
       "    var button = $('<button class=\"btn btn-mini btn-primary\" href=\"#\" title=\"Stop Interaction\"><i class=\"fa fa-power-off icon-remove icon-large\"></i></button>');\n",
       "    button.click(function (evt) { fig.handle_close(fig, {}); } );\n",
       "    button.mouseover('Stop Interaction', toolbar_mouse_event);\n",
       "    buttongrp.append(button);\n",
       "    var titlebar = this.root.find($('.ui-dialog-titlebar'));\n",
       "    titlebar.prepend(buttongrp);\n",
       "}\n",
       "\n",
       "mpl.figure.prototype._root_extra_style = function(el){\n",
       "    var fig = this\n",
       "    el.on(\"remove\", function(){\n",
       "\tfig.close_ws(fig, {});\n",
       "    });\n",
       "}\n",
       "\n",
       "mpl.figure.prototype._canvas_extra_style = function(el){\n",
       "    // this is important to make the div 'focusable\n",
       "    el.attr('tabindex', 0)\n",
       "    // reach out to IPython and tell the keyboard manager to turn it's self\n",
       "    // off when our div gets focus\n",
       "\n",
       "    // location in version 3\n",
       "    if (IPython.notebook.keyboard_manager) {\n",
       "        IPython.notebook.keyboard_manager.register_events(el);\n",
       "    }\n",
       "    else {\n",
       "        // location in version 2\n",
       "        IPython.keyboard_manager.register_events(el);\n",
       "    }\n",
       "\n",
       "}\n",
       "\n",
       "mpl.figure.prototype._key_event_extra = function(event, name) {\n",
       "    var manager = IPython.notebook.keyboard_manager;\n",
       "    if (!manager)\n",
       "        manager = IPython.keyboard_manager;\n",
       "\n",
       "    // Check for shift+enter\n",
       "    if (event.shiftKey && event.which == 13) {\n",
       "        this.canvas_div.blur();\n",
       "        event.shiftKey = false;\n",
       "        // Send a \"J\" for go to next cell\n",
       "        event.which = 74;\n",
       "        event.keyCode = 74;\n",
       "        manager.command_mode();\n",
       "        manager.handle_keydown(event);\n",
       "    }\n",
       "}\n",
       "\n",
       "mpl.figure.prototype.handle_save = function(fig, msg) {\n",
       "    fig.ondownload(fig, null);\n",
       "}\n",
       "\n",
       "\n",
       "mpl.find_output_cell = function(html_output) {\n",
       "    // Return the cell and output element which can be found *uniquely* in the notebook.\n",
       "    // Note - this is a bit hacky, but it is done because the \"notebook_saving.Notebook\"\n",
       "    // IPython event is triggered only after the cells have been serialised, which for\n",
       "    // our purposes (turning an active figure into a static one), is too late.\n",
       "    var cells = IPython.notebook.get_cells();\n",
       "    var ncells = cells.length;\n",
       "    for (var i=0; i<ncells; i++) {\n",
       "        var cell = cells[i];\n",
       "        if (cell.cell_type === 'code'){\n",
       "            for (var j=0; j<cell.output_area.outputs.length; j++) {\n",
       "                var data = cell.output_area.outputs[j];\n",
       "                if (data.data) {\n",
       "                    // IPython >= 3 moved mimebundle to data attribute of output\n",
       "                    data = data.data;\n",
       "                }\n",
       "                if (data['text/html'] == html_output) {\n",
       "                    return [cell, data, j];\n",
       "                }\n",
       "            }\n",
       "        }\n",
       "    }\n",
       "}\n",
       "\n",
       "// Register the function which deals with the matplotlib target/channel.\n",
       "// The kernel may be null if the page has been refreshed.\n",
       "if (IPython.notebook.kernel != null) {\n",
       "    IPython.notebook.kernel.comm_manager.register_target('matplotlib', mpl.mpl_figure_comm);\n",
       "}\n"
      ],
      "text/plain": [
       "<IPython.core.display.Javascript object>"
      ]
     },
     "metadata": {},
     "output_type": "display_data"
    },
    {
     "data": {
      "text/html": [
       "<img src=\"data:image/png;base64,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\" width=\"574.4444596620258\">"
      ],
      "text/plain": [
       "<IPython.core.display.HTML object>"
      ]
     },
     "metadata": {},
     "output_type": "display_data"
    },
    {
     "data": {
      "text/plain": [
       "[<matplotlib.lines.Line2D at 0x227cb3aa470>]"
      ]
     },
     "execution_count": 74,
     "metadata": {},
     "output_type": "execute_result"
    }
   ],
   "source": [
    "plt.figure()\n",
    "plt.plot(data8.k2200_voltage_set[0, :], data8.lockin2_X[-1, :]/1e-9)\n",
    "plt.plot(data9.k2200_voltage_set, data9.lockin2_X[:]/1e-9)\n",
    "plt.plot(data10.k2200_voltage_set, data10.lockin2_X[:]/5e-9)"
   ]
  },
  {
   "cell_type": "markdown",
   "metadata": {
    "Collapsed": "false"
   },
   "source": [
    "Now switching the polarity of the gate"
   ]
  },
  {
   "cell_type": "code",
   "execution_count": 66,
   "metadata": {
    "Collapsed": "false"
   },
   "outputs": [
    {
     "name": "stdout",
     "output_type": "stream",
     "text": [
      "Started at 2019-09-30 19:47:46\n",
      "DataSet:\n",
      "   location = 'data/2019-09-30/#013_5nA_1p8K_9T_negativegate_19-47-44'\n",
      "   <Type>   | <array_id>        | <array.name> | <array.shape>\n",
      "   Setpoint | k2200_voltage_set | voltage      | (101,)\n",
      "   Measured | lockin1_X         | X            | (101,)\n",
      "   Measured | lockin1_Y         | Y            | (101,)\n",
      "   Measured | lockin2_X         | X            | (101,)\n",
      "   Measured | lockin2_Y         | Y            | (101,)\n",
      "Finished at 2019-09-30 19:51:49\n"
     ]
    }
   ],
   "source": [
    "gvals = np.linspace(10, 0, 101)\n",
    "data11, plot11 = npd.single_param_sweep(k2200.voltage, gvals, 2, lockin1.X, lockin1.Y, lockin2.X, lockin2.Y, DataName='5nA_1p8K_9T_negativegate')"
   ]
  },
  {
   "cell_type": "code",
   "execution_count": 76,
   "metadata": {
    "Collapsed": "false"
   },
   "outputs": [
    {
     "data": {
      "application/javascript": [
       "/* Put everything inside the global mpl namespace */\n",
       "window.mpl = {};\n",
       "\n",
       "\n",
       "mpl.get_websocket_type = function() {\n",
       "    if (typeof(WebSocket) !== 'undefined') {\n",
       "        return WebSocket;\n",
       "    } else if (typeof(MozWebSocket) !== 'undefined') {\n",
       "        return MozWebSocket;\n",
       "    } else {\n",
       "        alert('Your browser does not have WebSocket support.' +\n",
       "              'Please try Chrome, Safari or Firefox ≥ 6. ' +\n",
       "              'Firefox 4 and 5 are also supported but you ' +\n",
       "              'have to enable WebSockets in about:config.');\n",
       "    };\n",
       "}\n",
       "\n",
       "mpl.figure = function(figure_id, websocket, ondownload, parent_element) {\n",
       "    this.id = figure_id;\n",
       "\n",
       "    this.ws = websocket;\n",
       "\n",
       "    this.supports_binary = (this.ws.binaryType != undefined);\n",
       "\n",
       "    if (!this.supports_binary) {\n",
       "        var warnings = document.getElementById(\"mpl-warnings\");\n",
       "        if (warnings) {\n",
       "            warnings.style.display = 'block';\n",
       "            warnings.textContent = (\n",
       "                \"This browser does not support binary websocket messages. \" +\n",
       "                    \"Performance may be slow.\");\n",
       "        }\n",
       "    }\n",
       "\n",
       "    this.imageObj = new Image();\n",
       "\n",
       "    this.context = undefined;\n",
       "    this.message = undefined;\n",
       "    this.canvas = undefined;\n",
       "    this.rubberband_canvas = undefined;\n",
       "    this.rubberband_context = undefined;\n",
       "    this.format_dropdown = undefined;\n",
       "\n",
       "    this.image_mode = 'full';\n",
       "\n",
       "    this.root = $('<div/>');\n",
       "    this._root_extra_style(this.root)\n",
       "    this.root.attr('style', 'display: inline-block');\n",
       "\n",
       "    $(parent_element).append(this.root);\n",
       "\n",
       "    this._init_header(this);\n",
       "    this._init_canvas(this);\n",
       "    this._init_toolbar(this);\n",
       "\n",
       "    var fig = this;\n",
       "\n",
       "    this.waiting = false;\n",
       "\n",
       "    this.ws.onopen =  function () {\n",
       "            fig.send_message(\"supports_binary\", {value: fig.supports_binary});\n",
       "            fig.send_message(\"send_image_mode\", {});\n",
       "            if (mpl.ratio != 1) {\n",
       "                fig.send_message(\"set_dpi_ratio\", {'dpi_ratio': mpl.ratio});\n",
       "            }\n",
       "            fig.send_message(\"refresh\", {});\n",
       "        }\n",
       "\n",
       "    this.imageObj.onload = function() {\n",
       "            if (fig.image_mode == 'full') {\n",
       "                // Full images could contain transparency (where diff images\n",
       "                // almost always do), so we need to clear the canvas so that\n",
       "                // there is no ghosting.\n",
       "                fig.context.clearRect(0, 0, fig.canvas.width, fig.canvas.height);\n",
       "            }\n",
       "            fig.context.drawImage(fig.imageObj, 0, 0);\n",
       "        };\n",
       "\n",
       "    this.imageObj.onunload = function() {\n",
       "        fig.ws.close();\n",
       "    }\n",
       "\n",
       "    this.ws.onmessage = this._make_on_message_function(this);\n",
       "\n",
       "    this.ondownload = ondownload;\n",
       "}\n",
       "\n",
       "mpl.figure.prototype._init_header = function() {\n",
       "    var titlebar = $(\n",
       "        '<div class=\"ui-dialog-titlebar ui-widget-header ui-corner-all ' +\n",
       "        'ui-helper-clearfix\"/>');\n",
       "    var titletext = $(\n",
       "        '<div class=\"ui-dialog-title\" style=\"width: 100%; ' +\n",
       "        'text-align: center; padding: 3px;\"/>');\n",
       "    titlebar.append(titletext)\n",
       "    this.root.append(titlebar);\n",
       "    this.header = titletext[0];\n",
       "}\n",
       "\n",
       "\n",
       "\n",
       "mpl.figure.prototype._canvas_extra_style = function(canvas_div) {\n",
       "\n",
       "}\n",
       "\n",
       "\n",
       "mpl.figure.prototype._root_extra_style = function(canvas_div) {\n",
       "\n",
       "}\n",
       "\n",
       "mpl.figure.prototype._init_canvas = function() {\n",
       "    var fig = this;\n",
       "\n",
       "    var canvas_div = $('<div/>');\n",
       "\n",
       "    canvas_div.attr('style', 'position: relative; clear: both; outline: 0');\n",
       "\n",
       "    function canvas_keyboard_event(event) {\n",
       "        return fig.key_event(event, event['data']);\n",
       "    }\n",
       "\n",
       "    canvas_div.keydown('key_press', canvas_keyboard_event);\n",
       "    canvas_div.keyup('key_release', canvas_keyboard_event);\n",
       "    this.canvas_div = canvas_div\n",
       "    this._canvas_extra_style(canvas_div)\n",
       "    this.root.append(canvas_div);\n",
       "\n",
       "    var canvas = $('<canvas/>');\n",
       "    canvas.addClass('mpl-canvas');\n",
       "    canvas.attr('style', \"left: 0; top: 0; z-index: 0; outline: 0\")\n",
       "\n",
       "    this.canvas = canvas[0];\n",
       "    this.context = canvas[0].getContext(\"2d\");\n",
       "\n",
       "    var backingStore = this.context.backingStorePixelRatio ||\n",
       "\tthis.context.webkitBackingStorePixelRatio ||\n",
       "\tthis.context.mozBackingStorePixelRatio ||\n",
       "\tthis.context.msBackingStorePixelRatio ||\n",
       "\tthis.context.oBackingStorePixelRatio ||\n",
       "\tthis.context.backingStorePixelRatio || 1;\n",
       "\n",
       "    mpl.ratio = (window.devicePixelRatio || 1) / backingStore;\n",
       "\n",
       "    var rubberband = $('<canvas/>');\n",
       "    rubberband.attr('style', \"position: absolute; left: 0; top: 0; z-index: 1;\")\n",
       "\n",
       "    var pass_mouse_events = true;\n",
       "\n",
       "    canvas_div.resizable({\n",
       "        start: function(event, ui) {\n",
       "            pass_mouse_events = false;\n",
       "        },\n",
       "        resize: function(event, ui) {\n",
       "            fig.request_resize(ui.size.width, ui.size.height);\n",
       "        },\n",
       "        stop: function(event, ui) {\n",
       "            pass_mouse_events = true;\n",
       "            fig.request_resize(ui.size.width, ui.size.height);\n",
       "        },\n",
       "    });\n",
       "\n",
       "    function mouse_event_fn(event) {\n",
       "        if (pass_mouse_events)\n",
       "            return fig.mouse_event(event, event['data']);\n",
       "    }\n",
       "\n",
       "    rubberband.mousedown('button_press', mouse_event_fn);\n",
       "    rubberband.mouseup('button_release', mouse_event_fn);\n",
       "    // Throttle sequential mouse events to 1 every 20ms.\n",
       "    rubberband.mousemove('motion_notify', mouse_event_fn);\n",
       "\n",
       "    rubberband.mouseenter('figure_enter', mouse_event_fn);\n",
       "    rubberband.mouseleave('figure_leave', mouse_event_fn);\n",
       "\n",
       "    canvas_div.on(\"wheel\", function (event) {\n",
       "        event = event.originalEvent;\n",
       "        event['data'] = 'scroll'\n",
       "        if (event.deltaY < 0) {\n",
       "            event.step = 1;\n",
       "        } else {\n",
       "            event.step = -1;\n",
       "        }\n",
       "        mouse_event_fn(event);\n",
       "    });\n",
       "\n",
       "    canvas_div.append(canvas);\n",
       "    canvas_div.append(rubberband);\n",
       "\n",
       "    this.rubberband = rubberband;\n",
       "    this.rubberband_canvas = rubberband[0];\n",
       "    this.rubberband_context = rubberband[0].getContext(\"2d\");\n",
       "    this.rubberband_context.strokeStyle = \"#000000\";\n",
       "\n",
       "    this._resize_canvas = function(width, height) {\n",
       "        // Keep the size of the canvas, canvas container, and rubber band\n",
       "        // canvas in synch.\n",
       "        canvas_div.css('width', width)\n",
       "        canvas_div.css('height', height)\n",
       "\n",
       "        canvas.attr('width', width * mpl.ratio);\n",
       "        canvas.attr('height', height * mpl.ratio);\n",
       "        canvas.attr('style', 'width: ' + width + 'px; height: ' + height + 'px;');\n",
       "\n",
       "        rubberband.attr('width', width);\n",
       "        rubberband.attr('height', height);\n",
       "    }\n",
       "\n",
       "    // Set the figure to an initial 600x600px, this will subsequently be updated\n",
       "    // upon first draw.\n",
       "    this._resize_canvas(600, 600);\n",
       "\n",
       "    // Disable right mouse context menu.\n",
       "    $(this.rubberband_canvas).bind(\"contextmenu\",function(e){\n",
       "        return false;\n",
       "    });\n",
       "\n",
       "    function set_focus () {\n",
       "        canvas.focus();\n",
       "        canvas_div.focus();\n",
       "    }\n",
       "\n",
       "    window.setTimeout(set_focus, 100);\n",
       "}\n",
       "\n",
       "mpl.figure.prototype._init_toolbar = function() {\n",
       "    var fig = this;\n",
       "\n",
       "    var nav_element = $('<div/>')\n",
       "    nav_element.attr('style', 'width: 100%');\n",
       "    this.root.append(nav_element);\n",
       "\n",
       "    // Define a callback function for later on.\n",
       "    function toolbar_event(event) {\n",
       "        return fig.toolbar_button_onclick(event['data']);\n",
       "    }\n",
       "    function toolbar_mouse_event(event) {\n",
       "        return fig.toolbar_button_onmouseover(event['data']);\n",
       "    }\n",
       "\n",
       "    for(var toolbar_ind in mpl.toolbar_items) {\n",
       "        var name = mpl.toolbar_items[toolbar_ind][0];\n",
       "        var tooltip = mpl.toolbar_items[toolbar_ind][1];\n",
       "        var image = mpl.toolbar_items[toolbar_ind][2];\n",
       "        var method_name = mpl.toolbar_items[toolbar_ind][3];\n",
       "\n",
       "        if (!name) {\n",
       "            // put a spacer in here.\n",
       "            continue;\n",
       "        }\n",
       "        var button = $('<button/>');\n",
       "        button.addClass('ui-button ui-widget ui-state-default ui-corner-all ' +\n",
       "                        'ui-button-icon-only');\n",
       "        button.attr('role', 'button');\n",
       "        button.attr('aria-disabled', 'false');\n",
       "        button.click(method_name, toolbar_event);\n",
       "        button.mouseover(tooltip, toolbar_mouse_event);\n",
       "\n",
       "        var icon_img = $('<span/>');\n",
       "        icon_img.addClass('ui-button-icon-primary ui-icon');\n",
       "        icon_img.addClass(image);\n",
       "        icon_img.addClass('ui-corner-all');\n",
       "\n",
       "        var tooltip_span = $('<span/>');\n",
       "        tooltip_span.addClass('ui-button-text');\n",
       "        tooltip_span.html(tooltip);\n",
       "\n",
       "        button.append(icon_img);\n",
       "        button.append(tooltip_span);\n",
       "\n",
       "        nav_element.append(button);\n",
       "    }\n",
       "\n",
       "    var fmt_picker_span = $('<span/>');\n",
       "\n",
       "    var fmt_picker = $('<select/>');\n",
       "    fmt_picker.addClass('mpl-toolbar-option ui-widget ui-widget-content');\n",
       "    fmt_picker_span.append(fmt_picker);\n",
       "    nav_element.append(fmt_picker_span);\n",
       "    this.format_dropdown = fmt_picker[0];\n",
       "\n",
       "    for (var ind in mpl.extensions) {\n",
       "        var fmt = mpl.extensions[ind];\n",
       "        var option = $(\n",
       "            '<option/>', {selected: fmt === mpl.default_extension}).html(fmt);\n",
       "        fmt_picker.append(option)\n",
       "    }\n",
       "\n",
       "    // Add hover states to the ui-buttons\n",
       "    $( \".ui-button\" ).hover(\n",
       "        function() { $(this).addClass(\"ui-state-hover\");},\n",
       "        function() { $(this).removeClass(\"ui-state-hover\");}\n",
       "    );\n",
       "\n",
       "    var status_bar = $('<span class=\"mpl-message\"/>');\n",
       "    nav_element.append(status_bar);\n",
       "    this.message = status_bar[0];\n",
       "}\n",
       "\n",
       "mpl.figure.prototype.request_resize = function(x_pixels, y_pixels) {\n",
       "    // Request matplotlib to resize the figure. Matplotlib will then trigger a resize in the client,\n",
       "    // which will in turn request a refresh of the image.\n",
       "    this.send_message('resize', {'width': x_pixels, 'height': y_pixels});\n",
       "}\n",
       "\n",
       "mpl.figure.prototype.send_message = function(type, properties) {\n",
       "    properties['type'] = type;\n",
       "    properties['figure_id'] = this.id;\n",
       "    this.ws.send(JSON.stringify(properties));\n",
       "}\n",
       "\n",
       "mpl.figure.prototype.send_draw_message = function() {\n",
       "    if (!this.waiting) {\n",
       "        this.waiting = true;\n",
       "        this.ws.send(JSON.stringify({type: \"draw\", figure_id: this.id}));\n",
       "    }\n",
       "}\n",
       "\n",
       "\n",
       "mpl.figure.prototype.handle_save = function(fig, msg) {\n",
       "    var format_dropdown = fig.format_dropdown;\n",
       "    var format = format_dropdown.options[format_dropdown.selectedIndex].value;\n",
       "    fig.ondownload(fig, format);\n",
       "}\n",
       "\n",
       "\n",
       "mpl.figure.prototype.handle_resize = function(fig, msg) {\n",
       "    var size = msg['size'];\n",
       "    if (size[0] != fig.canvas.width || size[1] != fig.canvas.height) {\n",
       "        fig._resize_canvas(size[0], size[1]);\n",
       "        fig.send_message(\"refresh\", {});\n",
       "    };\n",
       "}\n",
       "\n",
       "mpl.figure.prototype.handle_rubberband = function(fig, msg) {\n",
       "    var x0 = msg['x0'] / mpl.ratio;\n",
       "    var y0 = (fig.canvas.height - msg['y0']) / mpl.ratio;\n",
       "    var x1 = msg['x1'] / mpl.ratio;\n",
       "    var y1 = (fig.canvas.height - msg['y1']) / mpl.ratio;\n",
       "    x0 = Math.floor(x0) + 0.5;\n",
       "    y0 = Math.floor(y0) + 0.5;\n",
       "    x1 = Math.floor(x1) + 0.5;\n",
       "    y1 = Math.floor(y1) + 0.5;\n",
       "    var min_x = Math.min(x0, x1);\n",
       "    var min_y = Math.min(y0, y1);\n",
       "    var width = Math.abs(x1 - x0);\n",
       "    var height = Math.abs(y1 - y0);\n",
       "\n",
       "    fig.rubberband_context.clearRect(\n",
       "        0, 0, fig.canvas.width, fig.canvas.height);\n",
       "\n",
       "    fig.rubberband_context.strokeRect(min_x, min_y, width, height);\n",
       "}\n",
       "\n",
       "mpl.figure.prototype.handle_figure_label = function(fig, msg) {\n",
       "    // Updates the figure title.\n",
       "    fig.header.textContent = msg['label'];\n",
       "}\n",
       "\n",
       "mpl.figure.prototype.handle_cursor = function(fig, msg) {\n",
       "    var cursor = msg['cursor'];\n",
       "    switch(cursor)\n",
       "    {\n",
       "    case 0:\n",
       "        cursor = 'pointer';\n",
       "        break;\n",
       "    case 1:\n",
       "        cursor = 'default';\n",
       "        break;\n",
       "    case 2:\n",
       "        cursor = 'crosshair';\n",
       "        break;\n",
       "    case 3:\n",
       "        cursor = 'move';\n",
       "        break;\n",
       "    }\n",
       "    fig.rubberband_canvas.style.cursor = cursor;\n",
       "}\n",
       "\n",
       "mpl.figure.prototype.handle_message = function(fig, msg) {\n",
       "    fig.message.textContent = msg['message'];\n",
       "}\n",
       "\n",
       "mpl.figure.prototype.handle_draw = function(fig, msg) {\n",
       "    // Request the server to send over a new figure.\n",
       "    fig.send_draw_message();\n",
       "}\n",
       "\n",
       "mpl.figure.prototype.handle_image_mode = function(fig, msg) {\n",
       "    fig.image_mode = msg['mode'];\n",
       "}\n",
       "\n",
       "mpl.figure.prototype.updated_canvas_event = function() {\n",
       "    // Called whenever the canvas gets updated.\n",
       "    this.send_message(\"ack\", {});\n",
       "}\n",
       "\n",
       "// A function to construct a web socket function for onmessage handling.\n",
       "// Called in the figure constructor.\n",
       "mpl.figure.prototype._make_on_message_function = function(fig) {\n",
       "    return function socket_on_message(evt) {\n",
       "        if (evt.data instanceof Blob) {\n",
       "            /* FIXME: We get \"Resource interpreted as Image but\n",
       "             * transferred with MIME type text/plain:\" errors on\n",
       "             * Chrome.  But how to set the MIME type?  It doesn't seem\n",
       "             * to be part of the websocket stream */\n",
       "            evt.data.type = \"image/png\";\n",
       "\n",
       "            /* Free the memory for the previous frames */\n",
       "            if (fig.imageObj.src) {\n",
       "                (window.URL || window.webkitURL).revokeObjectURL(\n",
       "                    fig.imageObj.src);\n",
       "            }\n",
       "\n",
       "            fig.imageObj.src = (window.URL || window.webkitURL).createObjectURL(\n",
       "                evt.data);\n",
       "            fig.updated_canvas_event();\n",
       "            fig.waiting = false;\n",
       "            return;\n",
       "        }\n",
       "        else if (typeof evt.data === 'string' && evt.data.slice(0, 21) == \"data:image/png;base64\") {\n",
       "            fig.imageObj.src = evt.data;\n",
       "            fig.updated_canvas_event();\n",
       "            fig.waiting = false;\n",
       "            return;\n",
       "        }\n",
       "\n",
       "        var msg = JSON.parse(evt.data);\n",
       "        var msg_type = msg['type'];\n",
       "\n",
       "        // Call the  \"handle_{type}\" callback, which takes\n",
       "        // the figure and JSON message as its only arguments.\n",
       "        try {\n",
       "            var callback = fig[\"handle_\" + msg_type];\n",
       "        } catch (e) {\n",
       "            console.log(\"No handler for the '\" + msg_type + \"' message type: \", msg);\n",
       "            return;\n",
       "        }\n",
       "\n",
       "        if (callback) {\n",
       "            try {\n",
       "                // console.log(\"Handling '\" + msg_type + \"' message: \", msg);\n",
       "                callback(fig, msg);\n",
       "            } catch (e) {\n",
       "                console.log(\"Exception inside the 'handler_\" + msg_type + \"' callback:\", e, e.stack, msg);\n",
       "            }\n",
       "        }\n",
       "    };\n",
       "}\n",
       "\n",
       "// from http://stackoverflow.com/questions/1114465/getting-mouse-location-in-canvas\n",
       "mpl.findpos = function(e) {\n",
       "    //this section is from http://www.quirksmode.org/js/events_properties.html\n",
       "    var targ;\n",
       "    if (!e)\n",
       "        e = window.event;\n",
       "    if (e.target)\n",
       "        targ = e.target;\n",
       "    else if (e.srcElement)\n",
       "        targ = e.srcElement;\n",
       "    if (targ.nodeType == 3) // defeat Safari bug\n",
       "        targ = targ.parentNode;\n",
       "\n",
       "    // jQuery normalizes the pageX and pageY\n",
       "    // pageX,Y are the mouse positions relative to the document\n",
       "    // offset() returns the position of the element relative to the document\n",
       "    var x = e.pageX - $(targ).offset().left;\n",
       "    var y = e.pageY - $(targ).offset().top;\n",
       "\n",
       "    return {\"x\": x, \"y\": y};\n",
       "};\n",
       "\n",
       "/*\n",
       " * return a copy of an object with only non-object keys\n",
       " * we need this to avoid circular references\n",
       " * http://stackoverflow.com/a/24161582/3208463\n",
       " */\n",
       "function simpleKeys (original) {\n",
       "  return Object.keys(original).reduce(function (obj, key) {\n",
       "    if (typeof original[key] !== 'object')\n",
       "        obj[key] = original[key]\n",
       "    return obj;\n",
       "  }, {});\n",
       "}\n",
       "\n",
       "mpl.figure.prototype.mouse_event = function(event, name) {\n",
       "    var canvas_pos = mpl.findpos(event)\n",
       "\n",
       "    if (name === 'button_press')\n",
       "    {\n",
       "        this.canvas.focus();\n",
       "        this.canvas_div.focus();\n",
       "    }\n",
       "\n",
       "    var x = canvas_pos.x * mpl.ratio;\n",
       "    var y = canvas_pos.y * mpl.ratio;\n",
       "\n",
       "    this.send_message(name, {x: x, y: y, button: event.button,\n",
       "                             step: event.step,\n",
       "                             guiEvent: simpleKeys(event)});\n",
       "\n",
       "    /* This prevents the web browser from automatically changing to\n",
       "     * the text insertion cursor when the button is pressed.  We want\n",
       "     * to control all of the cursor setting manually through the\n",
       "     * 'cursor' event from matplotlib */\n",
       "    event.preventDefault();\n",
       "    return false;\n",
       "}\n",
       "\n",
       "mpl.figure.prototype._key_event_extra = function(event, name) {\n",
       "    // Handle any extra behaviour associated with a key event\n",
       "}\n",
       "\n",
       "mpl.figure.prototype.key_event = function(event, name) {\n",
       "\n",
       "    // Prevent repeat events\n",
       "    if (name == 'key_press')\n",
       "    {\n",
       "        if (event.which === this._key)\n",
       "            return;\n",
       "        else\n",
       "            this._key = event.which;\n",
       "    }\n",
       "    if (name == 'key_release')\n",
       "        this._key = null;\n",
       "\n",
       "    var value = '';\n",
       "    if (event.ctrlKey && event.which != 17)\n",
       "        value += \"ctrl+\";\n",
       "    if (event.altKey && event.which != 18)\n",
       "        value += \"alt+\";\n",
       "    if (event.shiftKey && event.which != 16)\n",
       "        value += \"shift+\";\n",
       "\n",
       "    value += 'k';\n",
       "    value += event.which.toString();\n",
       "\n",
       "    this._key_event_extra(event, name);\n",
       "\n",
       "    this.send_message(name, {key: value,\n",
       "                             guiEvent: simpleKeys(event)});\n",
       "    return false;\n",
       "}\n",
       "\n",
       "mpl.figure.prototype.toolbar_button_onclick = function(name) {\n",
       "    if (name == 'download') {\n",
       "        this.handle_save(this, null);\n",
       "    } else {\n",
       "        this.send_message(\"toolbar_button\", {name: name});\n",
       "    }\n",
       "};\n",
       "\n",
       "mpl.figure.prototype.toolbar_button_onmouseover = function(tooltip) {\n",
       "    this.message.textContent = tooltip;\n",
       "};\n",
       "mpl.toolbar_items = [[\"Home\", \"Reset original view\", \"fa fa-home icon-home\", \"home\"], [\"Back\", \"Back to previous view\", \"fa fa-arrow-left icon-arrow-left\", \"back\"], [\"Forward\", \"Forward to next view\", \"fa fa-arrow-right icon-arrow-right\", \"forward\"], [\"\", \"\", \"\", \"\"], [\"Pan\", \"Pan axes with left mouse, zoom with right\", \"fa fa-arrows icon-move\", \"pan\"], [\"Zoom\", \"Zoom to rectangle\", \"fa fa-square-o icon-check-empty\", \"zoom\"], [\"\", \"\", \"\", \"\"], [\"Download\", \"Download plot\", \"fa fa-floppy-o icon-save\", \"download\"]];\n",
       "\n",
       "mpl.extensions = [\"eps\", \"jpeg\", \"pdf\", \"png\", \"ps\", \"raw\", \"svg\", \"tif\"];\n",
       "\n",
       "mpl.default_extension = \"png\";var comm_websocket_adapter = function(comm) {\n",
       "    // Create a \"websocket\"-like object which calls the given IPython comm\n",
       "    // object with the appropriate methods. Currently this is a non binary\n",
       "    // socket, so there is still some room for performance tuning.\n",
       "    var ws = {};\n",
       "\n",
       "    ws.close = function() {\n",
       "        comm.close()\n",
       "    };\n",
       "    ws.send = function(m) {\n",
       "        //console.log('sending', m);\n",
       "        comm.send(m);\n",
       "    };\n",
       "    // Register the callback with on_msg.\n",
       "    comm.on_msg(function(msg) {\n",
       "        //console.log('receiving', msg['content']['data'], msg);\n",
       "        // Pass the mpl event to the overridden (by mpl) onmessage function.\n",
       "        ws.onmessage(msg['content']['data'])\n",
       "    });\n",
       "    return ws;\n",
       "}\n",
       "\n",
       "mpl.mpl_figure_comm = function(comm, msg) {\n",
       "    // This is the function which gets called when the mpl process\n",
       "    // starts-up an IPython Comm through the \"matplotlib\" channel.\n",
       "\n",
       "    var id = msg.content.data.id;\n",
       "    // Get hold of the div created by the display call when the Comm\n",
       "    // socket was opened in Python.\n",
       "    var element = $(\"#\" + id);\n",
       "    var ws_proxy = comm_websocket_adapter(comm)\n",
       "\n",
       "    function ondownload(figure, format) {\n",
       "        window.open(figure.imageObj.src);\n",
       "    }\n",
       "\n",
       "    var fig = new mpl.figure(id, ws_proxy,\n",
       "                           ondownload,\n",
       "                           element.get(0));\n",
       "\n",
       "    // Call onopen now - mpl needs it, as it is assuming we've passed it a real\n",
       "    // web socket which is closed, not our websocket->open comm proxy.\n",
       "    ws_proxy.onopen();\n",
       "\n",
       "    fig.parent_element = element.get(0);\n",
       "    fig.cell_info = mpl.find_output_cell(\"<div id='\" + id + \"'></div>\");\n",
       "    if (!fig.cell_info) {\n",
       "        console.error(\"Failed to find cell for figure\", id, fig);\n",
       "        return;\n",
       "    }\n",
       "\n",
       "    var output_index = fig.cell_info[2]\n",
       "    var cell = fig.cell_info[0];\n",
       "\n",
       "};\n",
       "\n",
       "mpl.figure.prototype.handle_close = function(fig, msg) {\n",
       "    var width = fig.canvas.width/mpl.ratio\n",
       "    fig.root.unbind('remove')\n",
       "\n",
       "    // Update the output cell to use the data from the current canvas.\n",
       "    fig.push_to_output();\n",
       "    var dataURL = fig.canvas.toDataURL();\n",
       "    // Re-enable the keyboard manager in IPython - without this line, in FF,\n",
       "    // the notebook keyboard shortcuts fail.\n",
       "    IPython.keyboard_manager.enable()\n",
       "    $(fig.parent_element).html('<img src=\"' + dataURL + '\" width=\"' + width + '\">');\n",
       "    fig.close_ws(fig, msg);\n",
       "}\n",
       "\n",
       "mpl.figure.prototype.close_ws = function(fig, msg){\n",
       "    fig.send_message('closing', msg);\n",
       "    // fig.ws.close()\n",
       "}\n",
       "\n",
       "mpl.figure.prototype.push_to_output = function(remove_interactive) {\n",
       "    // Turn the data on the canvas into data in the output cell.\n",
       "    var width = this.canvas.width/mpl.ratio\n",
       "    var dataURL = this.canvas.toDataURL();\n",
       "    this.cell_info[1]['text/html'] = '<img src=\"' + dataURL + '\" width=\"' + width + '\">';\n",
       "}\n",
       "\n",
       "mpl.figure.prototype.updated_canvas_event = function() {\n",
       "    // Tell IPython that the notebook contents must change.\n",
       "    IPython.notebook.set_dirty(true);\n",
       "    this.send_message(\"ack\", {});\n",
       "    var fig = this;\n",
       "    // Wait a second, then push the new image to the DOM so\n",
       "    // that it is saved nicely (might be nice to debounce this).\n",
       "    setTimeout(function () { fig.push_to_output() }, 1000);\n",
       "}\n",
       "\n",
       "mpl.figure.prototype._init_toolbar = function() {\n",
       "    var fig = this;\n",
       "\n",
       "    var nav_element = $('<div/>')\n",
       "    nav_element.attr('style', 'width: 100%');\n",
       "    this.root.append(nav_element);\n",
       "\n",
       "    // Define a callback function for later on.\n",
       "    function toolbar_event(event) {\n",
       "        return fig.toolbar_button_onclick(event['data']);\n",
       "    }\n",
       "    function toolbar_mouse_event(event) {\n",
       "        return fig.toolbar_button_onmouseover(event['data']);\n",
       "    }\n",
       "\n",
       "    for(var toolbar_ind in mpl.toolbar_items){\n",
       "        var name = mpl.toolbar_items[toolbar_ind][0];\n",
       "        var tooltip = mpl.toolbar_items[toolbar_ind][1];\n",
       "        var image = mpl.toolbar_items[toolbar_ind][2];\n",
       "        var method_name = mpl.toolbar_items[toolbar_ind][3];\n",
       "\n",
       "        if (!name) { continue; };\n",
       "\n",
       "        var button = $('<button class=\"btn btn-default\" href=\"#\" title=\"' + name + '\"><i class=\"fa ' + image + ' fa-lg\"></i></button>');\n",
       "        button.click(method_name, toolbar_event);\n",
       "        button.mouseover(tooltip, toolbar_mouse_event);\n",
       "        nav_element.append(button);\n",
       "    }\n",
       "\n",
       "    // Add the status bar.\n",
       "    var status_bar = $('<span class=\"mpl-message\" style=\"text-align:right; float: right;\"/>');\n",
       "    nav_element.append(status_bar);\n",
       "    this.message = status_bar[0];\n",
       "\n",
       "    // Add the close button to the window.\n",
       "    var buttongrp = $('<div class=\"btn-group inline pull-right\"></div>');\n",
       "    var button = $('<button class=\"btn btn-mini btn-primary\" href=\"#\" title=\"Stop Interaction\"><i class=\"fa fa-power-off icon-remove icon-large\"></i></button>');\n",
       "    button.click(function (evt) { fig.handle_close(fig, {}); } );\n",
       "    button.mouseover('Stop Interaction', toolbar_mouse_event);\n",
       "    buttongrp.append(button);\n",
       "    var titlebar = this.root.find($('.ui-dialog-titlebar'));\n",
       "    titlebar.prepend(buttongrp);\n",
       "}\n",
       "\n",
       "mpl.figure.prototype._root_extra_style = function(el){\n",
       "    var fig = this\n",
       "    el.on(\"remove\", function(){\n",
       "\tfig.close_ws(fig, {});\n",
       "    });\n",
       "}\n",
       "\n",
       "mpl.figure.prototype._canvas_extra_style = function(el){\n",
       "    // this is important to make the div 'focusable\n",
       "    el.attr('tabindex', 0)\n",
       "    // reach out to IPython and tell the keyboard manager to turn it's self\n",
       "    // off when our div gets focus\n",
       "\n",
       "    // location in version 3\n",
       "    if (IPython.notebook.keyboard_manager) {\n",
       "        IPython.notebook.keyboard_manager.register_events(el);\n",
       "    }\n",
       "    else {\n",
       "        // location in version 2\n",
       "        IPython.keyboard_manager.register_events(el);\n",
       "    }\n",
       "\n",
       "}\n",
       "\n",
       "mpl.figure.prototype._key_event_extra = function(event, name) {\n",
       "    var manager = IPython.notebook.keyboard_manager;\n",
       "    if (!manager)\n",
       "        manager = IPython.keyboard_manager;\n",
       "\n",
       "    // Check for shift+enter\n",
       "    if (event.shiftKey && event.which == 13) {\n",
       "        this.canvas_div.blur();\n",
       "        event.shiftKey = false;\n",
       "        // Send a \"J\" for go to next cell\n",
       "        event.which = 74;\n",
       "        event.keyCode = 74;\n",
       "        manager.command_mode();\n",
       "        manager.handle_keydown(event);\n",
       "    }\n",
       "}\n",
       "\n",
       "mpl.figure.prototype.handle_save = function(fig, msg) {\n",
       "    fig.ondownload(fig, null);\n",
       "}\n",
       "\n",
       "\n",
       "mpl.find_output_cell = function(html_output) {\n",
       "    // Return the cell and output element which can be found *uniquely* in the notebook.\n",
       "    // Note - this is a bit hacky, but it is done because the \"notebook_saving.Notebook\"\n",
       "    // IPython event is triggered only after the cells have been serialised, which for\n",
       "    // our purposes (turning an active figure into a static one), is too late.\n",
       "    var cells = IPython.notebook.get_cells();\n",
       "    var ncells = cells.length;\n",
       "    for (var i=0; i<ncells; i++) {\n",
       "        var cell = cells[i];\n",
       "        if (cell.cell_type === 'code'){\n",
       "            for (var j=0; j<cell.output_area.outputs.length; j++) {\n",
       "                var data = cell.output_area.outputs[j];\n",
       "                if (data.data) {\n",
       "                    // IPython >= 3 moved mimebundle to data attribute of output\n",
       "                    data = data.data;\n",
       "                }\n",
       "                if (data['text/html'] == html_output) {\n",
       "                    return [cell, data, j];\n",
       "                }\n",
       "            }\n",
       "        }\n",
       "    }\n",
       "}\n",
       "\n",
       "// Register the function which deals with the matplotlib target/channel.\n",
       "// The kernel may be null if the page has been refreshed.\n",
       "if (IPython.notebook.kernel != null) {\n",
       "    IPython.notebook.kernel.comm_manager.register_target('matplotlib', mpl.mpl_figure_comm);\n",
       "}\n"
      ],
      "text/plain": [
       "<IPython.core.display.Javascript object>"
      ]
     },
     "metadata": {},
     "output_type": "display_data"
    },
    {
     "data": {
      "text/html": [
       "<img src=\"data:image/png;base64,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\" width=\"574.4444596620258\">"
      ],
      "text/plain": [
       "<IPython.core.display.HTML object>"
      ]
     },
     "metadata": {},
     "output_type": "display_data"
    },
    {
     "data": {
      "text/plain": [
       "[<matplotlib.lines.Line2D at 0x227cb43eba8>]"
      ]
     },
     "execution_count": 76,
     "metadata": {},
     "output_type": "execute_result"
    }
   ],
   "source": [
    "plt.figure()\n",
    "plt.plot(data10.k2200_voltage_set[:], data10.lockin2_X[:]/5e-9)\n",
    "plt.plot(-1*data11.k2200_voltage_set[:], data11.lockin2_X[:]/5e-9)\n",
    "plt.plot(-1*data12.k2200_voltage_set[:], data12.lockin2_X[:]/50e-9)"
   ]
  },
  {
   "cell_type": "code",
   "execution_count": 75,
   "metadata": {
    "Collapsed": "false"
   },
   "outputs": [
    {
     "name": "stdout",
     "output_type": "stream",
     "text": [
      "Started at 2019-09-30 19:56:39\n",
      "DataSet:\n",
      "   location = 'data/2019-09-30/#014_50nA_1p8K_9T_negativegate_19-56-37'\n",
      "   <Type>   | <array_id>        | <array.name> | <array.shape>\n",
      "   Setpoint | k2200_voltage_set | voltage      | (101,)\n",
      "   Measured | lockin1_X         | X            | (101,)\n",
      "   Measured | lockin1_Y         | Y            | (101,)\n",
      "   Measured | lockin2_X         | X            | (101,)\n",
      "   Measured | lockin2_Y         | Y            | (101,)\n",
      "Finished at 2019-09-30 20:00:45\n"
     ]
    }
   ],
   "source": [
    "gvals = np.linspace(10, 0, 101)\n",
    "data12, plot12 = npd.single_param_sweep(k2200.voltage, gvals, 2, lockin1.X, lockin1.Y, lockin2.X, lockin2.Y, DataName='50nA_1p8K_9T_negativegate')"
   ]
  },
  {
   "cell_type": "markdown",
   "metadata": {
    "Collapsed": "false"
   },
   "source": [
    "Back down to 10 nA"
   ]
  },
  {
   "cell_type": "code",
   "execution_count": 77,
   "metadata": {
    "Collapsed": "false"
   },
   "outputs": [
    {
     "name": "stdout",
     "output_type": "stream",
     "text": [
      "Started at 2019-09-30 20:03:15\n",
      "DataSet:\n",
      "   location = 'data/2019-09-30/#015_1p8K_contacts3-4,contacts7-8_twod_negativegate_20-03-11'\n",
      "   <Type>   | <array_id>                | <array.name>     | <array.shape>\n",
      "   Setpoint | ppms_field_set_stable_set | field_set_stable | (91,)\n",
      "   Setpoint | k2200_voltage_set         | voltage          | (91, 101)\n",
      "   Measured | lockin1_X                 | X                | (91, 101)\n",
      "   Measured | lockin1_Y                 | Y                | (91, 101)\n",
      "   Measured | lockin2_X                 | X                | (91, 101)\n",
      "Finished at 2019-10-01 02:11:11\n"
     ]
    }
   ],
   "source": [
    "gvals = np.linspace(10, 0, 101)  # positive gate voltage (hole side)\n",
    "fieldvals = np.linspace(9000, 0, 91)\n",
    "data13, plot13 = npd.twod_param_sweep(ppms.field_set_stable, fieldvals, k2200.voltage, gvals, lockin1.X, lockin1.Y, lockin2.X, SetDelay1=3, SetDelay2=2, DataName='1p8K_contacts3-4,contacts7-8_twod_negativegate')"
   ]
  },
  {
   "cell_type": "code",
   "execution_count": 78,
   "metadata": {
    "Collapsed": "false"
   },
   "outputs": [],
   "source": [
    "ppms.temperature_rate = 2"
   ]
  },
  {
   "cell_type": "code",
   "execution_count": 79,
   "metadata": {
    "Collapsed": "false"
   },
   "outputs": [
    {
     "name": "stdout",
     "output_type": "stream",
     "text": [
      "Started at 2019-10-01 02:11:13\n",
      "DataSet:\n",
      "   location = 'data/2019-10-01/#001_1p75to10K_negativegate_02-11-11'\n",
      "   <Type>   | <array_id>                      | <array.name>           | <array.shape>\n",
      "   Setpoint | ppms_temperature_set_stable_set | temperature_set_stable | (34,)\n",
      "   Setpoint | k2200_voltage_set               | voltage                | (34, 21)\n",
      "   Measured | lockin1_X                       | X                      | (34, 21)\n",
      "   Measured | lockin1_Y                       | Y                      | (34, 21)\n",
      "   Measured | lockin2_X                       | X                      | (34, 21)\n",
      "   Measured | lockin2_Y                       | Y                      | (34, 21)\n",
      "Finished at 2019-10-01 03:21:36\n"
     ]
    }
   ],
   "source": [
    "Tvals = np.linspace(1.75, 10, 34)\n",
    "gvals = np.linspace(2, 0, 21)\n",
    "data14, plot14 = npd.twod_param_sweep(ppms.temperature_set_stable, Tvals, k2200.voltage, gvals, lockin1.X, lockin1.Y, lockin2.X, lockin2.Y, SetDelay1=0, SetDelay2=2, DataName='1p75to10K_negativegate', ZParam=[lockin1.X, lockin2.X])"
   ]
  },
  {
   "cell_type": "code",
   "execution_count": 80,
   "metadata": {
    "Collapsed": "false"
   },
   "outputs": [],
   "source": [
    "ppms.temperature_rate = 5"
   ]
  },
  {
   "cell_type": "code",
   "execution_count": null,
   "metadata": {
    "Collapsed": "false"
   },
   "outputs": [
    {
     "name": "stdout",
     "output_type": "stream",
     "text": [
      "Started at 2019-10-01 03:21:37\n",
      "Temperature timeout\n",
      "Temperature timeout\n",
      "Temperature timeout\n",
      "Temperature timeout\n",
      "Temperature timeout\n",
      "Temperature timeout\n"
     ]
    }
   ],
   "source": [
    "Tvals2 = np.linspace(11, 200, 190)\n",
    "data15, plot15 = npd.twod_param_sweep(ppms.temperature_set_stable, Tvals2, k2200.voltage, gvals, lockin1.X, lockin1.Y, lockin2.X, lockin2.Y, SetDelay1=0, SetDelay2=2, DataName='11to200K_negativegate', ZParam=[lockin1.X, lockin2.X])"
   ]
  },
  {
   "cell_type": "markdown",
   "metadata": {
    "Collapsed": "false"
   },
   "source": [
    "Stopping since the large negative value gates are showing something more insulating. Try some gate sweeps at these higher temps. Then try a smaller fan diagram at higher gate voltages"
   ]
  },
  {
   "cell_type": "code",
   "execution_count": 7,
   "metadata": {
    "Collapsed": "false"
   },
   "outputs": [],
   "source": [
    "data15 = qc.load_data('data/2019-10-01/#002_11to200K_negativegate_03-21-36')"
   ]
  },
  {
   "cell_type": "code",
   "execution_count": 8,
   "metadata": {
    "Collapsed": "false"
   },
   "outputs": [
    {
     "data": {
      "image/png": "[encoded data removed]",
      "text/plain": [
       "<qcodes.plots.pyqtgraph.QtPlot at 0x23b92c3d940>"
      ]
     },
     "execution_count": 8,
     "metadata": {},
     "output_type": "execute_result"
    }
   ],
   "source": [
    "qc.QtPlot(data15.lockin1_X)"
   ]
  },
  {
   "cell_type": "code",
   "execution_count": 5,
   "metadata": {
    "Collapsed": "false"
   },
   "outputs": [
    {
     "data": {
      "text/plain": [
       "144.01031494140625"
      ]
     },
     "execution_count": 5,
     "metadata": {},
     "output_type": "execute_result"
    }
   ],
   "source": [
    "ppms.temperature()"
   ]
  },
  {
   "cell_type": "code",
   "execution_count": 10,
   "metadata": {
    "Collapsed": "false"
   },
   "outputs": [],
   "source": [
    "ppms.temperature(100)"
   ]
  },
  {
   "cell_type": "code",
   "execution_count": 43,
   "metadata": {
    "Collapsed": "false"
   },
   "outputs": [
    {
     "data": {
      "text/plain": [
       "array([ 11.,  12.,  13.,  14.,  15.,  16.,  17.,  18.,  19.,  20.,  21.,\n",
       "        22.,  23.,  24.,  25.,  26.,  27.,  28.,  29.,  30.,  31.,  32.,\n",
       "        33.,  34.,  35.,  36.,  37.,  38.,  39.,  40.,  41.,  42.,  43.,\n",
       "        44.,  45.,  46.,  47.,  48.,  49.,  50.,  51.,  52.,  53.,  54.,\n",
       "        55.,  56.,  57.,  58.,  59.,  60.,  61.,  62.,  63.,  64.,  65.,\n",
       "        66.,  67.,  68.,  69.,  70.,  71.,  72.,  73.,  74.,  75.,  76.,\n",
       "        77.,  78.,  79.,  80.,  81.,  82.,  83.,  84.,  85.,  86.,  87.,\n",
       "        88.,  89.,  90.,  91.,  92.,  93.,  94.,  95.,  96.,  97.,  98.,\n",
       "        99., 100., 101., 102., 103., 104., 105., 106., 107., 108., 109.,\n",
       "       110., 111., 112., 113., 114., 115., 116., 117., 118., 119., 120.,\n",
       "       121., 122., 123., 124., 125., 126., 127., 128., 129., 130., 131.,\n",
       "       132., 133., 134., 135., 136., 137., 138., 139., 140., 141., 142.,\n",
       "       143.,  nan])"
      ]
     },
     "execution_count": 43,
     "metadata": {},
     "output_type": "execute_result"
    }
   ],
   "source": [
    "data15.ppms_temperature_set_stable_set[:-56]"
   ]
  },
  {
   "cell_type": "code",
   "execution_count": 45,
   "metadata": {
    "Collapsed": "false"
   },
   "outputs": [
    {
     "data": {
      "text/plain": [
       "DataSet:\n",
       "   location = 'data/2019-10-01/#002_11to200K_negativegate_03-21-36'\n",
       "   <Type>   | <array_id>                      | <array.name>           | <array.shape>\n",
       "   Setpoint | ppms_temperature_set_stable_set | temperature_set_stable | (190,)\n",
       "   Setpoint | k2200_voltage_set               | voltage                | (190, 21)\n",
       "   Measured | lockin1_X                       | X                      | (190, 21)\n",
       "   Measured | lockin1_Y                       | Y                      | (190, 21)\n",
       "   Measured | lockin2_X                       | X                      | (190, 21)\n",
       "   Measured | lockin2_Y                       | Y                      | (190, 21)"
      ]
     },
     "execution_count": 45,
     "metadata": {},
     "output_type": "execute_result"
    }
   ],
   "source": [
    "data15"
   ]
  },
  {
   "cell_type": "code",
   "execution_count": 39,
   "metadata": {
    "Collapsed": "false"
   },
   "outputs": [
    {
     "data": {
      "text/plain": [
       "[<matplotlib.lines.Line2D at 0x23b9537c630>]"
      ]
     },
     "execution_count": 39,
     "metadata": {},
     "output_type": "execute_result"
    },
    {
     "data": {
      "image/png": "[encoded data removed]",
      "text/plain": [
       "<Figure size 432x288 with 1 Axes>"
      ]
     },
     "metadata": {
      "needs_background": "light"
     },
     "output_type": "display_data"
    }
   ],
   "source": [
    "plt.figure()\n",
    "plt.plot(data15.ppms_temperature_set_stable_set[:-58], data15.lockin1_X[:-58, -1]/10e-9)"
   ]
  },
  {
   "cell_type": "code",
   "execution_count": 44,
   "metadata": {
    "Collapsed": "false"
   },
   "outputs": [],
   "source": [
    "k2200.voltage(17)"
   ]
  },
  {
   "cell_type": "code",
   "execution_count": 46,
   "metadata": {
    "Collapsed": "false"
   },
   "outputs": [
    {
     "name": "stdout",
     "output_type": "stream",
     "text": [
      "Started at 2019-10-01 08:47:12\n",
      "DataSet:\n",
      "   location = 'data/2019-10-01/#003_10nA_100K_0T_negativegate_08-47-10'\n",
      "   <Type>   | <array_id>        | <array.name> | <array.shape>\n",
      "   Setpoint | k2200_voltage_set | voltage      | (171,)\n",
      "   Measured | lockin1_X         | X            | (171,)\n",
      "   Measured | lockin1_Y         | Y            | (171,)\n",
      "   Measured | lockin2_X         | X            | (171,)\n",
      "   Measured | lockin2_Y         | Y            | (171,)\n",
      "Finished at 2019-10-01 08:53:52\n"
     ]
    }
   ],
   "source": [
    "gvals = np.linspace(17, 0, 171)\n",
    "data16, plot16 = npd.single_param_sweep(k2200.voltage, gvals, 2, lockin1.X, lockin1.Y, lockin2.X, lockin2.Y, DataName='10nA_100K_0T_negativegate')"
   ]
  },
  {
   "cell_type": "code",
   "execution_count": 47,
   "metadata": {
    "Collapsed": "false"
   },
   "outputs": [
    {
     "name": "stdout",
     "output_type": "stream",
     "text": [
      "Started at 2019-10-01 08:54:38\n",
      "DataSet:\n",
      "   location = 'data/2019-10-01/#004_10nA_100K_0T_negativegate_08-54-36'\n",
      "   <Type>   | <array_id>        | <array.name> | <array.shape>\n",
      "   Setpoint | k2200_voltage_set | voltage      | (221,)\n",
      "   Measured | lockin1_X         | X            | (221,)\n",
      "   Measured | lockin1_Y         | Y            | (221,)\n",
      "   Measured | lockin2_X         | X            | (221,)\n",
      "   Measured | lockin2_Y         | Y            | (221,)\n",
      "Finished at 2019-10-01 09:02:54\n"
     ]
    }
   ],
   "source": [
    "k2200.voltage(22)\n",
    "time.sleep(15)\n",
    "gvals = np.linspace(22, 0, 221)\n",
    "data17, plot17 = npd.single_param_sweep(k2200.voltage, gvals, 2, lockin1.X, lockin1.Y, lockin2.X, lockin2.Y, DataName='10nA_100K_0T_negativegate')"
   ]
  },
  {
   "cell_type": "code",
   "execution_count": 48,
   "metadata": {
    "Collapsed": "false"
   },
   "outputs": [
    {
     "name": "stdout",
     "output_type": "stream",
     "text": [
      "Started at 2019-10-01 09:03:15\n",
      "DataSet:\n",
      "   location = 'data/2019-10-01/#005_10nA_100K_0T_negativegate_09-03-13'\n",
      "   <Type>   | <array_id>        | <array.name> | <array.shape>\n",
      "   Setpoint | k2200_voltage_set | voltage      | (221,)\n",
      "   Measured | lockin1_X         | X            | (221,)\n",
      "   Measured | lockin1_Y         | Y            | (221,)\n",
      "   Measured | lockin2_X         | X            | (221,)\n",
      "   Measured | lockin2_Y         | Y            | (221,)\n",
      "Finished at 2019-10-01 09:12:01\n"
     ]
    }
   ],
   "source": [
    "gvals = np.linspace(22, 0, 221) # Trying the fast sweep to 22V\n",
    "data18, plot18 = npd.single_param_sweep(k2200.voltage, gvals, 2, lockin1.X, lockin1.Y, lockin2.X, lockin2.Y, DataName='10nA_100K_0T_negativegate')"
   ]
  },
  {
   "cell_type": "markdown",
   "metadata": {
    "Collapsed": "false"
   },
   "source": [
    "Nevermind. It was just the result of going straight to the highest gate, and it was helped because 2V is close enough to the very large charge neutrality point."
   ]
  },
  {
   "cell_type": "code",
   "execution_count": 52,
   "metadata": {
    "Collapsed": "false"
   },
   "outputs": [
    {
     "data": {
      "text/plain": [
       "5.43594e-05"
      ]
     },
     "execution_count": 52,
     "metadata": {},
     "output_type": "execute_result"
    }
   ],
   "source": [
    "k2200.voltage()"
   ]
  },
  {
   "cell_type": "code",
   "execution_count": 53,
   "metadata": {
    "Collapsed": "false"
   },
   "outputs": [],
   "source": [
    "ppms.temperature_rate = 5"
   ]
  },
  {
   "cell_type": "code",
   "execution_count": 55,
   "metadata": {
    "Collapsed": "false"
   },
   "outputs": [
    {
     "name": "stdout",
     "output_type": "stream",
     "text": [
      "Started at 2019-10-01 09:15:02\n",
      "DataSet:\n",
      "   location = 'data/2019-10-01/#006_0Vbg_100to300K_09-15-00'\n",
      "   <Type>   | <array_id>       | <array.name> | <array.shape>\n",
      "   Setpoint | count_set        | count        | (3600,)\n",
      "   Measured | time0            | time0        | (3600,)\n",
      "   Measured | ppms_temperature | temperature  | (3600,)\n",
      "   Measured | lockin1_X        | X            | (3600,)\n",
      "   Measured | lockin1_Y        | Y            | (3600,)\n",
      "   Measured | lockin2_X        | X            | (3600,)\n",
      "   Measured | lockin2_Y        | Y            | (3600,)\n",
      "Finished at 2019-10-01 10:21:10\n"
     ]
    }
   ],
   "source": [
    "ppms.temperature(300)\n",
    "data19, plot19 = npd.data_log(1, ppms.temperature, lockin1.X, lockin1.Y, lockin2.X, lockin2.Y, minutes=60, DataName='0Vbg_100to300K', XParam=ppms.temperature, YParam=[lockin1.X, lockin2.X])"
   ]
  },
  {
   "cell_type": "code",
   "execution_count": null,
   "metadata": {
    "Collapsed": "false"
   },
   "outputs": [],
   "source": []
  }
 ],
 "metadata": {
  "kernelspec": {
   "display_name": "Python 3",
   "language": "python",
   "name": "python3"
  },
  "language_info": {
   "codemirror_mode": {
    "name": "ipython",
    "version": 3
   },
   "file_extension": ".py",
   "mimetype": "text/x-python",
   "name": "python",
   "nbconvert_exporter": "python",
   "pygments_lexer": "ipython3",
   "version": "3.7.4"
  }
 },
 "nbformat": 4,
 "nbformat_minor": 4
}
