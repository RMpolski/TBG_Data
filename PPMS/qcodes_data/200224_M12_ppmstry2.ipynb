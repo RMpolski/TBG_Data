{
 "cells": [
  {
   "cell_type": "code",
   "execution_count": 2,
   "metadata": {},
   "outputs": [],
   "source": [
    "import qcodes as qc\n",
    "import qcodes.instrument_drivers.nplab_drivers as npd\n",
    "import numpy as np\n",
    "import time\n",
    "import matplotlib.pyplot as plt\n",
    "from matplotlib.colors import LogNorm, SymLogNorm, DivergingNorm"
   ]
  },
  {
   "cell_type": "code",
   "execution_count": 3,
   "metadata": {},
   "outputs": [
    {
     "name": "stdout",
     "output_type": "stream",
     "text": [
      "Note this uses mT units for getting and setting fields with field() and field_set_stable(). Just divide Oe by 10 to get mT\n",
      "Connected to: Stanford_Research_Systems SR830 (serial:s/n22100, firmware:ver1.01) in 0.19s\n",
      "Connected to: Stanford_Research_Systems SR830 (serial:s/n35235, firmware:ver1.07) in 0.05s\n",
      "Connected to: Stanford_Research_Systems DC205 (serial:s/n20500044, firmware:ver1.80) in 0.02s\n"
     ]
    }
   ],
   "source": [
    "npd.ppms_init('lockin1', 'lockin2', 'srdc')"
   ]
  },
  {
   "cell_type": "code",
   "execution_count": 4,
   "metadata": {},
   "outputs": [],
   "source": [
    "srdc.volt.step = 0.05\n",
    "srdc.volt.inter_delay = 0.1"
   ]
  },
  {
   "cell_type": "code",
   "execution_count": 5,
   "metadata": {},
   "outputs": [],
   "source": [
    "srdc.volt(1)"
   ]
  },
  {
   "cell_type": "code",
   "execution_count": 6,
   "metadata": {},
   "outputs": [],
   "source": [
    "srdc.volt(0)"
   ]
  },
  {
   "cell_type": "code",
   "execution_count": 5,
   "metadata": {},
   "outputs": [],
   "source": [
    "station = qc.Station(ppms, lockin1, lockin2, srdc)"
   ]
  },
  {
   "cell_type": "code",
   "execution_count": 8,
   "metadata": {},
   "outputs": [],
   "source": [
    "srdc.output(1)"
   ]
  },
  {
   "cell_type": "code",
   "execution_count": 13,
   "metadata": {},
   "outputs": [],
   "source": [
    "lockin2.amplitude(1)  # set the amplitude to 10 nA for now (100 Mohm resistor, 1V)"
   ]
  },
  {
   "cell_type": "markdown",
   "metadata": {},
   "source": [
    "# PPMS run 2 of M12 (trying to get T dependence of high-field states)"
   ]
  },
  {
   "cell_type": "markdown",
   "metadata": {},
   "source": [
    "Previous fridge contacts translated to (->) ppms contacts\n",
    "12->7, 48->6, 9->9, 22->4, 20->3, 19->14, 13->13, 12->12\n",
    "\n",
    "back gate: 8\n",
    "\n",
    "Source/drain to 7/14\n",
    "\n",
    "Both Rxx  \n",
    "lockin1 connected to 4-3  \n",
    "lockin2 connected to 12-13\n",
    "\n",
    "Using 100 MOhm limiting resistor for the AC excitation\n",
    "Using 1 MOhmr resistor for the gate"
   ]
  },
  {
   "cell_type": "code",
   "execution_count": 15,
   "metadata": {},
   "outputs": [
    {
     "name": "stdout",
     "output_type": "stream",
     "text": [
      "Started at 2020-02-24 10:16:31\n",
      "DataSet:\n",
      "   location = 'data/2020-02-24/#002_M12_hightempgsweeprough_lockin1_4-3_lockin2_12-13_10nA_10-16-29'\n",
      "   <Type>   | <array_id>    | <array.name> | <array.shape>\n",
      "   Setpoint | srdc_volt_set | volt         | (101,)\n",
      "   Measured | lockin1_X     | X            | (101,)\n",
      "   Measured | lockin1_Y     | Y            | (101,)\n",
      "   Measured | lockin2_X     | X            | (101,)\n",
      "   Measured | lockin2_Y     | Y            | (101,)\n",
      "Finished at 2020-02-24 10:18:11\n"
     ]
    }
   ],
   "source": [
    "# set the temperature sweep to 2K and then do an initial gate sweep\n",
    "# use lockin time constant 100 ms, 12 dB slope so we can do a faster sweep here\n",
    "# nothing came out of this sweep...\n",
    "srdc.volt(-5)\n",
    "time.sleep(8)\n",
    "gvals = np.linspace(-5, 5, 101)\n",
    "data1, plot1 = npd.single_param_sweep(srdc.volt, gvals, 0.75, lockin1.X, lockin1.Y, lockin2.X, lockin2.Y, DataName='M12_hightempgsweeprough_lockin1_4-3_lockin2_12-13_10nA')"
   ]
  },
  {
   "cell_type": "code",
   "execution_count": 17,
   "metadata": {},
   "outputs": [],
   "source": [
    "srdc.volt(0)"
   ]
  },
  {
   "cell_type": "code",
   "execution_count": 18,
   "metadata": {},
   "outputs": [],
   "source": [
    "srdc.volt(5)"
   ]
  },
  {
   "cell_type": "code",
   "execution_count": 19,
   "metadata": {},
   "outputs": [],
   "source": [
    "srdc.volt(4.5)"
   ]
  },
  {
   "cell_type": "code",
   "execution_count": 20,
   "metadata": {},
   "outputs": [],
   "source": [
    "srdc.volt(4)"
   ]
  },
  {
   "cell_type": "code",
   "execution_count": 21,
   "metadata": {},
   "outputs": [],
   "source": [
    "srdc.volt(0)"
   ]
  },
  {
   "cell_type": "markdown",
   "metadata": {},
   "source": [
    "Now at 2K"
   ]
  },
  {
   "cell_type": "code",
   "execution_count": 22,
   "metadata": {},
   "outputs": [],
   "source": [
    "srdc.volt(-5)"
   ]
  },
  {
   "cell_type": "code",
   "execution_count": 23,
   "metadata": {},
   "outputs": [],
   "source": [
    "lockin2.amplitude(0.2)"
   ]
  },
  {
   "cell_type": "code",
   "execution_count": 30,
   "metadata": {},
   "outputs": [],
   "source": [
    "srdc.volt(-12)"
   ]
  },
  {
   "cell_type": "code",
   "execution_count": 28,
   "metadata": {},
   "outputs": [],
   "source": [
    "lockin2.amplitude(1)"
   ]
  },
  {
   "cell_type": "code",
   "execution_count": 31,
   "metadata": {},
   "outputs": [
    {
     "name": "stdout",
     "output_type": "stream",
     "text": [
      "Started at 2020-02-24 11:57:20\n",
      "DataSet:\n",
      "   location = 'data/2020-02-24/#004_M12_2K_lockin2_4-3_10nA_11-57-19'\n",
      "   <Type>   | <array_id>    | <array.name> | <array.shape>\n",
      "   Setpoint | srdc_volt_set | volt         | (241,)\n",
      "   Measured | lockin2_X     | X            | (241,)\n",
      "   Measured | lockin2_Y     | Y            | (241,)\n",
      "Finished at 2020-02-24 11:59:50\n",
      "Keyboard Interrupt\n"
     ]
    }
   ],
   "source": [
    "gvals = np.linspace(-12, 12, 241)\n",
    "data2, plot2 = npd.single_param_sweep(srdc.volt, gvals, 1, lockin2.X, lockin2.Y, DataName='M12_2K_lockin2_4-3_10nA')"
   ]
  },
  {
   "cell_type": "code",
   "execution_count": 32,
   "metadata": {},
   "outputs": [],
   "source": [
    "srdc.volt(0)"
   ]
  },
  {
   "cell_type": "code",
   "execution_count": 33,
   "metadata": {},
   "outputs": [],
   "source": [
    "ppms.temperature(10)"
   ]
  },
  {
   "cell_type": "code",
   "execution_count": 34,
   "metadata": {},
   "outputs": [
    {
     "name": "stdout",
     "output_type": "stream",
     "text": [
      "Started at 2020-02-24 12:02:33\n",
      "DataSet:\n",
      "   location = 'data/2020-02-24/#005_M12_10K_lockin2_4-3_10nA_12-02-31'\n",
      "   <Type>   | <array_id>    | <array.name> | <array.shape>\n",
      "   Setpoint | srdc_volt_set | volt         | (241,)\n",
      "   Measured | lockin2_X     | X            | (241,)\n",
      "   Measured | lockin2_Y     | Y            | (241,)\n",
      "Finished at 2020-02-24 12:05:54\n",
      "Keyboard Interrupt\n"
     ]
    }
   ],
   "source": [
    "srdc.volt(-12)\n",
    "time.sleep(15)\n",
    "gvals = np.linspace(-12, 12, 241)\n",
    "data3, plot3 = npd.single_param_sweep(srdc.volt, gvals, 1, lockin2.X, lockin2.Y, DataName='M12_10K_lockin2_4-3_10nA')"
   ]
  },
  {
   "cell_type": "code",
   "execution_count": 35,
   "metadata": {},
   "outputs": [],
   "source": [
    "srdc.volt(0)"
   ]
  },
  {
   "cell_type": "code",
   "execution_count": 36,
   "metadata": {},
   "outputs": [],
   "source": [
    "lockin2.amplitude(0.1)"
   ]
  },
  {
   "cell_type": "markdown",
   "metadata": {},
   "source": [
    "There may be a short from the gate to the device... Taking it out"
   ]
  },
  {
   "cell_type": "code",
   "execution_count": 35,
   "metadata": {},
   "outputs": [],
   "source": [
    "ppms.close()\n",
    "lockin1.close()\n",
    "lockin2.close()\n",
    "srdc.close()"
   ]
  },
  {
   "cell_type": "markdown",
   "metadata": {},
   "source": [
    "#  After taking it out and reloading it"
   ]
  },
  {
   "cell_type": "markdown",
   "metadata": {},
   "source": [
    "After taking it out, looking in the microscope, and reloading it, the gate doesn't seem shorted (though who knows for sure until we try it a little more). Now contact 7 is not working, but the others are. Use 14 as the source (through 100 MOhm) and 9 as the drain."
   ]
  },
  {
   "cell_type": "code",
   "execution_count": 12,
   "metadata": {},
   "outputs": [],
   "source": [
    "lockin2.amplitude(1)  # using 10 nA"
   ]
  },
  {
   "cell_type": "code",
   "execution_count": 19,
   "metadata": {},
   "outputs": [],
   "source": [
    "srdc.volt(-5)"
   ]
  },
  {
   "cell_type": "code",
   "execution_count": 20,
   "metadata": {},
   "outputs": [],
   "source": [
    "# nothing happens with the gate... maybe the gate bond is disconnected or something weird like that..."
   ]
  },
  {
   "cell_type": "code",
   "execution_count": 22,
   "metadata": {},
   "outputs": [],
   "source": [
    "srdc.volt(0)"
   ]
  },
  {
   "cell_type": "code",
   "execution_count": 28,
   "metadata": {},
   "outputs": [],
   "source": [
    "srdc.volt(3)"
   ]
  },
  {
   "cell_type": "code",
   "execution_count": 29,
   "metadata": {},
   "outputs": [],
   "source": [
    "srdc.volt(0)"
   ]
  },
  {
   "cell_type": "markdown",
   "metadata": {},
   "source": [
    "After rebonding contact 7 and 8, contact 7 works. However, the gate is noticably shorted to the other electrodes, as measured by a 2-point measurement. And the gate doesn't seem to affect the other contacts"
   ]
  },
  {
   "cell_type": "code",
   "execution_count": 34,
   "metadata": {},
   "outputs": [],
   "source": [
    "srdc.volt(0)"
   ]
  },
  {
   "cell_type": "code",
   "execution_count": null,
   "metadata": {},
   "outputs": [],
   "source": []
  }
 ],
 "metadata": {
  "kernelspec": {
   "display_name": "Python 3",
   "language": "python",
   "name": "python3"
  },
  "language_info": {
   "codemirror_mode": {
    "name": "ipython",
    "version": 3
   },
   "file_extension": ".py",
   "mimetype": "text/x-python",
   "name": "python",
   "nbconvert_exporter": "python",
   "pygments_lexer": "ipython3",
   "version": "3.7.4"
  }
 },
 "nbformat": 4,
 "nbformat_minor": 2
}
